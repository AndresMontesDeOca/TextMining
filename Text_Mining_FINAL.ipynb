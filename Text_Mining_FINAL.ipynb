{
  "cells": [
    {
      "cell_type": "markdown",
      "metadata": {
        "id": "view-in-github",
        "colab_type": "text"
      },
      "source": [
        "<a href=\"https://colab.research.google.com/github/AndresMontesDeOca/TextMining/blob/main/Text_Mining_FINAL.ipynb\" target=\"_parent\"><img src=\"https://colab.research.google.com/assets/colab-badge.svg\" alt=\"Open In Colab\"/></a>"
      ]
    },
    {
      "cell_type": "markdown",
      "metadata": {
        "id": "JqpzPNegV39P"
      },
      "source": [
        "<center>\n",
        "\n",
        "#### Universidad Austral<br>\n",
        "#### Maestría en Minería de Datos y Gestión del Conocimiento<br>\n",
        "#### Text Mining<br>\n",
        "#### CGC: Clasificador de Géneros Cinematográficos<br>\n",
        "\n",
        "\n",
        "#### Integrantes:<br>\n",
        "Alejandra Reyes<br>\n",
        "Andres Montes de Oca<br>\n",
        "Rafael Gimenez<br>\n",
        "Soledad Ríos<br>\n",
        "Tomas Sauro\n",
        "\n",
        "</center>"
      ]
    },
    {
      "cell_type": "markdown",
      "metadata": {
        "id": "07FHeEy1V39Q"
      },
      "source": [
        "## Introducción\n",
        "Título: Clasificador de Géneros Cinematográficos (CGC)"
      ]
    },
    {
      "cell_type": "markdown",
      "metadata": {
        "id": "ApR0Ias0FGw2"
      },
      "source": [
        "Nota: utilizar mas de un modelo (x modelos) y que el numero sea impar para usar criterio democratico"
      ]
    },
    {
      "cell_type": "markdown",
      "metadata": {
        "id": "VBzyM1gN2Yht"
      },
      "source": [
        "Problemática: En un servicio que releva los contenidos disponibles en plataformas streaming, con frecuencuencia se detectan contenidos sin información de género pero se cuenta con la sinopsis del contenido."
      ]
    },
    {
      "cell_type": "markdown",
      "metadata": {
        "id": "xUKFnH0n2Yrc"
      },
      "source": [
        "Nombre del servicio y empresa con la problematica: [Content Pulse | BB Media](https://bb.vision/content-pulse-en/)"
      ]
    },
    {
      "cell_type": "markdown",
      "metadata": {
        "id": "TWiHsyCh2Xyp"
      },
      "source": [
        "Objetivo: Entrenar un modelo que dada una sinopsis sobre una película retorne los géneros del contenido."
      ]
    },
    {
      "cell_type": "markdown",
      "metadata": {
        "id": "Tv01cZdB3-mj"
      },
      "source": [
        "Hoja de Ruta:\n",
        "\n",
        "1. Acceso a los datos\n",
        "2. Tabulación de los datos\n",
        "3. Limpieza de datos\n",
        "4. Exploración de modelos\n",
        "5. Pruebas\n",
        "6. Analísis de resultados\n",
        "7. Conclusiones"
      ]
    },
    {
      "cell_type": "markdown",
      "metadata": {
        "id": "SnXUmMg8Zy0e"
      },
      "source": [
        "Posibles contratiempos:\n",
        "\n",
        "1. Datos faltantes, incompletos, no estandarizados.\n",
        "2. Fallar en una buena separacion de los subdataset para testing y validation (ejemplo, quedarnos con sinopsis para testing muy ricas en descripción y para validation no)."
      ]
    },
    {
      "cell_type": "markdown",
      "metadata": {
        "id": "n9lA9JnIkIBO"
      },
      "source": [
        "## Librerias"
      ]
    },
    {
      "cell_type": "code",
      "execution_count": null,
      "metadata": {
        "id": "Sn8ag4NykG76"
      },
      "outputs": [],
      "source": [
        "# Verificación e instalación\n",
        "import importlib\n",
        "import subprocess\n",
        "\n",
        "def instalar_librerias(packages):\n",
        "    [importlib.import_module(package) if package in locals() else subprocess.call(['pip', 'install', package]) for package in packages]\n",
        "\n",
        "# Lista de librerías a verificar e instalar\n",
        "listado_librerias = ['requests', 'json', 'datetime', 'gdown', 'numpy', 'pandas', 'seaborn', 'matplotlib', 'tabulate', 'scikit-learn']\n",
        "\n",
        "# Verificar e instalar las librerías\n",
        "instalar_librerias(listado_librerias)"
      ]
    },
    {
      "cell_type": "code",
      "execution_count": null,
      "metadata": {
        "id": "LHlBRzEckNKH"
      },
      "outputs": [],
      "source": [
        "# Importación\n",
        "import requests\n",
        "import json\n",
        "import datetime\n",
        "import gdown\n",
        "\n",
        "import pandas as pd\n",
        "import numpy as np\n",
        "\n",
        "import seaborn as sns\n",
        "import matplotlib.pyplot as plt\n",
        "from tabulate import tabulate\n",
        "\n",
        "from sklearn.model_selection import train_test_split\n",
        "\n",
        "# Ignorar Warnings\n",
        "import warnings\n",
        "warnings.filterwarnings(\"ignore\")"
      ]
    },
    {
      "cell_type": "markdown",
      "metadata": {
        "id": "GS4oGZkTV39R"
      },
      "source": [
        "## 0. Acceso a los datos (Ejemplo con algunas variables usando la API de TMDB)\n"
      ]
    },
    {
      "cell_type": "markdown",
      "metadata": {
        "id": "QmtegSUNhb0K"
      },
      "source": [
        "Se utiliza una base de datos colaborativas con acceso abierto llamada TMDB obtenido los datos mediante su [API](https://developer.themoviedb.org/docs)"
      ]
    },
    {
      "cell_type": "code",
      "execution_count": null,
      "metadata": {
        "colab": {
          "base_uri": "https://localhost:8080/"
        },
        "id": "tIHvsZY5p2iT",
        "outputId": "8259552a-5d1e-4263-963e-b6fe8db80e40"
      },
      "outputs": [
        {
          "data": {
            "text/html": [
              "\n",
              "  <div id=\"df-842c7ea3-e94f-4b31-a193-a3e21f30a1be\" class=\"colab-df-container\">\n",
              "    <div>\n",
              "<style scoped>\n",
              "    .dataframe tbody tr th:only-of-type {\n",
              "        vertical-align: middle;\n",
              "    }\n",
              "\n",
              "    .dataframe tbody tr th {\n",
              "        vertical-align: top;\n",
              "    }\n",
              "\n",
              "    .dataframe thead th {\n",
              "        text-align: right;\n",
              "    }\n",
              "</style>\n",
              "<table border=\"1\" class=\"dataframe\">\n",
              "  <thead>\n",
              "    <tr style=\"text-align: right;\">\n",
              "      <th></th>\n",
              "      <th>type</th>\n",
              "      <th>id</th>\n",
              "      <th>title</th>\n",
              "      <th>release</th>\n",
              "      <th>synopsis</th>\n",
              "      <th>cast</th>\n",
              "      <th>productions</th>\n",
              "      <th>popularity</th>\n",
              "      <th>votes</th>\n",
              "      <th>score</th>\n",
              "      <th>imagen</th>\n",
              "    </tr>\n",
              "  </thead>\n",
              "  <tbody>\n",
              "    <tr>\n",
              "      <th>0</th>\n",
              "      <td>Movie</td>\n",
              "      <td>1008042</td>\n",
              "      <td>Talk to Me</td>\n",
              "      <td>2023-07-26</td>\n",
              "      <td>When a group of friends discover how to conjur...</td>\n",
              "      <td>Sophie Wilde, Alexandra Jensen, Joe Bird</td>\n",
              "      <td>Causeway Films, Metrol Technology, Screen Aust...</td>\n",
              "      <td>3760.119</td>\n",
              "      <td>511</td>\n",
              "      <td>7.2</td>\n",
              "      <td>https://image.tmdb.org/t/p/w500/kdPMUMJzyYAc4r...</td>\n",
              "    </tr>\n",
              "    <tr>\n",
              "      <th>1</th>\n",
              "      <td>Movie</td>\n",
              "      <td>385687</td>\n",
              "      <td>Fast X</td>\n",
              "      <td>2023-05-17</td>\n",
              "      <td>Over many missions and against impossible odds...</td>\n",
              "      <td>Vin Diesel, Michelle Rodriguez, Tyrese Gibson</td>\n",
              "      <td>Universal Pictures, Original Film, One Race, P...</td>\n",
              "      <td>3701.937</td>\n",
              "      <td>3698</td>\n",
              "      <td>7.3</td>\n",
              "      <td>https://image.tmdb.org/t/p/w500/fiVW06jE7z9YnO...</td>\n",
              "    </tr>\n",
              "    <tr>\n",
              "      <th>2</th>\n",
              "      <td>Movie</td>\n",
              "      <td>346698</td>\n",
              "      <td>Barbie</td>\n",
              "      <td>2023-07-19</td>\n",
              "      <td>Barbie and Ken are having the time of their li...</td>\n",
              "      <td>Margot Robbie, Ryan Gosling, America Ferrera</td>\n",
              "      <td>LuckyChap Entertainment, Heyday Films, NB/GG P...</td>\n",
              "      <td>3306.523</td>\n",
              "      <td>4505</td>\n",
              "      <td>7.3</td>\n",
              "      <td>https://image.tmdb.org/t/p/w500/iuFNMS8U5cb6xf...</td>\n",
              "    </tr>\n",
              "    <tr>\n",
              "      <th>3</th>\n",
              "      <td>Movie</td>\n",
              "      <td>615656</td>\n",
              "      <td>Meg 2: The Trench</td>\n",
              "      <td>2023-08-02</td>\n",
              "      <td>An exploratory dive into the deepest depths of...</td>\n",
              "      <td>Jason Statham, Wu Jing, Shuya Sophia Cai</td>\n",
              "      <td>Apelles Entertainment, Warner Bros. Pictures, ...</td>\n",
              "      <td>2693.211</td>\n",
              "      <td>1752</td>\n",
              "      <td>7.0</td>\n",
              "      <td>https://image.tmdb.org/t/p/w500/4m1Au3YkjqsxF8...</td>\n",
              "    </tr>\n",
              "    <tr>\n",
              "      <th>4</th>\n",
              "      <td>Movie</td>\n",
              "      <td>968051</td>\n",
              "      <td>The Nun II</td>\n",
              "      <td>2023-09-06</td>\n",
              "      <td>In 1956 France, a priest is violently murdered...</td>\n",
              "      <td>Taissa Farmiga, Jonas Bloquet, Storm Reid</td>\n",
              "      <td>New Line Cinema, Atomic Monster, The Safran Co...</td>\n",
              "      <td>1970.168</td>\n",
              "      <td>178</td>\n",
              "      <td>6.6</td>\n",
              "      <td>https://image.tmdb.org/t/p/w500/5gzzkR7y3hnY8A...</td>\n",
              "    </tr>\n",
              "  </tbody>\n",
              "</table>\n",
              "</div>\n",
              "    <div class=\"colab-df-buttons\">\n",
              "\n",
              "  <div class=\"colab-df-container\">\n",
              "    <button class=\"colab-df-convert\" onclick=\"convertToInteractive('df-842c7ea3-e94f-4b31-a193-a3e21f30a1be')\"\n",
              "            title=\"Convert this dataframe to an interactive table.\"\n",
              "            style=\"display:none;\">\n",
              "\n",
              "  <svg xmlns=\"http://www.w3.org/2000/svg\" height=\"24px\" viewBox=\"0 -960 960 960\">\n",
              "    <path d=\"M120-120v-720h720v720H120Zm60-500h600v-160H180v160Zm220 220h160v-160H400v160Zm0 220h160v-160H400v160ZM180-400h160v-160H180v160Zm440 0h160v-160H620v160ZM180-180h160v-160H180v160Zm440 0h160v-160H620v160Z\"/>\n",
              "  </svg>\n",
              "    </button>\n",
              "\n",
              "  <style>\n",
              "    .colab-df-container {\n",
              "      display:flex;\n",
              "      gap: 12px;\n",
              "    }\n",
              "\n",
              "    .colab-df-convert {\n",
              "      background-color: #E8F0FE;\n",
              "      border: none;\n",
              "      border-radius: 50%;\n",
              "      cursor: pointer;\n",
              "      display: none;\n",
              "      fill: #1967D2;\n",
              "      height: 32px;\n",
              "      padding: 0 0 0 0;\n",
              "      width: 32px;\n",
              "    }\n",
              "\n",
              "    .colab-df-convert:hover {\n",
              "      background-color: #E2EBFA;\n",
              "      box-shadow: 0px 1px 2px rgba(60, 64, 67, 0.3), 0px 1px 3px 1px rgba(60, 64, 67, 0.15);\n",
              "      fill: #174EA6;\n",
              "    }\n",
              "\n",
              "    .colab-df-buttons div {\n",
              "      margin-bottom: 4px;\n",
              "    }\n",
              "\n",
              "    [theme=dark] .colab-df-convert {\n",
              "      background-color: #3B4455;\n",
              "      fill: #D2E3FC;\n",
              "    }\n",
              "\n",
              "    [theme=dark] .colab-df-convert:hover {\n",
              "      background-color: #434B5C;\n",
              "      box-shadow: 0px 1px 3px 1px rgba(0, 0, 0, 0.15);\n",
              "      filter: drop-shadow(0px 1px 2px rgba(0, 0, 0, 0.3));\n",
              "      fill: #FFFFFF;\n",
              "    }\n",
              "  </style>\n",
              "\n",
              "    <script>\n",
              "      const buttonEl =\n",
              "        document.querySelector('#df-842c7ea3-e94f-4b31-a193-a3e21f30a1be button.colab-df-convert');\n",
              "      buttonEl.style.display =\n",
              "        google.colab.kernel.accessAllowed ? 'block' : 'none';\n",
              "\n",
              "      async function convertToInteractive(key) {\n",
              "        const element = document.querySelector('#df-842c7ea3-e94f-4b31-a193-a3e21f30a1be');\n",
              "        const dataTable =\n",
              "          await google.colab.kernel.invokeFunction('convertToInteractive',\n",
              "                                                    [key], {});\n",
              "        if (!dataTable) return;\n",
              "\n",
              "        const docLinkHtml = 'Like what you see? Visit the ' +\n",
              "          '<a target=\"_blank\" href=https://colab.research.google.com/notebooks/data_table.ipynb>data table notebook</a>'\n",
              "          + ' to learn more about interactive tables.';\n",
              "        element.innerHTML = '';\n",
              "        dataTable['output_type'] = 'display_data';\n",
              "        await google.colab.output.renderOutput(dataTable, element);\n",
              "        const docLink = document.createElement('div');\n",
              "        docLink.innerHTML = docLinkHtml;\n",
              "        element.appendChild(docLink);\n",
              "      }\n",
              "    </script>\n",
              "  </div>\n",
              "\n",
              "\n",
              "<div id=\"df-3e8c450d-a6f9-49a1-9e31-88f42aa8dcfc\">\n",
              "  <button class=\"colab-df-quickchart\" onclick=\"quickchart('df-3e8c450d-a6f9-49a1-9e31-88f42aa8dcfc')\"\n",
              "            title=\"Suggest charts.\"\n",
              "            style=\"display:none;\">\n",
              "\n",
              "<svg xmlns=\"http://www.w3.org/2000/svg\" height=\"24px\"viewBox=\"0 0 24 24\"\n",
              "     width=\"24px\">\n",
              "    <g>\n",
              "        <path d=\"M19 3H5c-1.1 0-2 .9-2 2v14c0 1.1.9 2 2 2h14c1.1 0 2-.9 2-2V5c0-1.1-.9-2-2-2zM9 17H7v-7h2v7zm4 0h-2V7h2v10zm4 0h-2v-4h2v4z\"/>\n",
              "    </g>\n",
              "</svg>\n",
              "  </button>\n",
              "\n",
              "<style>\n",
              "  .colab-df-quickchart {\n",
              "      --bg-color: #E8F0FE;\n",
              "      --fill-color: #1967D2;\n",
              "      --hover-bg-color: #E2EBFA;\n",
              "      --hover-fill-color: #174EA6;\n",
              "      --disabled-fill-color: #AAA;\n",
              "      --disabled-bg-color: #DDD;\n",
              "  }\n",
              "\n",
              "  [theme=dark] .colab-df-quickchart {\n",
              "      --bg-color: #3B4455;\n",
              "      --fill-color: #D2E3FC;\n",
              "      --hover-bg-color: #434B5C;\n",
              "      --hover-fill-color: #FFFFFF;\n",
              "      --disabled-bg-color: #3B4455;\n",
              "      --disabled-fill-color: #666;\n",
              "  }\n",
              "\n",
              "  .colab-df-quickchart {\n",
              "    background-color: var(--bg-color);\n",
              "    border: none;\n",
              "    border-radius: 50%;\n",
              "    cursor: pointer;\n",
              "    display: none;\n",
              "    fill: var(--fill-color);\n",
              "    height: 32px;\n",
              "    padding: 0;\n",
              "    width: 32px;\n",
              "  }\n",
              "\n",
              "  .colab-df-quickchart:hover {\n",
              "    background-color: var(--hover-bg-color);\n",
              "    box-shadow: 0 1px 2px rgba(60, 64, 67, 0.3), 0 1px 3px 1px rgba(60, 64, 67, 0.15);\n",
              "    fill: var(--button-hover-fill-color);\n",
              "  }\n",
              "\n",
              "  .colab-df-quickchart-complete:disabled,\n",
              "  .colab-df-quickchart-complete:disabled:hover {\n",
              "    background-color: var(--disabled-bg-color);\n",
              "    fill: var(--disabled-fill-color);\n",
              "    box-shadow: none;\n",
              "  }\n",
              "\n",
              "  .colab-df-spinner {\n",
              "    border: 2px solid var(--fill-color);\n",
              "    border-color: transparent;\n",
              "    border-bottom-color: var(--fill-color);\n",
              "    animation:\n",
              "      spin 1s steps(1) infinite;\n",
              "  }\n",
              "\n",
              "  @keyframes spin {\n",
              "    0% {\n",
              "      border-color: transparent;\n",
              "      border-bottom-color: var(--fill-color);\n",
              "      border-left-color: var(--fill-color);\n",
              "    }\n",
              "    20% {\n",
              "      border-color: transparent;\n",
              "      border-left-color: var(--fill-color);\n",
              "      border-top-color: var(--fill-color);\n",
              "    }\n",
              "    30% {\n",
              "      border-color: transparent;\n",
              "      border-left-color: var(--fill-color);\n",
              "      border-top-color: var(--fill-color);\n",
              "      border-right-color: var(--fill-color);\n",
              "    }\n",
              "    40% {\n",
              "      border-color: transparent;\n",
              "      border-right-color: var(--fill-color);\n",
              "      border-top-color: var(--fill-color);\n",
              "    }\n",
              "    60% {\n",
              "      border-color: transparent;\n",
              "      border-right-color: var(--fill-color);\n",
              "    }\n",
              "    80% {\n",
              "      border-color: transparent;\n",
              "      border-right-color: var(--fill-color);\n",
              "      border-bottom-color: var(--fill-color);\n",
              "    }\n",
              "    90% {\n",
              "      border-color: transparent;\n",
              "      border-bottom-color: var(--fill-color);\n",
              "    }\n",
              "  }\n",
              "</style>\n",
              "\n",
              "  <script>\n",
              "    async function quickchart(key) {\n",
              "      const quickchartButtonEl =\n",
              "        document.querySelector('#' + key + ' button');\n",
              "      quickchartButtonEl.disabled = true;  // To prevent multiple clicks.\n",
              "      quickchartButtonEl.classList.add('colab-df-spinner');\n",
              "      try {\n",
              "        const charts = await google.colab.kernel.invokeFunction(\n",
              "            'suggestCharts', [key], {});\n",
              "      } catch (error) {\n",
              "        console.error('Error during call to suggestCharts:', error);\n",
              "      }\n",
              "      quickchartButtonEl.classList.remove('colab-df-spinner');\n",
              "      quickchartButtonEl.classList.add('colab-df-quickchart-complete');\n",
              "    }\n",
              "    (() => {\n",
              "      let quickchartButtonEl =\n",
              "        document.querySelector('#df-3e8c450d-a6f9-49a1-9e31-88f42aa8dcfc button');\n",
              "      quickchartButtonEl.style.display =\n",
              "        google.colab.kernel.accessAllowed ? 'block' : 'none';\n",
              "    })();\n",
              "  </script>\n",
              "</div>\n",
              "    </div>\n",
              "  </div>\n"
            ],
            "text/plain": [
              "    type       id              title     release  \\\n",
              "0  Movie  1008042         Talk to Me  2023-07-26   \n",
              "1  Movie   385687             Fast X  2023-05-17   \n",
              "2  Movie   346698             Barbie  2023-07-19   \n",
              "3  Movie   615656  Meg 2: The Trench  2023-08-02   \n",
              "4  Movie   968051         The Nun II  2023-09-06   \n",
              "\n",
              "                                            synopsis  \\\n",
              "0  When a group of friends discover how to conjur...   \n",
              "1  Over many missions and against impossible odds...   \n",
              "2  Barbie and Ken are having the time of their li...   \n",
              "3  An exploratory dive into the deepest depths of...   \n",
              "4  In 1956 France, a priest is violently murdered...   \n",
              "\n",
              "                                            cast  \\\n",
              "0       Sophie Wilde, Alexandra Jensen, Joe Bird   \n",
              "1  Vin Diesel, Michelle Rodriguez, Tyrese Gibson   \n",
              "2   Margot Robbie, Ryan Gosling, America Ferrera   \n",
              "3       Jason Statham, Wu Jing, Shuya Sophia Cai   \n",
              "4      Taissa Farmiga, Jonas Bloquet, Storm Reid   \n",
              "\n",
              "                                         productions  popularity  votes  \\\n",
              "0  Causeway Films, Metrol Technology, Screen Aust...    3760.119    511   \n",
              "1  Universal Pictures, Original Film, One Race, P...    3701.937   3698   \n",
              "2  LuckyChap Entertainment, Heyday Films, NB/GG P...    3306.523   4505   \n",
              "3  Apelles Entertainment, Warner Bros. Pictures, ...    2693.211   1752   \n",
              "4  New Line Cinema, Atomic Monster, The Safran Co...    1970.168    178   \n",
              "\n",
              "   score                                             imagen  \n",
              "0    7.2  https://image.tmdb.org/t/p/w500/kdPMUMJzyYAc4r...  \n",
              "1    7.3  https://image.tmdb.org/t/p/w500/fiVW06jE7z9YnO...  \n",
              "2    7.3  https://image.tmdb.org/t/p/w500/iuFNMS8U5cb6xf...  \n",
              "3    7.0  https://image.tmdb.org/t/p/w500/4m1Au3YkjqsxF8...  \n",
              "4    6.6  https://image.tmdb.org/t/p/w500/5gzzkR7y3hnY8A...  "
            ]
          },
          "execution_count": 3,
          "metadata": {},
          "output_type": "execute_result"
        }
      ],
      "source": [
        "# Credencial\n",
        "api_key = 'bf0a945ba271caf72a6a1b1f53a1084d'\n",
        "\n",
        "# URL base\n",
        "base_url = 'https://api.themoviedb.org/3/'\n",
        "\n",
        "# Endpoint para obtener la lista de películas y series de tv\n",
        "movie_endpoint = 'discover/movie'\n",
        "tv_endpoint = 'discover/tv'\n",
        "\n",
        "# Parámetros\n",
        "params = {\n",
        "    'api_key': api_key,\n",
        "    'sort_by': 'popularity.desc' # Se usa este orden para verificar si los datos obtenidos son correctos (los contenidos mas populares son mas conocidos siendo mas facil validar)\n",
        "}\n",
        "\n",
        "# Función para obtener nombres de actores\n",
        "def get_cast_names(content_type, content_id):\n",
        "    credits_endpoint = f'{content_type}/{content_id}/credits'\n",
        "    credits_params = {\n",
        "        'api_key': api_key\n",
        "   }\n",
        "    credits_response = requests.get(base_url + credits_endpoint, params=credits_params)\n",
        "    credits_data = credits_response.json()\n",
        "    cast_names = [actor['name'] for actor in credits_data['cast'][:3]] # Dado que los actores estan ordenados por importancia, nos quedamos con los 3 primeros (protagonistas)\n",
        "    return ', '.join(cast_names)\n",
        "\n",
        "# Función para obtener nombres de compañías de producción\n",
        "def get_production_companies(content_type, content_id):\n",
        "    details_endpoint = f'{content_type}/{content_id}'\n",
        "    details_params = {\n",
        "        'api_key': api_key\n",
        "    }\n",
        "    details_response = requests.get(base_url + details_endpoint, params=details_params)\n",
        "    details_data = details_response.json()\n",
        "    production_companies = ', '.join([company['name'] for company in details_data.get('production_companies', [])])\n",
        "    return production_companies\n",
        "\n",
        "# Realizar solicitudes GET a la API y obtener datos para películas\n",
        "movie_response = requests.get(base_url + movie_endpoint, params=params)\n",
        "movie_data = movie_response.json()\n",
        "\n",
        "# Realizar solicitudes GET a la API y obtener datos para programas de televisión\n",
        "tv_response = requests.get(base_url + tv_endpoint, params=params)\n",
        "tv_data = tv_response.json()\n",
        "\n",
        "# Procesar los resultados de películas y programas de televisión\n",
        "results_list = []\n",
        "\n",
        "for content_type, content_data in [('movie', movie_data), ('tv', tv_data)]:\n",
        "    for result in content_data['results']:\n",
        "        content_id = result['id']\n",
        "        title = result['title'] if content_type == 'movie' else result['name']\n",
        "        release_date = result['release_date'] if content_type == 'movie' else result['first_air_date']\n",
        "        overview = result['overview']\n",
        "        poster_path = result['poster_path']\n",
        "        popularity = result['popularity']\n",
        "        vote_count = result['vote_count']\n",
        "        vote_average = result['vote_average']\n",
        "\n",
        "        # Obtener nombres de actores utilizando la función\n",
        "        cast_names = get_cast_names(content_type, content_id)\n",
        "\n",
        "        # Obtener nombres de compañías de producción utilizando la nueva función\n",
        "        production_companies = get_production_companies(content_type, content_id)\n",
        "\n",
        "        results_list.append({\n",
        "            'type': content_type.capitalize(),\n",
        "            'id': content_id,\n",
        "            'title': title,\n",
        "            'release': release_date,\n",
        "            'synopsis': overview,\n",
        "            'cast': cast_names,\n",
        "            'productions': production_companies,\n",
        "            'popularity': popularity,\n",
        "            'votes': vote_count,\n",
        "            'score': vote_average,\n",
        "            'imagen': f'https://image.tmdb.org/t/p/w500{poster_path}'\n",
        "        })\n",
        "\n",
        "# DataFrame\n",
        "tmdb_base_20 = pd.DataFrame(results_list)\n",
        "tmdb_base_20.head()"
      ]
    },
    {
      "cell_type": "markdown",
      "metadata": {
        "id": "f1sYquxZjQwx"
      },
      "source": [
        "## 1. Acceso a los datos (Archivo preexistente con datos públicos previamente descargados desde TMDB)"
      ]
    },
    {
      "cell_type": "code",
      "execution_count": null,
      "metadata": {
        "colab": {
          "base_uri": "https://localhost:8080/",
          "height": 105
        },
        "id": "ez86m_60o7ci",
        "outputId": "90e33122-0636-4ced-f4df-e6f94e7416cf"
      },
      "outputs": [
        {
          "name": "stderr",
          "output_type": "stream",
          "text": [
            "Downloading...\n",
            "From: https://onedrive.live.com/download?resid=B5CCCD69939F6AA3%21985&authkey=!AMd0773xIAnUL_I&em=x&app=Excel\n",
            "To: /content/file.xlsx\n",
            "100%|██████████| 184M/184M [00:19<00:00, 9.26MB/s]\n"
          ]
        },
        {
          "data": {
            "application/vnd.google.colaboratory.intrinsic+json": {
              "type": "string"
            },
            "text/plain": [
              "'/content/file.xlsx'"
            ]
          },
          "execution_count": 4,
          "metadata": {},
          "output_type": "execute_result"
        }
      ],
      "source": [
        "# URL del archivo Excel\n",
        "url = \"https://onedrive.live.com/download?resid=B5CCCD69939F6AA3%21985&authkey=!AMd0773xIAnUL_I&em=x&app=Excel\"\n",
        "\n",
        "# Descarga del archivo en el entorno de colab\n",
        "output = \"/content/file.xlsx\"  # Ruta donde se guardará el archivo en Colab\n",
        "gdown.download(url, output, quiet=False)"
      ]
    },
    {
      "cell_type": "code",
      "execution_count": null,
      "metadata": {
        "colab": {
          "background_save": true,
          "base_uri": "https://localhost:8080/",
          "height": 731
        },
        "id": "7A6vtGNDpU9k",
        "outputId": "81729eb4-b501-4c4e-8051-56260aeda0bf"
      },
      "outputs": [
        {
          "ename": "KeyboardInterrupt",
          "evalue": "ignored",
          "output_type": "error",
          "traceback": [
            "\u001b[0;31m---------------------------------------------------------------------------\u001b[0m",
            "\u001b[0;31mKeyboardInterrupt\u001b[0m                         Traceback (most recent call last)",
            "\u001b[0;32m<ipython-input-5-c50a61d26881>\u001b[0m in \u001b[0;36m<cell line: 2>\u001b[0;34m()\u001b[0m\n\u001b[1;32m      1\u001b[0m \u001b[0;31m# DataFrame\u001b[0m\u001b[0;34m\u001b[0m\u001b[0;34m\u001b[0m\u001b[0m\n\u001b[0;32m----> 2\u001b[0;31m \u001b[0mcontents\u001b[0m \u001b[0;34m=\u001b[0m \u001b[0mpd\u001b[0m\u001b[0;34m.\u001b[0m\u001b[0mread_excel\u001b[0m\u001b[0;34m(\u001b[0m\u001b[0moutput\u001b[0m\u001b[0;34m)\u001b[0m\u001b[0;34m\u001b[0m\u001b[0;34m\u001b[0m\u001b[0m\n\u001b[0m\u001b[1;32m      3\u001b[0m \u001b[0mcontents\u001b[0m\u001b[0;34m.\u001b[0m\u001b[0mhead\u001b[0m\u001b[0;34m(\u001b[0m\u001b[0;34m)\u001b[0m\u001b[0;34m\u001b[0m\u001b[0;34m\u001b[0m\u001b[0m\n",
            "\u001b[0;32m/usr/local/lib/python3.10/dist-packages/pandas/util/_decorators.py\u001b[0m in \u001b[0;36mwrapper\u001b[0;34m(*args, **kwargs)\u001b[0m\n\u001b[1;32m    209\u001b[0m                 \u001b[0;32melse\u001b[0m\u001b[0;34m:\u001b[0m\u001b[0;34m\u001b[0m\u001b[0;34m\u001b[0m\u001b[0m\n\u001b[1;32m    210\u001b[0m                     \u001b[0mkwargs\u001b[0m\u001b[0;34m[\u001b[0m\u001b[0mnew_arg_name\u001b[0m\u001b[0;34m]\u001b[0m \u001b[0;34m=\u001b[0m \u001b[0mnew_arg_value\u001b[0m\u001b[0;34m\u001b[0m\u001b[0;34m\u001b[0m\u001b[0m\n\u001b[0;32m--> 211\u001b[0;31m             \u001b[0;32mreturn\u001b[0m \u001b[0mfunc\u001b[0m\u001b[0;34m(\u001b[0m\u001b[0;34m*\u001b[0m\u001b[0margs\u001b[0m\u001b[0;34m,\u001b[0m \u001b[0;34m**\u001b[0m\u001b[0mkwargs\u001b[0m\u001b[0;34m)\u001b[0m\u001b[0;34m\u001b[0m\u001b[0;34m\u001b[0m\u001b[0m\n\u001b[0m\u001b[1;32m    212\u001b[0m \u001b[0;34m\u001b[0m\u001b[0m\n\u001b[1;32m    213\u001b[0m         \u001b[0;32mreturn\u001b[0m \u001b[0mcast\u001b[0m\u001b[0;34m(\u001b[0m\u001b[0mF\u001b[0m\u001b[0;34m,\u001b[0m \u001b[0mwrapper\u001b[0m\u001b[0;34m)\u001b[0m\u001b[0;34m\u001b[0m\u001b[0;34m\u001b[0m\u001b[0m\n",
            "\u001b[0;32m/usr/local/lib/python3.10/dist-packages/pandas/util/_decorators.py\u001b[0m in \u001b[0;36mwrapper\u001b[0;34m(*args, **kwargs)\u001b[0m\n\u001b[1;32m    329\u001b[0m                     \u001b[0mstacklevel\u001b[0m\u001b[0;34m=\u001b[0m\u001b[0mfind_stack_level\u001b[0m\u001b[0;34m(\u001b[0m\u001b[0;34m)\u001b[0m\u001b[0;34m,\u001b[0m\u001b[0;34m\u001b[0m\u001b[0;34m\u001b[0m\u001b[0m\n\u001b[1;32m    330\u001b[0m                 )\n\u001b[0;32m--> 331\u001b[0;31m             \u001b[0;32mreturn\u001b[0m \u001b[0mfunc\u001b[0m\u001b[0;34m(\u001b[0m\u001b[0;34m*\u001b[0m\u001b[0margs\u001b[0m\u001b[0;34m,\u001b[0m \u001b[0;34m**\u001b[0m\u001b[0mkwargs\u001b[0m\u001b[0;34m)\u001b[0m\u001b[0;34m\u001b[0m\u001b[0;34m\u001b[0m\u001b[0m\n\u001b[0m\u001b[1;32m    332\u001b[0m \u001b[0;34m\u001b[0m\u001b[0m\n\u001b[1;32m    333\u001b[0m         \u001b[0;31m# error: \"Callable[[VarArg(Any), KwArg(Any)], Any]\" has no\u001b[0m\u001b[0;34m\u001b[0m\u001b[0;34m\u001b[0m\u001b[0m\n",
            "\u001b[0;32m/usr/local/lib/python3.10/dist-packages/pandas/io/excel/_base.py\u001b[0m in \u001b[0;36mread_excel\u001b[0;34m(io, sheet_name, header, names, index_col, usecols, squeeze, dtype, engine, converters, true_values, false_values, skiprows, nrows, na_values, keep_default_na, na_filter, verbose, parse_dates, date_parser, thousands, decimal, comment, skipfooter, convert_float, mangle_dupe_cols, storage_options)\u001b[0m\n\u001b[1;32m    488\u001b[0m \u001b[0;34m\u001b[0m\u001b[0m\n\u001b[1;32m    489\u001b[0m     \u001b[0;32mtry\u001b[0m\u001b[0;34m:\u001b[0m\u001b[0;34m\u001b[0m\u001b[0;34m\u001b[0m\u001b[0m\n\u001b[0;32m--> 490\u001b[0;31m         data = io.parse(\n\u001b[0m\u001b[1;32m    491\u001b[0m             \u001b[0msheet_name\u001b[0m\u001b[0;34m=\u001b[0m\u001b[0msheet_name\u001b[0m\u001b[0;34m,\u001b[0m\u001b[0;34m\u001b[0m\u001b[0;34m\u001b[0m\u001b[0m\n\u001b[1;32m    492\u001b[0m             \u001b[0mheader\u001b[0m\u001b[0;34m=\u001b[0m\u001b[0mheader\u001b[0m\u001b[0;34m,\u001b[0m\u001b[0;34m\u001b[0m\u001b[0;34m\u001b[0m\u001b[0m\n",
            "\u001b[0;32m/usr/local/lib/python3.10/dist-packages/pandas/io/excel/_base.py\u001b[0m in \u001b[0;36mparse\u001b[0;34m(self, sheet_name, header, names, index_col, usecols, squeeze, converters, true_values, false_values, skiprows, nrows, na_values, parse_dates, date_parser, thousands, comment, skipfooter, convert_float, mangle_dupe_cols, **kwds)\u001b[0m\n\u001b[1;32m   1732\u001b[0m             \u001b[0mDataFrame\u001b[0m \u001b[0;32mfrom\u001b[0m \u001b[0mthe\u001b[0m \u001b[0mpassed\u001b[0m \u001b[0;32min\u001b[0m \u001b[0mExcel\u001b[0m \u001b[0mfile\u001b[0m\u001b[0;34m.\u001b[0m\u001b[0;34m\u001b[0m\u001b[0;34m\u001b[0m\u001b[0m\n\u001b[1;32m   1733\u001b[0m         \"\"\"\n\u001b[0;32m-> 1734\u001b[0;31m         return self._reader.parse(\n\u001b[0m\u001b[1;32m   1735\u001b[0m             \u001b[0msheet_name\u001b[0m\u001b[0;34m=\u001b[0m\u001b[0msheet_name\u001b[0m\u001b[0;34m,\u001b[0m\u001b[0;34m\u001b[0m\u001b[0;34m\u001b[0m\u001b[0m\n\u001b[1;32m   1736\u001b[0m             \u001b[0mheader\u001b[0m\u001b[0;34m=\u001b[0m\u001b[0mheader\u001b[0m\u001b[0;34m,\u001b[0m\u001b[0;34m\u001b[0m\u001b[0;34m\u001b[0m\u001b[0m\n",
            "\u001b[0;32m/usr/local/lib/python3.10/dist-packages/pandas/io/excel/_base.py\u001b[0m in \u001b[0;36mparse\u001b[0;34m(self, sheet_name, header, names, index_col, usecols, squeeze, dtype, true_values, false_values, skiprows, nrows, na_values, verbose, parse_dates, date_parser, thousands, decimal, comment, skipfooter, convert_float, mangle_dupe_cols, **kwds)\u001b[0m\n\u001b[1;32m    763\u001b[0m \u001b[0;34m\u001b[0m\u001b[0m\n\u001b[1;32m    764\u001b[0m             \u001b[0mfile_rows_needed\u001b[0m \u001b[0;34m=\u001b[0m \u001b[0mself\u001b[0m\u001b[0;34m.\u001b[0m\u001b[0m_calc_rows\u001b[0m\u001b[0;34m(\u001b[0m\u001b[0mheader\u001b[0m\u001b[0;34m,\u001b[0m \u001b[0mindex_col\u001b[0m\u001b[0;34m,\u001b[0m \u001b[0mskiprows\u001b[0m\u001b[0;34m,\u001b[0m \u001b[0mnrows\u001b[0m\u001b[0;34m)\u001b[0m\u001b[0;34m\u001b[0m\u001b[0;34m\u001b[0m\u001b[0m\n\u001b[0;32m--> 765\u001b[0;31m             \u001b[0mdata\u001b[0m \u001b[0;34m=\u001b[0m \u001b[0mself\u001b[0m\u001b[0;34m.\u001b[0m\u001b[0mget_sheet_data\u001b[0m\u001b[0;34m(\u001b[0m\u001b[0msheet\u001b[0m\u001b[0;34m,\u001b[0m \u001b[0mconvert_float\u001b[0m\u001b[0;34m,\u001b[0m \u001b[0mfile_rows_needed\u001b[0m\u001b[0;34m)\u001b[0m\u001b[0;34m\u001b[0m\u001b[0;34m\u001b[0m\u001b[0m\n\u001b[0m\u001b[1;32m    766\u001b[0m             \u001b[0;32mif\u001b[0m \u001b[0mhasattr\u001b[0m\u001b[0;34m(\u001b[0m\u001b[0msheet\u001b[0m\u001b[0;34m,\u001b[0m \u001b[0;34m\"close\"\u001b[0m\u001b[0;34m)\u001b[0m\u001b[0;34m:\u001b[0m\u001b[0;34m\u001b[0m\u001b[0;34m\u001b[0m\u001b[0m\n\u001b[1;32m    767\u001b[0m                 \u001b[0;31m# pyxlsb opens two TemporaryFiles\u001b[0m\u001b[0;34m\u001b[0m\u001b[0;34m\u001b[0m\u001b[0m\n",
            "\u001b[0;32m/usr/local/lib/python3.10/dist-packages/pandas/io/excel/_openpyxl.py\u001b[0m in \u001b[0;36mget_sheet_data\u001b[0;34m(self, sheet, convert_float, file_rows_needed)\u001b[0m\n\u001b[1;32m    613\u001b[0m         \u001b[0mdata\u001b[0m\u001b[0;34m:\u001b[0m \u001b[0mlist\u001b[0m\u001b[0;34m[\u001b[0m\u001b[0mlist\u001b[0m\u001b[0;34m[\u001b[0m\u001b[0mScalar\u001b[0m\u001b[0;34m]\u001b[0m\u001b[0;34m]\u001b[0m \u001b[0;34m=\u001b[0m \u001b[0;34m[\u001b[0m\u001b[0;34m]\u001b[0m\u001b[0;34m\u001b[0m\u001b[0;34m\u001b[0m\u001b[0m\n\u001b[1;32m    614\u001b[0m         \u001b[0mlast_row_with_data\u001b[0m \u001b[0;34m=\u001b[0m \u001b[0;34m-\u001b[0m\u001b[0;36m1\u001b[0m\u001b[0;34m\u001b[0m\u001b[0;34m\u001b[0m\u001b[0m\n\u001b[0;32m--> 615\u001b[0;31m         \u001b[0;32mfor\u001b[0m \u001b[0mrow_number\u001b[0m\u001b[0;34m,\u001b[0m \u001b[0mrow\u001b[0m \u001b[0;32min\u001b[0m \u001b[0menumerate\u001b[0m\u001b[0;34m(\u001b[0m\u001b[0msheet\u001b[0m\u001b[0;34m.\u001b[0m\u001b[0mrows\u001b[0m\u001b[0;34m)\u001b[0m\u001b[0;34m:\u001b[0m\u001b[0;34m\u001b[0m\u001b[0;34m\u001b[0m\u001b[0m\n\u001b[0m\u001b[1;32m    616\u001b[0m             \u001b[0mconverted_row\u001b[0m \u001b[0;34m=\u001b[0m \u001b[0;34m[\u001b[0m\u001b[0mself\u001b[0m\u001b[0;34m.\u001b[0m\u001b[0m_convert_cell\u001b[0m\u001b[0;34m(\u001b[0m\u001b[0mcell\u001b[0m\u001b[0;34m,\u001b[0m \u001b[0mconvert_float\u001b[0m\u001b[0;34m)\u001b[0m \u001b[0;32mfor\u001b[0m \u001b[0mcell\u001b[0m \u001b[0;32min\u001b[0m \u001b[0mrow\u001b[0m\u001b[0;34m]\u001b[0m\u001b[0;34m\u001b[0m\u001b[0;34m\u001b[0m\u001b[0m\n\u001b[1;32m    617\u001b[0m             \u001b[0;32mwhile\u001b[0m \u001b[0mconverted_row\u001b[0m \u001b[0;32mand\u001b[0m \u001b[0mconverted_row\u001b[0m\u001b[0;34m[\u001b[0m\u001b[0;34m-\u001b[0m\u001b[0;36m1\u001b[0m\u001b[0;34m]\u001b[0m \u001b[0;34m==\u001b[0m \u001b[0;34m\"\"\u001b[0m\u001b[0;34m:\u001b[0m\u001b[0;34m\u001b[0m\u001b[0;34m\u001b[0m\u001b[0m\n",
            "\u001b[0;32m/usr/local/lib/python3.10/dist-packages/openpyxl/worksheet/_read_only.py\u001b[0m in \u001b[0;36m_cells_by_row\u001b[0;34m(self, min_col, min_row, max_col, max_row, values_only)\u001b[0m\n\u001b[1;32m     79\u001b[0m                                  \u001b[0mdata_only\u001b[0m\u001b[0;34m=\u001b[0m\u001b[0mself\u001b[0m\u001b[0;34m.\u001b[0m\u001b[0mparent\u001b[0m\u001b[0;34m.\u001b[0m\u001b[0mdata_only\u001b[0m\u001b[0;34m,\u001b[0m \u001b[0mepoch\u001b[0m\u001b[0;34m=\u001b[0m\u001b[0mself\u001b[0m\u001b[0;34m.\u001b[0m\u001b[0mparent\u001b[0m\u001b[0;34m.\u001b[0m\u001b[0mepoch\u001b[0m\u001b[0;34m,\u001b[0m\u001b[0;34m\u001b[0m\u001b[0;34m\u001b[0m\u001b[0m\n\u001b[1;32m     80\u001b[0m                                  date_formats=self.parent._date_formats)\n\u001b[0;32m---> 81\u001b[0;31m         \u001b[0;32mfor\u001b[0m \u001b[0midx\u001b[0m\u001b[0;34m,\u001b[0m \u001b[0mrow\u001b[0m \u001b[0;32min\u001b[0m \u001b[0mparser\u001b[0m\u001b[0;34m.\u001b[0m\u001b[0mparse\u001b[0m\u001b[0;34m(\u001b[0m\u001b[0;34m)\u001b[0m\u001b[0;34m:\u001b[0m\u001b[0;34m\u001b[0m\u001b[0;34m\u001b[0m\u001b[0m\n\u001b[0m\u001b[1;32m     82\u001b[0m             \u001b[0;32mif\u001b[0m \u001b[0mmax_row\u001b[0m \u001b[0;32mis\u001b[0m \u001b[0;32mnot\u001b[0m \u001b[0;32mNone\u001b[0m \u001b[0;32mand\u001b[0m \u001b[0midx\u001b[0m \u001b[0;34m>\u001b[0m \u001b[0mmax_row\u001b[0m\u001b[0;34m:\u001b[0m\u001b[0;34m\u001b[0m\u001b[0;34m\u001b[0m\u001b[0m\n\u001b[1;32m     83\u001b[0m                 \u001b[0;32mbreak\u001b[0m\u001b[0;34m\u001b[0m\u001b[0;34m\u001b[0m\u001b[0m\n",
            "\u001b[0;32m/usr/local/lib/python3.10/dist-packages/openpyxl/worksheet/_reader.py\u001b[0m in \u001b[0;36mparse\u001b[0;34m(self)\u001b[0m\n\u001b[1;32m    165\u001b[0m                 \u001b[0melement\u001b[0m\u001b[0;34m.\u001b[0m\u001b[0mclear\u001b[0m\u001b[0;34m(\u001b[0m\u001b[0;34m)\u001b[0m\u001b[0;34m\u001b[0m\u001b[0;34m\u001b[0m\u001b[0m\n\u001b[1;32m    166\u001b[0m             \u001b[0;32melif\u001b[0m \u001b[0mtag_name\u001b[0m \u001b[0;34m==\u001b[0m \u001b[0mROW_TAG\u001b[0m\u001b[0;34m:\u001b[0m\u001b[0;34m\u001b[0m\u001b[0;34m\u001b[0m\u001b[0m\n\u001b[0;32m--> 167\u001b[0;31m                 \u001b[0mrow\u001b[0m \u001b[0;34m=\u001b[0m \u001b[0mself\u001b[0m\u001b[0;34m.\u001b[0m\u001b[0mparse_row\u001b[0m\u001b[0;34m(\u001b[0m\u001b[0melement\u001b[0m\u001b[0;34m)\u001b[0m\u001b[0;34m\u001b[0m\u001b[0;34m\u001b[0m\u001b[0m\n\u001b[0m\u001b[1;32m    168\u001b[0m                 \u001b[0melement\u001b[0m\u001b[0;34m.\u001b[0m\u001b[0mclear\u001b[0m\u001b[0;34m(\u001b[0m\u001b[0;34m)\u001b[0m\u001b[0;34m\u001b[0m\u001b[0;34m\u001b[0m\u001b[0m\n\u001b[1;32m    169\u001b[0m                 \u001b[0;32myield\u001b[0m \u001b[0mrow\u001b[0m\u001b[0;34m\u001b[0m\u001b[0;34m\u001b[0m\u001b[0m\n",
            "\u001b[0;32m/usr/local/lib/python3.10/dist-packages/openpyxl/worksheet/_reader.py\u001b[0m in \u001b[0;36mparse_row\u001b[0;34m(self, row)\u001b[0m\n\u001b[1;32m    296\u001b[0m         \u001b[0mself\u001b[0m\u001b[0;34m.\u001b[0m\u001b[0mcol_counter\u001b[0m \u001b[0;34m=\u001b[0m \u001b[0;36m0\u001b[0m\u001b[0;34m\u001b[0m\u001b[0;34m\u001b[0m\u001b[0m\n\u001b[1;32m    297\u001b[0m \u001b[0;34m\u001b[0m\u001b[0m\n\u001b[0;32m--> 298\u001b[0;31m         \u001b[0mkeys\u001b[0m \u001b[0;34m=\u001b[0m \u001b[0;34m{\u001b[0m\u001b[0mk\u001b[0m \u001b[0;32mfor\u001b[0m \u001b[0mk\u001b[0m \u001b[0;32min\u001b[0m \u001b[0mattrs\u001b[0m \u001b[0;32mif\u001b[0m \u001b[0;32mnot\u001b[0m \u001b[0mk\u001b[0m\u001b[0;34m.\u001b[0m\u001b[0mstartswith\u001b[0m\u001b[0;34m(\u001b[0m\u001b[0;34m'{'\u001b[0m\u001b[0;34m)\u001b[0m\u001b[0;34m}\u001b[0m\u001b[0;34m\u001b[0m\u001b[0;34m\u001b[0m\u001b[0m\n\u001b[0m\u001b[1;32m    299\u001b[0m         \u001b[0;32mif\u001b[0m \u001b[0mkeys\u001b[0m \u001b[0;34m-\u001b[0m \u001b[0;34m{\u001b[0m\u001b[0;34m'r'\u001b[0m\u001b[0;34m,\u001b[0m \u001b[0;34m'spans'\u001b[0m\u001b[0;34m}\u001b[0m\u001b[0;34m:\u001b[0m\u001b[0;34m\u001b[0m\u001b[0;34m\u001b[0m\u001b[0m\n\u001b[1;32m    300\u001b[0m             \u001b[0;31m# don't create dimension objects unless they have relevant information\u001b[0m\u001b[0;34m\u001b[0m\u001b[0;34m\u001b[0m\u001b[0m\n",
            "\u001b[0;32m/usr/local/lib/python3.10/dist-packages/openpyxl/worksheet/_reader.py\u001b[0m in \u001b[0;36m<setcomp>\u001b[0;34m(.0)\u001b[0m\n\u001b[1;32m    296\u001b[0m         \u001b[0mself\u001b[0m\u001b[0;34m.\u001b[0m\u001b[0mcol_counter\u001b[0m \u001b[0;34m=\u001b[0m \u001b[0;36m0\u001b[0m\u001b[0;34m\u001b[0m\u001b[0;34m\u001b[0m\u001b[0m\n\u001b[1;32m    297\u001b[0m \u001b[0;34m\u001b[0m\u001b[0m\n\u001b[0;32m--> 298\u001b[0;31m         \u001b[0mkeys\u001b[0m \u001b[0;34m=\u001b[0m \u001b[0;34m{\u001b[0m\u001b[0mk\u001b[0m \u001b[0;32mfor\u001b[0m \u001b[0mk\u001b[0m \u001b[0;32min\u001b[0m \u001b[0mattrs\u001b[0m \u001b[0;32mif\u001b[0m \u001b[0;32mnot\u001b[0m \u001b[0mk\u001b[0m\u001b[0;34m.\u001b[0m\u001b[0mstartswith\u001b[0m\u001b[0;34m(\u001b[0m\u001b[0;34m'{'\u001b[0m\u001b[0;34m)\u001b[0m\u001b[0;34m}\u001b[0m\u001b[0;34m\u001b[0m\u001b[0;34m\u001b[0m\u001b[0m\n\u001b[0m\u001b[1;32m    299\u001b[0m         \u001b[0;32mif\u001b[0m \u001b[0mkeys\u001b[0m \u001b[0;34m-\u001b[0m \u001b[0;34m{\u001b[0m\u001b[0;34m'r'\u001b[0m\u001b[0;34m,\u001b[0m \u001b[0;34m'spans'\u001b[0m\u001b[0;34m}\u001b[0m\u001b[0;34m:\u001b[0m\u001b[0;34m\u001b[0m\u001b[0;34m\u001b[0m\u001b[0m\n\u001b[1;32m    300\u001b[0m             \u001b[0;31m# don't create dimension objects unless they have relevant information\u001b[0m\u001b[0;34m\u001b[0m\u001b[0;34m\u001b[0m\u001b[0m\n",
            "\u001b[0;31mKeyboardInterrupt\u001b[0m: "
          ]
        }
      ],
      "source": [
        "# DataFrame\n",
        "contents = pd.read_excel(output)\n",
        "contents.head()"
      ]
    },
    {
      "cell_type": "markdown",
      "metadata": {
        "id": "06FJaTLMvlRY"
      },
      "source": [
        "## 2. Exploración Inicial\n",
        "\n"
      ]
    },
    {
      "cell_type": "code",
      "execution_count": null,
      "metadata": {
        "id": "gqZeMfuUvsfQ"
      },
      "outputs": [],
      "source": [
        "print('contents dataframe:', contents.shape)"
      ]
    },
    {
      "cell_type": "code",
      "execution_count": null,
      "metadata": {
        "id": "g_IE_PyWv-Q_"
      },
      "outputs": [],
      "source": [
        "print(contents.dtypes)"
      ]
    },
    {
      "cell_type": "code",
      "execution_count": null,
      "metadata": {
        "id": "UoRl8CKWxDWw"
      },
      "outputs": [],
      "source": [
        "# Verificar si el campo id contiene valores únicos\n",
        "id_is_unique = contents['id'].nunique() == len(contents['id'])\n",
        "if id_is_unique:\n",
        "    print(\"El campo 'id' tiene valores únicos.\")\n",
        "else:\n",
        "    print(\"El campo 'id' tiene valores repetidos.\")"
      ]
    },
    {
      "cell_type": "code",
      "execution_count": null,
      "metadata": {
        "id": "OJU9hiOWxbMd"
      },
      "outputs": [],
      "source": [
        "# Obtener un id repetido para verificar los registros que lo contienen\n",
        "\n",
        "# Construir tabla de frecuencia por 'id'\n",
        "id_frequency_table = contents['id'].value_counts().reset_index()\n",
        "id_frequency_table.columns = ['id', 'Frequency']\n",
        "\n",
        "# Filtrar la tabla de frecuencia para encontrar el primer ID con una frecuencia mayor a uno\n",
        "firts_id_duplicated = id_frequency_table[id_frequency_table['Frequency'] > 1]['id'].iloc[0]\n",
        "\n",
        "# Mostrar los registros que contienen el primer ID repetido\n",
        "contents[contents['id'] == firts_id_duplicated]"
      ]
    },
    {
      "cell_type": "code",
      "execution_count": null,
      "metadata": {
        "id": "HjC7925lzFTL"
      },
      "outputs": [],
      "source": [
        "# Verificar si el campo id contiene valores únicos para cada tipo de contenido\n",
        "type_contents = ['Series', 'Movie']\n",
        "\n",
        "for type_contents in type_contents:\n",
        "    # Filtrar el DataFrame por el campo 'type' para el tipo de contenido actual\n",
        "    contents_by_type = contents[contents['type'] == type_contents]\n",
        "\n",
        "    # Verificar si el campo 'id' en el DataFrame filtrado contiene valores únicos\n",
        "    id_is_unique = contents_by_type['id'].nunique() == len(contents_by_type['id'])\n",
        "\n",
        "    if id_is_unique:\n",
        "        print(f\"El campo 'id' tiene valores únicos para el tipo de contenido '{type_contents}'.\")\n",
        "    else:\n",
        "        print(f\"El campo 'id' tiene valores repetidos para el tipo de contenido '{type_contents}'.\")"
      ]
    },
    {
      "cell_type": "markdown",
      "metadata": {
        "id": "JiABjWOZwc-u"
      },
      "source": [
        "####**Variables**\n",
        "\n",
        "- **id**: Identificador único (por tipo de contenido) para cada registro\n",
        "- **type**: Tipo de contenido (Movies/Series)\n",
        "- **title**: Título del contenido\n",
        "- **year**: Año de lanzamiento del contenido\n",
        "- **duration**: Duración del contenido expresada en minutos\n",
        "- **synopsis**: Reseña del contenido\n",
        "- **genres**: Géneros de los contenidos (separados con \",\" cuando hay más de uno\n",
        "- **cast**: Listado de actores (separados con \",\")\n",
        "- **directors**: director/directores del contenido (separados con \",\")\n",
        "- **url**: Direccion web del contenido en tmdb"
      ]
    },
    {
      "cell_type": "markdown",
      "metadata": {
        "id": "h4Zmro9KGWZO"
      },
      "source": [
        "## 3. Exploración y Transformación"
      ]
    },
    {
      "cell_type": "code",
      "execution_count": null,
      "metadata": {
        "id": "BeaFK1JhLmyc"
      },
      "outputs": [],
      "source": [
        "# Verificación\n",
        "contents.info()"
      ]
    },
    {
      "cell_type": "code",
      "execution_count": null,
      "metadata": {
        "id": "w2rA_zkIXayL"
      },
      "outputs": [],
      "source": [
        "# Especificar variables categóricas\n",
        "var_categoricas = [col for col in contents.columns if col in ['type', 'genres']]\n",
        "\n",
        "# Convertir a categóricas las varibales correspondientes\n",
        "contents[var_categoricas] = contents[var_categoricas].astype('category')\n",
        "\n",
        "# Verificación\n",
        "contents.dtypes"
      ]
    },
    {
      "cell_type": "code",
      "execution_count": null,
      "metadata": {
        "id": "InD_s089R4Pk"
      },
      "outputs": [],
      "source": [
        "contents.isna().sum()"
      ]
    },
    {
      "cell_type": "code",
      "execution_count": null,
      "metadata": {
        "id": "94cjGxs6DlsU"
      },
      "outputs": [],
      "source": [
        "# Eliminar los registros con valor nulo en el campo synopsis\n",
        "contents.dropna(subset=['synopsis'], inplace=True)\n",
        "contents.isna().sum()"
      ]
    },
    {
      "cell_type": "code",
      "execution_count": null,
      "metadata": {
        "id": "-Niuxa4_Sq2t"
      },
      "outputs": [],
      "source": [
        "# Calcular el porcentaje de valores nulos para cada columna\n",
        "porcentaje_nulos = (contents.isnull().sum() / len(contents)) * 100\n",
        "print(\"Porcentaje de valores nulos por columna:\")\n",
        "print(porcentaje_nulos)"
      ]
    },
    {
      "cell_type": "code",
      "execution_count": null,
      "metadata": {
        "id": "IaVhNnZpnBJC"
      },
      "outputs": [],
      "source": [
        "contents['genres'].value_counts()"
      ]
    },
    {
      "cell_type": "code",
      "execution_count": null,
      "metadata": {
        "id": "W8_-RDsooOqK"
      },
      "outputs": [],
      "source": [
        "# Crear una columna con el género principal\n",
        "contents['principal_genre'] = contents['genres'].str.split(',').str[0]\n",
        "contents.head()"
      ]
    },
    {
      "cell_type": "code",
      "execution_count": null,
      "metadata": {
        "id": "IzQc7CIukiii"
      },
      "outputs": [],
      "source": [
        "contents['principal_genre'].value_counts()"
      ]
    },
    {
      "cell_type": "code",
      "execution_count": null,
      "metadata": {
        "id": "oChpM7iRr4dP"
      },
      "outputs": [],
      "source": [
        "# Crear la columna 'synopsis_length' que contiene la longitud de cada sinopsis\n",
        "contents['synopsis_length'] = contents['synopsis'].apply(lambda x: len(str(x)) if pd.notnull(x) else 0)\n",
        "contents['synopsis_length'].describe()"
      ]
    },
    {
      "cell_type": "code",
      "execution_count": null,
      "metadata": {
        "id": "N3VV7ovjtXJA"
      },
      "outputs": [],
      "source": [
        "# Crear la columna 'synopsis_length_interval' que contiene los intervalos de la longitud de cada sinopsis\n",
        "\n",
        "# Definir los límites de los intervalos\n",
        "bins = [1, 100, 200, 300, float('inf')]\n",
        "\n",
        "# Definir las etiquetas para cada intervalo\n",
        "labels = ['Muy corta', 'Corta', 'Moderada', 'Larga']\n",
        "\n",
        "# Crear el campo 'synopsis_length_interval' que asigna un intervalo a cada longitud de sinopsis\n",
        "contents['synopsis_length_interval'] = pd.cut(contents['synopsis_length'], bins=bins, labels=labels, include_lowest=True)\n",
        "contents.head()\n"
      ]
    },
    {
      "cell_type": "markdown",
      "metadata": {
        "id": "nE9lbxfW8EaR"
      },
      "source": [
        "## 4. Separación de dataframes"
      ]
    },
    {
      "cell_type": "code",
      "execution_count": null,
      "metadata": {
        "id": "7Iq_CVa7BRV4"
      },
      "outputs": [],
      "source": [
        "# Excluir columnas con las que no se trabajara\n",
        "contents= contents.drop(['id', 'title', 'genres', 'url'], axis=1)"
      ]
    },
    {
      "cell_type": "code",
      "execution_count": null,
      "metadata": {
        "id": "dL7izy3pr28T"
      },
      "outputs": [],
      "source": [
        "# Registros sin genres (el problema a resolver)\n",
        "contents_target = contents[contents['principal_genre'].isnull()]\n",
        "\n",
        "# Registros con genres para modelar\n",
        "contents = contents.drop(contents_target.index)"
      ]
    },
    {
      "cell_type": "code",
      "execution_count": null,
      "metadata": {
        "id": "6ckcd6QvBL3Y"
      },
      "outputs": [],
      "source": [
        "# Tabla de contingencia (%) entre principal_genre synopsis_length_interval en contents\n",
        "pd.crosstab(contents['principal_genre'], contents['synopsis_length_interval'])"
      ]
    },
    {
      "cell_type": "code",
      "execution_count": null,
      "metadata": {
        "id": "lsk_qczn8hqI"
      },
      "outputs": [],
      "source": [
        "# Dividir el DataFrame en 70% train y 30% test, estratificado por \"principal_genre\" y \"synopsis_length_interval\"\n",
        "contents_train, contents_test = train_test_split(contents, test_size=0.3, stratify=contents[['principal_genre', 'synopsis_length_interval']], random_state=2023)"
      ]
    },
    {
      "cell_type": "code",
      "execution_count": null,
      "metadata": {
        "id": "_QVoGHIYBU7K"
      },
      "outputs": [],
      "source": [
        "# Tabla de contingencia (%) entre principal_genre synopsis_length_interval en contents_train\n",
        "pd.crosstab(contents_train['principal_genre'], contents_train['synopsis_length_interval'], normalize='index') * 100"
      ]
    },
    {
      "cell_type": "code",
      "execution_count": null,
      "metadata": {
        "id": "5n-Tbqy3BjT0"
      },
      "outputs": [],
      "source": [
        "# Tabla de contingencia (%) entre principal_genre synopsis_length_interval en contents_test\n",
        "pd.crosstab(contents_test['principal_genre'], contents_test['synopsis_length_interval'], normalize='index') * 100"
      ]
    },
    {
      "cell_type": "markdown",
      "metadata": {
        "id": "v53c1zhz-4qZ"
      },
      "source": [
        "## 5. Baseline Model"
      ]
    },
    {
      "cell_type": "code",
      "execution_count": null,
      "metadata": {
        "id": "-SR4QEkE-8BB"
      },
      "outputs": [],
      "source": []
    }
  ],
  "metadata": {
    "colab": {
      "collapsed_sections": [
        "GS4oGZkTV39R"
      ],
      "provenance": [],
      "include_colab_link": true
    },
    "kernelspec": {
      "display_name": "Python 3.8 - AzureML",
      "language": "python",
      "name": "python38-azureml"
    }
  },
  "nbformat": 4,
  "nbformat_minor": 0
}