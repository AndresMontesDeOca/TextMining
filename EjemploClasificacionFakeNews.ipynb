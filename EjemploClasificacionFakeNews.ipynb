{
  "nbformat": 4,
  "nbformat_minor": 0,
  "metadata": {
    "colab": {
      "provenance": [],
      "include_colab_link": true
    },
    "kernelspec": {
      "display_name": "Python 3",
      "name": "python3"
    },
    "language_info": {
      "name": "python"
    }
  },
  "cells": [
    {
      "cell_type": "markdown",
      "metadata": {
        "id": "view-in-github",
        "colab_type": "text"
      },
      "source": [
        "<a href=\"https://colab.research.google.com/github/AndresMontesDeOca/TextMining/blob/main/EjemploClasificacionFakeNews.ipynb\" target=\"_parent\"><img src=\"https://colab.research.google.com/assets/colab-badge.svg\" alt=\"Open In Colab\"/></a>"
      ]
    },
    {
      "cell_type": "markdown",
      "metadata": {
        "id": "lMvDWHo44vjP"
      },
      "source": [
        "# Ejemplo de clasificacion"
      ]
    },
    {
      "cell_type": "markdown",
      "metadata": {
        "id": "dAuvaHjZUNNe"
      },
      "source": [
        "## Importar librerias"
      ]
    },
    {
      "cell_type": "code",
      "metadata": {
        "colab": {
          "base_uri": "https://localhost:8080/"
        },
        "id": "fqnR8sM_UMfA",
        "outputId": "787c9440-f6fe-4451-f4e9-e662f820bd94"
      },
      "source": [
        "import nltk\n",
        "nltk.download('punkt')\n",
        "nltk.download('stopwords')"
      ],
      "execution_count": null,
      "outputs": [
        {
          "output_type": "stream",
          "name": "stderr",
          "text": [
            "[nltk_data] Downloading package punkt to /root/nltk_data...\n",
            "[nltk_data]   Package punkt is already up-to-date!\n",
            "[nltk_data] Downloading package stopwords to /root/nltk_data...\n",
            "[nltk_data]   Package stopwords is already up-to-date!\n"
          ]
        },
        {
          "output_type": "execute_result",
          "data": {
            "text/plain": [
              "True"
            ]
          },
          "metadata": {},
          "execution_count": 1
        }
      ]
    },
    {
      "cell_type": "markdown",
      "metadata": {
        "id": "pI3hzf8c4_sN"
      },
      "source": [
        "## Exploracion Dataset"
      ]
    },
    {
      "cell_type": "code",
      "metadata": {
        "id": "ciRdTY8QtFXM"
      },
      "source": [
        "import pandas as pd\n",
        "import numpy as np\n",
        "\n",
        "pd.set_option('display.max_colwidth',300)"
      ],
      "execution_count": null,
      "outputs": []
    },
    {
      "cell_type": "code",
      "metadata": {
        "id": "B6eAo9fM5IWF",
        "colab": {
          "base_uri": "https://localhost:8080/"
        },
        "outputId": "1c967fe8-de4f-4a31-fc2a-2e3be4c3cc68"
      },
      "source": [
        "# Importo el dataset\n",
        "df = pd.read_csv('/content/archive (1).zip', encoding='utf-8') #Encoding\n",
        "df.shape"
      ],
      "execution_count": null,
      "outputs": [
        {
          "output_type": "execute_result",
          "data": {
            "text/plain": [
              "(6335, 4)"
            ]
          },
          "metadata": {},
          "execution_count": 3
        }
      ]
    },
    {
      "cell_type": "code",
      "metadata": {
        "id": "S08VG-UHOSQ1",
        "colab": {
          "base_uri": "https://localhost:8080/",
          "height": 606
        },
        "outputId": "85609cab-ec52-4a0a-b272-82c3bf887a27"
      },
      "source": [
        "df.head(10)"
      ],
      "execution_count": null,
      "outputs": [
        {
          "output_type": "execute_result",
          "data": {
            "text/plain": [
              "   Unnamed: 0  \\\n",
              "0        8476   \n",
              "1       10294   \n",
              "2        3608   \n",
              "3       10142   \n",
              "4         875   \n",
              "5        6903   \n",
              "6        7341   \n",
              "7          95   \n",
              "8        4869   \n",
              "9        2909   \n",
              "\n",
              "                                                                                   title  \\\n",
              "0                                                           You Can Smell Hillary’s Fear   \n",
              "1  Watch The Exact Moment Paul Ryan Committed Political Suicide At A Trump Rally (VIDEO)   \n",
              "2                                            Kerry to go to Paris in gesture of sympathy   \n",
              "3   Bernie supporters on Twitter erupt in anger against the DNC: 'We tried to warn you!'   \n",
              "4                                       The Battle of New York: Why This Primary Matters   \n",
              "5                                                                            Tehran, USA   \n",
              "6              Girl Horrified At What She Watches Boyfriend Do After He Left FaceTime On   \n",
              "7                                                      ‘Britain’s Schindler’ Dies at 106   \n",
              "8                        Fact check: Trump and Clinton at the 'commander-in-chief' forum   \n",
              "9                Iran reportedly makes new push for uranium concessions in nuclear talks   \n",
              "\n",
              "                                                                                                                                                                                                                                                                                                          text  \\\n",
              "0  Daniel Greenfield, a Shillman Journalism Fellow at the Freedom Center, is a New York writer focusing on radical Islam. \\nIn the final stretch of the election, Hillary Rodham Clinton has gone to war with the FBI. \\nThe word “unprecedented” has been thrown around so often this election that it oug...   \n",
              "1  Google Pinterest Digg Linkedin Reddit Stumbleupon Print Delicious Pocket Tumblr \\nThere are two fundamental truths in this world: Paul Ryan desperately wants to be president. And Paul Ryan will never be president. Today proved it. \\nIn a particularly staggering example of political cowardice, Pa...   \n",
              "2  U.S. Secretary of State John F. Kerry said Monday that he will stop in Paris later this week, amid criticism that no top American officials attended Sunday’s unity march against terrorism.\\n\\nKerry said he expects to arrive in Paris Thursday evening, as he heads home after a week abroad. He said...   \n",
              "3  — Kaydee King (@KaydeeKing) November 9, 2016 The lesson from tonight's Dem losses: Time for Democrats to start listening to the voters. Stop running the same establishment candidates. \\n— People For Bernie (@People4Bernie) November 9, 2016 If Dems didn't want a tight race they shouldn't have wor...   \n",
              "4  It's primary day in New York and front-runners Hillary Clinton and Donald Trump are leading in the polls.\\n\\nTrump is now vowing to win enough delegates to clinch the Republican nomination and prevent a contested convention. But Sens.Ted Cruz, R-Texas, Bernie Sanders, D-Vt., and Ohio Gov. John K...   \n",
              "5    \\nI’m not an immigrant, but my grandparents are. More than 50 years ago, they arrived in New York City from Iran. I grew up mainly in central New Jersey, an American kid playing little league for the Raritan Red Sox and soccer for the Raritan Rovers. In 1985, I travelled with my family to our ...   \n",
              "6  Share This Baylee Luciani (left), Screenshot of what Baylee caught on FaceTime (right) \\nThe closest Baylee Luciani could get to her boyfriend, who’s attending college in Austin, was through video online chat. The couple had regular “dates” this way to bridge the 200-mile distance between them. ...   \n",
              "7  A Czech stockbroker who saved more than 650 Jewish children from Nazi Germany has died at the age of 106. Dubbed “Britain’s Schindler,” Nicholas Winton arranged to transport Jewish youngsters from Prague after Germany annexed Czechoslovakia in March 1939. Though the children were originally set ...   \n",
              "8  Hillary Clinton and Donald Trump made some inaccurate claims during an NBC “commander-in-chief” forum on military and veterans issues:\\n\\n• Clinton wrongly claimed Trump supported the war in Iraq after it started, while Trump was wrong, once again, in saying he was against the war before it star...   \n",
              "9  Iranian negotiators reportedly have made a last-ditch push for more concessions from the U.S. and five other world powers as talks on the fate of Iran's nuclear program come down to the final days before a crucial deadline.\\n\\nThe New York Times reported late Sunday that Tehran had backed away f...   \n",
              "\n",
              "  label  \n",
              "0  FAKE  \n",
              "1  FAKE  \n",
              "2  REAL  \n",
              "3  FAKE  \n",
              "4  REAL  \n",
              "5  FAKE  \n",
              "6  FAKE  \n",
              "7  REAL  \n",
              "8  REAL  \n",
              "9  REAL  "
            ],
            "text/html": [
              "\n",
              "  <div id=\"df-b929cc96-d4d4-4d0d-a1e1-67cf4e8cd68f\" class=\"colab-df-container\">\n",
              "    <div>\n",
              "<style scoped>\n",
              "    .dataframe tbody tr th:only-of-type {\n",
              "        vertical-align: middle;\n",
              "    }\n",
              "\n",
              "    .dataframe tbody tr th {\n",
              "        vertical-align: top;\n",
              "    }\n",
              "\n",
              "    .dataframe thead th {\n",
              "        text-align: right;\n",
              "    }\n",
              "</style>\n",
              "<table border=\"1\" class=\"dataframe\">\n",
              "  <thead>\n",
              "    <tr style=\"text-align: right;\">\n",
              "      <th></th>\n",
              "      <th>Unnamed: 0</th>\n",
              "      <th>title</th>\n",
              "      <th>text</th>\n",
              "      <th>label</th>\n",
              "    </tr>\n",
              "  </thead>\n",
              "  <tbody>\n",
              "    <tr>\n",
              "      <th>0</th>\n",
              "      <td>8476</td>\n",
              "      <td>You Can Smell Hillary’s Fear</td>\n",
              "      <td>Daniel Greenfield, a Shillman Journalism Fellow at the Freedom Center, is a New York writer focusing on radical Islam. \\nIn the final stretch of the election, Hillary Rodham Clinton has gone to war with the FBI. \\nThe word “unprecedented” has been thrown around so often this election that it oug...</td>\n",
              "      <td>FAKE</td>\n",
              "    </tr>\n",
              "    <tr>\n",
              "      <th>1</th>\n",
              "      <td>10294</td>\n",
              "      <td>Watch The Exact Moment Paul Ryan Committed Political Suicide At A Trump Rally (VIDEO)</td>\n",
              "      <td>Google Pinterest Digg Linkedin Reddit Stumbleupon Print Delicious Pocket Tumblr \\nThere are two fundamental truths in this world: Paul Ryan desperately wants to be president. And Paul Ryan will never be president. Today proved it. \\nIn a particularly staggering example of political cowardice, Pa...</td>\n",
              "      <td>FAKE</td>\n",
              "    </tr>\n",
              "    <tr>\n",
              "      <th>2</th>\n",
              "      <td>3608</td>\n",
              "      <td>Kerry to go to Paris in gesture of sympathy</td>\n",
              "      <td>U.S. Secretary of State John F. Kerry said Monday that he will stop in Paris later this week, amid criticism that no top American officials attended Sunday’s unity march against terrorism.\\n\\nKerry said he expects to arrive in Paris Thursday evening, as he heads home after a week abroad. He said...</td>\n",
              "      <td>REAL</td>\n",
              "    </tr>\n",
              "    <tr>\n",
              "      <th>3</th>\n",
              "      <td>10142</td>\n",
              "      <td>Bernie supporters on Twitter erupt in anger against the DNC: 'We tried to warn you!'</td>\n",
              "      <td>— Kaydee King (@KaydeeKing) November 9, 2016 The lesson from tonight's Dem losses: Time for Democrats to start listening to the voters. Stop running the same establishment candidates. \\n— People For Bernie (@People4Bernie) November 9, 2016 If Dems didn't want a tight race they shouldn't have wor...</td>\n",
              "      <td>FAKE</td>\n",
              "    </tr>\n",
              "    <tr>\n",
              "      <th>4</th>\n",
              "      <td>875</td>\n",
              "      <td>The Battle of New York: Why This Primary Matters</td>\n",
              "      <td>It's primary day in New York and front-runners Hillary Clinton and Donald Trump are leading in the polls.\\n\\nTrump is now vowing to win enough delegates to clinch the Republican nomination and prevent a contested convention. But Sens.Ted Cruz, R-Texas, Bernie Sanders, D-Vt., and Ohio Gov. John K...</td>\n",
              "      <td>REAL</td>\n",
              "    </tr>\n",
              "    <tr>\n",
              "      <th>5</th>\n",
              "      <td>6903</td>\n",
              "      <td>Tehran, USA</td>\n",
              "      <td>\\nI’m not an immigrant, but my grandparents are. More than 50 years ago, they arrived in New York City from Iran. I grew up mainly in central New Jersey, an American kid playing little league for the Raritan Red Sox and soccer for the Raritan Rovers. In 1985, I travelled with my family to our ...</td>\n",
              "      <td>FAKE</td>\n",
              "    </tr>\n",
              "    <tr>\n",
              "      <th>6</th>\n",
              "      <td>7341</td>\n",
              "      <td>Girl Horrified At What She Watches Boyfriend Do After He Left FaceTime On</td>\n",
              "      <td>Share This Baylee Luciani (left), Screenshot of what Baylee caught on FaceTime (right) \\nThe closest Baylee Luciani could get to her boyfriend, who’s attending college in Austin, was through video online chat. The couple had regular “dates” this way to bridge the 200-mile distance between them. ...</td>\n",
              "      <td>FAKE</td>\n",
              "    </tr>\n",
              "    <tr>\n",
              "      <th>7</th>\n",
              "      <td>95</td>\n",
              "      <td>‘Britain’s Schindler’ Dies at 106</td>\n",
              "      <td>A Czech stockbroker who saved more than 650 Jewish children from Nazi Germany has died at the age of 106. Dubbed “Britain’s Schindler,” Nicholas Winton arranged to transport Jewish youngsters from Prague after Germany annexed Czechoslovakia in March 1939. Though the children were originally set ...</td>\n",
              "      <td>REAL</td>\n",
              "    </tr>\n",
              "    <tr>\n",
              "      <th>8</th>\n",
              "      <td>4869</td>\n",
              "      <td>Fact check: Trump and Clinton at the 'commander-in-chief' forum</td>\n",
              "      <td>Hillary Clinton and Donald Trump made some inaccurate claims during an NBC “commander-in-chief” forum on military and veterans issues:\\n\\n• Clinton wrongly claimed Trump supported the war in Iraq after it started, while Trump was wrong, once again, in saying he was against the war before it star...</td>\n",
              "      <td>REAL</td>\n",
              "    </tr>\n",
              "    <tr>\n",
              "      <th>9</th>\n",
              "      <td>2909</td>\n",
              "      <td>Iran reportedly makes new push for uranium concessions in nuclear talks</td>\n",
              "      <td>Iranian negotiators reportedly have made a last-ditch push for more concessions from the U.S. and five other world powers as talks on the fate of Iran's nuclear program come down to the final days before a crucial deadline.\\n\\nThe New York Times reported late Sunday that Tehran had backed away f...</td>\n",
              "      <td>REAL</td>\n",
              "    </tr>\n",
              "  </tbody>\n",
              "</table>\n",
              "</div>\n",
              "    <div class=\"colab-df-buttons\">\n",
              "\n",
              "  <div class=\"colab-df-container\">\n",
              "    <button class=\"colab-df-convert\" onclick=\"convertToInteractive('df-b929cc96-d4d4-4d0d-a1e1-67cf4e8cd68f')\"\n",
              "            title=\"Convert this dataframe to an interactive table.\"\n",
              "            style=\"display:none;\">\n",
              "\n",
              "  <svg xmlns=\"http://www.w3.org/2000/svg\" height=\"24px\" viewBox=\"0 -960 960 960\">\n",
              "    <path d=\"M120-120v-720h720v720H120Zm60-500h600v-160H180v160Zm220 220h160v-160H400v160Zm0 220h160v-160H400v160ZM180-400h160v-160H180v160Zm440 0h160v-160H620v160ZM180-180h160v-160H180v160Zm440 0h160v-160H620v160Z\"/>\n",
              "  </svg>\n",
              "    </button>\n",
              "\n",
              "  <style>\n",
              "    .colab-df-container {\n",
              "      display:flex;\n",
              "      gap: 12px;\n",
              "    }\n",
              "\n",
              "    .colab-df-convert {\n",
              "      background-color: #E8F0FE;\n",
              "      border: none;\n",
              "      border-radius: 50%;\n",
              "      cursor: pointer;\n",
              "      display: none;\n",
              "      fill: #1967D2;\n",
              "      height: 32px;\n",
              "      padding: 0 0 0 0;\n",
              "      width: 32px;\n",
              "    }\n",
              "\n",
              "    .colab-df-convert:hover {\n",
              "      background-color: #E2EBFA;\n",
              "      box-shadow: 0px 1px 2px rgba(60, 64, 67, 0.3), 0px 1px 3px 1px rgba(60, 64, 67, 0.15);\n",
              "      fill: #174EA6;\n",
              "    }\n",
              "\n",
              "    .colab-df-buttons div {\n",
              "      margin-bottom: 4px;\n",
              "    }\n",
              "\n",
              "    [theme=dark] .colab-df-convert {\n",
              "      background-color: #3B4455;\n",
              "      fill: #D2E3FC;\n",
              "    }\n",
              "\n",
              "    [theme=dark] .colab-df-convert:hover {\n",
              "      background-color: #434B5C;\n",
              "      box-shadow: 0px 1px 3px 1px rgba(0, 0, 0, 0.15);\n",
              "      filter: drop-shadow(0px 1px 2px rgba(0, 0, 0, 0.3));\n",
              "      fill: #FFFFFF;\n",
              "    }\n",
              "  </style>\n",
              "\n",
              "    <script>\n",
              "      const buttonEl =\n",
              "        document.querySelector('#df-b929cc96-d4d4-4d0d-a1e1-67cf4e8cd68f button.colab-df-convert');\n",
              "      buttonEl.style.display =\n",
              "        google.colab.kernel.accessAllowed ? 'block' : 'none';\n",
              "\n",
              "      async function convertToInteractive(key) {\n",
              "        const element = document.querySelector('#df-b929cc96-d4d4-4d0d-a1e1-67cf4e8cd68f');\n",
              "        const dataTable =\n",
              "          await google.colab.kernel.invokeFunction('convertToInteractive',\n",
              "                                                    [key], {});\n",
              "        if (!dataTable) return;\n",
              "\n",
              "        const docLinkHtml = 'Like what you see? Visit the ' +\n",
              "          '<a target=\"_blank\" href=https://colab.research.google.com/notebooks/data_table.ipynb>data table notebook</a>'\n",
              "          + ' to learn more about interactive tables.';\n",
              "        element.innerHTML = '';\n",
              "        dataTable['output_type'] = 'display_data';\n",
              "        await google.colab.output.renderOutput(dataTable, element);\n",
              "        const docLink = document.createElement('div');\n",
              "        docLink.innerHTML = docLinkHtml;\n",
              "        element.appendChild(docLink);\n",
              "      }\n",
              "    </script>\n",
              "  </div>\n",
              "\n",
              "\n",
              "<div id=\"df-dc79ae58-cae5-4237-9e8f-05f207801346\">\n",
              "  <button class=\"colab-df-quickchart\" onclick=\"quickchart('df-dc79ae58-cae5-4237-9e8f-05f207801346')\"\n",
              "            title=\"Suggest charts.\"\n",
              "            style=\"display:none;\">\n",
              "\n",
              "<svg xmlns=\"http://www.w3.org/2000/svg\" height=\"24px\"viewBox=\"0 0 24 24\"\n",
              "     width=\"24px\">\n",
              "    <g>\n",
              "        <path d=\"M19 3H5c-1.1 0-2 .9-2 2v14c0 1.1.9 2 2 2h14c1.1 0 2-.9 2-2V5c0-1.1-.9-2-2-2zM9 17H7v-7h2v7zm4 0h-2V7h2v10zm4 0h-2v-4h2v4z\"/>\n",
              "    </g>\n",
              "</svg>\n",
              "  </button>\n",
              "\n",
              "<style>\n",
              "  .colab-df-quickchart {\n",
              "    background-color: #E8F0FE;\n",
              "    border: none;\n",
              "    border-radius: 50%;\n",
              "    cursor: pointer;\n",
              "    display: none;\n",
              "    fill: #1967D2;\n",
              "    height: 32px;\n",
              "    padding: 0 0 0 0;\n",
              "    width: 32px;\n",
              "  }\n",
              "\n",
              "  .colab-df-quickchart:hover {\n",
              "    background-color: #E2EBFA;\n",
              "    box-shadow: 0px 1px 2px rgba(60, 64, 67, 0.3), 0px 1px 3px 1px rgba(60, 64, 67, 0.15);\n",
              "    fill: #174EA6;\n",
              "  }\n",
              "\n",
              "  [theme=dark] .colab-df-quickchart {\n",
              "    background-color: #3B4455;\n",
              "    fill: #D2E3FC;\n",
              "  }\n",
              "\n",
              "  [theme=dark] .colab-df-quickchart:hover {\n",
              "    background-color: #434B5C;\n",
              "    box-shadow: 0px 1px 3px 1px rgba(0, 0, 0, 0.15);\n",
              "    filter: drop-shadow(0px 1px 2px rgba(0, 0, 0, 0.3));\n",
              "    fill: #FFFFFF;\n",
              "  }\n",
              "</style>\n",
              "\n",
              "  <script>\n",
              "    async function quickchart(key) {\n",
              "      const charts = await google.colab.kernel.invokeFunction(\n",
              "          'suggestCharts', [key], {});\n",
              "    }\n",
              "    (() => {\n",
              "      let quickchartButtonEl =\n",
              "        document.querySelector('#df-dc79ae58-cae5-4237-9e8f-05f207801346 button');\n",
              "      quickchartButtonEl.style.display =\n",
              "        google.colab.kernel.accessAllowed ? 'block' : 'none';\n",
              "    })();\n",
              "  </script>\n",
              "</div>\n",
              "    </div>\n",
              "  </div>\n"
            ]
          },
          "metadata": {},
          "execution_count": 4
        }
      ]
    },
    {
      "cell_type": "code",
      "metadata": {
        "id": "XHRm9S_itmp5",
        "colab": {
          "base_uri": "https://localhost:8080/"
        },
        "outputId": "f4088da9-a1cb-4e8e-93f6-369c2124ea17"
      },
      "source": [
        "print(\"Cantidad de targets: \")\n",
        "df.label.value_counts()"
      ],
      "execution_count": null,
      "outputs": [
        {
          "output_type": "stream",
          "name": "stdout",
          "text": [
            "Cantidad de targets: \n"
          ]
        },
        {
          "output_type": "execute_result",
          "data": {
            "text/plain": [
              "REAL    3171\n",
              "FAKE    3164\n",
              "Name: label, dtype: int64"
            ]
          },
          "metadata": {},
          "execution_count": 5
        }
      ]
    },
    {
      "cell_type": "code",
      "metadata": {
        "id": "10-ygXeHCWw4"
      },
      "source": [
        "# Creo una caracteristica con el tamaño del titulo\n",
        "df['title_text_size'] = df['title'].str.len()\n",
        "df['title_text_words_count'] = df['title'].str.split().apply(len)\n",
        "df['text_text_size'] = df['text'].str.len()\n",
        "df['text_text_words_count'] = df['text'].str.split().apply(len)"
      ],
      "execution_count": null,
      "outputs": []
    },
    {
      "cell_type": "code",
      "metadata": {
        "id": "iXhG_xYsuO2G",
        "colab": {
          "base_uri": "https://localhost:8080/",
          "height": 542
        },
        "outputId": "dd78de45-ca91-4bcf-ddcd-bf690864e7f6"
      },
      "source": [
        "import plotly.express as px\n",
        "fig = px.histogram(df, x=\"title_text_words_count\", color='label',histnorm='probability')\n",
        "fig.show()"
      ],
      "execution_count": null,
      "outputs": [
        {
          "output_type": "display_data",
          "data": {
            "text/html": [
              "<html>\n",
              "<head><meta charset=\"utf-8\" /></head>\n",
              "<body>\n",
              "    <div>            <script src=\"https://cdnjs.cloudflare.com/ajax/libs/mathjax/2.7.5/MathJax.js?config=TeX-AMS-MML_SVG\"></script><script type=\"text/javascript\">if (window.MathJax && window.MathJax.Hub && window.MathJax.Hub.Config) {window.MathJax.Hub.Config({SVG: {font: \"STIX-Web\"}});}</script>                <script type=\"text/javascript\">window.PlotlyConfig = {MathJaxConfig: 'local'};</script>\n",
              "        <script charset=\"utf-8\" src=\"https://cdn.plot.ly/plotly-2.24.1.min.js\"></script>                <div id=\"472baf2d-66cf-4747-adda-69e1df8ea533\" class=\"plotly-graph-div\" style=\"height:525px; width:100%;\"></div>            <script type=\"text/javascript\">                                    window.PLOTLYENV=window.PLOTLYENV || {};                                    if (document.getElementById(\"472baf2d-66cf-4747-adda-69e1df8ea533\")) {                    Plotly.newPlot(                        \"472baf2d-66cf-4747-adda-69e1df8ea533\",                        [{\"alignmentgroup\":\"True\",\"bingroup\":\"x\",\"histnorm\":\"probability\",\"hovertemplate\":\"label=FAKE\\u003cbr\\u003etitle_text_words_count=%{x}\\u003cbr\\u003eprobability=%{y}\\u003cextra\\u003e\\u003c\\u002fextra\\u003e\",\"legendgroup\":\"FAKE\",\"marker\":{\"color\":\"#636efa\",\"pattern\":{\"shape\":\"\"}},\"name\":\"FAKE\",\"offsetgroup\":\"FAKE\",\"orientation\":\"v\",\"showlegend\":true,\"x\":[5,14,15,2,13,11,9,10,18,14,5,16,13,8,10,26,17,7,11,8,6,10,11,11,24,21,10,11,6,8,12,14,19,8,7,4,6,13,11,11,11,18,10,10,10,3,6,23,2,11,13,10,7,15,8,16,15,13,8,7,15,11,9,17,12,11,16,1,17,9,7,23,10,13,14,9,6,16,13,6,21,13,13,13,15,19,4,6,10,16,13,10,5,7,13,13,11,9,21,12,12,13,10,14,8,18,7,1,8,11,7,9,7,26,5,7,9,14,11,12,11,6,15,12,35,14,3,4,18,12,11,11,4,20,13,19,12,13,11,10,4,8,10,11,6,13,2,16,9,15,11,9,14,11,14,8,13,7,14,8,8,12,7,6,8,14,7,12,9,7,12,12,12,12,5,22,15,11,11,8,5,6,5,23,9,17,7,7,10,15,14,7,14,4,17,2,26,11,19,16,12,11,30,10,16,15,6,23,10,15,9,15,10,9,19,17,7,23,14,13,11,13,11,6,10,13,6,11,10,8,11,12,9,12,10,14,14,11,16,13,13,5,14,20,9,9,15,9,11,9,17,8,13,15,7,8,10,9,5,17,8,15,6,12,13,10,13,10,6,19,11,13,19,11,12,12,3,8,8,10,9,5,13,11,14,12,11,17,12,12,12,13,9,15,11,11,11,10,12,4,15,16,11,18,7,11,10,10,16,10,16,8,17,10,9,12,5,11,9,7,10,16,9,10,16,5,8,12,6,7,9,4,11,5,11,8,14,11,13,18,12,9,7,11,12,10,15,18,13,6,11,11,13,9,21,14,20,3,13,13,9,9,5,7,10,9,18,18,6,11,14,13,12,11,15,5,17,11,14,9,13,19,20,11,18,14,5,4,12,13,13,16,9,10,13,14,15,12,13,11,15,14,10,4,3,10,9,4,9,7,8,4,8,7,3,17,9,8,14,14,4,23,19,3,9,21,6,13,12,12,13,14,6,10,13,28,5,8,24,7,10,15,28,8,11,10,8,13,15,12,5,8,13,19,10,13,10,6,11,12,8,2,16,12,7,10,12,19,10,11,11,8,12,17,11,11,14,8,13,8,16,12,4,10,14,8,11,10,8,23,11,9,9,7,14,8,20,10,11,14,5,13,11,14,9,25,8,16,13,5,18,9,12,8,9,10,13,5,9,5,15,34,12,10,2,13,17,9,4,8,7,10,6,21,38,6,26,10,12,11,8,3,16,10,12,6,13,7,13,8,13,10,11,7,11,16,22,8,9,8,11,4,5,12,5,16,9,3,14,6,11,11,12,7,6,9,9,12,11,8,10,16,7,3,6,16,10,12,16,12,9,8,8,5,8,13,13,9,23,5,13,26,35,14,9,12,22,15,9,12,15,10,9,9,9,9,14,15,8,12,2,15,13,11,14,9,9,10,8,8,12,6,6,12,7,12,11,13,15,5,13,14,10,9,13,12,11,15,13,13,9,15,15,8,16,8,2,12,12,13,13,18,5,13,7,9,5,15,12,7,15,13,9,9,6,10,18,14,9,6,10,10,14,18,10,3,10,9,6,18,11,21,7,13,12,8,12,13,6,16,6,10,5,16,14,20,7,8,12,10,13,11,10,11,12,9,10,10,10,14,4,9,8,11,13,13,4,14,11,6,9,2,22,12,9,4,18,18,5,10,19,10,7,13,10,9,13,10,14,11,6,9,8,9,14,22,3,14,14,13,13,11,10,15,8,12,15,10,10,9,18,13,9,9,8,11,17,12,10,14,23,4,16,10,16,6,8,13,13,14,32,13,16,10,15,14,9,17,6,12,17,42,23,12,8,6,3,11,8,10,17,9,9,18,9,19,8,9,11,18,5,7,15,14,12,8,8,14,14,22,14,8,10,8,8,11,16,10,5,11,12,7,10,8,14,8,10,9,10,53,16,8,10,7,13,5,9,15,11,12,8,11,12,8,11,8,9,13,12,7,14,9,10,7,18,9,9,7,17,10,11,9,9,20,12,7,11,15,17,15,9,10,12,15,8,11,12,10,12,18,14,11,13,11,7,11,10,19,12,17,15,13,20,10,16,8,16,8,9,7,6,11,14,11,6,7,13,11,11,7,14,11,11,6,21,10,11,6,18,5,10,7,15,12,10,12,15,6,7,10,13,15,12,14,15,7,8,8,11,8,16,14,6,8,13,8,8,14,21,9,14,14,15,13,21,14,7,19,15,10,9,20,10,11,9,6,12,10,11,10,14,16,19,8,14,8,8,9,15,6,9,10,11,10,8,10,12,18,11,21,7,13,7,12,11,16,8,5,7,3,10,6,12,10,9,14,8,20,9,10,20,12,5,11,8,12,10,10,10,13,9,12,7,9,9,22,5,11,9,7,13,17,6,10,11,15,10,15,19,9,9,8,7,13,15,10,11,8,5,9,29,12,5,10,7,9,21,8,11,8,11,14,5,13,4,10,4,18,10,14,9,7,11,18,13,10,6,11,11,8,6,9,21,4,10,19,15,9,9,11,12,13,14,8,3,17,17,12,3,5,15,14,8,11,14,10,10,14,9,19,8,9,7,11,8,15,15,5,9,11,8,9,8,7,14,10,7,8,14,10,10,9,7,17,8,19,10,3,13,9,12,10,6,10,16,7,14,13,19,8,7,11,11,14,8,12,14,6,13,8,16,14,13,8,13,13,8,14,18,7,8,11,19,7,5,17,13,11,16,15,10,8,9,9,12,12,8,7,8,13,16,12,14,18,14,14,10,13,9,18,11,10,11,10,12,8,14,15,10,11,11,12,25,8,7,7,13,5,15,5,6,10,15,10,12,10,1,11,10,8,15,12,10,9,9,11,10,8,7,9,11,13,10,11,13,6,16,8,9,19,13,13,7,18,9,8,12,12,14,13,9,17,11,15,14,8,11,20,10,3,15,8,21,10,7,24,7,12,11,12,15,14,11,14,18,8,8,13,6,8,7,18,11,8,12,8,15,12,9,10,17,9,15,17,9,7,9,13,12,8,11,14,16,14,17,17,9,15,10,7,5,9,10,20,10,12,11,5,18,14,13,3,7,10,10,14,6,14,13,13,10,10,9,5,4,9,6,9,7,6,16,10,8,17,6,13,22,13,12,8,12,11,7,10,15,11,7,12,9,9,7,20,8,8,8,16,12,14,12,11,15,10,12,10,11,32,12,10,17,8,7,12,13,4,10,8,17,10,2,9,17,12,12,5,9,11,14,11,5,6,11,7,9,10,11,8,15,9,14,16,5,9,6,9,10,15,23,7,6,10,5,12,6,11,9,10,10,7,9,11,10,25,10,15,10,13,11,12,10,8,9,15,13,15,7,7,6,17,10,16,11,26,11,11,8,7,18,11,7,13,9,13,12,7,14,13,8,4,12,13,10,22,10,7,9,17,13,10,8,10,8,11,17,16,10,16,16,8,6,4,7,12,13,9,12,5,8,17,14,12,12,8,9,9,11,16,14,9,9,14,17,11,22,10,16,12,14,9,9,11,14,16,16,11,8,15,10,11,10,16,8,10,11,6,10,11,7,4,12,25,9,8,16,13,10,18,15,9,15,7,29,10,12,7,8,7,12,7,6,17,8,8,11,12,12,10,8,5,10,6,8,13,12,19,10,13,7,13,8,4,19,9,9,11,5,9,8,14,8,8,9,10,13,9,13,15,15,8,13,15,13,13,18,6,5,3,12,16,13,10,9,13,7,3,14,14,13,11,9,20,6,16,4,13,16,15,9,6,6,7,7,19,14,10,7,11,10,8,12,23,6,9,12,7,15,9,13,14,16,16,7,16,10,15,10,11,10,15,9,12,9,10,13,8,5,11,12,6,7,6,13,8,5,12,15,15,6,13,10,7,17,13,11,12,11,8,5,15,13,10,6,17,11,7,21,9,8,8,14,3,16,14,7,9,13,8,6,10,9,9,4,1,14,7,8,11,10,14,14,12,9,15,16,8,15,9,20,7,10,12,14,26,7,7,9,11,12,8,18,15,18,6,10,8,10,9,13,11,13,14,10,6,10,11,8,11,18,10,8,8,13,15,8,19,6,10,10,8,6,13,10,30,9,9,11,19,16,9,5,14,4,11,9,15,10,21,12,6,9,19,15,7,11,12,10,11,14,7,9,12,15,7,7,7,6,15,8,12,13,12,2,7,9,14,25,14,5,2,8,15,16,16,11,13,11,10,15,9,9,11,17,8,16,2,11,23,10,14,12,8,12,9,9,11,7,9,9,14,6,17,6,12,10,8,16,7,14,15,15,10,10,8,11,2,8,13,8,9,9,6,9,13,9,18,13,17,10,7,13,11,5,6,17,7,18,11,5,8,9,8,7,19,9,5,13,16,6,6,8,9,8,4,15,5,5,9,6,17,6,17,16,16,9,15,11,10,4,14,10,11,14,7,17,11,10,17,9,10,7,16,16,10,23,19,7,3,9,12,8,6,12,13,7,15,6,8,8,12,10,25,23,13,12,8,7,17,13,13,9,14,2,8,9,19,11,5,12,14,10,18,14,12,15,8,9,11,15,6,15,8,8,9,9,10,8,12,8,21,10,11,11,8,18,18,12,17,9,12,6,6,10,6,16,10,5,14,13,8,14,11,9,12,8,6,8,9,13,5,10,11,11,13,7,5,12,10,17,12,7,12,8,15,13,8,12,5,13,12,20,7,8,16,15,9,13,16,13,15,9,10,15,11,4,7,15,6,8,10,6,11,9,9,12,8,5,8,41,8,10,9,7,14,9,10,9,17,11,11,14,13,9,12,4,13,8,4,23,23,5,8,7,4,5,13,7,8,13,22,14,9,15,12,9,14,13,6,7,11,13,13,12,13,7,22,15,12,14,7,11,20,10,7,14,7,8,17,17,10,8,15,14,7,5,3,10,30,4,15,13,9,7,9,16,3,11,7,10,8,3,10,7,10,9,8,4,13,14,8,9,16,9,7,11,5,7,19,12,19,6,9,9,12,8,17,11,19,11,17,15,9,14,9,10,13,18,7,4,14,13,14,15,12,9,8,8,16,15,19,11,4,17,27,13,7,10,6,11,15,16,10,13,6,17,10,8,10,11,6,12,7,10,22,8,10,17,9,10,9,17,17,9,18,9,8,5,6,10,20,10,9,13,5,10,17,8,12,12,13,29,8,9,13,8,14,6,13,14,9,11,19,14,9,13,10,10,8,12,11,8,16,5,4,8,7,12,4,11,8,4,7,20,10,17,5,8,9,17,10,6,10,10,8,16,15,10,7,8,13,9,6,13,11,10,14,12,15,12,22,4,10,3,18,9,8,11,10,11,9,16,13,15,15,8,9,16,1,10,9,8,17,3,10,9,8,19,9,8,9,19,16,12,12,11,10,8,7,15,11,17,7,12,13,24,12,14,5,15,13,9,12,11,11,7,13,3,10,13,8,15,11,10,14,10,8,7,8,14,10,16,8,11,13,6,13,19,5,3,16,5,14,8,9,9,6,9,10,10,20,10,4,8,10,13,7,10,10,6,9,9,11,12,11,10,6,13,26,9,16,15,12,14,8,5,11,11,6,7,9,16,16,16,12,18,5,9,12,26,17,12,8,3,11,15,16,9,8,6,11,18,9,15,10,18,10,11,15,16,12,6,6,8,5,2,13,18,5,10,8,8,10,17,11,4,16,7,15,8,11,10,13,13,5,2,14,13,12,13,15,19,10,8,6,14,11,14,11,13,7,15,16,4,11,15,11,7,8,5,9,9,17,13,7,11,12,13,10,9,8,24,14,9,15,9,9,6,16,11,9,5,8,17,14,10,13,13,22,9,9,20,9,6,16,7,11,7,8,12,15,10,21,10,7,8,18,12,6,10,8,14,5,9,8,6,10,15,10,7,9,26,13,5,9,10,9,13,13,30,16,5,8,16,11,9,19,20,7,15,7,19,7,9,7,6,9,10,9,20,13,8,9,13,3,16,15,8,7,8,3,12,5,7,12,6,15,8,11,12,10,11,20,13,7,10,18,7,18,10,7,10,17,11,10,8,5,7,16,9,10,9,16,5,13,17,21,9,16,11,9,10,8,15,11,19,5,12,6,5,5,6,19,7,10,11,13,9,10,10,13,12,16,9,12,13,10,11,14,12,16,18,12,12,13,17,13,10,9,12,11,11,13,14,16,11,11,14,8,7,16,7,12,10,12,8,13,6,13,11,8,8,12,10,11,20,5,6,12,11,12,11,10,9,13,12,15,17,9,10,13,11,6,16,9,5,12,7,17,14,21,7,8,16,8,1,12,6,6,14,12,17,6,11,7,12,13,6,13,11,9,12,12,6,7,7,12,14,10,8,13,5,10,10,7,5,12,11,16,24,21,11,11,13,9,9,7,9,10,12,12,9,14,12,9,9,6,11,13,21,11,17,10,17,22,11,8,11,6,10,13,17,12,7,14,8,8,7,13,15,8,9,11,4,16,10,13,5,12,16,9,8,8,4,18,14,9,12,15,8,5,8,9,16,11,16,10,20,10,7,9,8,6,9,16,13,10,12,17,6,8,16,4,4,13,7,18,19,9,10,12,6,8,10,5,14,9,9,6,11,10,11,10,14,34,15,7,20,11,15,7,14,6,20,10,4,9,14,11,7,9,10,35,8,6,14,9,14,12,8,8,18,13,8,9,11,12,11,15,10,20,12,13,11,11,7,12,14,12,11,17,9,15,4,15,11,11,11,9,11,7,3,4,7,7,9,23,16,12,11,11,8,10,5,8,7,5,6,13,12,10,15,14,17,10,5,5,11,11,11,8,6,11,9,7,8,9,10,9,2,7,11,14,10,19,13,13,6,12,8,13,8,7,7,20,9,12,15,9,14,8,14,7,4,15,16,11,10,11,19,11,13,6,6,9,6,17,14,12,13,11,8,13,7,6,6,6,6,11,9,13,5,13,9,7,6,10,11,14,11,9,8,8,7,11,8,10,19,9,16,7,11,10,13,8,10,10,14,6,13,11,9,13,10,9,16,5,12,10,13,14,11,19,7,10,14,14,7,14,11,13,11,6,15,13,10,4,10,10,12,14,9,12,11,5,11,17,5,11,7,11,15,8,10,13,6,9,12,10,13,17,11,12,12,13,11,8,12,10,10,7,11,10,9,17,14,16,12,9,7,10,15,12,13,9,10,9],\"xaxis\":\"x\",\"yaxis\":\"y\",\"type\":\"histogram\"},{\"alignmentgroup\":\"True\",\"bingroup\":\"x\",\"histnorm\":\"probability\",\"hovertemplate\":\"label=REAL\\u003cbr\\u003etitle_text_words_count=%{x}\\u003cbr\\u003eprobability=%{y}\\u003cextra\\u003e\\u003c\\u002fextra\\u003e\",\"legendgroup\":\"REAL\",\"marker\":{\"color\":\"#EF553B\",\"pattern\":{\"shape\":\"\"}},\"name\":\"REAL\",\"offsetgroup\":\"REAL\",\"orientation\":\"v\",\"showlegend\":true,\"x\":[9,9,5,9,11,17,10,6,4,9,14,9,9,11,6,13,12,17,5,9,9,13,11,10,6,9,6,4,8,6,7,8,5,7,9,13,7,8,19,8,8,9,10,9,9,6,6,6,21,15,7,7,9,11,7,12,11,6,14,14,10,4,6,7,8,10,7,11,9,14,12,9,5,11,15,8,13,9,8,15,10,7,10,12,11,11,11,7,11,7,10,11,10,7,7,11,11,6,9,11,12,12,10,10,10,11,8,8,10,11,9,10,12,6,16,13,5,5,9,9,11,12,12,10,12,14,17,11,7,12,10,15,10,11,14,12,12,8,17,5,7,8,9,6,14,9,13,15,8,8,14,10,3,10,10,11,10,8,17,7,8,14,10,14,4,11,11,8,9,12,7,8,8,11,11,12,7,11,18,11,11,12,10,14,5,13,13,6,6,10,12,9,6,11,7,7,11,12,8,14,7,11,8,12,8,5,13,10,7,12,7,15,6,11,10,9,6,5,12,9,11,11,10,9,15,11,6,11,9,11,9,13,6,13,8,11,11,14,6,14,8,10,7,11,15,7,3,8,13,13,8,10,5,8,7,11,10,2,8,9,17,8,14,9,4,13,21,9,16,7,7,11,8,11,11,5,9,10,6,8,15,7,11,13,11,7,12,8,13,6,9,7,9,8,9,7,16,10,11,12,13,9,10,10,9,8,10,8,9,12,5,8,12,7,8,10,6,13,7,11,6,9,6,8,7,10,8,9,6,8,13,12,13,7,9,8,7,9,14,10,17,8,5,12,14,19,16,11,8,9,15,13,14,10,10,14,9,14,11,6,8,11,5,13,8,10,11,9,9,11,12,5,10,4,7,4,9,14,13,7,7,10,9,11,10,17,17,15,10,7,7,6,12,10,8,8,5,7,12,9,5,12,10,6,9,11,6,12,12,3,16,12,14,11,10,5,6,17,5,5,11,10,14,12,13,12,10,9,9,10,9,15,7,8,9,12,8,11,8,18,7,13,10,13,8,9,9,8,10,19,7,11,15,12,10,17,10,6,11,8,7,10,9,6,13,10,6,10,6,6,9,10,10,13,8,9,6,13,6,9,10,8,11,12,21,19,9,8,12,8,14,8,4,7,9,9,15,14,11,13,11,8,12,13,8,16,10,12,8,15,9,9,8,9,11,12,12,7,8,10,8,10,5,6,6,11,12,8,12,11,6,21,7,6,11,16,9,8,11,4,8,11,8,13,13,12,10,7,8,11,11,10,12,6,11,10,15,9,14,9,10,11,11,8,10,9,11,9,7,6,11,13,7,4,7,10,10,8,11,13,12,9,6,9,7,13,13,12,10,10,11,9,11,12,12,15,12,8,13,9,8,17,11,7,11,6,15,14,10,6,13,13,7,5,7,8,8,12,10,10,10,18,6,14,12,9,9,5,6,11,19,12,11,12,7,9,12,12,9,12,16,10,9,9,11,13,11,9,12,10,4,7,7,9,8,10,13,8,16,18,13,6,7,8,9,12,11,10,11,8,8,7,4,6,12,11,8,11,20,19,12,9,12,7,10,9,10,6,9,10,6,13,8,9,14,11,7,12,9,10,10,14,10,11,10,12,10,7,7,6,11,12,11,8,9,13,12,5,8,11,8,12,12,10,8,11,10,12,9,7,13,10,10,14,16,10,8,20,12,6,10,12,13,13,9,9,5,17,9,17,12,12,4,9,10,10,17,15,10,5,12,14,13,12,10,7,11,5,10,7,11,11,7,9,6,6,13,6,16,17,12,3,2,8,10,3,5,8,7,8,8,16,8,8,13,9,9,9,10,9,9,11,7,5,6,14,5,11,11,7,18,15,10,9,14,8,7,6,8,9,13,5,9,10,8,10,6,7,11,11,10,10,14,7,7,10,11,4,12,10,10,14,8,13,9,13,7,11,12,10,6,9,9,9,11,7,7,9,8,13,7,12,12,8,5,8,8,10,14,7,7,14,5,7,7,6,12,9,8,7,12,7,9,8,11,9,10,16,11,10,11,12,9,9,10,12,16,12,18,13,8,10,9,11,7,8,6,7,4,9,7,8,7,9,15,5,8,7,9,11,6,10,8,9,7,7,7,5,15,15,2,8,11,9,18,4,11,12,8,6,16,14,7,7,10,5,6,9,7,10,11,14,12,8,11,11,9,10,6,9,13,11,4,10,14,11,11,7,18,11,10,14,9,7,10,11,14,10,8,7,7,6,8,7,7,7,5,12,9,11,8,13,6,8,5,9,12,10,11,14,10,13,10,10,10,8,8,10,9,13,5,6,12,10,9,14,10,7,11,8,14,14,9,12,8,8,10,11,7,8,12,16,13,9,12,12,8,14,7,8,12,10,6,9,7,15,12,16,7,5,13,9,14,8,10,9,14,9,4,9,13,8,14,11,10,2,12,8,10,8,13,12,13,6,9,7,5,12,9,10,10,15,9,10,6,10,13,10,6,5,10,3,11,11,10,8,8,8,7,6,10,9,10,11,15,10,12,6,13,12,10,11,10,8,8,6,6,12,10,8,18,3,12,9,4,11,7,17,11,10,12,11,18,7,9,11,3,5,8,15,7,13,6,13,11,17,10,6,9,17,10,9,8,6,9,8,8,6,8,5,10,5,12,9,11,6,6,8,14,11,13,12,10,11,14,10,11,15,11,11,9,17,9,12,6,7,13,12,10,12,7,9,8,9,8,10,14,11,9,6,9,4,7,10,17,9,5,13,13,8,16,10,11,11,11,8,12,10,17,9,12,10,5,8,6,13,8,8,7,9,8,5,6,7,9,12,15,8,12,9,11,4,5,8,14,9,10,9,4,11,12,9,9,7,11,11,5,10,8,12,10,8,9,6,8,20,15,12,12,13,6,16,11,5,9,14,10,4,14,11,8,10,16,6,9,5,15,6,6,11,12,5,12,10,11,12,12,9,14,7,12,9,12,12,6,13,6,8,11,10,12,8,6,10,9,7,11,4,11,6,5,9,8,8,21,11,8,9,27,11,9,7,7,17,7,12,12,12,8,12,14,10,9,9,14,9,11,6,9,10,5,13,8,18,10,11,6,7,13,9,8,9,9,12,12,12,8,8,11,12,8,12,10,12,10,9,11,7,6,7,10,6,9,10,9,6,7,9,6,8,10,20,17,8,7,8,11,12,10,9,6,8,8,6,10,8,6,18,7,5,3,11,9,7,10,12,8,11,8,7,10,12,12,10,8,9,10,11,13,7,19,20,12,10,10,12,13,8,5,5,4,8,11,11,6,14,11,11,13,8,9,4,7,12,10,13,6,7,9,8,11,13,13,10,14,4,8,8,4,10,7,6,12,12,11,7,9,10,12,6,10,8,7,10,13,12,7,8,13,6,8,8,7,14,6,11,10,10,9,8,12,8,13,10,8,9,4,14,9,8,6,5,10,15,7,8,11,9,11,7,13,13,7,8,8,7,10,10,10,8,7,7,11,14,12,12,9,10,9,10,8,7,12,7,9,9,9,12,11,10,10,12,6,16,7,18,13,10,6,8,9,8,6,24,15,10,9,12,9,5,12,12,12,12,12,11,7,12,8,11,10,9,10,7,9,9,13,6,6,3,12,8,13,9,10,12,10,10,7,10,11,12,13,11,12,12,10,7,11,9,7,10,9,9,8,9,9,9,11,14,11,9,9,13,8,12,12,12,17,7,14,12,11,17,12,5,7,14,4,5,14,9,12,8,7,11,12,6,10,12,12,9,9,11,4,6,11,4,6,8,19,7,8,4,7,13,15,11,8,15,12,10,13,6,13,12,12,12,7,13,7,5,13,6,9,11,5,9,8,9,8,11,9,8,8,9,5,3,10,9,9,10,6,14,14,12,11,8,8,13,10,4,9,8,11,13,15,12,10,11,12,4,10,15,13,10,3,13,13,7,10,9,5,12,7,7,9,11,9,10,10,13,10,11,10,12,8,7,15,4,12,11,14,20,8,11,7,11,8,13,8,14,7,9,7,15,15,14,4,8,14,12,7,11,7,8,10,5,16,7,8,13,8,9,9,11,11,10,10,11,8,4,7,9,7,8,10,13,10,7,12,9,19,13,13,12,6,5,4,6,8,10,11,14,8,12,8,10,7,7,5,13,17,5,15,17,8,11,8,7,13,10,16,11,5,9,9,9,12,17,14,13,12,13,8,6,7,8,11,24,8,8,9,10,14,7,10,9,14,8,10,10,9,8,17,11,11,8,10,8,7,11,9,7,12,9,5,10,6,11,8,6,11,7,16,11,12,11,14,14,8,15,11,10,8,20,11,8,12,18,8,9,12,9,10,7,13,10,7,10,19,10,9,12,6,11,8,11,4,12,12,10,7,13,10,13,14,3,10,4,13,8,8,12,16,12,6,9,10,6,11,11,11,5,15,9,9,11,6,13,8,5,5,5,4,5,8,10,10,10,10,12,11,8,6,9,12,12,16,10,11,15,9,9,10,6,6,7,9,10,16,7,10,6,16,6,9,9,11,14,10,10,6,9,16,11,7,11,8,12,10,8,8,8,15,6,14,14,9,12,11,9,9,10,9,14,6,6,16,11,9,13,6,11,14,5,9,11,7,20,8,12,10,8,9,10,8,7,11,8,14,17,6,9,7,4,7,13,10,13,9,7,9,8,8,12,15,11,7,4,9,20,8,12,12,18,10,13,2,6,6,5,11,14,10,10,11,10,14,9,7,10,6,6,13,5,5,9,11,7,7,8,9,12,11,16,11,4,11,15,16,11,13,11,10,9,7,13,15,12,12,10,12,11,11,7,8,7,8,8,4,9,16,17,8,11,18,14,10,13,7,10,12,18,8,21,12,10,15,13,6,15,17,18,13,15,20,11,8,12,12,12,8,8,12,4,14,9,8,9,10,13,10,11,16,13,7,10,14,5,11,7,11,12,8,14,8,9,13,9,8,9,6,10,10,7,8,10,4,12,11,6,12,7,13,13,6,8,8,11,9,6,6,8,8,9,8,7,7,8,6,6,11,18,18,9,7,7,8,16,11,7,8,10,6,18,18,10,14,10,18,11,7,13,7,10,12,8,11,9,9,6,9,12,10,7,7,7,10,7,15,7,8,8,8,14,8,8,12,6,7,10,10,8,13,6,11,6,4,16,8,13,15,11,6,6,11,12,9,5,15,11,5,7,7,12,10,7,6,8,9,10,13,9,7,11,10,9,11,11,6,12,9,15,9,9,10,13,7,5,12,10,7,8,12,12,13,14,8,15,5,7,6,7,8,8,21,6,9,7,7,9,8,13,8,9,15,10,7,12,16,13,18,13,16,9,17,8,11,12,6,9,9,6,11,11,10,10,6,10,7,9,12,14,9,11,8,7,19,9,9,10,9,10,12,12,12,10,6,7,6,12,8,7,6,12,6,14,12,8,13,11,12,10,12,7,8,9,8,8,8,10,11,11,11,14,10,12,14,4,14,14,7,10,13,11,11,8,15,14,11,16,12,10,12,7,6,11,8,14,15,11,11,12,7,9,8,15,20,8,4,11,9,12,10,15,8,9,6,14,14,4,11,15,9,6,11,13,8,4,10,5,13,5,15,20,10,11,4,7,9,7,12,9,10,8,8,4,8,10,13,9,11,10,14,9,14,8,9,10,10,10,7,8,12,9,5,4,9,14,12,6,5,8,12,9,5,7,16,6,12,12,8,9,13,6,11,14,6,15,9,14,6,11,9,10,10,7,10,9,9,6,6,9,6,8,11,4,8,9,11,10,10,13,8,8,10,10,8,6,8,8,8,13,14,10,13,6,11,10,14,9,7,9,11,10,24,10,5,12,14,7,9,11,5,10,17,18,5,7,4,3,9,14,12,4,11,7,24,9,12,9,7,10,9,18,8,11,9,12,3,8,9,14,12,6,12,11,10,15,6,7,11,9,8,8,8,14,6,11,8,9,6,9,8,7,13,10,11,11,11,14,10,7,9,11,9,4,7,9,7,9,11,7,7,9,13,12,7,19,6,13,5,10,12,10,14,7,12,9,7,6,11,12,16,9,8,8,10,9,7,12,10,11,16,7,7,7,6,5,10,5,16,11,16,9,14,11,13,10,11,8,10,11,11,9,8,8,9,6,9,9,11,18,11,12,7,9,9,10,11,12,8,9,9,11,13,8,13,11,11,6,15,10,12,12,6,12,8,10,4,9,16,6,9,8,10,19,11,7,5,9,10,9,9,6,20,10,8,8,3,11,12,5,9,8,12,12,6,10,10,18,12,9,7,13,15,10,10,8,10,10,11,11,12,6,9,16,11,8,17,15,11,9,10,8,8,10,9,9,9,9,14,9,11,10,8,6,10,8,9,9,10,10,10,12,12,10,7,7,14,11,10,11,8,10,8,9,13,5,11,10,7,8,13,11,6,6,15,8,14,12,6,14,7,7,16,10,7,12,11,14,12,12,9,4,6,11,5,13,9,11,5,7,8,12,7,6,12,8,10,9,7,15,5,11,9,15,10,9,8,11,7,10,9,11,11,6,13,10,8,6,13,16,13,12,6,6,8,8,13,6,10,5,9,9,12,9,9,10,13,13,9,12,11,9,7,6,14,8,10,6,13,5,10,9,8,7,12,13,10,7,9,9,10,11,11,9,7,14,13,13,13,9,8,9,8,8,8,11,8,12,10,13,15,8,11,17,10,7,7,10,16,12,12,8,12,15,7,11,9,10,13,12,7,9,7,7,13,3,12,15,6,10,7,12,6,16,12,7,7,10,14,7,9,11,5,8,12,7,6,8,5,9,6,11,6,10,13,12,14,12,13,7,11,15,9,8,12,13,12,11,5,4,9,10,12,13,14,10,8,6,15,12,9,8,14,9,7,7,11,6,13,9,9,11,6,12,8,5,14,10,12,8,14,7,11,9,9,13,11,5,7,12,11,6,10,8,10,20,13,8,10,10,15,15,9,10,9,5,7,10,14,8,7,6,8,10,14,13,14,8,5,9,8,19,4,10,7,8,5,10,10,13,12,13,7,9,9,8,6,8,10,14,11,12,18,7,11,11,4,5,12,11,8,3,9,21,12,10,6,10,9,6,10,7,12,13,11,7,11,12,9,9,6,5,12,9,6,11,9,6,10,19,11,9,10,10,7,15,10,9,11,10,6,13,9,6,8,8,7,14,7,11,11,12,12,10,11,11,10],\"xaxis\":\"x\",\"yaxis\":\"y\",\"type\":\"histogram\"}],                        {\"template\":{\"data\":{\"histogram2dcontour\":[{\"type\":\"histogram2dcontour\",\"colorbar\":{\"outlinewidth\":0,\"ticks\":\"\"},\"colorscale\":[[0.0,\"#0d0887\"],[0.1111111111111111,\"#46039f\"],[0.2222222222222222,\"#7201a8\"],[0.3333333333333333,\"#9c179e\"],[0.4444444444444444,\"#bd3786\"],[0.5555555555555556,\"#d8576b\"],[0.6666666666666666,\"#ed7953\"],[0.7777777777777778,\"#fb9f3a\"],[0.8888888888888888,\"#fdca26\"],[1.0,\"#f0f921\"]]}],\"choropleth\":[{\"type\":\"choropleth\",\"colorbar\":{\"outlinewidth\":0,\"ticks\":\"\"}}],\"histogram2d\":[{\"type\":\"histogram2d\",\"colorbar\":{\"outlinewidth\":0,\"ticks\":\"\"},\"colorscale\":[[0.0,\"#0d0887\"],[0.1111111111111111,\"#46039f\"],[0.2222222222222222,\"#7201a8\"],[0.3333333333333333,\"#9c179e\"],[0.4444444444444444,\"#bd3786\"],[0.5555555555555556,\"#d8576b\"],[0.6666666666666666,\"#ed7953\"],[0.7777777777777778,\"#fb9f3a\"],[0.8888888888888888,\"#fdca26\"],[1.0,\"#f0f921\"]]}],\"heatmap\":[{\"type\":\"heatmap\",\"colorbar\":{\"outlinewidth\":0,\"ticks\":\"\"},\"colorscale\":[[0.0,\"#0d0887\"],[0.1111111111111111,\"#46039f\"],[0.2222222222222222,\"#7201a8\"],[0.3333333333333333,\"#9c179e\"],[0.4444444444444444,\"#bd3786\"],[0.5555555555555556,\"#d8576b\"],[0.6666666666666666,\"#ed7953\"],[0.7777777777777778,\"#fb9f3a\"],[0.8888888888888888,\"#fdca26\"],[1.0,\"#f0f921\"]]}],\"heatmapgl\":[{\"type\":\"heatmapgl\",\"colorbar\":{\"outlinewidth\":0,\"ticks\":\"\"},\"colorscale\":[[0.0,\"#0d0887\"],[0.1111111111111111,\"#46039f\"],[0.2222222222222222,\"#7201a8\"],[0.3333333333333333,\"#9c179e\"],[0.4444444444444444,\"#bd3786\"],[0.5555555555555556,\"#d8576b\"],[0.6666666666666666,\"#ed7953\"],[0.7777777777777778,\"#fb9f3a\"],[0.8888888888888888,\"#fdca26\"],[1.0,\"#f0f921\"]]}],\"contourcarpet\":[{\"type\":\"contourcarpet\",\"colorbar\":{\"outlinewidth\":0,\"ticks\":\"\"}}],\"contour\":[{\"type\":\"contour\",\"colorbar\":{\"outlinewidth\":0,\"ticks\":\"\"},\"colorscale\":[[0.0,\"#0d0887\"],[0.1111111111111111,\"#46039f\"],[0.2222222222222222,\"#7201a8\"],[0.3333333333333333,\"#9c179e\"],[0.4444444444444444,\"#bd3786\"],[0.5555555555555556,\"#d8576b\"],[0.6666666666666666,\"#ed7953\"],[0.7777777777777778,\"#fb9f3a\"],[0.8888888888888888,\"#fdca26\"],[1.0,\"#f0f921\"]]}],\"surface\":[{\"type\":\"surface\",\"colorbar\":{\"outlinewidth\":0,\"ticks\":\"\"},\"colorscale\":[[0.0,\"#0d0887\"],[0.1111111111111111,\"#46039f\"],[0.2222222222222222,\"#7201a8\"],[0.3333333333333333,\"#9c179e\"],[0.4444444444444444,\"#bd3786\"],[0.5555555555555556,\"#d8576b\"],[0.6666666666666666,\"#ed7953\"],[0.7777777777777778,\"#fb9f3a\"],[0.8888888888888888,\"#fdca26\"],[1.0,\"#f0f921\"]]}],\"mesh3d\":[{\"type\":\"mesh3d\",\"colorbar\":{\"outlinewidth\":0,\"ticks\":\"\"}}],\"scatter\":[{\"fillpattern\":{\"fillmode\":\"overlay\",\"size\":10,\"solidity\":0.2},\"type\":\"scatter\"}],\"parcoords\":[{\"type\":\"parcoords\",\"line\":{\"colorbar\":{\"outlinewidth\":0,\"ticks\":\"\"}}}],\"scatterpolargl\":[{\"type\":\"scatterpolargl\",\"marker\":{\"colorbar\":{\"outlinewidth\":0,\"ticks\":\"\"}}}],\"bar\":[{\"error_x\":{\"color\":\"#2a3f5f\"},\"error_y\":{\"color\":\"#2a3f5f\"},\"marker\":{\"line\":{\"color\":\"#E5ECF6\",\"width\":0.5},\"pattern\":{\"fillmode\":\"overlay\",\"size\":10,\"solidity\":0.2}},\"type\":\"bar\"}],\"scattergeo\":[{\"type\":\"scattergeo\",\"marker\":{\"colorbar\":{\"outlinewidth\":0,\"ticks\":\"\"}}}],\"scatterpolar\":[{\"type\":\"scatterpolar\",\"marker\":{\"colorbar\":{\"outlinewidth\":0,\"ticks\":\"\"}}}],\"histogram\":[{\"marker\":{\"pattern\":{\"fillmode\":\"overlay\",\"size\":10,\"solidity\":0.2}},\"type\":\"histogram\"}],\"scattergl\":[{\"type\":\"scattergl\",\"marker\":{\"colorbar\":{\"outlinewidth\":0,\"ticks\":\"\"}}}],\"scatter3d\":[{\"type\":\"scatter3d\",\"line\":{\"colorbar\":{\"outlinewidth\":0,\"ticks\":\"\"}},\"marker\":{\"colorbar\":{\"outlinewidth\":0,\"ticks\":\"\"}}}],\"scattermapbox\":[{\"type\":\"scattermapbox\",\"marker\":{\"colorbar\":{\"outlinewidth\":0,\"ticks\":\"\"}}}],\"scatterternary\":[{\"type\":\"scatterternary\",\"marker\":{\"colorbar\":{\"outlinewidth\":0,\"ticks\":\"\"}}}],\"scattercarpet\":[{\"type\":\"scattercarpet\",\"marker\":{\"colorbar\":{\"outlinewidth\":0,\"ticks\":\"\"}}}],\"carpet\":[{\"aaxis\":{\"endlinecolor\":\"#2a3f5f\",\"gridcolor\":\"white\",\"linecolor\":\"white\",\"minorgridcolor\":\"white\",\"startlinecolor\":\"#2a3f5f\"},\"baxis\":{\"endlinecolor\":\"#2a3f5f\",\"gridcolor\":\"white\",\"linecolor\":\"white\",\"minorgridcolor\":\"white\",\"startlinecolor\":\"#2a3f5f\"},\"type\":\"carpet\"}],\"table\":[{\"cells\":{\"fill\":{\"color\":\"#EBF0F8\"},\"line\":{\"color\":\"white\"}},\"header\":{\"fill\":{\"color\":\"#C8D4E3\"},\"line\":{\"color\":\"white\"}},\"type\":\"table\"}],\"barpolar\":[{\"marker\":{\"line\":{\"color\":\"#E5ECF6\",\"width\":0.5},\"pattern\":{\"fillmode\":\"overlay\",\"size\":10,\"solidity\":0.2}},\"type\":\"barpolar\"}],\"pie\":[{\"automargin\":true,\"type\":\"pie\"}]},\"layout\":{\"autotypenumbers\":\"strict\",\"colorway\":[\"#636efa\",\"#EF553B\",\"#00cc96\",\"#ab63fa\",\"#FFA15A\",\"#19d3f3\",\"#FF6692\",\"#B6E880\",\"#FF97FF\",\"#FECB52\"],\"font\":{\"color\":\"#2a3f5f\"},\"hovermode\":\"closest\",\"hoverlabel\":{\"align\":\"left\"},\"paper_bgcolor\":\"white\",\"plot_bgcolor\":\"#E5ECF6\",\"polar\":{\"bgcolor\":\"#E5ECF6\",\"angularaxis\":{\"gridcolor\":\"white\",\"linecolor\":\"white\",\"ticks\":\"\"},\"radialaxis\":{\"gridcolor\":\"white\",\"linecolor\":\"white\",\"ticks\":\"\"}},\"ternary\":{\"bgcolor\":\"#E5ECF6\",\"aaxis\":{\"gridcolor\":\"white\",\"linecolor\":\"white\",\"ticks\":\"\"},\"baxis\":{\"gridcolor\":\"white\",\"linecolor\":\"white\",\"ticks\":\"\"},\"caxis\":{\"gridcolor\":\"white\",\"linecolor\":\"white\",\"ticks\":\"\"}},\"coloraxis\":{\"colorbar\":{\"outlinewidth\":0,\"ticks\":\"\"}},\"colorscale\":{\"sequential\":[[0.0,\"#0d0887\"],[0.1111111111111111,\"#46039f\"],[0.2222222222222222,\"#7201a8\"],[0.3333333333333333,\"#9c179e\"],[0.4444444444444444,\"#bd3786\"],[0.5555555555555556,\"#d8576b\"],[0.6666666666666666,\"#ed7953\"],[0.7777777777777778,\"#fb9f3a\"],[0.8888888888888888,\"#fdca26\"],[1.0,\"#f0f921\"]],\"sequentialminus\":[[0.0,\"#0d0887\"],[0.1111111111111111,\"#46039f\"],[0.2222222222222222,\"#7201a8\"],[0.3333333333333333,\"#9c179e\"],[0.4444444444444444,\"#bd3786\"],[0.5555555555555556,\"#d8576b\"],[0.6666666666666666,\"#ed7953\"],[0.7777777777777778,\"#fb9f3a\"],[0.8888888888888888,\"#fdca26\"],[1.0,\"#f0f921\"]],\"diverging\":[[0,\"#8e0152\"],[0.1,\"#c51b7d\"],[0.2,\"#de77ae\"],[0.3,\"#f1b6da\"],[0.4,\"#fde0ef\"],[0.5,\"#f7f7f7\"],[0.6,\"#e6f5d0\"],[0.7,\"#b8e186\"],[0.8,\"#7fbc41\"],[0.9,\"#4d9221\"],[1,\"#276419\"]]},\"xaxis\":{\"gridcolor\":\"white\",\"linecolor\":\"white\",\"ticks\":\"\",\"title\":{\"standoff\":15},\"zerolinecolor\":\"white\",\"automargin\":true,\"zerolinewidth\":2},\"yaxis\":{\"gridcolor\":\"white\",\"linecolor\":\"white\",\"ticks\":\"\",\"title\":{\"standoff\":15},\"zerolinecolor\":\"white\",\"automargin\":true,\"zerolinewidth\":2},\"scene\":{\"xaxis\":{\"backgroundcolor\":\"#E5ECF6\",\"gridcolor\":\"white\",\"linecolor\":\"white\",\"showbackground\":true,\"ticks\":\"\",\"zerolinecolor\":\"white\",\"gridwidth\":2},\"yaxis\":{\"backgroundcolor\":\"#E5ECF6\",\"gridcolor\":\"white\",\"linecolor\":\"white\",\"showbackground\":true,\"ticks\":\"\",\"zerolinecolor\":\"white\",\"gridwidth\":2},\"zaxis\":{\"backgroundcolor\":\"#E5ECF6\",\"gridcolor\":\"white\",\"linecolor\":\"white\",\"showbackground\":true,\"ticks\":\"\",\"zerolinecolor\":\"white\",\"gridwidth\":2}},\"shapedefaults\":{\"line\":{\"color\":\"#2a3f5f\"}},\"annotationdefaults\":{\"arrowcolor\":\"#2a3f5f\",\"arrowhead\":0,\"arrowwidth\":1},\"geo\":{\"bgcolor\":\"white\",\"landcolor\":\"#E5ECF6\",\"subunitcolor\":\"white\",\"showland\":true,\"showlakes\":true,\"lakecolor\":\"white\"},\"title\":{\"x\":0.05},\"mapbox\":{\"style\":\"light\"}}},\"xaxis\":{\"anchor\":\"y\",\"domain\":[0.0,1.0],\"title\":{\"text\":\"title_text_words_count\"}},\"yaxis\":{\"anchor\":\"x\",\"domain\":[0.0,1.0],\"title\":{\"text\":\"probability\"}},\"legend\":{\"title\":{\"text\":\"label\"},\"tracegroupgap\":0},\"margin\":{\"t\":60},\"barmode\":\"relative\"},                        {\"responsive\": true}                    ).then(function(){\n",
              "                            \n",
              "var gd = document.getElementById('472baf2d-66cf-4747-adda-69e1df8ea533');\n",
              "var x = new MutationObserver(function (mutations, observer) {{\n",
              "        var display = window.getComputedStyle(gd).display;\n",
              "        if (!display || display === 'none') {{\n",
              "            console.log([gd, 'removed!']);\n",
              "            Plotly.purge(gd);\n",
              "            observer.disconnect();\n",
              "        }}\n",
              "}});\n",
              "\n",
              "// Listen for the removal of the full notebook cells\n",
              "var notebookContainer = gd.closest('#notebook-container');\n",
              "if (notebookContainer) {{\n",
              "    x.observe(notebookContainer, {childList: true});\n",
              "}}\n",
              "\n",
              "// Listen for the clearing of the current output cell\n",
              "var outputEl = gd.closest('.output');\n",
              "if (outputEl) {{\n",
              "    x.observe(outputEl, {childList: true});\n",
              "}}\n",
              "\n",
              "                        })                };                            </script>        </div>\n",
              "</body>\n",
              "</html>"
            ]
          },
          "metadata": {}
        }
      ]
    },
    {
      "cell_type": "code",
      "metadata": {
        "id": "WXTg_VJO73nq"
      },
      "source": [
        "from sklearn.feature_extraction.text import CountVectorizer\n",
        "\n",
        "def get_top_n_words(corpus, n=10):\n",
        "    cv = CountVectorizer() # Agregar StopWords\n",
        "    corpus_matrix = cv.fit_transform(corpus)\n",
        "    corpus_matrix = pd.DataFrame.sparse.from_spmatrix(corpus_matrix, columns=cv.get_feature_names_out())\n",
        "    aux = corpus_matrix.sum()\n",
        "    aux=aux.to_frame('count')\n",
        "    aux.sort_values(by='count',ascending=False,inplace=True)\n",
        "    aux=aux.head(n)\n",
        "    return aux"
      ],
      "execution_count": null,
      "outputs": []
    },
    {
      "cell_type": "code",
      "metadata": {
        "id": "0GMZfcN7CjRC",
        "colab": {
          "base_uri": "https://localhost:8080/",
          "height": 733
        },
        "outputId": "19e58b56-706d-4401-c67e-90a43fe6f5c4"
      },
      "source": [
        "# Cantidad de tokens en todo el corpus\n",
        "most_importants = get_top_n_words(df.text, n=500)\n",
        "print(most_importants.head(10))\n",
        "px.bar(most_importants, x=most_importants.index, y='count')"
      ],
      "execution_count": null,
      "outputs": [
        {
          "output_type": "stream",
          "name": "stdout",
          "text": [
            "       count\n",
            "the   291032\n",
            "to    139881\n",
            "of    129859\n",
            "and   120142\n",
            "in     98737\n",
            "that   72595\n",
            "is     54435\n",
            "for    46478\n",
            "on     40857\n",
            "it     39597\n"
          ]
        },
        {
          "output_type": "display_data",
          "data": {
            "text/html": [
              "<html>\n",
              "<head><meta charset=\"utf-8\" /></head>\n",
              "<body>\n",
              "    <div>            <script src=\"https://cdnjs.cloudflare.com/ajax/libs/mathjax/2.7.5/MathJax.js?config=TeX-AMS-MML_SVG\"></script><script type=\"text/javascript\">if (window.MathJax && window.MathJax.Hub && window.MathJax.Hub.Config) {window.MathJax.Hub.Config({SVG: {font: \"STIX-Web\"}});}</script>                <script type=\"text/javascript\">window.PlotlyConfig = {MathJaxConfig: 'local'};</script>\n",
              "        <script charset=\"utf-8\" src=\"https://cdn.plot.ly/plotly-2.24.1.min.js\"></script>                <div id=\"8e0a924f-5952-426b-8cc6-6582b1a1dd63\" class=\"plotly-graph-div\" style=\"height:525px; width:100%;\"></div>            <script type=\"text/javascript\">                                    window.PLOTLYENV=window.PLOTLYENV || {};                                    if (document.getElementById(\"8e0a924f-5952-426b-8cc6-6582b1a1dd63\")) {                    Plotly.newPlot(                        \"8e0a924f-5952-426b-8cc6-6582b1a1dd63\",                        [{\"alignmentgroup\":\"True\",\"hovertemplate\":\"index=%{x}\\u003cbr\\u003ecount=%{y}\\u003cextra\\u003e\\u003c\\u002fextra\\u003e\",\"legendgroup\":\"\",\"marker\":{\"color\":\"#636efa\",\"pattern\":{\"shape\":\"\"}},\"name\":\"\",\"offsetgroup\":\"\",\"orientation\":\"v\",\"showlegend\":false,\"textposition\":\"auto\",\"x\":[\"the\",\"to\",\"of\",\"and\",\"in\",\"that\",\"is\",\"for\",\"on\",\"it\",\"he\",\"as\",\"with\",\"was\",\"are\",\"this\",\"be\",\"by\",\"have\",\"not\",\"trump\",\"his\",\"has\",\"at\",\"but\",\"said\",\"they\",\"from\",\"we\",\"an\",\"who\",\"clinton\",\"you\",\"will\",\"or\",\"about\",\"their\",\"more\",\"would\",\"one\",\"people\",\"all\",\"she\",\"if\",\"what\",\"been\",\"her\",\"there\",\"were\",\"had\",\"can\",\"which\",\"out\",\"when\",\"so\",\"new\",\"state\",\"up\",\"no\",\"president\",\"than\",\"our\",\"obama\",\"also\",\"us\",\"other\",\"campaign\",\"do\",\"after\",\"just\",\"some\",\"over\",\"like\",\"hillary\",\"its\",\"time\",\"them\",\"into\",\"now\",\"could\",\"even\",\"states\",\"only\",\"because\",\"how\",\"him\",\"republican\",\"most\",\"party\",\"two\",\"many\",\"first\",\"those\",\"election\",\"government\",\"these\",\"any\",\"against\",\"american\",\"political\",\"year\",\"years\",\"world\",\"get\",\"house\",\"while\",\"re\",\"going\",\"your\",\"news\",\"country\",\"percent\",\"don\",\"before\",\"last\",\"white\",\"where\",\"being\",\"make\",\"my\",\"presidential\",\"way\",\"then\",\"think\",\"may\",\"very\",\"sanders\",\"say\",\"right\",\"donald\",\"democratic\",\"should\",\"much\",\"well\",\"2016\",\"did\",\"war\",\"told\",\"voters\",\"back\",\"know\",\"here\",\"media\",\"america\",\"republicans\",\"united\",\"national\",\"support\",\"made\",\"such\",\"day\",\"former\",\"vote\",\"both\",\"take\",\"down\",\"see\",\"still\",\"during\",\"since\",\"same\",\"candidate\",\"public\",\"law\",\"police\",\"through\",\"says\",\"want\",\"between\",\"americans\",\"according\",\"bush\",\"cruz\",\"policy\",\"another\",\"me\",\"off\",\"washington\",\"own\",\"go\",\"long\",\"russia\",\"democrats\",\"gop\",\"why\",\"under\",\"part\",\"week\",\"called\",\"military\",\"security\",\"every\",\"never\",\"work\",\"good\",\"does\",\"need\",\"debate\",\"bill\",\"including\",\"among\",\"women\",\"000\",\"change\",\"power\",\"court\",\"congress\",\"too\",\"ve\",\"use\",\"department\",\"far\",\"fbi\",\"federal\",\"foreign\",\"group\",\"whether\",\"black\",\"candidates\",\"next\",\"around\",\"come\",\"times\",\"three\",\"iran\",\"race\",\"might\",\"fact\",\"money\",\"million\",\"system\",\"point\",\"case\",\"win\",\"left\",\"york\",\"really\",\"life\",\"today\",\"end\",\"john\",\"things\",\"deal\",\"general\",\"senate\",\"officials\",\"saying\",\"likely\",\"administration\",\"without\",\"already\",\"won\",\"secretary\",\"man\",\"believe\",\"help\",\"big\",\"health\",\"used\",\"syria\",\"put\",\"again\",\"10\",\"days\",\"something\",\"post\",\"rubio\",\"email\",\"report\",\"emails\",\"office\",\"top\",\"recent\",\"primary\",\"past\",\"yet\",\"however\",\"tuesday\",\"real\",\"least\",\"though\",\"better\",\"found\",\"didn\",\"russian\",\"less\",\"few\",\"look\",\"information\",\"nominee\",\"issue\",\"high\",\"city\",\"place\",\"doesn\",\"night\",\"supporters\",\"rights\",\"show\",\"press\",\"attack\",\"become\",\"nation\",\"october\",\"got\",\"clear\",\"old\",\"isis\",\"great\",\"free\",\"control\",\"asked\",\"run\",\"must\",\"nuclear\",\"early\",\"issues\",\"conservative\",\"each\",\"let\",\"history\",\"little\",\"lot\",\"family\",\"came\",\"politics\",\"november\",\"com\",\"social\",\"justice\",\"cnn\",\"away\",\"four\",\"question\",\"economic\",\"important\",\"home\",\"number\",\"actually\",\"sen\",\"once\",\"ever\",\"members\",\"voting\",\"several\",\"enough\",\"second\",\"working\",\"force\",\"investigation\",\"attacks\",\"best\",\"speech\",\"iraq\",\"ll\",\"others\",\"making\",\"months\",\"leaders\",\"major\",\"thing\",\"keep\",\"took\",\"act\",\"later\",\"doing\",\"anti\",\"until\",\"order\",\"ago\",\"given\",\"different\",\"fox\",\"university\",\"give\",\"florida\",\"business\",\"care\",\"polls\",\"thursday\",\"committee\",\"children\",\"seen\",\"based\",\"behind\",\"11\",\"forces\",\"course\",\"statement\",\"majority\",\"south\",\"reported\",\"process\",\"tax\",\"call\",\"plan\",\"across\",\"countries\",\"nothing\",\"find\",\"paul\",\"person\",\"wednesday\",\"official\",\"private\",\"video\",\"iowa\",\"decision\",\"running\",\"international\",\"evidence\",\"middle\",\"hard\",\"trying\",\"done\",\"month\",\"matter\",\"set\",\"2012\",\"lead\",\"instead\",\"convention\",\"mr\",\"friday\",\"possible\",\"poll\",\"problem\",\"story\",\"nomination\",\"monday\",\"groups\",\"al\",\"director\",\"means\",\"human\",\"always\",\"global\",\"fight\",\"north\",\"islamic\",\"having\",\"wall\",\"job\",\"establishment\",\"close\",\"wrote\",\"almost\",\"known\",\"immigration\",\"men\",\"isn\",\"able\",\"continue\",\"stop\",\"added\",\"often\",\"senator\",\"taking\",\"program\",\"am\",\"delegates\",\"leader\",\"anything\",\"within\",\"center\",\"bernie\",\"face\",\"kind\",\"himself\",\"israel\",\"led\",\"comes\",\"future\",\"votes\",\"front\",\"name\",\"earlier\",\"economy\",\"someone\",\"line\",\"five\",\"street\",\"reason\",\"large\",\"points\",\"interview\",\"side\",\"trade\",\"killed\",\"class\",\"full\",\"foundation\",\"pay\",\"defense\",\"getting\",\"sure\",\"rather\",\"2015\",\"twitter\",\"move\"],\"xaxis\":\"x\",\"y\":[291032,139881,129859,120142,98737,72595,54435,46478,40857,39597,32648,32602,30878,27135,25687,25091,24717,24535,24265,22816,22437,22401,22391,21798,21277,21212,20710,20699,19401,18077,17761,17503,16394,15373,14587,14276,13978,12993,12781,11878,11750,11745,11595,11587,11554,11426,11341,10960,10346,10229,9850,9848,9774,9561,9528,9331,9211,9174,8868,8844,8460,8336,8234,8225,7866,7781,7719,7504,7478,7448,7418,7395,7248,7213,7014,6959,6912,6759,6612,6561,6483,6236,6098,6043,6030,6011,5936,5936,5878,5869,5869,5620,5517,5493,5386,5312,5257,5234,5234,5216,5039,4997,4941,4897,4807,4795,4696,4658,4623,4437,4434,4432,4428,4419,4410,4409,4387,4373,4358,4355,4350,4322,4277,4269,4224,4216,4203,4193,4157,4157,4112,4105,4101,4073,4065,4064,4027,4023,3979,3939,3894,3748,3706,3706,3685,3678,3653,3636,3625,3592,3575,3542,3538,3514,3496,3489,3472,3435,3351,3341,3336,3326,3319,3297,3287,3244,3179,3162,3150,3148,3144,3143,3105,3059,3044,3016,3008,2971,2966,2943,2929,2903,2879,2854,2835,2828,2807,2799,2738,2728,2721,2689,2677,2675,2675,2637,2625,2620,2614,2612,2543,2527,2515,2512,2506,2504,2504,2492,2490,2478,2478,2462,2444,2443,2435,2435,2429,2416,2415,2395,2394,2382,2379,2378,2378,2378,2366,2343,2331,2301,2296,2285,2274,2254,2253,2239,2234,2220,2205,2199,2173,2167,2165,2163,2158,2157,2150,2141,2137,2130,2130,2127,2125,2108,2090,2084,2081,2081,2078,2074,2068,2064,2056,2048,2046,2046,2032,2025,2025,2023,1991,1991,1981,1975,1970,1970,1966,1965,1964,1963,1959,1950,1949,1945,1921,1913,1910,1909,1906,1904,1896,1880,1865,1852,1844,1840,1834,1829,1827,1823,1822,1817,1808,1804,1800,1796,1795,1791,1790,1783,1777,1767,1767,1763,1749,1749,1746,1742,1742,1741,1740,1739,1738,1737,1732,1732,1723,1723,1722,1720,1719,1717,1713,1712,1705,1694,1691,1689,1688,1680,1671,1669,1666,1662,1657,1645,1639,1624,1623,1623,1614,1612,1609,1605,1605,1604,1601,1601,1598,1595,1593,1585,1584,1577,1573,1569,1569,1568,1566,1558,1544,1543,1535,1535,1534,1526,1526,1520,1519,1517,1513,1512,1506,1506,1505,1501,1497,1495,1495,1484,1483,1481,1480,1479,1474,1469,1464,1459,1458,1452,1446,1439,1432,1431,1428,1427,1425,1421,1420,1420,1415,1415,1415,1413,1408,1406,1405,1402,1398,1392,1382,1381,1379,1378,1375,1371,1363,1359,1354,1353,1348,1347,1343,1340,1336,1335,1334,1333,1332,1330,1326,1323,1323,1322,1322,1317,1314,1313,1306,1300,1297,1296,1294,1292,1286,1280,1280,1275,1275,1274,1269,1265,1265,1265,1263,1259,1258,1252,1251,1251,1249,1248,1246,1246,1243,1236,1233,1233,1232,1230,1226,1215,1212,1212,1209,1203,1202,1202,1200,1199,1194,1193,1192,1191,1188,1186,1183,1181,1179,1178],\"yaxis\":\"y\",\"type\":\"bar\"}],                        {\"template\":{\"data\":{\"histogram2dcontour\":[{\"type\":\"histogram2dcontour\",\"colorbar\":{\"outlinewidth\":0,\"ticks\":\"\"},\"colorscale\":[[0.0,\"#0d0887\"],[0.1111111111111111,\"#46039f\"],[0.2222222222222222,\"#7201a8\"],[0.3333333333333333,\"#9c179e\"],[0.4444444444444444,\"#bd3786\"],[0.5555555555555556,\"#d8576b\"],[0.6666666666666666,\"#ed7953\"],[0.7777777777777778,\"#fb9f3a\"],[0.8888888888888888,\"#fdca26\"],[1.0,\"#f0f921\"]]}],\"choropleth\":[{\"type\":\"choropleth\",\"colorbar\":{\"outlinewidth\":0,\"ticks\":\"\"}}],\"histogram2d\":[{\"type\":\"histogram2d\",\"colorbar\":{\"outlinewidth\":0,\"ticks\":\"\"},\"colorscale\":[[0.0,\"#0d0887\"],[0.1111111111111111,\"#46039f\"],[0.2222222222222222,\"#7201a8\"],[0.3333333333333333,\"#9c179e\"],[0.4444444444444444,\"#bd3786\"],[0.5555555555555556,\"#d8576b\"],[0.6666666666666666,\"#ed7953\"],[0.7777777777777778,\"#fb9f3a\"],[0.8888888888888888,\"#fdca26\"],[1.0,\"#f0f921\"]]}],\"heatmap\":[{\"type\":\"heatmap\",\"colorbar\":{\"outlinewidth\":0,\"ticks\":\"\"},\"colorscale\":[[0.0,\"#0d0887\"],[0.1111111111111111,\"#46039f\"],[0.2222222222222222,\"#7201a8\"],[0.3333333333333333,\"#9c179e\"],[0.4444444444444444,\"#bd3786\"],[0.5555555555555556,\"#d8576b\"],[0.6666666666666666,\"#ed7953\"],[0.7777777777777778,\"#fb9f3a\"],[0.8888888888888888,\"#fdca26\"],[1.0,\"#f0f921\"]]}],\"heatmapgl\":[{\"type\":\"heatmapgl\",\"colorbar\":{\"outlinewidth\":0,\"ticks\":\"\"},\"colorscale\":[[0.0,\"#0d0887\"],[0.1111111111111111,\"#46039f\"],[0.2222222222222222,\"#7201a8\"],[0.3333333333333333,\"#9c179e\"],[0.4444444444444444,\"#bd3786\"],[0.5555555555555556,\"#d8576b\"],[0.6666666666666666,\"#ed7953\"],[0.7777777777777778,\"#fb9f3a\"],[0.8888888888888888,\"#fdca26\"],[1.0,\"#f0f921\"]]}],\"contourcarpet\":[{\"type\":\"contourcarpet\",\"colorbar\":{\"outlinewidth\":0,\"ticks\":\"\"}}],\"contour\":[{\"type\":\"contour\",\"colorbar\":{\"outlinewidth\":0,\"ticks\":\"\"},\"colorscale\":[[0.0,\"#0d0887\"],[0.1111111111111111,\"#46039f\"],[0.2222222222222222,\"#7201a8\"],[0.3333333333333333,\"#9c179e\"],[0.4444444444444444,\"#bd3786\"],[0.5555555555555556,\"#d8576b\"],[0.6666666666666666,\"#ed7953\"],[0.7777777777777778,\"#fb9f3a\"],[0.8888888888888888,\"#fdca26\"],[1.0,\"#f0f921\"]]}],\"surface\":[{\"type\":\"surface\",\"colorbar\":{\"outlinewidth\":0,\"ticks\":\"\"},\"colorscale\":[[0.0,\"#0d0887\"],[0.1111111111111111,\"#46039f\"],[0.2222222222222222,\"#7201a8\"],[0.3333333333333333,\"#9c179e\"],[0.4444444444444444,\"#bd3786\"],[0.5555555555555556,\"#d8576b\"],[0.6666666666666666,\"#ed7953\"],[0.7777777777777778,\"#fb9f3a\"],[0.8888888888888888,\"#fdca26\"],[1.0,\"#f0f921\"]]}],\"mesh3d\":[{\"type\":\"mesh3d\",\"colorbar\":{\"outlinewidth\":0,\"ticks\":\"\"}}],\"scatter\":[{\"fillpattern\":{\"fillmode\":\"overlay\",\"size\":10,\"solidity\":0.2},\"type\":\"scatter\"}],\"parcoords\":[{\"type\":\"parcoords\",\"line\":{\"colorbar\":{\"outlinewidth\":0,\"ticks\":\"\"}}}],\"scatterpolargl\":[{\"type\":\"scatterpolargl\",\"marker\":{\"colorbar\":{\"outlinewidth\":0,\"ticks\":\"\"}}}],\"bar\":[{\"error_x\":{\"color\":\"#2a3f5f\"},\"error_y\":{\"color\":\"#2a3f5f\"},\"marker\":{\"line\":{\"color\":\"#E5ECF6\",\"width\":0.5},\"pattern\":{\"fillmode\":\"overlay\",\"size\":10,\"solidity\":0.2}},\"type\":\"bar\"}],\"scattergeo\":[{\"type\":\"scattergeo\",\"marker\":{\"colorbar\":{\"outlinewidth\":0,\"ticks\":\"\"}}}],\"scatterpolar\":[{\"type\":\"scatterpolar\",\"marker\":{\"colorbar\":{\"outlinewidth\":0,\"ticks\":\"\"}}}],\"histogram\":[{\"marker\":{\"pattern\":{\"fillmode\":\"overlay\",\"size\":10,\"solidity\":0.2}},\"type\":\"histogram\"}],\"scattergl\":[{\"type\":\"scattergl\",\"marker\":{\"colorbar\":{\"outlinewidth\":0,\"ticks\":\"\"}}}],\"scatter3d\":[{\"type\":\"scatter3d\",\"line\":{\"colorbar\":{\"outlinewidth\":0,\"ticks\":\"\"}},\"marker\":{\"colorbar\":{\"outlinewidth\":0,\"ticks\":\"\"}}}],\"scattermapbox\":[{\"type\":\"scattermapbox\",\"marker\":{\"colorbar\":{\"outlinewidth\":0,\"ticks\":\"\"}}}],\"scatterternary\":[{\"type\":\"scatterternary\",\"marker\":{\"colorbar\":{\"outlinewidth\":0,\"ticks\":\"\"}}}],\"scattercarpet\":[{\"type\":\"scattercarpet\",\"marker\":{\"colorbar\":{\"outlinewidth\":0,\"ticks\":\"\"}}}],\"carpet\":[{\"aaxis\":{\"endlinecolor\":\"#2a3f5f\",\"gridcolor\":\"white\",\"linecolor\":\"white\",\"minorgridcolor\":\"white\",\"startlinecolor\":\"#2a3f5f\"},\"baxis\":{\"endlinecolor\":\"#2a3f5f\",\"gridcolor\":\"white\",\"linecolor\":\"white\",\"minorgridcolor\":\"white\",\"startlinecolor\":\"#2a3f5f\"},\"type\":\"carpet\"}],\"table\":[{\"cells\":{\"fill\":{\"color\":\"#EBF0F8\"},\"line\":{\"color\":\"white\"}},\"header\":{\"fill\":{\"color\":\"#C8D4E3\"},\"line\":{\"color\":\"white\"}},\"type\":\"table\"}],\"barpolar\":[{\"marker\":{\"line\":{\"color\":\"#E5ECF6\",\"width\":0.5},\"pattern\":{\"fillmode\":\"overlay\",\"size\":10,\"solidity\":0.2}},\"type\":\"barpolar\"}],\"pie\":[{\"automargin\":true,\"type\":\"pie\"}]},\"layout\":{\"autotypenumbers\":\"strict\",\"colorway\":[\"#636efa\",\"#EF553B\",\"#00cc96\",\"#ab63fa\",\"#FFA15A\",\"#19d3f3\",\"#FF6692\",\"#B6E880\",\"#FF97FF\",\"#FECB52\"],\"font\":{\"color\":\"#2a3f5f\"},\"hovermode\":\"closest\",\"hoverlabel\":{\"align\":\"left\"},\"paper_bgcolor\":\"white\",\"plot_bgcolor\":\"#E5ECF6\",\"polar\":{\"bgcolor\":\"#E5ECF6\",\"angularaxis\":{\"gridcolor\":\"white\",\"linecolor\":\"white\",\"ticks\":\"\"},\"radialaxis\":{\"gridcolor\":\"white\",\"linecolor\":\"white\",\"ticks\":\"\"}},\"ternary\":{\"bgcolor\":\"#E5ECF6\",\"aaxis\":{\"gridcolor\":\"white\",\"linecolor\":\"white\",\"ticks\":\"\"},\"baxis\":{\"gridcolor\":\"white\",\"linecolor\":\"white\",\"ticks\":\"\"},\"caxis\":{\"gridcolor\":\"white\",\"linecolor\":\"white\",\"ticks\":\"\"}},\"coloraxis\":{\"colorbar\":{\"outlinewidth\":0,\"ticks\":\"\"}},\"colorscale\":{\"sequential\":[[0.0,\"#0d0887\"],[0.1111111111111111,\"#46039f\"],[0.2222222222222222,\"#7201a8\"],[0.3333333333333333,\"#9c179e\"],[0.4444444444444444,\"#bd3786\"],[0.5555555555555556,\"#d8576b\"],[0.6666666666666666,\"#ed7953\"],[0.7777777777777778,\"#fb9f3a\"],[0.8888888888888888,\"#fdca26\"],[1.0,\"#f0f921\"]],\"sequentialminus\":[[0.0,\"#0d0887\"],[0.1111111111111111,\"#46039f\"],[0.2222222222222222,\"#7201a8\"],[0.3333333333333333,\"#9c179e\"],[0.4444444444444444,\"#bd3786\"],[0.5555555555555556,\"#d8576b\"],[0.6666666666666666,\"#ed7953\"],[0.7777777777777778,\"#fb9f3a\"],[0.8888888888888888,\"#fdca26\"],[1.0,\"#f0f921\"]],\"diverging\":[[0,\"#8e0152\"],[0.1,\"#c51b7d\"],[0.2,\"#de77ae\"],[0.3,\"#f1b6da\"],[0.4,\"#fde0ef\"],[0.5,\"#f7f7f7\"],[0.6,\"#e6f5d0\"],[0.7,\"#b8e186\"],[0.8,\"#7fbc41\"],[0.9,\"#4d9221\"],[1,\"#276419\"]]},\"xaxis\":{\"gridcolor\":\"white\",\"linecolor\":\"white\",\"ticks\":\"\",\"title\":{\"standoff\":15},\"zerolinecolor\":\"white\",\"automargin\":true,\"zerolinewidth\":2},\"yaxis\":{\"gridcolor\":\"white\",\"linecolor\":\"white\",\"ticks\":\"\",\"title\":{\"standoff\":15},\"zerolinecolor\":\"white\",\"automargin\":true,\"zerolinewidth\":2},\"scene\":{\"xaxis\":{\"backgroundcolor\":\"#E5ECF6\",\"gridcolor\":\"white\",\"linecolor\":\"white\",\"showbackground\":true,\"ticks\":\"\",\"zerolinecolor\":\"white\",\"gridwidth\":2},\"yaxis\":{\"backgroundcolor\":\"#E5ECF6\",\"gridcolor\":\"white\",\"linecolor\":\"white\",\"showbackground\":true,\"ticks\":\"\",\"zerolinecolor\":\"white\",\"gridwidth\":2},\"zaxis\":{\"backgroundcolor\":\"#E5ECF6\",\"gridcolor\":\"white\",\"linecolor\":\"white\",\"showbackground\":true,\"ticks\":\"\",\"zerolinecolor\":\"white\",\"gridwidth\":2}},\"shapedefaults\":{\"line\":{\"color\":\"#2a3f5f\"}},\"annotationdefaults\":{\"arrowcolor\":\"#2a3f5f\",\"arrowhead\":0,\"arrowwidth\":1},\"geo\":{\"bgcolor\":\"white\",\"landcolor\":\"#E5ECF6\",\"subunitcolor\":\"white\",\"showland\":true,\"showlakes\":true,\"lakecolor\":\"white\"},\"title\":{\"x\":0.05},\"mapbox\":{\"style\":\"light\"}}},\"xaxis\":{\"anchor\":\"y\",\"domain\":[0.0,1.0],\"title\":{\"text\":\"index\"}},\"yaxis\":{\"anchor\":\"x\",\"domain\":[0.0,1.0],\"title\":{\"text\":\"count\"}},\"legend\":{\"tracegroupgap\":0},\"margin\":{\"t\":60},\"barmode\":\"relative\"},                        {\"responsive\": true}                    ).then(function(){\n",
              "                            \n",
              "var gd = document.getElementById('8e0a924f-5952-426b-8cc6-6582b1a1dd63');\n",
              "var x = new MutationObserver(function (mutations, observer) {{\n",
              "        var display = window.getComputedStyle(gd).display;\n",
              "        if (!display || display === 'none') {{\n",
              "            console.log([gd, 'removed!']);\n",
              "            Plotly.purge(gd);\n",
              "            observer.disconnect();\n",
              "        }}\n",
              "}});\n",
              "\n",
              "// Listen for the removal of the full notebook cells\n",
              "var notebookContainer = gd.closest('#notebook-container');\n",
              "if (notebookContainer) {{\n",
              "    x.observe(notebookContainer, {childList: true});\n",
              "}}\n",
              "\n",
              "// Listen for the clearing of the current output cell\n",
              "var outputEl = gd.closest('.output');\n",
              "if (outputEl) {{\n",
              "    x.observe(outputEl, {childList: true});\n",
              "}}\n",
              "\n",
              "                        })                };                            </script>        </div>\n",
              "</body>\n",
              "</html>"
            ]
          },
          "metadata": {}
        }
      ]
    },
    {
      "cell_type": "code",
      "metadata": {
        "id": "61uLLn7O1nb7",
        "colab": {
          "base_uri": "https://localhost:8080/",
          "height": 733
        },
        "outputId": "eadf1f14-4169-492e-a50c-23d58c4d0d4f"
      },
      "source": [
        "# Cantidad de tokens en todo el corpus\n",
        "most_importants = get_top_n_words(df[df.label=='FAKE'].text, n=500)\n",
        "print(most_importants.head(10))\n",
        "px.bar(most_importants, x=most_importants.index, y='count')"
      ],
      "execution_count": null,
      "outputs": [
        {
          "output_type": "stream",
          "name": "stdout",
          "text": [
            "       count\n",
            "the   129572\n",
            "of     61012\n",
            "to     60137\n",
            "and    55139\n",
            "in     40577\n",
            "that   30424\n",
            "is     27172\n",
            "for    19615\n",
            "it     17927\n",
            "on     16082\n"
          ]
        },
        {
          "output_type": "display_data",
          "data": {
            "text/html": [
              "<html>\n",
              "<head><meta charset=\"utf-8\" /></head>\n",
              "<body>\n",
              "    <div>            <script src=\"https://cdnjs.cloudflare.com/ajax/libs/mathjax/2.7.5/MathJax.js?config=TeX-AMS-MML_SVG\"></script><script type=\"text/javascript\">if (window.MathJax && window.MathJax.Hub && window.MathJax.Hub.Config) {window.MathJax.Hub.Config({SVG: {font: \"STIX-Web\"}});}</script>                <script type=\"text/javascript\">window.PlotlyConfig = {MathJaxConfig: 'local'};</script>\n",
              "        <script charset=\"utf-8\" src=\"https://cdn.plot.ly/plotly-2.24.1.min.js\"></script>                <div id=\"6939f202-f6a7-42d1-9734-fc090cf923ad\" class=\"plotly-graph-div\" style=\"height:525px; width:100%;\"></div>            <script type=\"text/javascript\">                                    window.PLOTLYENV=window.PLOTLYENV || {};                                    if (document.getElementById(\"6939f202-f6a7-42d1-9734-fc090cf923ad\")) {                    Plotly.newPlot(                        \"6939f202-f6a7-42d1-9734-fc090cf923ad\",                        [{\"alignmentgroup\":\"True\",\"hovertemplate\":\"index=%{x}\\u003cbr\\u003ecount=%{y}\\u003cextra\\u003e\\u003c\\u002fextra\\u003e\",\"legendgroup\":\"\",\"marker\":{\"color\":\"#636efa\",\"pattern\":{\"shape\":\"\"}},\"name\":\"\",\"offsetgroup\":\"\",\"orientation\":\"v\",\"showlegend\":false,\"textposition\":\"auto\",\"x\":[\"the\",\"of\",\"to\",\"and\",\"in\",\"that\",\"is\",\"for\",\"it\",\"on\",\"as\",\"with\",\"this\",\"are\",\"by\",\"be\",\"was\",\"have\",\"not\",\"they\",\"from\",\"you\",\"we\",\"has\",\"he\",\"at\",\"an\",\"but\",\"will\",\"or\",\"clinton\",\"trump\",\"their\",\"who\",\"his\",\"all\",\"about\",\"if\",\"people\",\"what\",\"one\",\"us\",\"been\",\"there\",\"can\",\"would\",\"more\",\"which\",\"so\",\"hillary\",\"our\",\"were\",\"no\",\"her\",\"out\",\"when\",\"said\",\"she\",\"had\",\"up\",\"just\",\"new\",\"do\",\"its\",\"other\",\"your\",\"like\",\"into\",\"also\",\"world\",\"now\",\"over\",\"them\",\"election\",\"than\",\"time\",\"these\",\"some\",\"only\",\"state\",\"even\",\"2016\",\"government\",\"after\",\"how\",\"president\",\"because\",\"many\",\"american\",\"war\",\"could\",\"most\",\"any\",\"being\",\"against\",\"states\",\"my\",\"obama\",\"russia\",\"years\",\"those\",\"first\",\"campaign\",\"media\",\"get\",\"two\",\"then\",\"very\",\"know\",\"may\",\"while\",\"well\",\"fbi\",\"year\",\"donald\",\"here\",\"way\",\"political\",\"country\",\"america\",\"should\",\"right\",\"before\",\"such\",\"re\",\"don\",\"see\",\"united\",\"him\",\"make\",\"where\",\"going\",\"news\",\"think\",\"day\",\"public\",\"white\",\"did\",\"much\",\"take\",\"back\",\"down\",\"me\",\"made\",\"why\",\"october\",\"com\",\"through\",\"own\",\"last\",\"since\",\"power\",\"military\",\"party\",\"system\",\"national\",\"go\",\"according\",\"say\",\"between\",\"same\",\"under\",\"emails\",\"russian\",\"off\",\"another\",\"use\",\"want\",\"email\",\"never\",\"during\",\"law\",\"both\",\"life\",\"still\",\"house\",\"americans\",\"presidential\",\"every\",\"support\",\"good\",\"police\",\"000\",\"vote\",\"fact\",\"money\",\"does\",\"long\",\"today\",\"told\",\"part\",\"policy\",\"work\",\"need\",\"information\",\"syria\",\"change\",\"however\",\"around\",\"investigation\",\"used\",\"foreign\",\"times\",\"black\",\"washington\",\"too\",\"called\",\"case\",\"november\",\"democratic\",\"come\",\"free\",\"without\",\"really\",\"federal\",\"far\",\"end\",\"things\",\"women\",\"already\",\"post\",\"including\",\"next\",\"10\",\"former\",\"security\",\"order\",\"found\",\"might\",\"man\",\"percent\",\"ve\",\"something\",\"left\",\"million\",\"department\",\"comey\",\"control\",\"real\",\"believe\",\"republican\",\"health\",\"must\",\"point\",\"help\",\"report\",\"bill\",\"put\",\"look\",\"great\",\"again\",\"candidate\",\"human\",\"says\",\"history\",\"actually\",\"become\",\"days\",\"source\",\"few\",\"general\",\"global\",\"china\",\"force\",\"voting\",\"rights\",\"yet\",\"place\",\"high\",\"article\",\"let\",\"ever\",\"anti\",\"nation\",\"group\",\"countries\",\"economic\",\"old\",\"course\",\"evidence\",\"social\",\"children\",\"john\",\"video\",\"office\",\"nothing\",\"voters\",\"share\",\"likely\",\"least\",\"international\",\"three\",\"thing\",\"home\",\"justice\",\"once\",\"big\",\"given\",\"reported\",\"nuclear\",\"israel\",\"wikileaks\",\"show\",\"family\",\"each\",\"keep\",\"private\",\"important\",\"secretary\",\"better\",\"city\",\"top\",\"number\",\"foundation\",\"forces\",\"11\",\"director\",\"twitter\",\"away\",\"officials\",\"recent\",\"york\",\"major\",\"little\",\"north\",\"best\",\"water\",\"others\",\"am\",\"find\",\"whether\",\"week\",\"didn\",\"congress\",\"past\",\"matter\",\"enough\",\"clear\",\"though\",\"ago\",\"within\",\"means\",\"always\",\"less\",\"seen\",\"2015\",\"working\",\"doing\",\"got\",\"doesn\",\"story\",\"until\",\"gold\",\"administration\",\"based\",\"known\",\"putin\",\"financial\",\"lot\",\"mr\",\"question\",\"western\",\"give\",\"different\",\"call\",\"continue\",\"court\",\"won\",\"act\",\"anything\",\"saying\",\"among\",\"podesta\",\"future\",\"using\",\"facebook\",\"several\",\"behind\",\"person\",\"full\",\"win\",\"possible\",\"having\",\"members\",\"reason\",\"democrats\",\"press\",\"wall\",\"done\",\"instead\",\"name\",\"al\",\"business\",\"able\",\"reports\",\"making\",\"came\",\"live\",\"second\",\"ll\",\"issue\",\"street\",\"problem\",\"pay\",\"truth\",\"process\",\"taking\",\"early\",\"air\",\"elections\",\"middle\",\"following\",\"establishment\",\"wrote\",\"south\",\"anyone\",\"attack\",\"stop\",\"almost\",\"across\",\"entire\",\"defense\",\"trying\",\"set\",\"men\",\"saudi\",\"read\",\"true\",\"took\",\"europe\",\"non\",\"simply\",\"isis\",\"official\",\"themselves\",\"class\",\"lives\",\"east\",\"four\",\"violence\",\"large\",\"close\",\"self\",\"iraq\",\"published\",\"example\",\"along\",\"society\",\"market\",\"open\",\"20\",\"sure\",\"rather\",\"further\",\"bank\",\"run\",\"supporters\",\"groups\",\"bad\",\"food\",\"isn\",\"often\",\"brain\",\"deal\",\"iran\",\"intelligence\",\"months\",\"taken\",\"politics\",\"comes\",\"someone\",\"later\",\"everything\",\"result\",\"issues\",\"kind\",\"itself\",\"coming\",\"either\",\"plan\",\"idea\",\"led\",\"move\",\"line\",\"probably\",\"death\",\"words\",\"research\",\"asked\",\"mind\",\"community\",\"economy\",\"republicans\",\"face\",\"level\",\"results\",\"weapons\",\"everyone\",\"tell\",\"university\"],\"xaxis\":\"x\",\"y\":[129572,61012,60137,55139,40577,30424,27172,19615,17927,16082,14413,13471,12882,12854,12399,11694,11157,10605,9994,9564,9461,9323,9315,9079,8724,8434,7625,7547,7208,7043,6845,6735,6685,6380,6322,6087,5591,5480,5441,5378,5197,5185,5146,5020,4942,4923,4898,4814,4663,4593,4512,4373,4356,4232,4155,4150,4009,4002,3974,3766,3578,3522,3476,3456,3411,3322,3319,3301,3195,3195,3169,3165,3157,3083,3066,3036,3027,3027,2948,2947,2928,2846,2826,2769,2747,2703,2636,2596,2526,2525,2506,2492,2486,2389,2360,2319,2319,2262,2226,2218,2201,2200,2138,2130,2079,2075,2013,1976,1974,1965,1963,1924,1917,1890,1885,1859,1856,1856,1845,1834,1815,1800,1791,1787,1775,1769,1761,1760,1748,1743,1738,1707,1705,1700,1611,1601,1588,1578,1574,1561,1548,1504,1491,1485,1477,1474,1466,1465,1464,1442,1436,1432,1425,1413,1381,1380,1377,1376,1364,1363,1357,1354,1348,1338,1327,1323,1306,1302,1296,1285,1280,1276,1275,1272,1257,1252,1244,1242,1238,1237,1233,1229,1213,1210,1209,1200,1188,1187,1170,1155,1141,1134,1131,1126,1125,1125,1113,1109,1106,1100,1098,1093,1086,1078,1072,1058,1056,1056,1046,1045,1041,1030,1027,1026,1015,1004,1004,1000,992,990,984,983,981,980,979,976,975,974,973,971,964,961,960,954,953,951,951,947,942,939,937,926,925,917,916,904,900,896,886,885,883,881,879,878,876,875,870,865,856,856,854,852,849,848,846,844,843,843,841,837,836,836,835,834,829,828,824,823,823,818,809,805,797,796,787,784,780,775,773,768,768,765,761,760,759,754,751,744,743,741,740,740,736,735,734,731,729,728,727,726,726,725,723,719,716,715,714,714,711,710,710,709,707,707,706,706,704,704,700,698,698,692,691,684,678,678,678,678,675,675,670,669,667,664,659,658,658,657,656,654,651,650,649,647,647,645,644,643,641,640,639,639,639,638,637,637,637,637,636,636,634,629,629,628,626,624,622,622,619,613,611,611,605,605,604,603,599,599,597,597,595,594,594,593,593,592,591,589,587,587,586,582,581,581,579,577,576,575,575,572,572,571,569,566,563,562,562,562,562,561,561,560,559,558,558,558,557,554,553,550,550,549,547,547,546,546,545,543,542,541,541,539,539,537,537,537,536,535,535,534,533,530,530,529,525,523,522,521,520,519,518,517,516,515,514,513,513,512,511,511,510,509,508,507,507,506,505,505,502,502,501,501,501,498,497,496,494,492,491,491,490,490,490,490,488,488,488,487,485,484],\"yaxis\":\"y\",\"type\":\"bar\"}],                        {\"template\":{\"data\":{\"histogram2dcontour\":[{\"type\":\"histogram2dcontour\",\"colorbar\":{\"outlinewidth\":0,\"ticks\":\"\"},\"colorscale\":[[0.0,\"#0d0887\"],[0.1111111111111111,\"#46039f\"],[0.2222222222222222,\"#7201a8\"],[0.3333333333333333,\"#9c179e\"],[0.4444444444444444,\"#bd3786\"],[0.5555555555555556,\"#d8576b\"],[0.6666666666666666,\"#ed7953\"],[0.7777777777777778,\"#fb9f3a\"],[0.8888888888888888,\"#fdca26\"],[1.0,\"#f0f921\"]]}],\"choropleth\":[{\"type\":\"choropleth\",\"colorbar\":{\"outlinewidth\":0,\"ticks\":\"\"}}],\"histogram2d\":[{\"type\":\"histogram2d\",\"colorbar\":{\"outlinewidth\":0,\"ticks\":\"\"},\"colorscale\":[[0.0,\"#0d0887\"],[0.1111111111111111,\"#46039f\"],[0.2222222222222222,\"#7201a8\"],[0.3333333333333333,\"#9c179e\"],[0.4444444444444444,\"#bd3786\"],[0.5555555555555556,\"#d8576b\"],[0.6666666666666666,\"#ed7953\"],[0.7777777777777778,\"#fb9f3a\"],[0.8888888888888888,\"#fdca26\"],[1.0,\"#f0f921\"]]}],\"heatmap\":[{\"type\":\"heatmap\",\"colorbar\":{\"outlinewidth\":0,\"ticks\":\"\"},\"colorscale\":[[0.0,\"#0d0887\"],[0.1111111111111111,\"#46039f\"],[0.2222222222222222,\"#7201a8\"],[0.3333333333333333,\"#9c179e\"],[0.4444444444444444,\"#bd3786\"],[0.5555555555555556,\"#d8576b\"],[0.6666666666666666,\"#ed7953\"],[0.7777777777777778,\"#fb9f3a\"],[0.8888888888888888,\"#fdca26\"],[1.0,\"#f0f921\"]]}],\"heatmapgl\":[{\"type\":\"heatmapgl\",\"colorbar\":{\"outlinewidth\":0,\"ticks\":\"\"},\"colorscale\":[[0.0,\"#0d0887\"],[0.1111111111111111,\"#46039f\"],[0.2222222222222222,\"#7201a8\"],[0.3333333333333333,\"#9c179e\"],[0.4444444444444444,\"#bd3786\"],[0.5555555555555556,\"#d8576b\"],[0.6666666666666666,\"#ed7953\"],[0.7777777777777778,\"#fb9f3a\"],[0.8888888888888888,\"#fdca26\"],[1.0,\"#f0f921\"]]}],\"contourcarpet\":[{\"type\":\"contourcarpet\",\"colorbar\":{\"outlinewidth\":0,\"ticks\":\"\"}}],\"contour\":[{\"type\":\"contour\",\"colorbar\":{\"outlinewidth\":0,\"ticks\":\"\"},\"colorscale\":[[0.0,\"#0d0887\"],[0.1111111111111111,\"#46039f\"],[0.2222222222222222,\"#7201a8\"],[0.3333333333333333,\"#9c179e\"],[0.4444444444444444,\"#bd3786\"],[0.5555555555555556,\"#d8576b\"],[0.6666666666666666,\"#ed7953\"],[0.7777777777777778,\"#fb9f3a\"],[0.8888888888888888,\"#fdca26\"],[1.0,\"#f0f921\"]]}],\"surface\":[{\"type\":\"surface\",\"colorbar\":{\"outlinewidth\":0,\"ticks\":\"\"},\"colorscale\":[[0.0,\"#0d0887\"],[0.1111111111111111,\"#46039f\"],[0.2222222222222222,\"#7201a8\"],[0.3333333333333333,\"#9c179e\"],[0.4444444444444444,\"#bd3786\"],[0.5555555555555556,\"#d8576b\"],[0.6666666666666666,\"#ed7953\"],[0.7777777777777778,\"#fb9f3a\"],[0.8888888888888888,\"#fdca26\"],[1.0,\"#f0f921\"]]}],\"mesh3d\":[{\"type\":\"mesh3d\",\"colorbar\":{\"outlinewidth\":0,\"ticks\":\"\"}}],\"scatter\":[{\"fillpattern\":{\"fillmode\":\"overlay\",\"size\":10,\"solidity\":0.2},\"type\":\"scatter\"}],\"parcoords\":[{\"type\":\"parcoords\",\"line\":{\"colorbar\":{\"outlinewidth\":0,\"ticks\":\"\"}}}],\"scatterpolargl\":[{\"type\":\"scatterpolargl\",\"marker\":{\"colorbar\":{\"outlinewidth\":0,\"ticks\":\"\"}}}],\"bar\":[{\"error_x\":{\"color\":\"#2a3f5f\"},\"error_y\":{\"color\":\"#2a3f5f\"},\"marker\":{\"line\":{\"color\":\"#E5ECF6\",\"width\":0.5},\"pattern\":{\"fillmode\":\"overlay\",\"size\":10,\"solidity\":0.2}},\"type\":\"bar\"}],\"scattergeo\":[{\"type\":\"scattergeo\",\"marker\":{\"colorbar\":{\"outlinewidth\":0,\"ticks\":\"\"}}}],\"scatterpolar\":[{\"type\":\"scatterpolar\",\"marker\":{\"colorbar\":{\"outlinewidth\":0,\"ticks\":\"\"}}}],\"histogram\":[{\"marker\":{\"pattern\":{\"fillmode\":\"overlay\",\"size\":10,\"solidity\":0.2}},\"type\":\"histogram\"}],\"scattergl\":[{\"type\":\"scattergl\",\"marker\":{\"colorbar\":{\"outlinewidth\":0,\"ticks\":\"\"}}}],\"scatter3d\":[{\"type\":\"scatter3d\",\"line\":{\"colorbar\":{\"outlinewidth\":0,\"ticks\":\"\"}},\"marker\":{\"colorbar\":{\"outlinewidth\":0,\"ticks\":\"\"}}}],\"scattermapbox\":[{\"type\":\"scattermapbox\",\"marker\":{\"colorbar\":{\"outlinewidth\":0,\"ticks\":\"\"}}}],\"scatterternary\":[{\"type\":\"scatterternary\",\"marker\":{\"colorbar\":{\"outlinewidth\":0,\"ticks\":\"\"}}}],\"scattercarpet\":[{\"type\":\"scattercarpet\",\"marker\":{\"colorbar\":{\"outlinewidth\":0,\"ticks\":\"\"}}}],\"carpet\":[{\"aaxis\":{\"endlinecolor\":\"#2a3f5f\",\"gridcolor\":\"white\",\"linecolor\":\"white\",\"minorgridcolor\":\"white\",\"startlinecolor\":\"#2a3f5f\"},\"baxis\":{\"endlinecolor\":\"#2a3f5f\",\"gridcolor\":\"white\",\"linecolor\":\"white\",\"minorgridcolor\":\"white\",\"startlinecolor\":\"#2a3f5f\"},\"type\":\"carpet\"}],\"table\":[{\"cells\":{\"fill\":{\"color\":\"#EBF0F8\"},\"line\":{\"color\":\"white\"}},\"header\":{\"fill\":{\"color\":\"#C8D4E3\"},\"line\":{\"color\":\"white\"}},\"type\":\"table\"}],\"barpolar\":[{\"marker\":{\"line\":{\"color\":\"#E5ECF6\",\"width\":0.5},\"pattern\":{\"fillmode\":\"overlay\",\"size\":10,\"solidity\":0.2}},\"type\":\"barpolar\"}],\"pie\":[{\"automargin\":true,\"type\":\"pie\"}]},\"layout\":{\"autotypenumbers\":\"strict\",\"colorway\":[\"#636efa\",\"#EF553B\",\"#00cc96\",\"#ab63fa\",\"#FFA15A\",\"#19d3f3\",\"#FF6692\",\"#B6E880\",\"#FF97FF\",\"#FECB52\"],\"font\":{\"color\":\"#2a3f5f\"},\"hovermode\":\"closest\",\"hoverlabel\":{\"align\":\"left\"},\"paper_bgcolor\":\"white\",\"plot_bgcolor\":\"#E5ECF6\",\"polar\":{\"bgcolor\":\"#E5ECF6\",\"angularaxis\":{\"gridcolor\":\"white\",\"linecolor\":\"white\",\"ticks\":\"\"},\"radialaxis\":{\"gridcolor\":\"white\",\"linecolor\":\"white\",\"ticks\":\"\"}},\"ternary\":{\"bgcolor\":\"#E5ECF6\",\"aaxis\":{\"gridcolor\":\"white\",\"linecolor\":\"white\",\"ticks\":\"\"},\"baxis\":{\"gridcolor\":\"white\",\"linecolor\":\"white\",\"ticks\":\"\"},\"caxis\":{\"gridcolor\":\"white\",\"linecolor\":\"white\",\"ticks\":\"\"}},\"coloraxis\":{\"colorbar\":{\"outlinewidth\":0,\"ticks\":\"\"}},\"colorscale\":{\"sequential\":[[0.0,\"#0d0887\"],[0.1111111111111111,\"#46039f\"],[0.2222222222222222,\"#7201a8\"],[0.3333333333333333,\"#9c179e\"],[0.4444444444444444,\"#bd3786\"],[0.5555555555555556,\"#d8576b\"],[0.6666666666666666,\"#ed7953\"],[0.7777777777777778,\"#fb9f3a\"],[0.8888888888888888,\"#fdca26\"],[1.0,\"#f0f921\"]],\"sequentialminus\":[[0.0,\"#0d0887\"],[0.1111111111111111,\"#46039f\"],[0.2222222222222222,\"#7201a8\"],[0.3333333333333333,\"#9c179e\"],[0.4444444444444444,\"#bd3786\"],[0.5555555555555556,\"#d8576b\"],[0.6666666666666666,\"#ed7953\"],[0.7777777777777778,\"#fb9f3a\"],[0.8888888888888888,\"#fdca26\"],[1.0,\"#f0f921\"]],\"diverging\":[[0,\"#8e0152\"],[0.1,\"#c51b7d\"],[0.2,\"#de77ae\"],[0.3,\"#f1b6da\"],[0.4,\"#fde0ef\"],[0.5,\"#f7f7f7\"],[0.6,\"#e6f5d0\"],[0.7,\"#b8e186\"],[0.8,\"#7fbc41\"],[0.9,\"#4d9221\"],[1,\"#276419\"]]},\"xaxis\":{\"gridcolor\":\"white\",\"linecolor\":\"white\",\"ticks\":\"\",\"title\":{\"standoff\":15},\"zerolinecolor\":\"white\",\"automargin\":true,\"zerolinewidth\":2},\"yaxis\":{\"gridcolor\":\"white\",\"linecolor\":\"white\",\"ticks\":\"\",\"title\":{\"standoff\":15},\"zerolinecolor\":\"white\",\"automargin\":true,\"zerolinewidth\":2},\"scene\":{\"xaxis\":{\"backgroundcolor\":\"#E5ECF6\",\"gridcolor\":\"white\",\"linecolor\":\"white\",\"showbackground\":true,\"ticks\":\"\",\"zerolinecolor\":\"white\",\"gridwidth\":2},\"yaxis\":{\"backgroundcolor\":\"#E5ECF6\",\"gridcolor\":\"white\",\"linecolor\":\"white\",\"showbackground\":true,\"ticks\":\"\",\"zerolinecolor\":\"white\",\"gridwidth\":2},\"zaxis\":{\"backgroundcolor\":\"#E5ECF6\",\"gridcolor\":\"white\",\"linecolor\":\"white\",\"showbackground\":true,\"ticks\":\"\",\"zerolinecolor\":\"white\",\"gridwidth\":2}},\"shapedefaults\":{\"line\":{\"color\":\"#2a3f5f\"}},\"annotationdefaults\":{\"arrowcolor\":\"#2a3f5f\",\"arrowhead\":0,\"arrowwidth\":1},\"geo\":{\"bgcolor\":\"white\",\"landcolor\":\"#E5ECF6\",\"subunitcolor\":\"white\",\"showland\":true,\"showlakes\":true,\"lakecolor\":\"white\"},\"title\":{\"x\":0.05},\"mapbox\":{\"style\":\"light\"}}},\"xaxis\":{\"anchor\":\"y\",\"domain\":[0.0,1.0],\"title\":{\"text\":\"index\"}},\"yaxis\":{\"anchor\":\"x\",\"domain\":[0.0,1.0],\"title\":{\"text\":\"count\"}},\"legend\":{\"tracegroupgap\":0},\"margin\":{\"t\":60},\"barmode\":\"relative\"},                        {\"responsive\": true}                    ).then(function(){\n",
              "                            \n",
              "var gd = document.getElementById('6939f202-f6a7-42d1-9734-fc090cf923ad');\n",
              "var x = new MutationObserver(function (mutations, observer) {{\n",
              "        var display = window.getComputedStyle(gd).display;\n",
              "        if (!display || display === 'none') {{\n",
              "            console.log([gd, 'removed!']);\n",
              "            Plotly.purge(gd);\n",
              "            observer.disconnect();\n",
              "        }}\n",
              "}});\n",
              "\n",
              "// Listen for the removal of the full notebook cells\n",
              "var notebookContainer = gd.closest('#notebook-container');\n",
              "if (notebookContainer) {{\n",
              "    x.observe(notebookContainer, {childList: true});\n",
              "}}\n",
              "\n",
              "// Listen for the clearing of the current output cell\n",
              "var outputEl = gd.closest('.output');\n",
              "if (outputEl) {{\n",
              "    x.observe(outputEl, {childList: true});\n",
              "}}\n",
              "\n",
              "                        })                };                            </script>        </div>\n",
              "</body>\n",
              "</html>"
            ]
          },
          "metadata": {}
        }
      ]
    },
    {
      "cell_type": "code",
      "metadata": {
        "id": "q7bBSDeD19h0",
        "colab": {
          "base_uri": "https://localhost:8080/",
          "height": 733
        },
        "outputId": "9adb87c0-f7eb-47e6-a9cd-b291a8c97b00"
      },
      "source": [
        "# Cantidad de tokens en todo el corpus\n",
        "most_importants = get_top_n_words(df[df.label=='REAL'].text, n=500)\n",
        "print(most_importants.head(10))\n",
        "px.bar(most_importants, x=most_importants.index, y='count')"
      ],
      "execution_count": null,
      "outputs": [
        {
          "output_type": "stream",
          "name": "stdout",
          "text": [
            "       count\n",
            "the   161460\n",
            "to     79744\n",
            "of     68847\n",
            "and    65003\n",
            "in     58160\n",
            "that   42171\n",
            "is     27263\n",
            "for    26863\n",
            "on     24775\n",
            "he     23924\n"
          ]
        },
        {
          "output_type": "display_data",
          "data": {
            "text/html": [
              "<html>\n",
              "<head><meta charset=\"utf-8\" /></head>\n",
              "<body>\n",
              "    <div>            <script src=\"https://cdnjs.cloudflare.com/ajax/libs/mathjax/2.7.5/MathJax.js?config=TeX-AMS-MML_SVG\"></script><script type=\"text/javascript\">if (window.MathJax && window.MathJax.Hub && window.MathJax.Hub.Config) {window.MathJax.Hub.Config({SVG: {font: \"STIX-Web\"}});}</script>                <script type=\"text/javascript\">window.PlotlyConfig = {MathJaxConfig: 'local'};</script>\n",
              "        <script charset=\"utf-8\" src=\"https://cdn.plot.ly/plotly-2.24.1.min.js\"></script>                <div id=\"fa4120ac-d5e2-40a5-a1cf-a9315f85970d\" class=\"plotly-graph-div\" style=\"height:525px; width:100%;\"></div>            <script type=\"text/javascript\">                                    window.PLOTLYENV=window.PLOTLYENV || {};                                    if (document.getElementById(\"fa4120ac-d5e2-40a5-a1cf-a9315f85970d\")) {                    Plotly.newPlot(                        \"fa4120ac-d5e2-40a5-a1cf-a9315f85970d\",                        [{\"alignmentgroup\":\"True\",\"hovertemplate\":\"index=%{x}\\u003cbr\\u003ecount=%{y}\\u003cextra\\u003e\\u003c\\u002fextra\\u003e\",\"legendgroup\":\"\",\"marker\":{\"color\":\"#636efa\",\"pattern\":{\"shape\":\"\"}},\"name\":\"\",\"offsetgroup\":\"\",\"orientation\":\"v\",\"showlegend\":false,\"textposition\":\"auto\",\"x\":[\"the\",\"to\",\"of\",\"and\",\"in\",\"that\",\"is\",\"for\",\"on\",\"he\",\"it\",\"as\",\"with\",\"said\",\"his\",\"was\",\"trump\",\"but\",\"have\",\"at\",\"has\",\"be\",\"are\",\"not\",\"this\",\"by\",\"who\",\"from\",\"they\",\"clinton\",\"an\",\"we\",\"about\",\"will\",\"more\",\"would\",\"she\",\"or\",\"their\",\"her\",\"you\",\"one\",\"people\",\"been\",\"state\",\"had\",\"what\",\"president\",\"if\",\"were\",\"obama\",\"there\",\"new\",\"all\",\"out\",\"campaign\",\"when\",\"up\",\"than\",\"which\",\"also\",\"republican\",\"can\",\"so\",\"after\",\"no\",\"party\",\"some\",\"other\",\"him\",\"over\",\"could\",\"do\",\"like\",\"time\",\"states\",\"just\",\"sanders\",\"our\",\"two\",\"them\",\"its\",\"house\",\"even\",\"percent\",\"into\",\"most\",\"now\",\"first\",\"because\",\"political\",\"those\",\"how\",\"many\",\"voters\",\"republicans\",\"only\",\"year\",\"presidential\",\"democratic\",\"cruz\",\"last\",\"going\",\"re\",\"against\",\"told\",\"while\",\"say\",\"white\",\"get\",\"years\",\"any\",\"news\",\"american\",\"bush\",\"us\",\"don\",\"where\",\"before\",\"hillary\",\"make\",\"gop\",\"country\",\"think\",\"former\",\"government\",\"much\",\"did\",\"way\",\"candidate\",\"election\",\"support\",\"back\",\"right\",\"vote\",\"says\",\"should\",\"these\",\"democrats\",\"national\",\"debate\",\"donald\",\"then\",\"may\",\"very\",\"both\",\"still\",\"well\",\"made\",\"week\",\"during\",\"police\",\"candidates\",\"my\",\"law\",\"rubio\",\"down\",\"being\",\"same\",\"day\",\"take\",\"policy\",\"know\",\"united\",\"among\",\"since\",\"race\",\"americans\",\"washington\",\"senate\",\"here\",\"america\",\"court\",\"iran\",\"want\",\"congress\",\"such\",\"between\",\"through\",\"according\",\"primary\",\"world\",\"security\",\"long\",\"whether\",\"tuesday\",\"another\",\"public\",\"bill\",\"see\",\"called\",\"off\",\"part\",\"deal\",\"win\",\"including\",\"three\",\"group\",\"sen\",\"media\",\"go\",\"work\",\"women\",\"nominee\",\"york\",\"ve\",\"department\",\"me\",\"conservative\",\"saying\",\"war\",\"own\",\"need\",\"administration\",\"won\",\"under\",\"night\",\"far\",\"every\",\"does\",\"officials\",\"good\",\"too\",\"federal\",\"next\",\"change\",\"secretary\",\"might\",\"never\",\"cnn\",\"john\",\"point\",\"likely\",\"why\",\"iowa\",\"million\",\"foreign\",\"come\",\"black\",\"big\",\"supporters\",\"issue\",\"general\",\"military\",\"000\",\"your\",\"left\",\"fox\",\"times\",\"past\",\"around\",\"nomination\",\"though\",\"thursday\",\"asked\",\"recent\",\"convention\",\"top\",\"attack\",\"didn\",\"less\",\"run\",\"isis\",\"issues\",\"delegates\",\"attacks\",\"press\",\"better\",\"politics\",\"2016\",\"speech\",\"case\",\"really\",\"office\",\"end\",\"least\",\"doesn\",\"leaders\",\"days\",\"again\",\"polls\",\"early\",\"use\",\"put\",\"four\",\"help\",\"things\",\"florida\",\"health\",\"paul\",\"believe\",\"monday\",\"got\",\"came\",\"already\",\"city\",\"man\",\"fact\",\"committee\",\"money\",\"yet\",\"report\",\"tax\",\"clear\",\"wednesday\",\"islamic\",\"without\",\"poll\",\"lot\",\"show\",\"months\",\"something\",\"2012\",\"senator\",\"statement\",\"running\",\"10\",\"power\",\"question\",\"iraq\",\"friday\",\"later\",\"post\",\"members\",\"few\",\"second\",\"university\",\"majority\",\"care\",\"immigration\",\"high\",\"several\",\"today\",\"little\",\"took\",\"look\",\"real\",\"ll\",\"place\",\"making\",\"each\",\"nuclear\",\"away\",\"family\",\"decision\",\"bernie\",\"rights\",\"used\",\"found\",\"nation\",\"old\",\"plan\",\"enough\",\"sunday\",\"number\",\"working\",\"important\",\"justice\",\"hard\",\"syria\",\"life\",\"become\",\"hampshire\",\"act\",\"governor\",\"job\",\"month\",\"lead\",\"business\",\"home\",\"leader\",\"gov\",\"program\",\"south\",\"until\",\"once\",\"system\",\"texas\",\"social\",\"doing\",\"best\",\"different\",\"let\",\"great\",\"across\",\"process\",\"others\",\"give\",\"kasich\",\"major\",\"official\",\"ago\",\"behind\",\"points\",\"economic\",\"romney\",\"fight\",\"history\",\"front\",\"based\",\"however\",\"keep\",\"trying\",\"himself\",\"seen\",\"center\",\"set\",\"middle\",\"must\",\"call\",\"ever\",\"thing\",\"added\",\"control\",\"ryan\",\"groups\",\"questions\",\"five\",\"person\",\"interview\",\"killed\",\"voting\",\"actually\",\"votes\",\"done\",\"gun\",\"earlier\",\"ohio\",\"given\",\"supreme\",\"ted\",\"2008\",\"11\",\"instead\",\"close\",\"problem\",\"forces\",\"information\",\"isn\",\"force\",\"carolina\",\"face\",\"third\",\"possible\",\"often\",\"marriage\",\"find\",\"al\",\"establishment\",\"free\",\"jeb\",\"almost\",\"wrote\",\"led\",\"kind\",\"strong\",\"weeks\",\"term\",\"economy\",\"conservatives\",\"getting\",\"men\",\"trade\",\"mr\",\"talk\",\"nearly\",\"reported\",\"comes\",\"chief\",\"march\",\"anti\",\"line\",\"religious\",\"speaker\",\"stop\",\"email\",\"matter\",\"side\",\"wall\",\"someone\",\"having\",\"late\",\"saturday\",\"christie\",\"young\",\"school\",\"story\",\"went\",\"children\",\"message\",\"personal\",\"jobs\",\"able\",\"together\",\"small\",\"private\",\"taking\",\"key\",\"action\",\"barack\"],\"xaxis\":\"x\",\"y\":[161460,79744,68847,65003,58160,42171,27263,26863,24775,23924,21670,18189,17407,17203,16079,15978,15702,13730,13660,13364,13312,13023,12833,12822,12209,12136,11381,11238,11146,10658,10452,10086,8685,8165,8095,7858,7593,7544,7293,7109,7071,6681,6309,6280,6264,6255,6176,6141,6107,5973,5972,5940,5809,5658,5619,5581,5411,5408,5394,5034,5030,4999,4908,4865,4709,4512,4465,4391,4370,4263,4230,4055,4028,3929,3923,3917,3870,3824,3824,3794,3755,3558,3555,3555,3468,3458,3444,3443,3420,3407,3360,3316,3283,3273,3199,3195,3150,3149,3108,3067,3060,2968,2951,2921,2874,2868,2832,2829,2821,2818,2779,2771,2732,2708,2702,2681,2659,2649,2628,2620,2615,2605,2589,2569,2563,2560,2527,2486,2466,2445,2410,2399,2391,2357,2328,2301,2290,2285,2276,2273,2273,2272,2264,2259,2240,2239,2178,2149,2140,2107,2071,2058,2041,2036,2021,1998,1985,1984,1979,1964,1935,1925,1920,1918,1914,1905,1904,1904,1899,1892,1889,1872,1867,1864,1860,1820,1805,1787,1779,1768,1749,1746,1745,1742,1731,1724,1721,1718,1714,1711,1682,1681,1666,1650,1643,1629,1613,1606,1602,1576,1566,1544,1535,1532,1530,1529,1527,1525,1524,1516,1502,1502,1499,1490,1490,1474,1459,1458,1451,1449,1447,1442,1434,1428,1414,1399,1398,1393,1392,1390,1376,1368,1368,1358,1351,1348,1342,1341,1338,1330,1312,1310,1309,1303,1302,1301,1299,1298,1293,1292,1288,1287,1284,1279,1276,1271,1271,1266,1260,1254,1249,1244,1244,1239,1239,1226,1224,1224,1221,1219,1218,1218,1208,1204,1195,1195,1190,1189,1183,1181,1177,1174,1172,1172,1171,1168,1167,1162,1155,1151,1151,1148,1144,1141,1140,1139,1137,1134,1132,1131,1127,1121,1119,1118,1118,1109,1103,1100,1097,1091,1088,1086,1085,1082,1077,1077,1076,1074,1073,1068,1065,1064,1062,1061,1054,1052,1051,1048,1048,1044,1039,1035,1035,1032,1031,1023,1022,1018,1009,1009,1008,1008,1006,1002,989,987,985,980,975,974,972,967,967,966,966,966,966,961,951,949,948,947,942,941,939,935,934,933,932,931,927,927,925,920,918,917,915,914,913,912,906,905,905,905,903,903,900,895,894,888,884,883,883,882,881,872,871,864,861,859,857,854,854,854,847,846,844,843,838,837,833,832,832,830,830,827,825,825,820,819,817,816,813,812,811,807,807,805,800,792,789,787,786,785,783,782,781,781,779,775,772,768,764,764,763,762,754,753,753,753,752,752,751,748,746,746,745,744,743,743,742,742,741,739,739,738,738,737,735,735,734,732,731,731,730,729,727,725,724,722,721,721,715,713,710,709,708,708,707,707,705,704,703,703,703,699,699,697,697,695],\"yaxis\":\"y\",\"type\":\"bar\"}],                        {\"template\":{\"data\":{\"histogram2dcontour\":[{\"type\":\"histogram2dcontour\",\"colorbar\":{\"outlinewidth\":0,\"ticks\":\"\"},\"colorscale\":[[0.0,\"#0d0887\"],[0.1111111111111111,\"#46039f\"],[0.2222222222222222,\"#7201a8\"],[0.3333333333333333,\"#9c179e\"],[0.4444444444444444,\"#bd3786\"],[0.5555555555555556,\"#d8576b\"],[0.6666666666666666,\"#ed7953\"],[0.7777777777777778,\"#fb9f3a\"],[0.8888888888888888,\"#fdca26\"],[1.0,\"#f0f921\"]]}],\"choropleth\":[{\"type\":\"choropleth\",\"colorbar\":{\"outlinewidth\":0,\"ticks\":\"\"}}],\"histogram2d\":[{\"type\":\"histogram2d\",\"colorbar\":{\"outlinewidth\":0,\"ticks\":\"\"},\"colorscale\":[[0.0,\"#0d0887\"],[0.1111111111111111,\"#46039f\"],[0.2222222222222222,\"#7201a8\"],[0.3333333333333333,\"#9c179e\"],[0.4444444444444444,\"#bd3786\"],[0.5555555555555556,\"#d8576b\"],[0.6666666666666666,\"#ed7953\"],[0.7777777777777778,\"#fb9f3a\"],[0.8888888888888888,\"#fdca26\"],[1.0,\"#f0f921\"]]}],\"heatmap\":[{\"type\":\"heatmap\",\"colorbar\":{\"outlinewidth\":0,\"ticks\":\"\"},\"colorscale\":[[0.0,\"#0d0887\"],[0.1111111111111111,\"#46039f\"],[0.2222222222222222,\"#7201a8\"],[0.3333333333333333,\"#9c179e\"],[0.4444444444444444,\"#bd3786\"],[0.5555555555555556,\"#d8576b\"],[0.6666666666666666,\"#ed7953\"],[0.7777777777777778,\"#fb9f3a\"],[0.8888888888888888,\"#fdca26\"],[1.0,\"#f0f921\"]]}],\"heatmapgl\":[{\"type\":\"heatmapgl\",\"colorbar\":{\"outlinewidth\":0,\"ticks\":\"\"},\"colorscale\":[[0.0,\"#0d0887\"],[0.1111111111111111,\"#46039f\"],[0.2222222222222222,\"#7201a8\"],[0.3333333333333333,\"#9c179e\"],[0.4444444444444444,\"#bd3786\"],[0.5555555555555556,\"#d8576b\"],[0.6666666666666666,\"#ed7953\"],[0.7777777777777778,\"#fb9f3a\"],[0.8888888888888888,\"#fdca26\"],[1.0,\"#f0f921\"]]}],\"contourcarpet\":[{\"type\":\"contourcarpet\",\"colorbar\":{\"outlinewidth\":0,\"ticks\":\"\"}}],\"contour\":[{\"type\":\"contour\",\"colorbar\":{\"outlinewidth\":0,\"ticks\":\"\"},\"colorscale\":[[0.0,\"#0d0887\"],[0.1111111111111111,\"#46039f\"],[0.2222222222222222,\"#7201a8\"],[0.3333333333333333,\"#9c179e\"],[0.4444444444444444,\"#bd3786\"],[0.5555555555555556,\"#d8576b\"],[0.6666666666666666,\"#ed7953\"],[0.7777777777777778,\"#fb9f3a\"],[0.8888888888888888,\"#fdca26\"],[1.0,\"#f0f921\"]]}],\"surface\":[{\"type\":\"surface\",\"colorbar\":{\"outlinewidth\":0,\"ticks\":\"\"},\"colorscale\":[[0.0,\"#0d0887\"],[0.1111111111111111,\"#46039f\"],[0.2222222222222222,\"#7201a8\"],[0.3333333333333333,\"#9c179e\"],[0.4444444444444444,\"#bd3786\"],[0.5555555555555556,\"#d8576b\"],[0.6666666666666666,\"#ed7953\"],[0.7777777777777778,\"#fb9f3a\"],[0.8888888888888888,\"#fdca26\"],[1.0,\"#f0f921\"]]}],\"mesh3d\":[{\"type\":\"mesh3d\",\"colorbar\":{\"outlinewidth\":0,\"ticks\":\"\"}}],\"scatter\":[{\"fillpattern\":{\"fillmode\":\"overlay\",\"size\":10,\"solidity\":0.2},\"type\":\"scatter\"}],\"parcoords\":[{\"type\":\"parcoords\",\"line\":{\"colorbar\":{\"outlinewidth\":0,\"ticks\":\"\"}}}],\"scatterpolargl\":[{\"type\":\"scatterpolargl\",\"marker\":{\"colorbar\":{\"outlinewidth\":0,\"ticks\":\"\"}}}],\"bar\":[{\"error_x\":{\"color\":\"#2a3f5f\"},\"error_y\":{\"color\":\"#2a3f5f\"},\"marker\":{\"line\":{\"color\":\"#E5ECF6\",\"width\":0.5},\"pattern\":{\"fillmode\":\"overlay\",\"size\":10,\"solidity\":0.2}},\"type\":\"bar\"}],\"scattergeo\":[{\"type\":\"scattergeo\",\"marker\":{\"colorbar\":{\"outlinewidth\":0,\"ticks\":\"\"}}}],\"scatterpolar\":[{\"type\":\"scatterpolar\",\"marker\":{\"colorbar\":{\"outlinewidth\":0,\"ticks\":\"\"}}}],\"histogram\":[{\"marker\":{\"pattern\":{\"fillmode\":\"overlay\",\"size\":10,\"solidity\":0.2}},\"type\":\"histogram\"}],\"scattergl\":[{\"type\":\"scattergl\",\"marker\":{\"colorbar\":{\"outlinewidth\":0,\"ticks\":\"\"}}}],\"scatter3d\":[{\"type\":\"scatter3d\",\"line\":{\"colorbar\":{\"outlinewidth\":0,\"ticks\":\"\"}},\"marker\":{\"colorbar\":{\"outlinewidth\":0,\"ticks\":\"\"}}}],\"scattermapbox\":[{\"type\":\"scattermapbox\",\"marker\":{\"colorbar\":{\"outlinewidth\":0,\"ticks\":\"\"}}}],\"scatterternary\":[{\"type\":\"scatterternary\",\"marker\":{\"colorbar\":{\"outlinewidth\":0,\"ticks\":\"\"}}}],\"scattercarpet\":[{\"type\":\"scattercarpet\",\"marker\":{\"colorbar\":{\"outlinewidth\":0,\"ticks\":\"\"}}}],\"carpet\":[{\"aaxis\":{\"endlinecolor\":\"#2a3f5f\",\"gridcolor\":\"white\",\"linecolor\":\"white\",\"minorgridcolor\":\"white\",\"startlinecolor\":\"#2a3f5f\"},\"baxis\":{\"endlinecolor\":\"#2a3f5f\",\"gridcolor\":\"white\",\"linecolor\":\"white\",\"minorgridcolor\":\"white\",\"startlinecolor\":\"#2a3f5f\"},\"type\":\"carpet\"}],\"table\":[{\"cells\":{\"fill\":{\"color\":\"#EBF0F8\"},\"line\":{\"color\":\"white\"}},\"header\":{\"fill\":{\"color\":\"#C8D4E3\"},\"line\":{\"color\":\"white\"}},\"type\":\"table\"}],\"barpolar\":[{\"marker\":{\"line\":{\"color\":\"#E5ECF6\",\"width\":0.5},\"pattern\":{\"fillmode\":\"overlay\",\"size\":10,\"solidity\":0.2}},\"type\":\"barpolar\"}],\"pie\":[{\"automargin\":true,\"type\":\"pie\"}]},\"layout\":{\"autotypenumbers\":\"strict\",\"colorway\":[\"#636efa\",\"#EF553B\",\"#00cc96\",\"#ab63fa\",\"#FFA15A\",\"#19d3f3\",\"#FF6692\",\"#B6E880\",\"#FF97FF\",\"#FECB52\"],\"font\":{\"color\":\"#2a3f5f\"},\"hovermode\":\"closest\",\"hoverlabel\":{\"align\":\"left\"},\"paper_bgcolor\":\"white\",\"plot_bgcolor\":\"#E5ECF6\",\"polar\":{\"bgcolor\":\"#E5ECF6\",\"angularaxis\":{\"gridcolor\":\"white\",\"linecolor\":\"white\",\"ticks\":\"\"},\"radialaxis\":{\"gridcolor\":\"white\",\"linecolor\":\"white\",\"ticks\":\"\"}},\"ternary\":{\"bgcolor\":\"#E5ECF6\",\"aaxis\":{\"gridcolor\":\"white\",\"linecolor\":\"white\",\"ticks\":\"\"},\"baxis\":{\"gridcolor\":\"white\",\"linecolor\":\"white\",\"ticks\":\"\"},\"caxis\":{\"gridcolor\":\"white\",\"linecolor\":\"white\",\"ticks\":\"\"}},\"coloraxis\":{\"colorbar\":{\"outlinewidth\":0,\"ticks\":\"\"}},\"colorscale\":{\"sequential\":[[0.0,\"#0d0887\"],[0.1111111111111111,\"#46039f\"],[0.2222222222222222,\"#7201a8\"],[0.3333333333333333,\"#9c179e\"],[0.4444444444444444,\"#bd3786\"],[0.5555555555555556,\"#d8576b\"],[0.6666666666666666,\"#ed7953\"],[0.7777777777777778,\"#fb9f3a\"],[0.8888888888888888,\"#fdca26\"],[1.0,\"#f0f921\"]],\"sequentialminus\":[[0.0,\"#0d0887\"],[0.1111111111111111,\"#46039f\"],[0.2222222222222222,\"#7201a8\"],[0.3333333333333333,\"#9c179e\"],[0.4444444444444444,\"#bd3786\"],[0.5555555555555556,\"#d8576b\"],[0.6666666666666666,\"#ed7953\"],[0.7777777777777778,\"#fb9f3a\"],[0.8888888888888888,\"#fdca26\"],[1.0,\"#f0f921\"]],\"diverging\":[[0,\"#8e0152\"],[0.1,\"#c51b7d\"],[0.2,\"#de77ae\"],[0.3,\"#f1b6da\"],[0.4,\"#fde0ef\"],[0.5,\"#f7f7f7\"],[0.6,\"#e6f5d0\"],[0.7,\"#b8e186\"],[0.8,\"#7fbc41\"],[0.9,\"#4d9221\"],[1,\"#276419\"]]},\"xaxis\":{\"gridcolor\":\"white\",\"linecolor\":\"white\",\"ticks\":\"\",\"title\":{\"standoff\":15},\"zerolinecolor\":\"white\",\"automargin\":true,\"zerolinewidth\":2},\"yaxis\":{\"gridcolor\":\"white\",\"linecolor\":\"white\",\"ticks\":\"\",\"title\":{\"standoff\":15},\"zerolinecolor\":\"white\",\"automargin\":true,\"zerolinewidth\":2},\"scene\":{\"xaxis\":{\"backgroundcolor\":\"#E5ECF6\",\"gridcolor\":\"white\",\"linecolor\":\"white\",\"showbackground\":true,\"ticks\":\"\",\"zerolinecolor\":\"white\",\"gridwidth\":2},\"yaxis\":{\"backgroundcolor\":\"#E5ECF6\",\"gridcolor\":\"white\",\"linecolor\":\"white\",\"showbackground\":true,\"ticks\":\"\",\"zerolinecolor\":\"white\",\"gridwidth\":2},\"zaxis\":{\"backgroundcolor\":\"#E5ECF6\",\"gridcolor\":\"white\",\"linecolor\":\"white\",\"showbackground\":true,\"ticks\":\"\",\"zerolinecolor\":\"white\",\"gridwidth\":2}},\"shapedefaults\":{\"line\":{\"color\":\"#2a3f5f\"}},\"annotationdefaults\":{\"arrowcolor\":\"#2a3f5f\",\"arrowhead\":0,\"arrowwidth\":1},\"geo\":{\"bgcolor\":\"white\",\"landcolor\":\"#E5ECF6\",\"subunitcolor\":\"white\",\"showland\":true,\"showlakes\":true,\"lakecolor\":\"white\"},\"title\":{\"x\":0.05},\"mapbox\":{\"style\":\"light\"}}},\"xaxis\":{\"anchor\":\"y\",\"domain\":[0.0,1.0],\"title\":{\"text\":\"index\"}},\"yaxis\":{\"anchor\":\"x\",\"domain\":[0.0,1.0],\"title\":{\"text\":\"count\"}},\"legend\":{\"tracegroupgap\":0},\"margin\":{\"t\":60},\"barmode\":\"relative\"},                        {\"responsive\": true}                    ).then(function(){\n",
              "                            \n",
              "var gd = document.getElementById('fa4120ac-d5e2-40a5-a1cf-a9315f85970d');\n",
              "var x = new MutationObserver(function (mutations, observer) {{\n",
              "        var display = window.getComputedStyle(gd).display;\n",
              "        if (!display || display === 'none') {{\n",
              "            console.log([gd, 'removed!']);\n",
              "            Plotly.purge(gd);\n",
              "            observer.disconnect();\n",
              "        }}\n",
              "}});\n",
              "\n",
              "// Listen for the removal of the full notebook cells\n",
              "var notebookContainer = gd.closest('#notebook-container');\n",
              "if (notebookContainer) {{\n",
              "    x.observe(notebookContainer, {childList: true});\n",
              "}}\n",
              "\n",
              "// Listen for the clearing of the current output cell\n",
              "var outputEl = gd.closest('.output');\n",
              "if (outputEl) {{\n",
              "    x.observe(outputEl, {childList: true});\n",
              "}}\n",
              "\n",
              "                        })                };                            </script>        </div>\n",
              "</body>\n",
              "</html>"
            ]
          },
          "metadata": {}
        }
      ]
    },
    {
      "cell_type": "markdown",
      "metadata": {
        "id": "ibms-RhsEbjb"
      },
      "source": [
        "## Proceso NLP"
      ]
    },
    {
      "cell_type": "code",
      "metadata": {
        "id": "jO2AO7wRDVWl",
        "colab": {
          "base_uri": "https://localhost:8080/"
        },
        "outputId": "53f21db9-5b8e-49b2-fcb6-1dc4fa93b5f6"
      },
      "source": [
        "from nltk.tokenize import word_tokenize\n",
        "from nltk.corpus import stopwords\n",
        "import string\n",
        "stop_words = set( stopwords.words('english'))\n",
        "stop_words.update(string.punctuation)\n",
        "\n",
        "from nltk.stem import WordNetLemmatizer\n",
        "wordnet_lemmatizer = WordNetLemmatizer()\n",
        "\n",
        "from nltk.stem import SnowballStemmer\n",
        "stemmer = SnowballStemmer('english')\n",
        "\n",
        "# Busqueda de la frecuencia de Bigramas\n",
        "from nltk.collocations import BigramCollocationFinder,BigramAssocMeasures\n",
        "\n",
        "import nltk\n",
        "nltk.download('punkt')\n",
        "\n",
        "\n",
        "# Pre procesamiento basico, agregar las etapas que considere necesario\n",
        "def pre_procesamiento_texto(text):\n",
        "  # Armo los tokens para procesar los datos\n",
        "  tokens = word_tokenize(text)\n",
        "\n",
        "  # Elimino las stopwords\n",
        "  tokens = [t.lower() for t in tokens if t.lower() not in stop_words]\n",
        "\n",
        "  return tokens"
      ],
      "execution_count": null,
      "outputs": [
        {
          "output_type": "stream",
          "name": "stderr",
          "text": [
            "[nltk_data] Downloading package punkt to /root/nltk_data...\n",
            "[nltk_data]   Package punkt is already up-to-date!\n"
          ]
        }
      ]
    },
    {
      "cell_type": "code",
      "metadata": {
        "id": "VCYat43tD1Ar",
        "colab": {
          "base_uri": "https://localhost:8080/"
        },
        "outputId": "4eb98786-5769-4569-b3aa-df74e79b16a1"
      },
      "source": [
        "text='Daniel Greenfield, a Shillman Journalism Fellow at the Freedom Center, is a New York writer focusing on radical Islam'\n",
        "print(text)\n",
        "pre_procesamiento_texto(text)"
      ],
      "execution_count": null,
      "outputs": [
        {
          "output_type": "stream",
          "name": "stdout",
          "text": [
            "Daniel Greenfield, a Shillman Journalism Fellow at the Freedom Center, is a New York writer focusing on radical Islam\n"
          ]
        },
        {
          "output_type": "execute_result",
          "data": {
            "text/plain": [
              "['daniel',\n",
              " 'greenfield',\n",
              " 'shillman',\n",
              " 'journalism',\n",
              " 'fellow',\n",
              " 'freedom',\n",
              " 'center',\n",
              " 'new',\n",
              " 'york',\n",
              " 'writer',\n",
              " 'focusing',\n",
              " 'radical',\n",
              " 'islam']"
            ]
          },
          "metadata": {},
          "execution_count": 13
        }
      ]
    },
    {
      "cell_type": "markdown",
      "metadata": {
        "id": "T7ZZiC74x4DS"
      },
      "source": [
        "## Vectorizacion resultados"
      ]
    },
    {
      "cell_type": "code",
      "metadata": {
        "id": "qE1Cs5_gD6Ph"
      },
      "source": [
        "from sklearn.feature_extraction.text import CountVectorizer\n",
        "from sklearn.linear_model import LogisticRegression\n",
        "from sklearn.model_selection import train_test_split"
      ],
      "execution_count": null,
      "outputs": []
    },
    {
      "cell_type": "code",
      "metadata": {
        "id": "-GtbLgMTJMpU"
      },
      "source": [
        "X_train, X_test, y_train, y_test = train_test_split(df.text, df.label,test_size=.30)"
      ],
      "execution_count": null,
      "outputs": []
    },
    {
      "cell_type": "code",
      "metadata": {
        "id": "5WkJmfOqIorM",
        "colab": {
          "base_uri": "https://localhost:8080/"
        },
        "outputId": "4e114835-06c3-4375-ab25-760b10811229"
      },
      "source": [
        "# Vectorizacion de resultados BOW, tambien se puede probar TF-IDF\n",
        "cv = CountVectorizer(tokenizer=pre_procesamiento_texto)#, max_features=1000)\n",
        "X_train_transform = cv.fit_transform(X_train) # Armo matriz para entrenar"
      ],
      "execution_count": null,
      "outputs": [
        {
          "output_type": "stream",
          "name": "stderr",
          "text": [
            "/usr/local/lib/python3.10/dist-packages/sklearn/feature_extraction/text.py:528: UserWarning:\n",
            "\n",
            "The parameter 'token_pattern' will not be used since 'tokenizer' is not None'\n",
            "\n"
          ]
        }
      ]
    },
    {
      "cell_type": "code",
      "metadata": {
        "id": "AowB_A800Jkm",
        "colab": {
          "base_uri": "https://localhost:8080/"
        },
        "outputId": "62552761-62d8-4e63-8462-a0907601b96e"
      },
      "source": [
        "X_train_transform"
      ],
      "execution_count": null,
      "outputs": [
        {
          "output_type": "execute_result",
          "data": {
            "text/plain": [
              "<4434x78175 sparse matrix of type '<class 'numpy.int64'>'\n",
              "\twith 1266929 stored elements in Compressed Sparse Row format>"
            ]
          },
          "metadata": {},
          "execution_count": 17
        }
      ]
    },
    {
      "cell_type": "code",
      "metadata": {
        "id": "EwUlVz29S-Dg",
        "colab": {
          "base_uri": "https://localhost:8080/",
          "height": 424
        },
        "outputId": "9e161e10-537c-4b20-c2a6-3a949e5e6f1e"
      },
      "source": [
        "df_tranform = pd.DataFrame.sparse.from_spmatrix(X_train_transform, columns=cv.get_feature_names_out())\n",
        "df_tranform"
      ],
      "execution_count": null,
      "outputs": [
        {
          "output_type": "execute_result",
          "data": {
            "text/plain": [
              "      ''  '08  '12  '16  '20s  '41  '47  '56  '60  '60s  ...  🌍💚☮️  🎃  😀  😂  \\\n",
              "0     14    0    0    0     0    0    0    0    0     0  ...     0  0  0  0   \n",
              "1      0    0    0    0     0    0    0    0    0     0  ...     0  0  0  0   \n",
              "2      0    0    0    0     0    0    0    0    0     0  ...     0  0  0  0   \n",
              "3      0    0    0    0     0    0    0    0    0     0  ...     0  0  0  0   \n",
              "4      4    0    0    0     0    0    0    0    0     0  ...     0  0  0  0   \n",
              "...   ..  ...  ...  ...   ...  ...  ...  ...  ...   ...  ...   ... .. .. ..   \n",
              "4429   0    0    0    0     0    0    0    0    0     0  ...     0  0  0  0   \n",
              "4430  17    0    0    0     0    0    0    0    0     0  ...     0  0  0  0   \n",
              "4431   2    0    0    0     0    0    0    0    0     0  ...     0  0  0  0   \n",
              "4432   0    0    0    0     0    0    0    0    0     0  ...     0  0  0  0   \n",
              "4433   4    0    0    0     0    0    0    0    0     0  ...     0  0  0  0   \n",
              "\n",
              "      😉  😍  😭  🙂  🙄  🧀  \n",
              "0     0  0  0  0  0  0  \n",
              "1     0  0  0  0  0  0  \n",
              "2     0  0  0  0  0  0  \n",
              "3     0  0  0  0  0  0  \n",
              "4     0  0  0  0  0  0  \n",
              "...  .. .. .. .. .. ..  \n",
              "4429  0  0  0  0  0  0  \n",
              "4430  0  0  0  0  0  0  \n",
              "4431  0  0  0  0  0  0  \n",
              "4432  0  0  0  0  0  0  \n",
              "4433  0  0  0  0  0  0  \n",
              "\n",
              "[4434 rows x 78175 columns]"
            ],
            "text/html": [
              "\n",
              "  <div id=\"df-a716df1a-e47a-46f9-afba-48d2b3edc3b1\" class=\"colab-df-container\">\n",
              "    <div>\n",
              "<style scoped>\n",
              "    .dataframe tbody tr th:only-of-type {\n",
              "        vertical-align: middle;\n",
              "    }\n",
              "\n",
              "    .dataframe tbody tr th {\n",
              "        vertical-align: top;\n",
              "    }\n",
              "\n",
              "    .dataframe thead th {\n",
              "        text-align: right;\n",
              "    }\n",
              "</style>\n",
              "<table border=\"1\" class=\"dataframe\">\n",
              "  <thead>\n",
              "    <tr style=\"text-align: right;\">\n",
              "      <th></th>\n",
              "      <th>''</th>\n",
              "      <th>'08</th>\n",
              "      <th>'12</th>\n",
              "      <th>'16</th>\n",
              "      <th>'20s</th>\n",
              "      <th>'41</th>\n",
              "      <th>'47</th>\n",
              "      <th>'56</th>\n",
              "      <th>'60</th>\n",
              "      <th>'60s</th>\n",
              "      <th>...</th>\n",
              "      <th>🌍💚☮️</th>\n",
              "      <th>🎃</th>\n",
              "      <th>😀</th>\n",
              "      <th>😂</th>\n",
              "      <th>😉</th>\n",
              "      <th>😍</th>\n",
              "      <th>😭</th>\n",
              "      <th>🙂</th>\n",
              "      <th>🙄</th>\n",
              "      <th>🧀</th>\n",
              "    </tr>\n",
              "  </thead>\n",
              "  <tbody>\n",
              "    <tr>\n",
              "      <th>0</th>\n",
              "      <td>14</td>\n",
              "      <td>0</td>\n",
              "      <td>0</td>\n",
              "      <td>0</td>\n",
              "      <td>0</td>\n",
              "      <td>0</td>\n",
              "      <td>0</td>\n",
              "      <td>0</td>\n",
              "      <td>0</td>\n",
              "      <td>0</td>\n",
              "      <td>...</td>\n",
              "      <td>0</td>\n",
              "      <td>0</td>\n",
              "      <td>0</td>\n",
              "      <td>0</td>\n",
              "      <td>0</td>\n",
              "      <td>0</td>\n",
              "      <td>0</td>\n",
              "      <td>0</td>\n",
              "      <td>0</td>\n",
              "      <td>0</td>\n",
              "    </tr>\n",
              "    <tr>\n",
              "      <th>1</th>\n",
              "      <td>0</td>\n",
              "      <td>0</td>\n",
              "      <td>0</td>\n",
              "      <td>0</td>\n",
              "      <td>0</td>\n",
              "      <td>0</td>\n",
              "      <td>0</td>\n",
              "      <td>0</td>\n",
              "      <td>0</td>\n",
              "      <td>0</td>\n",
              "      <td>...</td>\n",
              "      <td>0</td>\n",
              "      <td>0</td>\n",
              "      <td>0</td>\n",
              "      <td>0</td>\n",
              "      <td>0</td>\n",
              "      <td>0</td>\n",
              "      <td>0</td>\n",
              "      <td>0</td>\n",
              "      <td>0</td>\n",
              "      <td>0</td>\n",
              "    </tr>\n",
              "    <tr>\n",
              "      <th>2</th>\n",
              "      <td>0</td>\n",
              "      <td>0</td>\n",
              "      <td>0</td>\n",
              "      <td>0</td>\n",
              "      <td>0</td>\n",
              "      <td>0</td>\n",
              "      <td>0</td>\n",
              "      <td>0</td>\n",
              "      <td>0</td>\n",
              "      <td>0</td>\n",
              "      <td>...</td>\n",
              "      <td>0</td>\n",
              "      <td>0</td>\n",
              "      <td>0</td>\n",
              "      <td>0</td>\n",
              "      <td>0</td>\n",
              "      <td>0</td>\n",
              "      <td>0</td>\n",
              "      <td>0</td>\n",
              "      <td>0</td>\n",
              "      <td>0</td>\n",
              "    </tr>\n",
              "    <tr>\n",
              "      <th>3</th>\n",
              "      <td>0</td>\n",
              "      <td>0</td>\n",
              "      <td>0</td>\n",
              "      <td>0</td>\n",
              "      <td>0</td>\n",
              "      <td>0</td>\n",
              "      <td>0</td>\n",
              "      <td>0</td>\n",
              "      <td>0</td>\n",
              "      <td>0</td>\n",
              "      <td>...</td>\n",
              "      <td>0</td>\n",
              "      <td>0</td>\n",
              "      <td>0</td>\n",
              "      <td>0</td>\n",
              "      <td>0</td>\n",
              "      <td>0</td>\n",
              "      <td>0</td>\n",
              "      <td>0</td>\n",
              "      <td>0</td>\n",
              "      <td>0</td>\n",
              "    </tr>\n",
              "    <tr>\n",
              "      <th>4</th>\n",
              "      <td>4</td>\n",
              "      <td>0</td>\n",
              "      <td>0</td>\n",
              "      <td>0</td>\n",
              "      <td>0</td>\n",
              "      <td>0</td>\n",
              "      <td>0</td>\n",
              "      <td>0</td>\n",
              "      <td>0</td>\n",
              "      <td>0</td>\n",
              "      <td>...</td>\n",
              "      <td>0</td>\n",
              "      <td>0</td>\n",
              "      <td>0</td>\n",
              "      <td>0</td>\n",
              "      <td>0</td>\n",
              "      <td>0</td>\n",
              "      <td>0</td>\n",
              "      <td>0</td>\n",
              "      <td>0</td>\n",
              "      <td>0</td>\n",
              "    </tr>\n",
              "    <tr>\n",
              "      <th>...</th>\n",
              "      <td>...</td>\n",
              "      <td>...</td>\n",
              "      <td>...</td>\n",
              "      <td>...</td>\n",
              "      <td>...</td>\n",
              "      <td>...</td>\n",
              "      <td>...</td>\n",
              "      <td>...</td>\n",
              "      <td>...</td>\n",
              "      <td>...</td>\n",
              "      <td>...</td>\n",
              "      <td>...</td>\n",
              "      <td>...</td>\n",
              "      <td>...</td>\n",
              "      <td>...</td>\n",
              "      <td>...</td>\n",
              "      <td>...</td>\n",
              "      <td>...</td>\n",
              "      <td>...</td>\n",
              "      <td>...</td>\n",
              "      <td>...</td>\n",
              "    </tr>\n",
              "    <tr>\n",
              "      <th>4429</th>\n",
              "      <td>0</td>\n",
              "      <td>0</td>\n",
              "      <td>0</td>\n",
              "      <td>0</td>\n",
              "      <td>0</td>\n",
              "      <td>0</td>\n",
              "      <td>0</td>\n",
              "      <td>0</td>\n",
              "      <td>0</td>\n",
              "      <td>0</td>\n",
              "      <td>...</td>\n",
              "      <td>0</td>\n",
              "      <td>0</td>\n",
              "      <td>0</td>\n",
              "      <td>0</td>\n",
              "      <td>0</td>\n",
              "      <td>0</td>\n",
              "      <td>0</td>\n",
              "      <td>0</td>\n",
              "      <td>0</td>\n",
              "      <td>0</td>\n",
              "    </tr>\n",
              "    <tr>\n",
              "      <th>4430</th>\n",
              "      <td>17</td>\n",
              "      <td>0</td>\n",
              "      <td>0</td>\n",
              "      <td>0</td>\n",
              "      <td>0</td>\n",
              "      <td>0</td>\n",
              "      <td>0</td>\n",
              "      <td>0</td>\n",
              "      <td>0</td>\n",
              "      <td>0</td>\n",
              "      <td>...</td>\n",
              "      <td>0</td>\n",
              "      <td>0</td>\n",
              "      <td>0</td>\n",
              "      <td>0</td>\n",
              "      <td>0</td>\n",
              "      <td>0</td>\n",
              "      <td>0</td>\n",
              "      <td>0</td>\n",
              "      <td>0</td>\n",
              "      <td>0</td>\n",
              "    </tr>\n",
              "    <tr>\n",
              "      <th>4431</th>\n",
              "      <td>2</td>\n",
              "      <td>0</td>\n",
              "      <td>0</td>\n",
              "      <td>0</td>\n",
              "      <td>0</td>\n",
              "      <td>0</td>\n",
              "      <td>0</td>\n",
              "      <td>0</td>\n",
              "      <td>0</td>\n",
              "      <td>0</td>\n",
              "      <td>...</td>\n",
              "      <td>0</td>\n",
              "      <td>0</td>\n",
              "      <td>0</td>\n",
              "      <td>0</td>\n",
              "      <td>0</td>\n",
              "      <td>0</td>\n",
              "      <td>0</td>\n",
              "      <td>0</td>\n",
              "      <td>0</td>\n",
              "      <td>0</td>\n",
              "    </tr>\n",
              "    <tr>\n",
              "      <th>4432</th>\n",
              "      <td>0</td>\n",
              "      <td>0</td>\n",
              "      <td>0</td>\n",
              "      <td>0</td>\n",
              "      <td>0</td>\n",
              "      <td>0</td>\n",
              "      <td>0</td>\n",
              "      <td>0</td>\n",
              "      <td>0</td>\n",
              "      <td>0</td>\n",
              "      <td>...</td>\n",
              "      <td>0</td>\n",
              "      <td>0</td>\n",
              "      <td>0</td>\n",
              "      <td>0</td>\n",
              "      <td>0</td>\n",
              "      <td>0</td>\n",
              "      <td>0</td>\n",
              "      <td>0</td>\n",
              "      <td>0</td>\n",
              "      <td>0</td>\n",
              "    </tr>\n",
              "    <tr>\n",
              "      <th>4433</th>\n",
              "      <td>4</td>\n",
              "      <td>0</td>\n",
              "      <td>0</td>\n",
              "      <td>0</td>\n",
              "      <td>0</td>\n",
              "      <td>0</td>\n",
              "      <td>0</td>\n",
              "      <td>0</td>\n",
              "      <td>0</td>\n",
              "      <td>0</td>\n",
              "      <td>...</td>\n",
              "      <td>0</td>\n",
              "      <td>0</td>\n",
              "      <td>0</td>\n",
              "      <td>0</td>\n",
              "      <td>0</td>\n",
              "      <td>0</td>\n",
              "      <td>0</td>\n",
              "      <td>0</td>\n",
              "      <td>0</td>\n",
              "      <td>0</td>\n",
              "    </tr>\n",
              "  </tbody>\n",
              "</table>\n",
              "<p>4434 rows × 78175 columns</p>\n",
              "</div>\n",
              "    <div class=\"colab-df-buttons\">\n",
              "\n",
              "  <div class=\"colab-df-container\">\n",
              "    <button class=\"colab-df-convert\" onclick=\"convertToInteractive('df-a716df1a-e47a-46f9-afba-48d2b3edc3b1')\"\n",
              "            title=\"Convert this dataframe to an interactive table.\"\n",
              "            style=\"display:none;\">\n",
              "\n",
              "  <svg xmlns=\"http://www.w3.org/2000/svg\" height=\"24px\" viewBox=\"0 -960 960 960\">\n",
              "    <path d=\"M120-120v-720h720v720H120Zm60-500h600v-160H180v160Zm220 220h160v-160H400v160Zm0 220h160v-160H400v160ZM180-400h160v-160H180v160Zm440 0h160v-160H620v160ZM180-180h160v-160H180v160Zm440 0h160v-160H620v160Z\"/>\n",
              "  </svg>\n",
              "    </button>\n",
              "\n",
              "  <style>\n",
              "    .colab-df-container {\n",
              "      display:flex;\n",
              "      gap: 12px;\n",
              "    }\n",
              "\n",
              "    .colab-df-convert {\n",
              "      background-color: #E8F0FE;\n",
              "      border: none;\n",
              "      border-radius: 50%;\n",
              "      cursor: pointer;\n",
              "      display: none;\n",
              "      fill: #1967D2;\n",
              "      height: 32px;\n",
              "      padding: 0 0 0 0;\n",
              "      width: 32px;\n",
              "    }\n",
              "\n",
              "    .colab-df-convert:hover {\n",
              "      background-color: #E2EBFA;\n",
              "      box-shadow: 0px 1px 2px rgba(60, 64, 67, 0.3), 0px 1px 3px 1px rgba(60, 64, 67, 0.15);\n",
              "      fill: #174EA6;\n",
              "    }\n",
              "\n",
              "    .colab-df-buttons div {\n",
              "      margin-bottom: 4px;\n",
              "    }\n",
              "\n",
              "    [theme=dark] .colab-df-convert {\n",
              "      background-color: #3B4455;\n",
              "      fill: #D2E3FC;\n",
              "    }\n",
              "\n",
              "    [theme=dark] .colab-df-convert:hover {\n",
              "      background-color: #434B5C;\n",
              "      box-shadow: 0px 1px 3px 1px rgba(0, 0, 0, 0.15);\n",
              "      filter: drop-shadow(0px 1px 2px rgba(0, 0, 0, 0.3));\n",
              "      fill: #FFFFFF;\n",
              "    }\n",
              "  </style>\n",
              "\n",
              "    <script>\n",
              "      const buttonEl =\n",
              "        document.querySelector('#df-a716df1a-e47a-46f9-afba-48d2b3edc3b1 button.colab-df-convert');\n",
              "      buttonEl.style.display =\n",
              "        google.colab.kernel.accessAllowed ? 'block' : 'none';\n",
              "\n",
              "      async function convertToInteractive(key) {\n",
              "        const element = document.querySelector('#df-a716df1a-e47a-46f9-afba-48d2b3edc3b1');\n",
              "        const dataTable =\n",
              "          await google.colab.kernel.invokeFunction('convertToInteractive',\n",
              "                                                    [key], {});\n",
              "        if (!dataTable) return;\n",
              "\n",
              "        const docLinkHtml = 'Like what you see? Visit the ' +\n",
              "          '<a target=\"_blank\" href=https://colab.research.google.com/notebooks/data_table.ipynb>data table notebook</a>'\n",
              "          + ' to learn more about interactive tables.';\n",
              "        element.innerHTML = '';\n",
              "        dataTable['output_type'] = 'display_data';\n",
              "        await google.colab.output.renderOutput(dataTable, element);\n",
              "        const docLink = document.createElement('div');\n",
              "        docLink.innerHTML = docLinkHtml;\n",
              "        element.appendChild(docLink);\n",
              "      }\n",
              "    </script>\n",
              "  </div>\n",
              "\n",
              "\n",
              "<div id=\"df-ec51a5a5-ee54-450e-b0a2-d3ec9455ce20\">\n",
              "  <button class=\"colab-df-quickchart\" onclick=\"quickchart('df-ec51a5a5-ee54-450e-b0a2-d3ec9455ce20')\"\n",
              "            title=\"Suggest charts.\"\n",
              "            style=\"display:none;\">\n",
              "\n",
              "<svg xmlns=\"http://www.w3.org/2000/svg\" height=\"24px\"viewBox=\"0 0 24 24\"\n",
              "     width=\"24px\">\n",
              "    <g>\n",
              "        <path d=\"M19 3H5c-1.1 0-2 .9-2 2v14c0 1.1.9 2 2 2h14c1.1 0 2-.9 2-2V5c0-1.1-.9-2-2-2zM9 17H7v-7h2v7zm4 0h-2V7h2v10zm4 0h-2v-4h2v4z\"/>\n",
              "    </g>\n",
              "</svg>\n",
              "  </button>\n",
              "\n",
              "<style>\n",
              "  .colab-df-quickchart {\n",
              "    background-color: #E8F0FE;\n",
              "    border: none;\n",
              "    border-radius: 50%;\n",
              "    cursor: pointer;\n",
              "    display: none;\n",
              "    fill: #1967D2;\n",
              "    height: 32px;\n",
              "    padding: 0 0 0 0;\n",
              "    width: 32px;\n",
              "  }\n",
              "\n",
              "  .colab-df-quickchart:hover {\n",
              "    background-color: #E2EBFA;\n",
              "    box-shadow: 0px 1px 2px rgba(60, 64, 67, 0.3), 0px 1px 3px 1px rgba(60, 64, 67, 0.15);\n",
              "    fill: #174EA6;\n",
              "  }\n",
              "\n",
              "  [theme=dark] .colab-df-quickchart {\n",
              "    background-color: #3B4455;\n",
              "    fill: #D2E3FC;\n",
              "  }\n",
              "\n",
              "  [theme=dark] .colab-df-quickchart:hover {\n",
              "    background-color: #434B5C;\n",
              "    box-shadow: 0px 1px 3px 1px rgba(0, 0, 0, 0.15);\n",
              "    filter: drop-shadow(0px 1px 2px rgba(0, 0, 0, 0.3));\n",
              "    fill: #FFFFFF;\n",
              "  }\n",
              "</style>\n",
              "\n",
              "  <script>\n",
              "    async function quickchart(key) {\n",
              "      const charts = await google.colab.kernel.invokeFunction(\n",
              "          'suggestCharts', [key], {});\n",
              "    }\n",
              "    (() => {\n",
              "      let quickchartButtonEl =\n",
              "        document.querySelector('#df-ec51a5a5-ee54-450e-b0a2-d3ec9455ce20 button');\n",
              "      quickchartButtonEl.style.display =\n",
              "        google.colab.kernel.accessAllowed ? 'block' : 'none';\n",
              "    })();\n",
              "  </script>\n",
              "</div>\n",
              "    </div>\n",
              "  </div>\n"
            ]
          },
          "metadata": {},
          "execution_count": 18
        }
      ]
    },
    {
      "cell_type": "markdown",
      "source": [
        "Se puede ver que tenemos mas features que observaciones. Si se utiliza algun metodo de algebra lineal se necesitan tener al menos la misma cantidad de observaciones que de incognitas, sino existiran infinitas soluciones haciendo que el modelo no generalize correctamente.\n",
        "\n",
        "https://builtin.com/data-science/curse-dimensionality\n",
        "\n",
        "https://www.analyticsvidhya.com/blog/2021/04/the-curse-of-dimensionality-in-machine-learning/\n",
        "\n",
        "Es recomendable utilizar tecnicas de Cross\n",
        "Validation,  reduccion de dimencionalidad y seleccion de features"
      ],
      "metadata": {
        "id": "sYq4w_0GosHf"
      }
    },
    {
      "cell_type": "code",
      "metadata": {
        "id": "tmuFUd2BlGQH",
        "colab": {
          "base_uri": "https://localhost:8080/",
          "height": 542
        },
        "outputId": "2bd640d5-c6b5-4a3d-e33f-5613676d0b58"
      },
      "source": [
        "aux = df_tranform.sum().to_frame('count')\n",
        "aux.sort_values(by='count',ascending=False,inplace=True)\n",
        "aux=aux.head(5000)\n",
        "px.bar(aux, x=aux.index, y='count')"
      ],
      "execution_count": null,
      "outputs": [
        {
          "output_type": "display_data",
          "data": {
            "text/html": [
              "<html>\n",
              "<head><meta charset=\"utf-8\" /></head>\n",
              "<body>\n",
              "    <div>            <script src=\"https://cdnjs.cloudflare.com/ajax/libs/mathjax/2.7.5/MathJax.js?config=TeX-AMS-MML_SVG\"></script><script type=\"text/javascript\">if (window.MathJax && window.MathJax.Hub && window.MathJax.Hub.Config) {window.MathJax.Hub.Config({SVG: {font: \"STIX-Web\"}});}</script>                <script type=\"text/javascript\">window.PlotlyConfig = {MathJaxConfig: 'local'};</script>\n",
              "        <script charset=\"utf-8\" src=\"https://cdn.plot.ly/plotly-2.24.1.min.js\"></script>                <div id=\"e05fc866-6719-4183-abd4-dbd7330d2579\" class=\"plotly-graph-div\" style=\"height:525px; width:100%;\"></div>            <script type=\"text/javascript\">                                    window.PLOTLYENV=window.PLOTLYENV || {};                                    if (document.getElementById(\"e05fc866-6719-4183-abd4-dbd7330d2579\")) {                    Plotly.newPlot(                        \"e05fc866-6719-4183-abd4-dbd7330d2579\",                        [{\"alignmentgroup\":\"True\",\"hovertemplate\":\"index=%{x}\\u003cbr\\u003ecount=%{y}\\u003cextra\\u003e\\u003c\\u002fextra\\u003e\",\"legendgroup\":\"\",\"marker\":{\"color\":\"#636efa\",\"pattern\":{\"shape\":\"\"}},\"name\":\"\",\"offsetgroup\":\"\",\"orientation\":\"v\",\"showlegend\":false,\"textposition\":\"auto\",\"x\":[\"\\u2019\",\"\\u201c\",\"\\u201d\",\"trump\",\"said\",\"''\",\"``\",\"'s\",\"clinton\",\"would\",\"people\",\"one\",\"new\",\"state\",\"\\u2014\",\"president\",\"obama\",\"also\",\"campaign\",\"hillary\",\"us\",\"like\",\"could\",\"time\",\"even\",\"states\",\"republican\",\"many\",\"party\",\"n't\",\"first\",\"\\u2013\",\"two\",\"election\",\"government\",\"political\",\"house\",\"years\",\"u.s.\",\"--\",\"get\",\"american\",\"going\",\"world\",\"sanders\",\"last\",\"presidential\",\"percent\",\"make\",\"news\",\"white\",\"country\",\"donald\",\"think\",\"say\",\"told\",\"may\",\"way\",\"democratic\",\"voters\",\"much\",\"war\",\"know\",\"year\",\"united\",\"back\",\"republicans\",\"support\",\"2016\",\"vote\",\"former\",\"national\",\"well\",\"media\",\"right\",\"made\",\"america\",\"still\",\"take\",\"see\",\"public\",\"candidate\",\"since\",\"law\",\"day\",\"cruz\",\"want\",\"police\",\"according\",\"another\",\"says\",\"policy\",\"\\u2018\",\"gop\",\"democrats\",\"week\",\"washington\",\"bush\",\"americans\",\"go\",\"part\",\"russia\",\"debate\",\"every\",\"bill\",\"need\",\"court\",\"never\",\"congress\",\"military\",\"women\",\"among\",\"including\",\"work\",\"department\",\"good\",\"security\",\"fbi\",\"candidates\",\"use\",\"whether\",\"federal\",\"change\",\"group\",\"next\",\"around\",\"come\",\"called\",\"might\",\"race\",\"times\",\"foreign\",\"senate\",\"far\",\"power\",\"long\",\"york\",\"case\",\"win\",\"million\",\"really\",\"today\",\"john\",\"likely\",\"fact\",\"saying\",\"administration\",\"end\",\"black\",\"money\",\"system\",\"without\",\"general\",\"iran\",\"officials\",\"secretary\",\"three\",\"already\",\"believe\",\"point\",\"primary\",\"man\",\"rubio\",\"emails\",\"days\",\"deal\",\"report\",\"help\",\"put\",\"something\",\"email\",\"office\",\"used\",\"recent\",\"tuesday\",\"though\",\"nominee\",\"things\",\"past\",\"syria\",\"left\",\"big\",\"supporters\",\"yet\",\"information\",\"however\",\"least\",\"life\",\"better\",\"real\",\"less\",\"health\",\"press\",\"top\",\"night\",\"got\",\"october\",\"issue\",\"look\",\"found\",\"become\",\"show\",\"asked\",\"russian\",\"city\",\"justice\",\"clear\",\"early\",\"attack\",\"issues\",\"sen.\",\"place\",\"economic\",\"rights\",\"great\",\"little\",\"nation\",\"nuclear\",\"members\",\"november\",\"several\",\"cnn\",\"politics\",\"number\",\"came\",\"family\",\"actually\",\"question\",\"conservative\",\"let\",\"lot\",\"run\",\"away\",\"act\",\"speech\",\"must\",\"four\",\"history\",\"control\",\"months\",\"ago\",\"attacks\",\"important\",\"isis\",\"leaders\",\"investigation\",\"took\",\"thursday\",\"social\",\"given\",\"enough\",\"voting\",\"keep\",\"others\",\"later\",\"plan\",\"committee\",\"fox\",\"iraq\",\"ever\",\"major\",\"order\",\"free\",\"polls\",\"paul\",\"second\",\"home\",\"best\",\"tax\",\"give\",\"different\",\"seen\",\"post\",\"reported\",\"thing\",\"statement\",\"behind\",\"wednesday\",\"process\",\"majority\",\"call\",\"florida\",\"friday\",\"business\",\"university\",\"working\",\"official\",\"running\",\"making\",\"force\",\"across\",\"course\",\"care\",\"trying\",\"nothing\",\"international\",\"video\",\"children\",\"nomination\",\"evidence\",\"decision\",\"south\",\"set\",\"possible\",\"find\",\"'re\",\"private\",\"countries\",\"iowa\",\"forces\",\"north\",\"high\",\"program\",\"convention\",\"lead\",\"poll\",\"matter\",\"islamic\",\"groups\",\"continue\",\"instead\",\"director\",\"person\",\"leader\",\"human\",\"monday\",\"done\",\"global\",\"10\",\"added\",\"immigration\",\"able\",\"bernie\",\"means\",\"taking\",\"anything\",\"story\",\"within\",\"close\",\"month\",\"almost\",\"fight\",\"job\",\"delegates\",\"always\",\"senator\",\"often\",\"votes\",\"interview\",\"problem\",\"earlier\",\"points\",\"someone\",\"wrote\",\"men\",\"stop\",\"comes\",\"establishment\",\"\\u2026\",\"economy\",\"center\",\"name\",\"wall\",\"future\",\"sure\",\"middle\",\"killed\",\"foundation\",\"defense\",\"1\",\"reason\",\"share\",\"known\",\"using\",\"large\",\"kind\",\"hard\",\"2012\",\"move\",\"reports\",\"face\",\"coming\",\"questions\",\"along\",\"street\",\"went\",\"...\",\"sunday\",\"source\",\"data\",\"action\",\"getting\",\"death\",\"line\",\"strong\",\"woman\",\"true\",\"violence\",\"trade\",\"rather\",\"school\",\"comments\",\"either\",\"idea\",\"mr.\",\"taken\",\"comey\",\"personal\",\"nearly\",\"community\",\"small\",\"together\",\"talk\",\"key\",\"victory\",\"weeks\",\"supreme\",\"young\",\"israel\",\"side\",\"despite\",\"pay\",\"water\",\"facebook\",\"five\",\"freedom\",\"texas\",\"team\",\"governor\",\"hampshire\",\"start\",\"following\",\"released\",\"simply\",\"seems\",\"china\",\"intelligence\",\"lives\",\"elections\",\"probably\",\"needs\",\"executive\",\"financial\",\"current\",\"george\",\"wants\",\"romney\",\"barack\",\"ryan\",\"everyone\",\"bad\",\"article\",\"potential\",\"makes\",\"based\",\"anyone\",\"effort\",\"legal\",\"millions\",\"example\",\"local\",\"looking\",\"threat\",\"march\",\"full\",\"religious\",\"held\",\"tell\",\"air\",\"role\",\"especially\",\"open\",\"message\",\"meeting\",\"thought\",\"feel\",\"late\",\"announced\",\"carolina\",\"gov\",\"position\",\"live\",\"talking\",\"lost\",\"chief\",\"words\",\"access\",\"putin\",\"event\",\"college\",\"hope\",\"view\",\"twitter\",\"mean\",\"everything\",\"policies\",\"recently\",\"third\",\"minister\",\"outside\",\"result\",\"began\",\"led\",\"rally\",\"results\",\"west\",\"elected\",\"ground\",\"sent\",\"civil\",\"east\",\"service\",\"moment\",\"read\",\"agency\",\"toward\",\"jobs\",\"presidency\",\"turn\",\"gun\",\"20\",\"western\",\"record\",\"market\",\"officers\",\"old\",\"perhaps\",\"hours\",\"whole\",\"whose\",\"liberal\",\"movement\",\"list\",\"try\",\"plans\",\"leave\",\"senior\",\"morning\",\"parties\",\"happened\",\"shows\",\"rules\",\"energy\",\"2\",\"thousands\",\"ted\",\"kasich\",\"level\",\"although\",\"entire\",\"2008\",\"numbers\",\"claim\",\"saturday\",\"research\",\"weapons\",\"speaker\",\"2014\",\"address\",\"hold\",\"reality\",\"response\",\"efforts\",\"billion\",\"serious\",\"area\",\"leading\",\"ohio\",\"bring\",\"2015\",\"agreement\",\"gave\",\"conservatives\",\"class\",\"syrian\",\"love\",\"sense\",\"reporters\",\"marriage\",\"understand\",\"sign\",\"similar\",\"california\",\"tried\",\"half\",\"workers\",\"citizens\",\"watch\",\"latest\",\"'m\",\"focus\",\"david\",\"wikileaks\",\"europe\",\"started\",\"comment\",\"immigrants\",\"expected\",\"problems\",\"interest\",\"climate\",\"biden\",\"longer\",\"field\",\"saudi\",\"christie\",\"attention\",\"truth\",\"head\",\"became\",\"turned\",\"stage\",\"conference\",\"spending\",\"failed\",\"voter\",\"15\",\"attorney\",\"spent\",\"vice\",\"congressional\",\"final\",\"strategy\",\"enforcement\",\"wanted\",\"fighting\",\"'ve\",\"union\",\"speaking\",\"follow\",\"else\",\"special\",\"hand\",\"leadership\",\"nations\",\"daily\",\"laws\",\"stand\",\"fear\",\"happen\",\"terrorist\",\"allow\",\"actions\",\"chance\",\"illegal\",\"criminal\",\"published\",\"six\",\"decades\",\"calling\",\"worked\",\"crisis\",\"population\",\"oil\",\"choice\",\"podesta\",\"experience\",\"near\",\"ahead\",\"11\",\"common\",\"company\",\"society\",\"chairman\",\"democrat\",\"front\",\"wrong\",\"authorities\",\"claims\",\"particularly\",\"ways\",\"book\",\"secret\",\"budget\",\"paris\",\"account\",\"base\",\"cause\",\"god\",\"peace\",\"play\",\"calls\",\"showed\",\"staff\",\"received\",\"carson\",\"30\",\"forward\",\"goes\",\"5\",\"obamacare\",\"rate\",\"winning\",\"significant\",\"cases\",\"june\",\"education\",\"certainly\",\"saw\",\"mind\",\"border\",\"beyond\",\"rise\",\"seem\",\"study\",\"brought\",\"mass\",\"member\",\"organization\",\"risk\",\"3\",\"answer\",\"term\",\"ask\",\"james\",\"involved\",\"terrorism\",\"paid\",\"single\",\"influence\",\"events\",\"students\",\"reform\",\"food\",\"crime\",\"muslims\",\"provide\",\"rest\",\"army\",\"heard\",\"indeed\",\"companies\",\"server\",\"situation\",\"county\",\"boehner\",\"wife\",\"standing\",\"jeb\",\"associated\",\"soon\",\"friends\",\"remains\",\"protect\",\"increase\",\"release\",\"shot\",\"letter\",\"allies\",\"politicians\",\"rep.\",\"needed\",\"johnson\",\"quite\",\"central\",\"shooting\",\"difficult\",\"noted\",\"july\",\"muslim\",\"hit\",\"exactly\",\"short\",\"create\",\"certain\",\"rule\",\"decided\",\"appears\",\"voted\",\"claimed\",\"fire\",\"families\",\"building\",\"opportunity\",\"land\",\"sources\",\"electoral\",\"french\",\"bank\",\"yes\",\"coalition\",\"knows\",\"church\",\"living\",\"total\",\"described\",\"maybe\",\"4\",\"opposition\",\"consider\",\"due\",\"finally\",\"higher\",\"powerful\",\"gets\",\"network\",\"cut\",\"gold\",\"democracy\",\"dead\",\"50\",\"continued\",\"appeared\",\"created\",\"meanwhile\",\"2013\",\"terms\",\"form\",\"independent\",\"body\",\"nato\",\"battle\",\"takes\",\"approach\",\"father\",\"step\",\"helped\",\"views\",\"biggest\",\"marco\",\"allowed\",\"speak\",\"michael\",\"posted\",\"ability\",\"challenge\",\"industry\",\"eight\",\"include\",\"interests\",\"legislation\",\"passed\",\"jewish\",\"donors\",\"build\",\"child\",\"massive\",\"operation\",\"12\",\"january\",\"series\",\"super\",\"king\",\"france\",\"giving\",\"fall\",\"mainstream\",\"directly\",\"game\",\"areas\",\"quickly\",\"remain\",\"polling\",\"effect\",\"author\",\"terrorists\",\"concerns\",\"seemed\",\"upon\",\"popular\",\"opinion\",\"chris\",\"campaigns\",\"crowd\",\"relations\",\"lose\",\"officer\",\"cost\",\"september\",\"agenda\",\"troops\",\"inside\",\"british\",\"ready\",\"previous\",\"debt\",\"project\",\"spoke\",\"age\",\"supporting\",\"planned\",\"european\",\"currently\",\"income\",\"deep\",\"continues\",\"particular\",\"review\",\"0\",\"hands\",\"word\",\"board\",\"husband\",\"huge\",\"tv\",\"alone\",\"corporate\",\"dollars\",\"clearly\",\"growth\",\"details\",\"growing\",\"judge\",\"stay\",\"earth\",\"mcconnell\",\"region\",\"funding\",\"raise\",\"capital\",\"terror\",\"spokesman\",\"taxes\",\"prime\",\"april\",\"25\",\"agents\",\"favor\",\"main\",\"attempt\",\"stories\",\"phone\",\"pretty\",\"worse\",\"classified\",\"room\",\"showing\",\"related\",\"impact\",\"ukraine\",\"town\",\"included\",\"forced\",\"immediately\",\"insurance\",\"reagan\",\"reach\",\"'ll\",\"veterans\",\"hundreds\",\"considered\",\"suggested\",\"accused\",\"parents\",\"raised\",\"appear\",\"sexual\",\"conflict\",\"return\",\"abortion\",\"lawmakers\",\"changes\",\"8\",\"experts\",\"pass\",\"primaries\",\"wins\",\"individual\",\"average\",\"labor\",\"gone\",\"son\",\"throughout\",\"scott\",\"protesters\",\"drug\",\"cities\",\"low\",\"looks\",\"changed\",\"believes\",\"constitution\",\"knew\",\"largely\",\"clintons\",\"safe\",\"site\",\"weekend\",\"26\",\"100\",\"felt\",\"image\",\"district\",\"via\",\"cancer\",\"gay\",\"meet\",\"met\",\"virginia\",\"willing\",\"figure\",\"remember\",\"tough\",\"online\",\"whatever\",\"serve\",\"false\",\"coverage\",\"lack\",\"worth\",\"culture\",\"none\",\"libya\",\"heart\",\"light\",\"mostly\",\"served\",\"beginning\",\"per\",\"debates\",\"lower\",\"al\",\"note\",\"mike\",\"bit\",\"council\",\"increasingly\",\"host\",\"joe\",\"arabia\",\"begin\",\"various\",\"doubt\",\"mark\",\"reasons\",\"wisconsin\",\"killing\",\"completely\",\"radio\",\"prison\",\"fraud\",\"regime\",\"available\",\"ruling\",\"test\",\"expect\",\"positions\",\"services\",\"professor\",\"agree\",\"trust\",\"minority\",\"operations\",\"medical\",\"offered\",\"repeatedly\",\"records\",\"dr.\",\"28\",\"provided\",\"offer\",\"nature\",\"ones\",\"wars\",\"40\",\"w.\",\"authority\",\"period\",\"hear\",\"faith\",\"search\",\"contributed\",\"dangerous\",\"sometimes\",\"pennsylvania\",\"indiana\",\"revealed\",\"please\",\"science\",\"nevada\",\"armed\",\"usa\",\"bid\",\"star\",\"august\",\"turkey\",\"thinking\",\"century\",\"arab\",\"announcement\",\"programs\",\"concerned\",\"netanyahu\",\"rhetoric\",\"critical\",\"adding\",\"telling\",\"talks\",\"fellow\",\"red\",\"check\",\"ballot\",\"journal\",\"iranian\",\"break\",\"december\",\"path\",\"mother\",\"avoid\",\"african\",\"previously\",\"seven\",\"easy\",\"expressed\",\"thus\",\"click\",\"documents\",\"guy\",\"michigan\",\"holding\",\"progressive\",\"protest\",\"iraqi\",\"subject\",\"declared\",\"push\",\"highly\",\"confirmed\",\"mexico\",\"television\",\"internet\",\"remarks\",\"sanctions\",\"moving\",\"candidacy\",\"amount\",\"present\",\"fiorina\",\"7\",\"seeking\",\"followed\",\"retired\",\"governments\",\"activists\",\"development\",\"compared\",\"pence\",\"poor\",\"couple\",\"pressure\",\"guns\",\"possibility\",\"eastern\",\"supported\",\"direct\",\"natural\",\"lynch\",\"focused\",\"largest\",\"website\",\"written\",\"racial\",\"amendment\",\"dnc\",\"hill\",\"argument\",\"sort\",\"join\",\"minutes\",\"charges\",\"benefits\",\"pipeline\",\"believed\",\"warned\",\"measure\",\"kept\",\"ultimately\",\"lines\",\"modern\",\"employees\",\"relationship\",\"february\",\"send\",\"assault\",\"reached\",\"success\",\"works\",\"accept\",\"happens\",\"prevent\",\"ca\",\"resources\",\"paper\",\"status\",\"appeal\",\"defeat\",\"respect\",\"summer\",\"target\",\"abedin\",\"corruption\",\"student\",\"pushing\",\"billionaire\",\"exchange\",\"caucus\",\"israeli\",\"language\",\"greater\",\"includes\",\"opposed\",\"6\",\"argued\",\"outcome\",\"plane\",\"warren\",\"becoming\",\"2010\",\"vermont\",\"audience\",\"27\",\"cover\",\"ideas\",\"committed\",\"victims\",\"racist\",\"values\",\"goal\",\"jersey\",\"explained\",\"neither\",\"supposed\",\"elite\",\"issued\",\"pointed\",\"domestic\",\"rates\",\"piece\",\"multiple\",\"religion\",\"criticism\",\"loss\",\"died\",\"decisions\",\"analysis\",\"banks\",\"friend\",\"concern\",\"space\",\"crimes\",\"levels\",\"constitutional\",\"protests\",\"happening\",\"save\",\"18\",\"cast\",\"violent\",\"apparently\",\"organizations\",\"9\",\"text\",\"scandal\",\"born\",\"2011\",\"alternative\",\"breaking\",\"leaving\",\"hearing\",\"ran\",\"learned\",\"difference\",\"sought\",\"christian\",\"visit\",\"credit\",\"signed\",\"worst\",\"built\",\"mitt\",\"institute\",\"agreed\",\"matters\",\"contest\",\"technology\",\"propaganda\",\"fully\",\"arms\",\"lies\",\"charge\",\"critics\",\"individuals\",\"investigators\",\"14\",\"facts\",\"communities\",\"additional\",\"specific\",\"necessary\",\"britain\",\"facing\",\"affairs\",\"camp\",\"weiner\",\"designed\",\"complete\",\"traditional\",\"chinese\",\"addition\",\"fair\",\"losing\",\"kerry\",\"60\",\"joined\",\"larger\",\"signs\",\"agencies\",\"sides\",\"increased\",\"writes\",\"positive\",\"asking\",\"revolution\",\"germany\",\"radical\",\"manager\",\"decide\",\"journalists\",\"cleveland\",\"san\",\"launched\",\"kids\",\"ended\",\"ban\",\"dakota\",\"surveillance\",\"rock\",\"survey\",\"walker\",\"systems\",\"simple\",\"moscow\",\"proposed\",\"page\",\"pick\",\"hate\",\"opponents\",\"responsible\",\"nbc\",\"percentage\",\"powers\",\"fund\",\"imagine\",\"ongoing\",\"statements\",\"schools\",\"reporter\",\"evening\",\"chicago\",\"assad\",\"arrested\",\"liberty\",\"front-runner\",\"responsibility\",\"scientists\",\"actual\",\"core\",\"places\",\"blame\",\"cuba\",\"helping\",\"defend\",\"progress\",\"price\",\"partisan\",\"'d\",\"standard\",\"charged\",\"limited\",\"explain\",\"miles\",\"seek\",\"afghanistan\",\"attacked\",\"responded\",\"same-sex\",\"successful\",\"editor\",\"ties\",\"damage\",\"discussion\",\"eventually\",\"meant\",\"caused\",\"mosul\",\"refugees\",\"rigged\",\"publicly\",\"type\",\"highest\",\"thinks\",\"controversial\",\"refused\",\"stated\",\"adviser\",\"learn\",\"sex\",\"female\",\"broke\",\"benefit\",\"costs\",\"suggest\",\"brown\",\"http\",\"rich\",\"denied\",\"cash\",\"overall\",\"playing\",\"investment\",\"reportedly\",\"kelly\",\"islam\",\"gives\",\"threats\",\"promise\",\"southern\",\"aides\",\"elites\",\"india\",\"behavior\",\"voice\",\"car\",\"notes\",\"version\",\"becomes\",\"wage\",\"17\",\"pentagon\",\"advantage\",\"parts\",\"therefore\",\"murder\",\"warning\",\"capitol\",\"richard\",\"fighters\",\"moved\",\"13\",\"un\",\"nine\",\"material\",\"shift\",\"easily\",\"so-called\",\"soros\",\"impossible\",\"potentially\",\"shown\",\"absolutely\",\"block\",\"rising\",\"surprise\",\"journalist\",\"hour\",\"carried\",\"leads\",\"looked\",\"choose\",\"kill\",\"hall\",\"demand\",\"failure\",\"putting\",\"delegate\",\"negative\",\"caucuses\",\"vast\",\"magazine\",\"nsa\",\"thanks\",\"scalia\",\"decade\",\"ben\",\"ensure\",\"practice\",\"aid\",\"trail\",\"planet\",\"wait\",\"required\",\"buy\",\"cold\",\"conversation\",\"protection\",\"24\",\"businesses\",\"endorsed\",\"tonight\",\"16\",\"regarding\",\"gas\",\"moderate\",\"cycle\",\"ad\",\"obviously\",\"photo\",\"unless\",\"backed\",\"link\",\"arizona\",\"politically\",\"unlikely\",\"separate\",\"safety\",\"conducted\",\"contrast\",\"mayor\",\"suggests\",\"presence\",\"rival\",\"swing\",\"effectively\",\"studies\",\"mccain\",\"daughter\",\"firm\",\"named\",\"electorate\",\"career\",\"receive\",\"road\",\"closed\",\"towards\",\"pac\",\"deeply\",\"promised\",\"happy\",\"pushed\",\"internal\",\"respond\",\"incident\",\"\\u2022\",\"played\",\"consequences\",\"fired\",\"season\",\"extremely\",\"closer\",\"add\",\"effective\",\"martin\",\"benghazi\",\"destroy\",\"truly\",\"cuts\",\"platform\",\"aide\",\"carry\",\"island\",\"mission\",\"familiar\",\"speeches\",\"direction\",\"spend\",\"plus\",\"dropped\",\"brother\",\"strongly\",\"regulations\",\"possibly\",\"controversy\",\"strike\",\"navy\",\"german\",\"advisers\",\"discovered\",\"proposal\",\"understanding\",\"raising\",\"native\",\"investigations\",\"9\\u002f11\",\"performance\",\"russians\",\"delivered\",\"hispanic\",\"prepared\",\"eric\",\"declined\",\"green\",\"davis\",\"borders\",\"essentially\",\"narrative\",\"fed\",\"deaths\",\"deals\",\"floor\",\"22\",\"partners\",\"institutions\",\"moral\",\"philadelphia\",\"hopes\",\"corrupt\",\"write\",\"fundraising\",\"seriously\",\"negotiations\",\"entirely\",\"colorado\",\"jim\",\"palestinian\",\"finance\",\"walk\",\"reading\",\"scene\",\"writing\",\"wealth\",\"allowing\",\"communications\",\"caught\",\"jews\",\"funds\",\"activities\",\"margin\",\"starting\",\"wo\",\"shared\",\"planning\",\"considering\",\"tweeted\",\"paying\",\"reporting\",\"2009\",\"discuss\",\"beat\",\"watching\",\"vision\",\"computer\",\"nobody\",\"basis\",\"waiting\",\"training\",\"claiming\",\"yemen\",\"endorsement\",\"everybody\",\"evil\",\"resolution\",\"keeping\",\"complex\",\"blue\",\"otherwise\",\"knowledge\",\"obvious\",\"prove\",\"minimum\",\"markets\",\"pledged\",\"soldiers\",\"robert\",\"unlike\",\"identified\",\"secure\",\"represents\",\"supporter\",\"p.m.\",\"instance\",\"steps\",\"commission\",\"extreme\",\"civilians\",\"prior\",\"dark\",\"offensive\",\"bureau\",\"roughly\",\"physical\",\"range\",\"aircraft\",\"ticket\",\"combat\",\"treatment\",\"seeing\",\"d.c.\",\"corporations\",\"pope\",\"stopped\",\"https\",\"cited\",\"door\",\"alleged\",\"era\",\"aleppo\",\"29\",\"estate\",\"huma\",\"bomb\",\"faces\",\"interesting\",\"deputy\",\"turning\",\"generation\",\"presidents\",\"argue\",\"solution\",\"prices\",\"clean\",\"de\",\"politician\",\"generally\",\"require\",\"empire\",\"wake\",\"opponent\",\"registered\",\"purpose\",\"fix\",\"machine\",\"increasing\",\"association\",\"usually\",\"ideological\",\"territory\",\"talked\",\"seat\",\"represent\",\"bringing\",\"measures\",\"bigger\",\"conditions\",\"militants\",\"faced\",\"holds\",\"track\",\"hurt\",\"destruction\",\"blood\",\"cultural\",\"articles\",\"environment\",\"heavily\",\"angry\",\"appearance\",\"mention\",\"assange\",\"ministry\",\"representatives\",\"christians\",\"activity\",\"cia\",\"eyes\",\"kentucky\",\"annual\",\"strategic\",\"strikes\",\"zero\",\"19\",\"stands\",\"newspaper\",\"figures\",\"strength\",\"affordable\",\"mccarthy\",\"original\",\"standards\",\"gain\",\"closely\",\"flag\",\"code\",\"senators\",\"theory\",\"balance\",\"date\",\"lie\",\"afternoon\",\"picture\",\"pull\",\"sea\",\"africa\",\"approval\",\"effects\",\"infrastructure\",\"anger\",\"drugs\",\"basic\",\"creating\",\"joint\",\"virtually\",\"count\",\"rand\",\"aware\",\"maryland\",\"baltimore\",\"rebels\",\"guys\",\"yesterday\",\"homeland\",\"anthony\",\"names\",\"stood\",\"advance\",\"character\",\"remaining\",\"republic\",\"request\",\"folks\",\"referring\",\"gray\",\"liberals\",\"enemy\",\"originally\",\"totally\",\"drop\",\"basically\",\"zone\",\"allegations\",\"sitting\",\"sending\",\"videos\",\"except\",\"occurred\",\"suggesting\",\"turns\",\"korea\",\"2016.\",\"determine\",\"opening\",\"background\",\"brain\",\"value\",\"urged\",\"nixon\",\"warming\",\"e-mail\",\"winner\",\"options\",\"et\",\"suspect\",\"destroyed\",\"bills\",\"backing\",\"rallies\",\"tweet\",\"specifically\",\"shut\",\"colleagues\",\"relatively\",\"trial\",\"31\",\"ii\",\"targets\",\"streets\",\"unprecedented\",\"amid\",\"books\",\"interested\",\"returns\",\"ballots\",\"environmental\",\"challenges\",\"equal\",\"criticized\",\"conduct\",\"discussed\",\"providing\",\"greatest\",\"sound\",\"rnc\",\"rick\",\"reduce\",\"vladimir\",\"drive\",\"targeted\",\"ambassador\",\"mentioned\",\"listen\",\"mistake\",\"21\",\"twice\",\"silver\",\"broken\",\"racism\",\"aside\",\"charlie\",\"libertarian\",\"estimated\",\"grow\",\"london\",\"threatened\",\"fell\",\"charles\",\"missiles\",\"exposed\",\"collapse\",\"widely\",\"store\",\"historic\",\"model\",\"content\",\"unfortunately\",\"momentum\",\"trouble\",\"channel\",\"diplomatic\",\"j.\",\"emergency\",\"grand\",\"promises\",\"andrew\",\"lawyer\",\"veteran\",\"managed\",\"humanity\",\"acknowledged\",\"runs\",\"donations\",\"attacking\",\"travel\",\"hell\",\"property\",\"arkansas\",\"google\",\"northern\",\"tom\",\"spread\",\"tea\",\"print\",\"aggressive\",\"sick\",\"maintain\",\"carter\",\"sees\",\"william\",\"bottom\",\"divided\",\"contact\",\"stuff\",\"attempts\",\"connection\",\"canada\",\"polarization\",\"forum\",\"ads\",\"commitment\",\"changing\",\"differences\",\"qaeda\",\"rivals\",\"tells\",\"determined\",\"beliefs\",\"fast\",\"proven\",\"correct\",\"justices\",\"fit\",\"lady\",\"eu\",\"wish\",\"products\",\"apart\",\"charleston\",\"activist\",\"hoping\",\"explains\",\"turnout\",\"arrived\",\"indian\",\"gender\",\"interviews\",\"airstrikes\",\"crucial\",\"degree\",\"los\",\"gotten\",\"reid\",\"launch\",\"invasion\",\"controlled\",\"missile\",\"size\",\"heavy\",\"dozen\",\"whites\",\"struggle\",\"residents\",\"produced\",\"causes\",\"ferguson\",\"wing\",\"station\",\"thank\",\"proud\",\"posts\",\"offers\",\"peaceful\",\"table\",\"jail\",\"dollar\",\"u.n.\",\"expert\",\"mrs.\",\"advocates\",\"airport\",\"condition\",\"danger\",\"produce\",\"gap\",\"accounts\",\"leaked\",\"draw\",\"ceo\",\"tone\",\"soviet\",\"messages\",\"sector\",\"admitted\",\"aimed\",\"active\",\"limit\",\"housing\",\"smith\",\"angeles\",\"machines\",\"doctors\",\"meaning\",\"identity\",\"contests\",\"finding\",\"context\",\"limits\",\"task\",\"gains\",\"provides\",\"worry\",\"chaos\",\"utah\",\"tend\",\"a.m.\",\"numerous\",\"emerged\",\"enemies\",\"politico\",\"independents\",\"ethnic\",\"shootings\",\"prominent\",\"baby\",\"oppose\",\"personally\",\"courts\",\"worried\",\"belief\",\"moments\",\"expand\",\"existence\",\"smart\",\"graham\",\"wide\",\"stronger\",\"citizen\",\"illinois\",\"insisted\",\"oh\",\"conspiracy\",\"noting\",\"cuban\",\"kennedy\",\"broader\",\"film\",\"intervention\",\"sell\",\"thomas\",\"established\",\"circumstances\",\"boost\",\"representative\",\"acts\",\"approved\",\"defending\",\"offering\",\"somebody\",\"stock\",\"proof\",\"trillion\",\"realize\",\"weak\",\"filed\",\"normal\",\"trip\",\"presumptive\",\"acting\",\"desire\",\"uses\",\"allows\",\"latino\",\"mexican\",\"section\",\"honest\",\"missouri\",\"hot\",\"forget\",\"opened\",\"weapon\",\"shortly\",\"onto\",\"arabs\",\"chair\",\"asia\",\"factor\",\"feeling\",\"setting\",\"socialist\",\"partnership\",\"r\",\"unusual\",\"probe\",\"decline\",\"reuters\",\"intended\",\"fundamental\",\"shares\",\"trend\",\"somehow\",\"sites\",\"enter\",\"huckabee\",\"broad\",\"requires\",\"bombing\",\"resistance\",\"merely\",\"apparent\",\"die\",\"regional\",\"speaks\",\"bipartisan\",\"turkish\",\"founder\",\"williams\",\"confident\",\"exist\",\"mate\",\"massachusetts\",\"matt\",\"fourth\",\"construction\",\"fine\",\"birth\",\"advice\",\"disaster\",\"perfect\",\"solar\",\"unclear\",\"management\",\"opinions\",\"images\",\"supports\",\"strategist\",\"adds\",\"fewer\",\"bias\",\"heads\",\"legacy\",\"plenty\",\"equality\",\"command\",\"hotel\",\"split\",\"civilian\",\"healthy\",\"perry\",\"regardless\",\"older\",\"engaged\",\"jones\",\"officially\",\"orders\",\"kaine\",\"guard\",\"businessman\",\"it.\",\"entered\",\"update\",\"youtube\",\"francis\",\"serving\",\"grew\",\"identify\",\"manafort\",\"professional\",\"anybody\",\"repeated\",\"easier\",\"dozens\",\"lying\",\"meetings\",\"assistant\",\"flight\",\"tim\",\"covered\",\"relief\",\"tensions\",\"suicide\",\"harder\",\"exit\",\"researchers\",\"historical\",\"parenthood\",\"fiscal\",\"concluded\",\"disease\",\"universe\",\"notice\",\"2000\",\"ignore\",\"wave\",\"lawyers\",\"abuse\",\"hospital\",\"miss\",\"eye\",\"opposite\",\"bar\",\"legislative\",\"undocumented\",\"conclusion\",\"allegedly\",\"license\",\"honor\",\"collection\",\"notion\",\"pm\",\"appeals\",\"reaction\",\"scientific\",\"carrying\",\"scale\",\"topic\",\"ronald\",\"remained\",\"longtime\",\"document\",\"recognize\",\"homes\",\"peter\",\"initially\",\"right-wing\",\"wealthy\",\"readers\",\"treaty\",\"color\",\"option\",\"wearing\",\"cbs\",\"ideology\",\"assistance\",\"double\",\"unable\",\"inequality\",\"digital\",\"minorities\",\"ruled\",\"integrity\",\"bloomberg\",\"answers\",\"writer\",\"legitimate\",\"quarter\",\"oct.\",\"chamber\",\"japan\",\"express\",\"alliance\",\"favorite\",\"session\",\"watched\",\"round\",\"seats\",\"smaller\",\"reference\",\"brothers\",\"80\",\"viewed\",\"uk\",\"va\",\"behalf\",\"veto\",\"immediate\",\"gingrich\",\"quick\",\"improve\",\"judgment\",\"literally\",\"driven\",\"nov.\",\"leaves\",\"2015.\",\"removed\",\"capable\",\"healthcare\",\"lesley\",\"pointing\",\"treated\",\"blow\",\"regular\",\"opportunities\",\"usual\",\"production\",\"immigrant\",\"deny\",\"populist\",\"entering\",\"rejected\",\"harm\",\"fresh\",\"wonder\",\"35\",\"deliver\",\"tens\",\"achieve\",\"club\",\"anyway\",\"definitely\",\"investigating\",\"placed\",\"dream\",\"chosen\",\"style\",\"van\",\"jackson\",\"earnest\",\"fears\",\"edge\",\"encourage\",\"tpp\",\"demands\",\"guess\",\"carbon\",\"confidence\",\"unity\",\"exercise\",\"returned\",\"organized\",\"afford\",\"finds\",\"brexit\",\"anti-trump\",\"moves\",\"citing\",\"affect\",\"dealing\",\"chose\",\"proposals\",\"existing\",\"importance\",\"extent\",\"replace\",\"thoughts\",\"analyst\",\"arguing\",\"accepted\",\"chances\",\"experienced\",\"blamed\",\"commander\",\"steve\",\"throw\",\"coup\",\"developed\",\"bombs\",\"remove\",\"closing\",\"supply\",\"brussels\",\"stahl\",\"2007\",\"struck\",\"marked\",\"typically\",\"sold\",\"23\",\"humanitarian\",\"pulled\",\"embassy\",\"surrounding\",\"catholic\",\"palestine\",\"linked\",\"priorities\",\"dinner\",\"suffering\",\"straight\",\"campaigning\",\"checks\",\"consistent\",\"boston\",\"2012.\",\"structure\",\"gulf\",\"endorse\",\"predicted\",\"georgia\",\"mental\",\"granted\",\"ally\",\"dismissed\",\"lots\",\"lawsuit\",\"isil\",\"principles\",\"odds\",\"questioned\",\"driving\",\"nice\",\"discrimination\",\"perspective\",\"exchanges\",\"ends\",\"panel\",\"attended\",\"regularly\",\"convinced\",\"youth\",\"prepare\",\"congressman\",\"patriot\",\"jury\",\"injured\",\"younger\",\"summit\",\"emissions\",\"brand\",\"st.\",\"kurdish\",\"significantly\",\"accusations\",\"poverty\",\"shape\",\"economics\",\"doj\",\"contain\",\"involving\",\"terrible\",\"mitch\",\"criminals\",\"tactics\",\"quality\",\"engage\",\"subsidies\",\"70\",\"compromise\",\"drew\",\"sacred\",\"boy\",\"prosecutors\",\"openly\",\"scenario\",\"choices\",\"match\",\"passing\",\"english\",\"describe\",\"involvement\",\"opposing\",\"vietnam\",\"married\",\"combined\",\"fought\",\"famous\",\"90\",\"targeting\",\"ordered\",\"african-american\",\"presented\",\"degrees\",\"selling\",\"tehran\",\"discussions\",\"suspects\",\"captured\",\"suddenly\",\"male\",\"investigative\",\"explanation\",\"girls\",\"jeff\",\"employment\",\"bob\",\"defended\",\"elsewhere\",\"elizabeth\",\"ignored\",\"reforms\",\"train\",\"roberts\",\"45\",\"relevant\",\"brian\",\"oct\",\"girl\",\"competition\",\"vowed\",\"1990s\",\"morris\",\"headquarters\",\"consumers\",\"introduced\",\"referred\",\"frequently\",\"embrace\",\"long-term\",\"newly\",\"protecting\",\"river\",\"failing\",\"factors\",\"enormous\",\"suspected\",\"card\",\"slightly\",\"missing\",\"scheduled\",\"rare\",\"dog\",\"battleground\",\"overwhelming\",\"somewhat\",\"competitive\",\"prospect\",\"afraid\",\"plant\",\"surely\",\"networks\",\"types\",\"mr\",\"goals\",\"msnbc\",\"wages\",\"product\",\"widespread\",\"photos\",\"comprehensive\",\"permission\",\"apply\",\"stance\",\"legally\",\"begins\",\"begun\",\"guilty\",\"goldman\",\"gathered\",\"rape\",\"josh\",\"ap\",\"blacks\",\"cooperation\",\"unique\",\"spring\",\"evangelical\",\"patients\",\"preparing\",\"violation\",\"races\",\"2004\",\"anywhere\",\"intent\",\"miami\",\"expensive\",\"gary\",\"feels\",\"abroad\",\"threatening\",\"crash\",\"rose\",\"wounded\",\"grown\",\"puts\",\"moreover\",\"elect\",\"giant\",\"diverse\",\"alive\",\"egypt\",\"restrictions\",\"hollywood\",\"map\",\"reputation\",\"arguments\",\"contributions\",\"reserve\",\"principle\",\"minds\",\"tenure\",\"informed\",\"equipment\",\"gathering\",\"prosecutor\",\"earned\",\"2006\",\"quote\",\"..\",\"slow\",\"phrase\",\"extraordinary\",\"owners\",\"b\",\"consistently\",\"division\",\"mail\",\"palestinians\",\"abc\",\"laid\",\"shadow\",\"egyptian\",\"schultz\",\"welfare\",\"file\",\"practices\",\"judicial\",\"everywhere\",\"developing\",\"surprised\",\"cutting\",\"risks\",\"sounds\",\"continuing\",\"marijuana\",\"sit\",\"shall\",\"kinds\",\"understood\",\"irs\",\"necessarily\",\"kim\",\"escape\",\"medicine\",\"unknown\",\"contained\",\"ultimate\",\"indicated\",\"brief\",\"investigate\",\"touch\",\"net\",\"sun\",\"gore\",\"victim\",\"arrest\",\"unions\",\"analysts\",\"pakistan\",\"elements\",\"proved\",\"error\",\"challenging\",\"treasury\",\"complicated\",\"praised\",\"divide\",\"coast\",\"warrant\",\"staffers\",\"initiative\",\"spokeswoman\",\"deadly\",\"agent\",\"emotional\",\"examples\",\"witness\",\"200\",\"carly\",\"advanced\",\"refugee\",\"revelations\",\"suffered\",\"signal\",\"fail\",\"43\",\"billions\",\"attempted\",\"appropriate\",\"employee\",\"creation\",\"capacity\",\"superdelegates\",\"lived\",\"vehicles\",\"ratings\",\"mandate\",\"intense\",\"consensus\",\"toxic\",\"vulnerable\",\"fifth\",\"drawn\",\"expansion\",\"repeal\",\"filled\",\"vegas\",\"transition\",\"hardly\",\"500\",\"memo\",\"fuel\",\"ancient\",\"essential\",\"oval\",\"personnel\",\"banking\",\"establish\",\"judges\",\"incidents\",\"recognized\",\"stolen\",\"narrow\",\"challenged\",\"detail\",\"likes\",\"weather\",\"operating\",\"sales\",\"reasonable\",\"fairly\",\"directed\",\"licenses\",\"stone\",\"ten\",\"amounts\",\"featured\",\"transfer\",\"heading\",\"addressed\",\"solid\",\"receiving\",\"surface\",\"jr.\",\"deficit\",\"players\",\"england\",\"anymore\",\"taliban\",\"initial\",\"agreements\",\"o'malley\",\"nominating\",\"2005\",\"shutdown\",\"database\",\"inflation\",\"fallen\",\"mogul\",\"citizenship\",\"treat\",\"wilson\",\"etc\",\"pursue\",\"sept.\",\"survive\",\"column\",\"handling\",\"promoting\",\"web\",\"desperate\",\"districts\",\"dispute\",\"2008.\",\"extremist\",\"focusing\",\"spot\",\"ending\",\"math\",\"v.\",\"exact\",\"increases\",\"innocent\",\"offices\",\"findings\",\"pundits\",\"develop\",\"brings\",\"obtained\",\"lay\",\"counsel\",\"badly\",\"comfortable\",\"scandals\",\"backers\",\"electronic\",\"jason\",\"undermine\",\"cars\",\"fundraiser\",\"reflect\",\"blog\",\"giuliani\",\"confirm\",\"currency\",\"refuse\",\"park\",\"actively\",\"square\",\"pain\",\"privacy\",\"seized\",\"argues\",\"attempting\",\"worker\",\"wasserman\",\"campus\",\"assume\",\"variety\",\"canadian\",\"customers\",\"harvard\",\"object\",\"conventional\",\"convince\",\"striking\",\"industrial\",\"hebdo\",\"fake\",\"parliament\",\"keeps\",\"finish\",\"nationwide\",\"humans\",\"nominees\",\"flying\",\"amazing\",\"movements\",\"recall\",\"surprising\",\"recession\",\"attend\",\"loans\",\"investors\",\"collective\",\"deserve\",\"deportation\",\"tradition\",\"connected\",\"participate\",\"promote\",\"projects\",\"struggling\",\"forms\",\"oregon\",\"pool\",\"upcoming\",\"tool\",\"globe\",\"intention\",\"revenue\",\"conflicts\",\"covering\",\"disagree\",\"questioning\",\"institution\",\"donor\",\"knowing\",\"handful\",\"capitalism\",\"hatred\",\"priority\",\"seemingly\",\"consciousness\",\"tools\",\"adopted\",\"tied\",\"urban\",\"asian\",\"cabinet\",\"movie\",\"followers\",\"reveal\",\"ron\",\"reaching\",\"outlets\",\"primarily\",\"skills\",\"jordan\",\"protected\",\"profit\",\"illegally\",\"ceremony\",\"sachs\",\"no-fly\",\"raises\",\"feet\",\"refusing\",\"migrants\",\"roof\",\"na\",\"sunni\",\"loses\",\"demographic\",\"headlines\",\"ukrainian\",\"testimony\",\"expanded\",\"volunteers\",\"editorial\",\"welcome\",\"2017\",\"counter\",\"afghan\",\"ms.\",\"pledge\",\"falling\",\"governors\",\"orlando\",\"helps\",\"devastating\",\"loretta\",\"remarkable\",\"dan\",\"definition\",\"camera\",\"extend\",\"julian\",\"bodies\",\"coal\",\"expectations\",\"atlantic\",\"spirit\",\"2014.\",\"buying\",\"michelle\",\"las\",\"jerusalem\",\"centers\",\"doctor\",\"manner\",\"pew\",\"barely\",\"detailed\",\"walking\",\"beings\",\"disclosure\",\"picked\",\"admit\",\"cross\",\"ice\",\"circle\",\"1,000\",\"vehicle\",\"assets\",\"visited\",\"location\",\"10,000\",\"stuck\",\"crazy\",\"trained\",\"australia\",\"overseas\",\"tiny\",\"chemical\",\"conversations\",\"\\u0096\",\"taught\",\"cops\",\"lake\",\"replied\",\"unemployment\",\"hosted\",\"medicare\",\"outright\",\"latinos\",\"contrary\",\"defined\",\"hired\",\"panic\",\"fate\",\"duty\",\"facilities\",\"plot\",\"memory\",\"urging\",\"nationally\",\"provision\",\"sentence\",\"provisions\",\"adults\",\"partner\",\"headed\",\"drinking\",\"connect\",\"bernardino\",\"rating\",\"inevitable\",\"tape\",\"encouraged\",\"ufo\",\"walsh\",\"kevin\",\"universal\",\"art\",\"convicted\",\"contested\",\"justify\",\"it\\u0092s\",\"announce\",\"grant\",\"technical\",\"admiral\",\"box\",\"overcome\",\"eligible\",\"handle\",\"sharing\",\"phenomenon\",\"discussing\",\"1.\",\"rarely\",\"deployed\",\"a.\",\"traffic\",\"subscribe\",\"crew\",\"dramatically\",\"trading\",\"equally\",\"journalism\",\"millennials\",\"contract\",\"drone\",\"charity\",\"recognition\",\"melania\",\"nearby\",\"prefer\",\"reject\",\"third-party\",\"tomorrow\",\"hoped\",\"joke\",\"weekly\",\"sensitive\",\"monitor\",\"ship\",\"heat\",\"starts\",\"skin\",\"walked\",\"harry\",\"2001\",\"enjoy\",\"doors\",\"species\",\"beating\",\"versus\",\"quoted\",\"rescue\",\"circuit\",\"deeper\",\"footage\",\"estimates\",\"fun\",\"advertisement\",\"hide\",\"recorded\",\"exclusively\",\"alabama\",\"demanding\",\"reelection\",\"acknowledge\",\"inner\",\"requests\",\"stressed\",\"prisoners\",\"succeed\",\"commit\",\"regard\",\"e-mails\",\"hostages\",\"patrick\",\"steal\",\"dominated\",\"sharp\",\"units\",\"diversity\",\"penalty\",\"miller\",\"houses\",\"observers\",\"hispanics\",\"declare\",\"spanish\",\"tests\",\"shock\",\"follows\",\"fans\",\"perfectly\",\"constant\",\"sheriff\",\"nominated\",\"foods\",\"fees\",\"pressed\",\"quo\",\"cell\",\"invited\",\"temporary\",\"branch\",\"thousand\",\"concept\",\"influential\",\"marks\",\"design\",\"severe\",\"manufacturing\",\"statistics\",\"vitamin\",\"shocking\",\"retirement\",\"firearms\",\"2003\",\"upset\",\"plants\",\"brooklyn\",\"1992\",\"belgian\",\"frustrated\",\"solve\",\"tremendous\",\"minnesota\",\"users\",\"frankly\",\"victories\",\"extremists\",\"seconds\",\"wind\",\"friendly\",\"formally\",\"kansas\",\"represented\",\"historically\",\"learning\",\"pacific\",\"hundred\",\"hostile\",\"heritage\",\"addressing\",\"gang\",\"diplomacy\",\"independence\",\"sorry\",\"moon\",\"1980s\",\"device\",\"devices\",\"strongest\",\"rural\",\"cooper\",\"bet\",\"stakes\",\"mount\",\"entry\",\"c\",\"impose\",\"meat\",\"atmosphere\",\"pattern\",\"scrutiny\",\"cameras\",\"tired\",\"plays\",\"la\",\"mere\",\"alongside\",\"jet\",\"destroying\",\"struggled\",\"settlement\",\"objective\",\"audio\",\"garland\",\"confirmation\",\"spoken\",\"distance\",\"solutions\",\"gon\",\"sad\",\"extended\",\"employers\",\"ordinary\",\"outsider\",\"funded\",\"crowds\",\"halloween\",\"reveals\",\"hopeful\",\"hatch\",\"outrage\",\"interviewed\",\"feed\",\"planes\",\"broadcast\",\"similarly\",\"joining\",\"forth\",\"prize\",\"substantial\",\"drawing\",\"earn\",\"stupid\",\"latter\",\"hacked\",\"score\",\"promising\",\"defeated\",\"ought\",\"raqqa\",\"scenes\",\"emerging\",\"jesus\",\"arm\",\"blocked\",\"stake\",\"fill\",\"ford\",\"aggression\",\"laptop\",\"rapidly\",\"hearings\",\"slowly\",\"confrontation\",\"loved\",\"referendum\",\"300\",\"motivated\",\"condemned\",\"silence\",\"driver\",\"commentary\",\"reminded\",\"guide\",\"\\u00a9\",\"negotiating\",\"lgbt\",\"breitbart\",\"self\",\"feelings\",\"pollster\",\"anonymous\",\"kingdom\",\"steady\",\"rodham\",\"appointed\",\"wisdom\",\"ammunition\",\"comparison\",\"window\",\"trends\",\"animals\",\"breaks\",\"oligarchy\",\"boss\",\"47\",\"stevens\",\"guarantee\",\"couples\",\"8th\",\"maine\",\"credibility\",\"dogs\",\"bold\",\"inquiry\",\"insider\",\"founding\",\"2002\",\"hollande\",\"evangelicals\",\"speculation\",\"located\",\"announcing\",\"purposes\",\"yeah\",\"purchase\",\"forcing\",\"president-elect\",\"bible\",\"regulation\",\"dramatic\",\"executives\",\"listening\",\"complaints\",\"exists\",\"typical\",\"resulted\",\"owner\",\"departments\",\"precisely\",\"emphasized\",\"weight\",\"declaring\",\"civilization\",\"draft\",\"firing\",\"music\",\"wallace\",\"affair\",\"guardian\",\"wolf\",\"skeptical\",\"payments\",\"pieces\",\"howard\",\"riot\",\"causing\",\"pictures\",\"league\",\"stick\",\"entitled\",\"stunning\",\"manhattan\",\"expanding\",\"deadline\",\"columbia\",\"voices\",\"vs.\",\"absolute\",\"protectors\",\"spin\",\"bulk\",\"anderson\",\"operate\",\"prompted\",\"describes\",\"finished\",\"select\",\"bear\",\"communication\",\"serves\",\"francisco\",\"beach\",\"columnist\",\"commercial\",\"endless\",\"method\",\"qatar\",\"manage\",\"perceived\",\"locations\",\"louisiana\",\"latin\",\"hitting\",\"roll\",\"dna\",\"items\",\"roosevelt\",\"premiums\",\"al-qaeda\",\"operatives\",\"44\",\"display\",\"duke\",\"khan\",\"prospects\",\"topics\",\"parent\",\"proper\",\"master\",\"stars\",\"judiciary\",\"choosing\",\"taxpayers\",\"hacking\",\"insiders\",\"realized\",\"formed\",\"reads\",\"approximately\",\"relative\",\"recalled\",\"bases\",\"successfully\",\"champion\",\"stephen\",\"murdered\",\"delay\",\"switch\",\"register\",\"harris\",\"consent\",\"bus\",\"connections\",\"accurate\",\"links\",\"willingness\",\"puerto\",\"useful\",\"divisive\",\"acceptable\",\"hidden\",\"strange\",\"reduced\",\"leaks\",\"excuse\",\"legislature\",\"tech\",\"edward\",\"framework\",\"christmas\",\"profits\",\"minute\",\"mitchell\",\"christ\",\"hero\",\"communist\",\"donate\",\"posed\",\"contenders\",\"32\",\"winter\",\"rid\",\"owned\",\"dirty\",\"magic\",\"lied\",\"restaurant\",\"declaration\",\"e\",\"occupation\",\"accusing\",\"controls\",\"credible\",\"organizing\",\"affected\",\"ethics\",\"counted\",\"wear\",\"santorum\",\"passage\",\"ages\",\"gained\",\"teachers\",\"resolve\",\"tower\",\"daesh\",\"depends\",\"schedule\",\"wild\",\"confusion\",\"eager\",\"sat\",\"mateen\",\"advocate\",\"permanent\",\"seeks\",\"tragedy\",\"priebus\",\"bunch\",\"neighborhood\",\"sean\",\"joseph\",\"letting\",\"eating\",\"noticed\",\"cable\",\"consideration\",\"unite\",\"killings\",\"evolution\",\"survival\",\"accountable\",\"quiet\",\"zionist\",\"complained\",\"mainly\",\"lincoln\",\"bashar\",\"automatically\",\"overwhelmingly\",\"insults\",\"loan\",\"feb.\",\"villages\",\"province\",\"village\",\"torture\",\"massacre\",\"alaska\",\"eat\",\"naturally\",\"frustration\",\"siege\",\"des\",\"militant\",\"celebrate\",\"waters\",\"brutal\",\"suit\",\"l\",\"award\",\"odd\",\"hitler\",\"aspects\",\"shifted\",\"equivalent\",\"courage\",\"monetary\",\"telephone\",\"inspector\",\"mine\",\"teacher\",\"firms\",\"selected\",\"exclusive\",\"intellectual\",\"throwing\",\"assessment\",\"chuck\",\"anonymity\",\"surge\",\"tip\",\"2013.\",\"sweeping\",\"holder\",\"bought\",\"fields\",\"mood\",\"buildings\",\"software\",\"sharply\",\"flow\",\"sky\",\"2.\",\"pelosi\",\"shocked\",\"understands\",\"sioux\",\"shots\",\"bubble\",\"gdp\",\"vital\",\"titled\",\"farmers\",\"listed\",\"chain\",\"apologize\",\"encouraging\",\"custody\",\"extensive\",\"punishment\",\"route\",\"explosion\",\"koch\",\"closest\",\"testing\",\"aftermath\",\"launching\",\"huffington\",\"\\u00bb\",\"id\",\"trans-pacific\",\"48\",\"amy\",\"worldwide\",\"pace\",\"theme\",\"bin\",\"bound\",\"documentary\",\"lobbyists\",\"aim\",\"34\",\"logic\",\"corner\",\"re-election\",\"journey\",\"helicopter\",\"scheme\",\"lee\",\"substance\",\"matthew\",\"participation\",\"tries\",\"revealing\",\"careful\",\"violations\",\"declining\",\"forever\",\"approve\",\"responding\",\"nazi\",\"whenever\",\"consumer\",\"loyal\",\"benjamin\",\"henry\",\"rush\",\"pose\",\"diet\",\"unit\",\"newsletter\",\"lord\",\"beautiful\",\"generations\",\"bbc\",\"scared\",\"besides\",\"pacs\",\"demonstrated\",\"dc\",\"observed\",\"pages\",\"representing\",\"facility\",\"ugly\",\"obtain\",\"asks\",\"ships\",\"answered\",\"37\",\"reverse\",\"commerce\",\"celebrity\",\"entity\",\"fighter\",\"two-thirds\",\"moore\",\"headline\",\"dhs\",\"islamist\",\"21st\",\"1980\",\"3.\",\"working-class\",\"founded\",\"extra\",\"queen\",\"football\",\"quotes\",\"ceiling\",\"enthusiasm\",\"cleared\",\"governing\",\"restore\",\"sessions\",\"incredible\",\"responses\",\"constantly\",\"methods\",\"whoever\",\"dreams\",\"38\",\"hawaii\",\"sight\",\"ed\",\"attorneys\",\"stress\",\"warfare\",\"concerning\",\"perform\",\"polarized\",\"goods\",\"optimistic\",\"recovery\",\"ok\",\"capture\",\"franklin\",\"36\",\"creative\",\"e.\",\"absence\",\"household\",\"donated\",\"savings\",\"mexicans\",\"high-profile\",\"radar\",\"adopt\",\"repeat\",\"gen.\",\"sets\",\"root\",\"rt\",\"psychological\",\"bond\",\"episode\",\"neighbors\",\"temporarily\",\"calm\",\"carefully\",\"camps\",\"formal\",\"indictment\",\"lesson\",\"function\",\"revolt\",\"handed\",\"associate\",\"authorized\",\"conway\",\"jay\",\"requiring\",\"speed\",\"hostage\",\"globalist\",\"49\",\"qualified\",\"oversight\",\"banned\",\"sovereign\",\"reducing\",\"shop\",\"secrets\",\"holy\",\"grounds\",\"stability\",\"threatens\",\"shame\",\"thrown\",\"npr\",\"backlash\",\"inspired\",\"asset\",\"pulling\",\"cards\",\"fault\",\"chart\",\"african-americans\",\"alex\",\"dedicated\",\"participants\",\"competing\",\"masses\",\"emphasis\",\"interior\",\"authorization\",\"involves\",\"supplies\",\"41\",\"demonstrate\",\"traveled\",\"holiday\",\"accountability\",\"them.\",\"academic\",\"suffer\",\"cares\",\"bitter\",\"2011.\",\"overthrow\",\"d.\",\"delivering\",\"combination\",\"saudis\",\"stations\",\"emerge\",\"33\",\"personality\",\"75\",\"flat\",\"stein\",\"threaten\",\"soldier\",\"scores\",\"mobile\",\"empty\",\"impression\",\"surveys\",\"lists\",\"incredibly\",\"ranks\",\"missed\",\"applause\",\"italy\",\"spotlight\",\"achieved\",\"peoples\",\"hopefully\",\"appearances\",\"advocacy\",\"minor\",\"arena\",\"highlighted\",\"investigated\",\"h.w\",\"advisor\",\"bankers\",\"denying\",\"progressives\",\"visible\",\"violated\",\"authors\",\"stump\",\"feature\",\"brazile\",\"dad\",\"asylum\",\"healing\",\"title\",\"tank\",\"collect\",\"pen\",\"fly\",\"saved\",\"temperament\",\"detroit\",\"mistakes\",\"assured\",\"guest\",\"sue\",\"helmets\",\"ride\",\"govern\",\"indication\",\"bloc\",\"screen\",\"raid\",\"indicate\",\"scientist\",\"pitch\",\"catch\",\"silent\",\"42\",\"relationships\",\"dropping\",\"stating\",\"christianity\",\"visiting\",\"refusal\",\"fleeing\",\"emanuel\",\"releasing\",\"iii\",\"traveling\",\"describing\",\"stepped\",\"corps\",\"maintaining\",\"praise\",\"eliminate\",\"medicaid\",\"trending\",\"horse\",\"leverage\",\"lands\",\"secretly\",\"1996\",\"classic\",\"addresses\",\"nevertheless\",\"bridge\",\"hussein\",\"mining\",\"middle-class\",\"elderly\",\"transparency\",\"46\",\"applied\",\"negotiate\",\"viewers\",\"epa\",\"enterprise\",\"flint\",\"removal\",\"55\",\"mess\",\"burden\",\"lindsey\",\"daniel\",\"storm\",\"explaining\",\"dear\",\"favorable\",\"resigned\",\"persuade\",\"indicates\",\"experiences\",\"economist\",\"oklahoma\",\"doubts\",\"teams\",\"resulting\",\"mix\",\"jump\",\"counting\",\"implications\",\"100,000\",\"furthermore\",\"crooked\",\"registration\",\"moderators\",\"mills\",\"appealing\",\"warnings\",\"exception\",\"confront\",\"gear\",\"gaining\",\"aggressively\",\"hedge\",\"fundamentally\",\"anxiety\",\"adam\",\"keystone\",\"additionally\",\"lift\",\"briefly\",\"returning\",\"believing\",\"symbol\",\"rebel\",\"hook\",\"tougher\",\"importantly\",\"obligation\",\"amnesty\",\"oath\",\"unrest\",\"newt\",\"phase\",\"attitude\",\"tie\",\"imposed\",\"al-assad\",\"frank\",\"spokesperson\",\"endorsements\",\"implement\",\"publication\",\"51\",\"sarah\",\"poised\",\"protections\",\"pact\",\"rely\",\"expressing\",\"damaged\",\"tennessee\",\"landslide\",\"poland\",\"suspicious\",\"megyn\",\"mixed\",\"preferred\",\"kremlin\",\"picking\",\"losses\",\"fat\",\"fan\",\"conservatism\",\"possession\",\"jonathan\",\"jon\",\"reply\",\"prayer\",\"louis\",\"hiding\",\"abandoned\",\"misleading\",\"saddam\",\"veritas\",\"completed\",\"f.\",\"conscience\",\"jindal\",\"engagement\",\"selection\",\"chelsea\",\"decides\",\"famously\",\"tweets\",\"appreciate\",\"troubling\",\"burn\",\"rifle\",\"pure\",\"locked\",\"neutral\",\"pataki\",\"lowest\",\"birthday\",\"moines\",\"educated\",\"entertainment\",\"tribe\",\"spectrum\",\"tested\",\"privately\",\"partly\",\"and\\u002for\",\"accepting\",\"castro\",\"timing\",\"lesser\",\"interpretation\",\"iranians\",\"genuine\",\"defensive\",\"1970s\",\"gunmen\",\"hamilton\",\"visits\",\"okay\",\"stretch\",\"publish\",\"extremism\",\"surrounded\",\"revelation\",\"successor\",\"soul\",\"naval\",\"overnight\",\"games\",\"tour\",\"signals\",\"renewed\",\"riots\",\"gift\",\"awareness\",\"soil\",\"operative\",\"moderator\",\"copy\",\"properly\",\"frontrunner\",\"maintained\",\"toll\",\"outreach\",\"deliberately\",\"sudden\",\"watergate\",\"solely\",\"consultant\",\"sale\",\"deemed\",\"sentiment\",\"horrible\",\"updated\",\"underway\",\"explicitly\",\"expression\",\"materials\",\"sustainable\",\"assassination\",\"considerable\",\"suspended\",\"lewandowski\",\"rear\",\"favored\",\"hannity\",\"fled\",\"guidelines\",\"sorts\",\"valley\",\"eventual\",\"posting\",\"lobby\",\"sample\",\"baseball\",\"pursuit\",\"nasty\",\"unacceptable\",\"insisting\",\"baghdad\",\"player\",\"gather\",\"surprisingly\",\"japanese\",\"lock\",\"unified\",\"acceptance\",\"assuming\",\"advertising\",\"subsequent\",\"editors\",\"rapid\",\"lifetime\",\"estimate\",\"shoot\",\"unexpected\",\"viable\",\"criticizing\",\"ramadi\",\"presents\",\"unfair\",\"avoided\",\"preventing\",\"differently\",\"payment\",\"demanded\",\"lifted\",\"mook\",\"cells\",\"op-ed\",\"mccabe\",\"tight\",\"zones\",\"jets\",\"attackers\",\"monica\",\"donation\",\"nasa\",\"replaced\",\"spy\",\"reduction\",\"prosecution\",\"marine\",\"laden\",\"satisfied\",\"unauthorized\",\"band\",\"tanks\",\"babies\",\"favors\",\"bloody\",\"roots\",\"statewide\",\"steel\",\"outcomes\",\"threshold\",\"tony\",\"requirements\",\"palin\",\"occur\",\"contributor\",\"legitimacy\",\"cool\",\"newspapers\",\"popularity\",\"arrests\",\"bizarre\",\"compete\",\"string\",\"nowhere\",\"promoted\",\"pastor\",\"gowdy\",\"loud\",\"horror\",\"adult\",\"witnessed\",\"awarded\",\"features\",\"nancy\",\"supposedly\",\"bigotry\",\"gunman\",\"sworn\",\"investments\",\"attract\",\"arguably\",\"indigenous\",\"appearing\",\"fails\",\"organize\",\"exposure\",\"imperial\",\"alien\",\"swept\",\"populations\",\"fights\",\"regions\",\"trigger\",\"documented\",\"\\u203a\",\"developments\",\"batteries\",\"organic\",\"departure\",\"reflects\",\"destructive\",\"pending\",\"pray\",\"hair\",\"spain\",\"letters\",\"advised\",\"convincing\",\"apartment\",\"consulting\",\"loves\",\"gross\",\"raids\",\"impeachment\",\"signature\",\"perception\",\"everyday\",\"committees\",\"taxpayer\",\"alan\",\"transgender\",\"publishing\",\"objects\",\"profile\",\"foot\",\"ball\",\"portion\",\"vicious\",\"99\",\"sports\",\"billionaires\",\"rumors\",\"disclose\",\"quantum\",\"animal\",\"classes\",\"mandatory\",\"steven\",\"precedent\",\"reno\",\"jihadists\",\"fascist\",\"farook\",\"assembly\",\"visa\",\"murphy\",\"greek\",\"damaging\",\"waste\",\"kurds\",\"mom\",\"royal\",\"1948\",\"unpopular\",\"genocide\",\"lewinsky\",\"resist\",\"scope\",\"interference\",\"courtesy\",\"philippines\",\"conviction\",\"contender\",\"insist\",\"participating\",\"sovereignty\",\"routine\",\"staying\",\"violate\",\"disappointed\",\"jennifer\",\"amendments\",\"somewhere\",\"customer\",\"eve\",\"row\",\"alcohol\",\"cubs\",\"engaging\",\"slager\",\"frequent\",\"denmark\",\"breath\",\"miracle\",\"tension\",\"fla.\",\"smoke\",\"stops\",\"utterly\",\"legislators\",\"nonetheless\",\"isolated\",\"neighborhoods\",\"beaten\",\"expense\",\"burning\",\"quit\",\"undoubtedly\",\"quietly\",\"sandy\",\"expects\",\"left-wing\",\"puppet\",\"regret\",\"rice\",\"electricity\",\"persian\",\"subjects\",\"strategists\",\"sister\",\"transportation\",\"antonin\",\"spiritual\",\"compare\",\"raw\",\"hospitals\",\"intentions\",\"criticize\",\"bundy\",\"dressed\",\"liberties\",\"sponsored\",\"excited\",\"succeeded\",\"counterterrorism\",\"tapper\",\"updates\",\"secular\",\"1999\",\"greatly\",\"socialism\",\"fallon\",\"margins\",\"deployment\",\"jimmy\",\"confronted\",\"midnight\",\"aliens\",\"federation\",\"1994\",\"witnesses\",\"atomic\",\"susan\",\"distribution\",\"pursuing\",\"assist\",\"wonderful\",\"nominate\",\"discovery\",\"paint\",\"define\",\"assumed\",\"policing\",\"reminder\",\"mcdonald\",\"kicked\",\"counts\",\"improving\",\"mohammed\",\"gates\",\"underlying\",\"remind\",\"professionals\",\"wrongdoing\",\"conventions\",\"stable\",\"injuries\",\"beast\",\"devoted\",\"39\",\"submitted\",\"correspondent\",\"foxnews.com\",\"weld\",\"extension\",\"contacted\",\"65\",\"doss\",\"resignation\",\"tends\",\"resign\",\"chapter\",\"verdict\",\"alter\",\"exposing\",\"occupy\",\"alert\",\"maximum\",\"explosive\",\"mystery\",\"accomplished\",\"masters\",\"marketing\",\"conducting\",\"bannon\",\"fierce\",\"flip\",\"bright\",\"truck\",\"apple\",\"globalists\",\"laying\",\"divisions\",\"funny\",\"greece\",\"deciding\",\"milk\",\"attitudes\",\"58\",\"commissioner\",\"jack\",\"abandon\",\"luther\",\"encounter\",\"considers\",\"revolutionary\",\"flags\",\"abortions\",\"walks\",\"that.\",\"horrific\",\"recess\",\"stopping\",\"dea\",\"belgium\",\"burned\",\"countless\",\"blasted\",\"consequence\",\"extraterrestrial\",\"issuing\",\"producing\",\"poses\",\"vp\",\"tracking\",\"blocking\",\"excellent\",\"400\",\"collusion\",\"sleep\",\"r.\",\"studied\",\"ridiculous\",\"tribune\",\"carrier\",\"normally\",\"demonstrators\",\"cleansing\",\"sparked\",\"preserve\",\"rigging\",\"vaccines\",\"enthusiastic\",\"gaddafi\",\"sullivan\",\"settled\",\"dignity\",\"crises\",\"unesco\",\"islands\",\"dangers\",\"tolerance\",\"clerk\",\"opposes\",\"falls\",\"hemisphere\",\"undercover\",\"grants\",\"alexander\",\"uncomfortable\",\"hack\",\"absurd\",\"insists\",\"embarrassing\",\"loose\",\"mississippi\",\"graduate\",\"stayed\",\"beauty\",\"accompanied\",\"appoint\",\"dallas\",\"bonds\",\"grab\",\"drones\",\"uranium\",\"desperately\",\"upper\",\"ease\",\"occasions\",\"crimea\",\"rational\",\"philosophy\",\"nonprofit\",\"prophet\",\"sadly\",\"enforce\",\"inform\",\"withdraw\",\"casualties\",\"bars\",\"country.\",\"initiatives\",\"industries\",\"modest\",\"ring\",\"tear\",\"electing\",\"escaped\",\"struggles\",\"pilot\",\"researcher\",\"hindu\",\"disappeared\",\"exciting\",\"preference\",\"invest\",\"erdogan\",\"people.\",\"syrians\",\"commanders\",\"compelling\",\"warn\",\"nationalism\",\"prince\",\"explicit\",\"150\",\"theories\",\"routinely\",\"ignoring\",\"debbie\",\"connecticut\",\"solidarity\",\"situations\",\"covers\",\"kid\",\"protesting\",\"todd\",\"moderates\",\"knock\",\"depression\",\"insulting\",\"signing\",\"webb\",\"wider\",\"retreat\",\"finger\",\"killer\",\"suggestion\",\"library\",\"highway\",\"doug\",\"detained\",\"deleted\",\"hosts\",\"searching\",\"blast\",\"stark\",\"cruise\",\"anchor\",\"economists\",\"pretend\",\"mediterranean\",\"denial\",\"dynamic\",\"rough\",\"disrupt\",\"circles\",\"lethal\",\"faster\",\"jerry\",\"brave\",\"alike\",\"economies\",\"busy\",\"outraged\",\"undecided\",\"crude\",\"israelis\",\"portrayed\",\"snowden\",\"contributing\",\"lessons\",\"dismantling\",\"disturbing\",\"replacement\",\"jill\",\"heated\",\"speakers\",\"fashion\",\"operates\",\"managing\",\"reserved\",\"fascism\",\"rogue\",\"invested\",\"surfaced\",\"pressing\",\"churches\",\"mouth\",\"assumption\",\"monthly\",\"assess\",\"violating\",\"ambitions\",\"creates\",\"privilege\",\"competitors\",\"neighboring\",\"landscape\",\"prosperity\",\"jake\",\"trafficking\",\"demographics\",\"echoed\",\"allegiance\",\"unarmed\",\"index\",\"mothers\",\"lobbying\",\"performed\",\"towns\",\"libyan\",\"halt\",\"cnbc\",\"harsh\",\"blaming\",\"disastrous\",\"20th\",\"mocked\",\"hackers\",\"arrive\",\"aisle\",\"measured\",\"clip\",\"inappropriate\",\"glass\",\"focuses\",\"concrete\",\"contentious\",\"20,000\",\"median\",\"threw\",\"refuses\",\"phoenix\",\"consumption\",\"foster\",\"nafta\",\"battles\",\"requested\",\"desk\",\"obstruction\",\"furious\",\"wanting\",\"orange\",\"reserves\",\"auto\",\"domain\",\"larry\",\"substantive\",\"actors\",\"centrist\",\"hunt\",\"reliable\",\"submit\",\"notably\",\"le\",\"securing\",\"practically\",\"fort\",\"hey\",\"casting\",\"unconstitutional\",\"monitoring\",\"daughters\",\"homeless\",\"profound\",\"54\",\"uncle\",\"trusted\",\"majorities\",\"screening\",\"counties\",\"package\",\"dave\",\"dying\",\"roger\",\"capabilities\",\"featuring\",\"hits\",\"embraced\",\"bench\",\"reluctant\",\"colleague\",\"centuries\",\"pack\",\"cook\",\"patrol\",\"gallup\",\"standoff\",\"dean\",\"protester\",\"significance\",\"procedures\",\"hiring\",\"loyalty\",\"tree\",\"mountain\",\"malley\",\"segment\",\"pharmaceutical\",\"appointment\",\"respondents\",\"equity\",\"nobel\",\"copyright\",\"gays\",\"lengthy\",\"length\",\"drove\",\"walls\",\"negotiated\",\"strategies\",\"insult\",\"treason\",\"strengthen\",\"partisans\",\"checked\",\"temple\",\"honestly\",\"slavery\",\"approaches\",\"inc.\",\"temperature\",\"defence\",\"tactical\",\"spreading\",\"saving\",\"physics\",\"95\",\"1968\",\"liar\",\"decisive\",\"shit\",\"grassley\",\"correctness\",\"greg\",\"pride\",\"oldest\",\"maintains\",\"accord\",\"commitments\",\"buzzfeed\",\"u.s.-led\",\"limbaugh\",\"rounds\",\"surrogates\",\"patient\",\"reopening\",\"explosives\",\"pair\",\"ballistic\",\"unnecessary\",\"deplorables\",\"awkward\",\"well-known\",\"downtown\",\"4.\",\"highlight\",\"agriculture\",\"mad\",\"56\",\"fortune\",\"recovered\",\"feared\",\"brazil\",\"calendar\",\"sexually\",\"fueled\",\"modi\",\"1991\",\"passion\",\"venezuela\",\"doubled\",\"52\",\"showdown\",\"swift\",\"mosque\",\"reopened\",\"recording\",\"applications\",\"teach\",\"hole\",\"sens\",\"pro\",\"shooter\",\"proving\",\"corporation\",\"contribute\",\"inmates\",\"lasting\",\"hire\",\"bed\",\"f\",\"mcmullin\",\"el\",\"lone\",\"transport\",\"liked\",\"clown\",\"user\",\"rev\",\"instances\",\"forgotten\",\"merkel\",\"implemented\",\"compound\",\"allied\",\"expenses\",\"collected\",\"bombers\",\"m.\",\"controversies\",\"wise\",\"accomplish\",\"korean\",\"computers\",\"recommended\",\"that\\u0092s\",\"smoking\",\"laugh\",\"blew\",\"museum\",\"ironically\",\"disputed\",\"testified\",\"single-payer\",\"notable\",\"guaranteed\",\"clash\",\"soft\",\"actor\",\"blind\",\"aims\",\"recommend\",\"sixth\",\"lacks\",\"admits\",\"boys\",\"practical\",\"aspect\",\"p\",\"credentials\",\"sits\",\"53\",\"description\",\"kiev\",\"globalism\",\"employed\",\"assertion\",\"passengers\",\"appointments\",\"credits\",\"spite\",\"secrecy\",\"discipline\",\"battlefield\",\"ali\",\"engineering\",\"absent\",\"proves\",\"hawkish\",\"foreigners\",\"vatican\",\"lawsuits\",\"muhammad\",\"hrc\",\"poorly\",\"ann\",\"intimidation\",\"airspace\",\"executed\",\"omar\",\"arctic\",\"2,000\",\"earthquake\",\"advocating\",\"diplomat\",\"schumer\",\"scare\",\"wildlife\",\"accident\",\"survived\",\"fathers\",\"sexist\",\"academy\",\"temperatures\",\"generated\",\"conclude\",\"biased\",\"magnesium\",\"bay\",\"relying\",\"campaigned\",\"ebola\",\"mcauliffe\",\"prompting\",\"distant\",\"dissent\",\"robust\",\"lights\",\"commentator\",\"traditionally\",\"painful\",\"ambitious\",\"sufficient\",\"unfavorable\",\"files\",\"bullets\",\"fingers\",\"acted\",\"nervous\",\"altogether\",\"roads\",\"zulu\",\"roles\",\"twin\",\"meaningful\",\"relentless\",\"austin\",\"doctrine\",\"valuable\",\"predict\",\"reilly\",\"buried\",\"battling\",\"volume\",\"waves\",\"europeans\",\"dump\",\"creamer\",\"notorious\",\"avenue\",\"racially\",\"61\",\"port\",\"scrabble\",\"childhood\",\"resort\",\"discover\",\"cannon\",\"grassroots\",\"brock\",\"owns\",\"lieutenant\",\"procedure\",\"occurring\",\"neurosurgeon\",\"teaching\",\"winners\",\"conscious\",\"5,000\",\"knocked\",\"briefed\",\"breakdown\",\"copies\",\"rejection\",\"mask\",\"outsiders\",\"fleet\",\"uncertain\",\"jumped\",\"crowded\",\"monsanto\",\"briefing\",\"intelligent\",\"pat\",\"lesbian\",\"shiite\",\"trunews\",\"sweden\",\"inability\",\"scary\",\"mary\",\"permitted\",\"rapists\",\"weird\",\"clients\",\"weakness\",\"sheeple\",\"gradually\",\"embargo\",\"contains\",\"providers\",\"switched\",\"resolved\",\"refer\",\"chaffetz\",\"passionate\",\"crack\",\"sweat\",\"react\",\"historian\",\"reviewed\",\"intends\",\"depend\",\"migration\",\"shouted\",\"improved\",\"waited\",\"papers\",\"nightmare\",\"bathroom\",\"packed\",\"italian\",\"snyder\",\"c.\",\"territories\",\"manchanda\",\"dominate\",\"thin\",\"bombshell\",\"administrative\",\"outrageous\",\"dishonest\",\"generate\",\"output\",\"confused\",\"unfit\",\"conclusions\",\"contribution\",\"withdrew\",\"golf\",\"northeast\",\"grave\",\"mounting\",\"volunteer\",\"longstanding\",\"disputes\",\"wells\",\"terry\"],\"xaxis\":\"x\",\"y\":[39959,23899,23508,15274,14976,14274,14023,13774,12434,9026,7671,7608,6512,6093,6078,6016,5808,5670,5418,5177,5001,4765,4632,4378,4331,4302,4034,3921,3875,3738,3736,3668,3568,3566,3561,3447,3421,3363,3332,3306,3280,3248,3192,3186,3048,3030,3029,3010,2956,2928,2919,2905,2898,2849,2836,2834,2832,2827,2824,2766,2717,2692,2638,2626,2593,2590,2567,2552,2486,2470,2466,2453,2431,2429,2405,2396,2357,2332,2319,2300,2271,2270,2266,2245,2218,2161,2156,2147,2134,2090,2070,2070,2057,2011,1999,1964,1962,1955,1923,1917,1895,1869,1857,1857,1855,1800,1781,1777,1770,1768,1756,1754,1750,1740,1737,1727,1716,1703,1691,1682,1678,1668,1666,1656,1644,1624,1620,1619,1616,1590,1588,1584,1582,1578,1573,1565,1563,1556,1551,1551,1525,1516,1510,1494,1490,1485,1483,1479,1479,1473,1470,1462,1461,1456,1455,1451,1446,1434,1407,1405,1403,1397,1396,1395,1391,1390,1388,1387,1387,1383,1380,1373,1369,1369,1365,1359,1358,1357,1348,1346,1346,1331,1330,1329,1316,1312,1310,1301,1290,1286,1278,1276,1273,1266,1262,1262,1254,1251,1249,1245,1235,1230,1228,1225,1221,1210,1209,1201,1198,1197,1196,1195,1194,1194,1182,1179,1178,1177,1177,1174,1168,1167,1161,1155,1152,1152,1152,1149,1147,1141,1137,1135,1134,1133,1130,1120,1119,1118,1112,1104,1102,1101,1099,1096,1094,1093,1090,1089,1084,1084,1076,1075,1074,1071,1065,1065,1063,1062,1061,1056,1056,1053,1053,1053,1051,1051,1048,1043,1042,1041,1039,1032,1029,1027,1027,1022,1020,1013,1013,1010,1009,1008,1004,1000,1000,998,993,993,993,992,991,989,988,986,986,984,979,978,976,974,973,969,966,965,961,961,961,958,956,952,951,948,947,944,943,943,938,933,922,917,912,911,910,909,908,907,906,903,899,896,892,891,889,886,885,884,884,882,882,880,878,878,870,869,868,865,861,852,852,849,849,845,845,842,837,834,832,831,829,828,826,825,823,819,819,814,813,812,812,811,810,810,810,808,807,807,806,804,803,802,801,800,797,794,793,792,792,790,790,787,787,787,786,783,782,782,779,777,776,776,775,775,771,771,770,769,768,766,764,760,760,758,756,753,752,751,750,748,748,747,745,742,741,739,736,735,735,734,734,732,726,725,725,724,723,721,721,717,715,715,715,715,714,712,712,709,708,708,705,700,700,698,698,697,696,696,693,692,690,689,688,688,687,687,687,686,686,685,683,682,682,680,679,678,678,678,677,676,673,669,668,667,666,666,666,664,660,659,657,650,649,648,648,647,647,645,643,642,641,640,637,636,636,635,635,634,634,632,632,631,630,630,625,624,622,621,621,620,619,619,618,617,617,616,615,614,614,613,610,609,609,608,607,607,606,604,600,600,599,598,597,596,596,595,594,593,593,592,592,590,590,590,589,589,588,588,586,586,585,585,584,584,584,583,582,582,581,580,579,578,577,576,576,575,575,575,575,574,574,572,571,571,570,570,567,567,566,563,561,561,560,560,560,559,558,558,557,556,556,555,555,555,554,553,552,551,551,551,551,550,549,548,547,547,545,545,544,544,543,542,542,542,541,540,540,540,539,538,538,538,537,537,536,535,535,535,534,534,534,534,533,533,532,530,530,530,530,530,530,529,529,529,529,528,527,527,526,526,524,524,524,521,521,520,520,519,519,518,517,516,515,513,510,507,507,504,503,503,502,502,502,501,499,499,498,497,496,496,495,495,495,493,493,492,492,492,491,490,490,490,489,488,488,488,488,488,487,487,487,486,485,485,485,484,484,483,483,483,481,481,481,480,480,480,478,478,478,478,477,476,476,475,475,474,474,473,473,472,472,472,471,471,471,471,470,469,469,468,467,466,465,465,464,464,464,462,462,462,462,461,461,461,460,458,457,457,456,456,455,454,453,453,453,452,452,451,450,450,449,448,447,447,447,447,447,446,446,446,446,445,445,445,443,443,443,443,443,442,441,441,440,440,438,437,437,436,435,434,434,430,430,430,428,428,427,427,427,427,427,426,425,425,423,423,423,422,422,422,421,421,420,419,418,418,418,418,418,417,417,417,416,416,416,416,416,415,415,414,413,412,412,412,411,411,409,409,409,408,408,408,408,408,407,407,406,406,405,405,405,404,404,403,402,402,401,401,401,401,400,400,400,400,400,399,398,398,398,398,398,397,396,396,396,396,396,395,395,395,394,393,393,393,392,391,391,391,390,390,389,389,389,389,389,387,386,385,384,383,383,382,382,381,381,381,381,380,380,380,380,380,379,379,379,378,377,377,376,376,376,375,375,374,374,373,373,372,372,372,372,372,372,372,372,370,370,369,369,369,369,368,368,368,367,367,367,367,366,366,366,366,365,365,365,364,364,363,363,362,362,362,362,361,361,361,360,360,360,360,360,359,359,359,359,359,358,358,358,358,358,358,357,357,356,356,355,355,355,355,354,354,353,352,352,351,350,350,350,350,349,349,349,349,349,349,348,348,348,348,348,347,347,347,346,346,345,345,345,344,344,343,343,343,343,342,342,342,342,342,342,341,341,341,341,340,340,340,340,340,339,339,339,338,338,338,338,337,337,337,337,337,336,336,336,335,335,335,335,335,335,335,335,334,334,334,334,333,333,332,332,332,331,331,331,331,331,331,331,330,330,329,329,329,328,328,328,327,327,327,327,326,326,326,326,325,325,325,324,324,324,324,324,324,323,323,322,322,322,322,322,322,322,322,322,322,322,322,321,321,321,321,321,320,320,320,320,320,319,319,319,318,318,318,317,317,317,317,317,316,316,316,316,316,315,314,314,314,314,314,314,314,314,313,313,313,313,312,312,312,312,312,312,312,312,311,310,310,309,309,308,308,308,307,307,307,307,307,307,307,306,306,306,306,306,305,305,305,304,304,304,304,303,303,303,303,302,302,302,302,302,300,300,300,300,300,300,299,298,298,297,297,297,296,295,295,295,295,294,294,294,294,293,293,293,292,291,291,291,291,291,291,291,291,290,290,290,290,290,290,290,290,289,289,289,289,288,288,288,288,288,288,288,287,287,287,287,286,286,286,285,285,285,285,284,284,284,284,283,283,283,283,283,282,282,282,281,281,280,280,280,279,279,279,278,277,277,277,277,277,276,276,276,276,276,276,276,276,276,276,275,275,275,274,274,274,274,274,274,273,273,273,273,273,272,272,272,272,272,271,271,271,271,271,271,270,270,270,270,270,270,269,268,268,268,268,268,268,268,268,268,268,268,267,267,267,266,266,265,265,265,265,264,264,264,264,264,264,263,263,263,263,262,262,262,262,261,261,261,260,260,260,260,260,259,259,259,259,259,259,259,259,258,258,258,258,258,258,257,257,257,257,257,257,257,256,256,256,256,256,256,256,256,256,256,255,255,255,255,255,255,255,255,255,255,254,254,253,253,252,252,252,252,252,252,252,251,251,251,251,251,251,250,250,250,250,250,249,249,248,248,248,248,248,248,248,248,248,247,247,247,247,247,247,246,246,246,246,246,246,245,245,245,245,245,245,245,245,244,244,244,244,244,244,244,244,244,243,243,243,243,242,242,242,242,241,241,241,241,240,240,239,239,239,239,239,238,238,238,238,238,238,237,237,237,237,237,237,237,236,236,236,236,236,236,235,235,234,234,234,234,234,234,234,233,233,233,232,232,232,232,232,232,232,232,232,231,231,231,231,231,231,230,230,230,230,230,230,230,229,229,229,229,229,229,229,229,229,229,229,229,228,228,228,228,227,227,227,227,227,227,227,227,227,227,227,226,226,226,226,226,226,226,225,225,225,225,225,224,224,224,224,224,224,224,223,223,223,223,223,222,222,222,222,222,222,222,222,222,222,221,221,221,221,221,221,220,220,220,220,220,219,219,219,219,219,219,219,218,218,218,218,218,217,217,217,217,217,217,217,217,217,216,216,216,216,216,215,215,215,215,215,215,215,215,215,215,215,214,214,214,214,214,214,214,214,214,213,213,213,213,213,213,213,212,212,212,212,211,211,211,211,211,211,211,211,210,210,209,209,209,209,209,209,208,208,208,208,208,208,208,208,208,208,207,207,207,207,207,206,206,206,206,206,206,206,206,205,205,205,205,205,205,205,205,204,204,204,204,204,204,204,204,204,204,203,203,203,203,203,203,203,203,203,202,202,202,202,202,202,202,202,201,201,201,201,201,201,201,200,200,200,200,200,199,199,199,199,199,199,199,199,199,199,199,199,198,198,198,198,198,198,198,198,197,197,197,197,197,197,197,197,197,197,197,196,196,196,196,196,196,196,196,196,196,196,196,196,196,196,196,196,196,195,195,195,194,194,194,194,194,194,194,194,194,194,193,193,193,193,192,192,192,192,192,191,191,191,191,191,190,190,190,190,190,190,190,189,189,189,189,189,189,189,189,189,189,189,189,188,188,188,188,188,188,187,187,187,187,187,187,186,186,186,186,186,186,186,186,185,185,185,185,185,184,184,184,184,184,184,184,184,184,184,184,184,184,184,183,183,183,183,183,183,183,182,182,182,182,182,182,182,182,182,182,182,182,181,181,181,181,181,181,181,180,180,180,180,180,180,180,180,180,180,180,180,179,179,179,179,179,179,178,178,178,178,178,178,177,177,177,177,177,177,177,177,177,177,177,177,177,177,177,177,177,177,176,176,176,176,176,176,176,175,175,175,175,175,175,175,175,175,175,175,175,175,175,174,174,174,174,174,174,174,174,174,174,174,174,174,174,174,173,173,173,173,173,173,173,173,173,173,173,173,173,172,172,172,172,172,172,172,172,172,171,171,171,171,171,171,171,171,171,171,171,171,171,171,170,170,170,170,170,170,170,170,170,170,170,170,170,169,169,169,169,169,169,169,169,169,169,169,169,169,169,169,168,168,168,168,168,168,168,168,167,167,167,167,167,167,167,167,167,166,166,166,166,166,166,166,166,166,166,165,165,165,165,165,165,165,165,165,164,164,164,164,164,164,164,164,164,164,164,164,164,164,164,163,163,163,163,163,163,163,163,163,163,163,163,163,163,162,162,162,162,162,162,162,162,161,161,161,161,161,161,161,161,161,161,161,161,160,160,160,160,160,160,160,160,160,159,159,159,159,159,159,159,159,159,159,159,159,159,158,158,158,158,158,158,158,158,158,158,158,158,158,158,158,157,157,157,157,157,157,157,157,157,157,157,157,156,156,156,156,156,156,156,156,156,155,155,155,155,155,155,155,155,155,155,155,155,155,155,154,154,154,154,154,154,154,154,154,154,154,154,153,153,153,153,153,153,153,153,153,153,153,153,152,152,152,152,152,152,152,152,151,151,151,151,151,151,151,151,151,151,151,151,151,150,150,150,150,150,150,150,149,149,149,149,149,149,149,149,149,149,149,148,148,148,148,148,148,148,148,148,148,148,148,148,148,148,148,147,147,147,147,147,147,147,147,147,147,147,147,147,147,147,147,147,147,146,146,146,146,146,146,146,146,146,146,146,146,146,146,146,146,145,145,145,145,145,145,145,145,145,145,145,145,145,145,145,145,145,145,145,145,144,144,144,144,144,144,144,144,144,144,144,144,144,144,144,144,144,144,143,143,143,143,143,143,143,143,143,143,143,143,143,143,142,142,142,142,142,142,142,142,142,142,142,142,142,142,142,141,141,141,141,141,141,141,141,140,140,140,140,140,140,140,140,140,140,140,140,140,140,140,139,139,139,139,139,139,139,139,139,139,139,139,139,138,138,138,138,138,138,138,138,137,137,137,137,137,137,137,137,137,137,137,137,136,136,136,136,136,136,136,136,136,136,136,136,136,136,135,135,135,135,135,135,135,135,135,135,135,135,135,135,135,135,135,135,134,134,134,134,134,134,134,134,134,134,134,134,134,134,134,134,134,134,134,134,134,133,133,133,133,133,133,133,133,133,133,133,133,133,133,133,133,133,133,133,133,133,133,133,133,132,132,132,132,132,132,132,132,132,132,132,132,132,132,132,132,131,131,131,131,131,131,131,131,131,131,131,131,131,131,131,130,130,130,130,130,130,130,130,130,130,130,130,130,130,130,130,130,129,129,129,129,129,129,129,129,129,129,129,129,128,128,128,128,128,128,128,128,128,128,128,128,128,128,128,127,127,127,127,127,127,127,127,127,127,127,127,127,127,127,127,126,126,126,126,126,126,126,126,126,126,126,126,126,126,126,126,125,125,125,125,125,125,125,125,125,125,125,125,125,124,124,124,124,124,124,124,124,124,124,124,124,124,124,124,124,124,124,124,124,124,124,124,124,124,123,123,123,123,123,123,123,123,123,123,123,123,123,123,123,123,122,122,122,122,122,122,122,122,122,122,122,122,122,122,122,122,122,121,121,121,121,121,121,121,121,121,121,121,121,121,121,121,121,121,121,121,121,121,120,120,120,120,120,120,120,120,120,120,120,120,120,120,120,120,120,119,119,119,119,119,119,119,119,119,119,119,119,119,119,119,119,119,119,118,118,118,118,118,118,118,118,118,118,118,118,118,118,117,117,117,117,117,117,117,117,117,117,117,117,117,117,117,117,116,116,116,116,116,116,116,116,116,116,116,116,116,116,116,116,116,116,116,116,115,115,115,115,115,115,115,115,115,115,115,115,115,115,115,115,115,115,115,115,115,115,114,114,114,114,114,114,114,114,114,114,114,114,114,114,114,114,114,114,114,114,114,114,114,113,113,113,113,113,113,113,113,113,113,113,113,113,113,113,113,113,113,112,112,112,112,112,112,112,112,112,112,112,112,112,111,111,111,111,111,111,111,111,111,111,111,111,111,111,111,111,111,111,111,111,111,111,111,111,111,111,110,110,110,110,110,110,110,110,110,110,110,110,110,110,110,110,110,110,110,110,110,110,110,109,109,109,109,109,109,109,109,109,109,109,109,109,109,109,109,109,109,109,109,109,109,109,109,109,109,109,108,108,108,108,108,108,108,108,108,108,108,108,108,108,108,108,107,107,107,107,107,107,107,107,107,107,107,107,107,107,107,107,107,107,107,107,107,107,106,106,106,106,106,106,106,106,106,106,106,106,106,106,106,106,106,106,106,106,106,106,106,106,105,105,105,105,105,105,105,105,105,105,105,105,105,105,105,105,105,105,105,105,105,105,105,105,104,104,104,104,104,104,104,104,104,104,104,104,104,104,104,104,104,104,104,104,104,104,104,104,104,103,103,103,103,103,103,103,103,103,103,103,103,103,103,103,103,103,103,103,103,102,102,102,102,102,102,102,102,102,102,102,102,102,102,102,102,102,102,102,102,102,102,102,102,102,102,101,101,101,101,101,101,101,101,101,101,101,101,101,101,101,101,101,101,100,100,100,100,100,100,100,100,100,100,100,100,100,100,100,100,100,100,100,100,100,100,100,100,100,100,100,99,99,99,99,99,99,99,99,99,99,99,99,99,99,99,99,99,99,99,99,99,99,99,98,98,98,98,98,98,98,98,98,98,98,98,98,98,98,98,98,98,98,98,98,98,98,98,98,97,97,97,97,97,97,97,97,97,97,97,97,97,97,97,97,97,97,97,97,97,97,97,97,97,97,96,96,96,96,96,96,96,96,96,96,96,96,96,96,96,96,96,96,96,96,96,96,96,96,96,96,96,96,95,95,95,95,95,95,95,95,95,95,95,95,95,95,95,95,95,95,95,95,95,95,95,95,95,95,95,95,94,94,94,94,94,94,94,94,94,94,94,94,94,94,94,94,94,94,94,94,94,94,94,94,94,94,93,93,93,93,93,93,93,93,93,93,93,93,93,93,93,93,93,93,93,93,93,93,93,93,93,93,92,92,92,92,92,92,92,92,92,92,92,92,92,92,92,92,92,92,92,92,92,92,92,92,92,92,92,92,92,92,92,92,92,92,92,91,91,91,91,91,91,91,91,91,91,91,91,91,91,91,91,91,91,91,91,91,91,91,91,91,91,91,91,91,91,90,90,90,90,90,90,90,90,90,90,90,90,90,90,90,90,90,90,90,90,90,90,90,90,90,90,90,90,90,90,89,89,89,89,89,89,89,89,89,89,89,89,89,89,89,89,89,89,89,89,89,89,89,89,88,88,88,88,88,88,88,88,88,88,88,88,88,88,88,88,88,88,88,88,88,88,87,87,87,87,87,87,87,87,87,87,87,87,87,87,87,87,87,87,87,87,87,87,87,87,87,87,87,87,87,87,87,87,87,86,86,86,86,86,86,86,86,86,86,86,86,86,86,86,86,86,86,86,86,86,86,86,86,86,86,86,86,86,86,86,86,86,85,85,85,85,85,85,85,85,85,85,85,85,85,85,85,85,85,85,85,85,85,85,85,85,85,85,85,85,85,85,85,85,85,85,85,85,85,85,85,85,85,85,84,84,84,84,84,84,84,84,84,84,84,84,84,84,84,84,84,84,84,84,84,84,84,84,84,84,84,84,84,84,84,84,83,83,83,83,83,83,83,83,83,83,83,83,83,83,83,83,83,83,83,83,83,83,83,83,83,83,83,83,83,82,82,82,82,82,82,82,82,82,82,82,82,82,82,82,82,82,82,82,82,82,82,82,82,82,82,82,82,82,82,81,81,81,81,81,81,81,81,81,81,81,81,81,81,81,81,81,81,81,81,81,81,81,81,81,81,81,81,81,81,81,81,81,81,81,81,80,80,80,80,80,80,80,80,80,80,80,80,80,80,80,80,80,80,80,80,80,80,80,80,80,80,80,80,80,80,80,80,80,80,80,80,80,80,80,80,80,80,80,80,80,80,80,79,79,79,79,79,79,79,79,79,79,79,79,79,79,79,79,79,79,79,79,79,79,79,79,79,79,79,79,79,79,79,79,79,79,79,79,79,79,79,79,79,79,79,78,78,78,78,78,78,78,78,78,78,78,78,78,78,78,78,78,78,78,78,78,78,78,78,78,78,78,78,78,78,78,78,78,78,78,78,78,78,78,78,78,78,78,78,78,78,78,78,77,77,77,77,77,77,77,77,77,77,77,77,77,77,77,77,77,77,77,77,77,77,77,77,77,77,77,77,77,77,77,76,76,76,76,76,76,76,76,76,76,76,76,76,76,76,76,76,76,76,76,76,76,76,76,76,76,76,76,76,76,76,76,75,75,75,75,75,75,75,75,75,75,75,75,75,75,75,75,75,75,75,75,75,75,75,75,75,75,75,75,75,75,75,75,75,75,75,75,75,75,75,75,75,75,75,75,75,75,75,75,75,74,74,74,74,74,74,74,74,74,74,74,74,74,74,74,74,74,74,74,74,74,74,74,74,74,74,74,74,74,74,74,74,74,74,74,74,74,74,74,74,73,73,73,73,73,73,73,73,73,73,73,73,73,73,73,73,73,73,73,73,73,73,73,73,73,73,73,73,73,73,73,73,73,73,73,73,73,73,73,73,73,73,73,73,73,73,72,72,72,72,72,72,72,72,72,72,72,72,72,72,72,72,72,72,72,72,72,72,72,72,72,72,72,72,72,72,72,72,72,72,72,72,72,72,72,72,72,72,72,72,72,72,71,71,71,71,71,71,71,71,71,71,71,71,71,71,71,71,71,71,71,71,71,71,71,71,71,71,71,71,71,71,71,71,71,71,71,71,71,71,71,71,71,71,71,71,71,71,71,71,70,70,70,70,70,70,70,70,70,70,70,70,70,70,70,70,70,70,70,70,70,70,70,70,70,70,70,70,70,70,70,70,70,70,70,70,70,70,70,70,70,70,70,70,70,70,70,70,70,70,70,70,69,69,69,69,69,69,69,69,69,69,69,69,69,69,69,69,69,69,69,69,69,69,69,69,69,69,69,69,69,69,69,69,69,69,69,69,69,68,68,68,68,68,68,68,68,68,68,68,68,68,68,68,68,68,68,68,68,68,68,68,68,68,68,68,68,68,68,68,68,68,68,68,68,68,68,68,68,68,68,68,68,68,68,68,68,68,68,68,67,67,67,67,67,67,67,67,67,67,67,67,67,67,67,67,67,67,67,67,67,67,67,67,67,67,67,67,67,67,67,67,67,67,67,67,67,67,67,67,67,67,67,67,67,67,67,67,66,66,66,66,66,66,66,66,66,66,66,66,66,66,66,66,66,66,66,66,66,66,66,66,66,66,66,66,66,66,66,66,66,66,66,66,66,66,66,66,66,66,66,66,66,66,66,66,66,66,66,66,66,66,66,66,65,65,65,65,65,65,65,65,65,65,65,65,65,65,65,65,65,65,65,65,65,65,65,65,65,65,65,65,65,65,65,65,65,65,65,65,65,65,65,65,65,65,65,65,65,65,65,64,64,64,64,64,64,64,64,64,64,64,64,64,64,64,64,64,64,64,64,64,64,64,64,64,64,64,64,64,64,64,64,64,64,64,64,64,64,64,64,64,64,64,64,64,64,64,64,64,64,64,64,64,64,64,64,64,64,64,63,63,63,63,63,63,63,63,63,63,63,63,63,63,63,63,63,63,63,63,63,63,63,63,63,63,63,63,63,63,63,63,63,63,63,63,63,63,63,63,63,63,63,63,63,63,63,63,63,63,63,62,62,62,62,62,62,62,62,62,62,62,62,62,62,62,62,62,62,62,62,62,62,62,62,62,62,62,62,62,62,62,62,62,62,62,62,62,62,62,62,62,62,62,62,62,62,62,62,62,62,62,62,62,62,62,62,62,62,62,62,62,62,62,62,62,61,61,61,61,61,61,61,61,61,61,61,61,61,61,61,61,61,61,61,61,61,61,61,61,61,61,61,61,61,61,61,61,61,61,61,61,61,61,61,61,61,61,61,61,60,60,60,60,60,60,60,60,60,60,60,60,60,60,60,60,60,60,60,60,60,60,60,60,60,60,60,60,60,60,60,60,60,60,60,60,60,60,60,60,60,60,60,60,60,60,60,60,60,60,60,60,60,60,60,59,59,59,59,59,59,59,59,59,59,59,59,59,59,59,59,59,59,59,59,59,59,59,59,59,59,59,59,59,59,59,59,59,59,59,59,59,59,59,59,59,59,59,59,59,59,59,59,59,59,59,59,58,58,58,58,58,58,58,58,58,58,58,58,58,58,58,58,58,58,58,58,58,58,58,58,58,58,58,58,58,58,58,58,58,58,58,58,58,58,58,58,58,58,58,58,58,58,58,58,58,58,58,58,58,58,57,57,57,57,57,57,57,57,57,57,57,57,57,57,57,57,57,57,57,57,57,57,57,57,57,57,57,57,57,57,57,57,57,57,57,57,57,57,57,57,57,57,57,57,57,57,57,57,57,57,57,57,57,56,56,56,56,56,56,56,56,56,56,56,56,56,56,56,56,56,56,56,56,56,56,56,56,56,56,56,56,56,56,56,56,56,56,56,56,56,56,56,56,56,56,56,56,56,56,56,56,56,56,56,56,56,56,56,56,56,56,56,56,56,56,56,56,56,56,56,56,56,56,56,56,56,56,56,55,55,55,55,55,55,55,55,55,55,55,55,55,55,55,55,55,55,55,55,55],\"yaxis\":\"y\",\"type\":\"bar\"}],                        {\"template\":{\"data\":{\"histogram2dcontour\":[{\"type\":\"histogram2dcontour\",\"colorbar\":{\"outlinewidth\":0,\"ticks\":\"\"},\"colorscale\":[[0.0,\"#0d0887\"],[0.1111111111111111,\"#46039f\"],[0.2222222222222222,\"#7201a8\"],[0.3333333333333333,\"#9c179e\"],[0.4444444444444444,\"#bd3786\"],[0.5555555555555556,\"#d8576b\"],[0.6666666666666666,\"#ed7953\"],[0.7777777777777778,\"#fb9f3a\"],[0.8888888888888888,\"#fdca26\"],[1.0,\"#f0f921\"]]}],\"choropleth\":[{\"type\":\"choropleth\",\"colorbar\":{\"outlinewidth\":0,\"ticks\":\"\"}}],\"histogram2d\":[{\"type\":\"histogram2d\",\"colorbar\":{\"outlinewidth\":0,\"ticks\":\"\"},\"colorscale\":[[0.0,\"#0d0887\"],[0.1111111111111111,\"#46039f\"],[0.2222222222222222,\"#7201a8\"],[0.3333333333333333,\"#9c179e\"],[0.4444444444444444,\"#bd3786\"],[0.5555555555555556,\"#d8576b\"],[0.6666666666666666,\"#ed7953\"],[0.7777777777777778,\"#fb9f3a\"],[0.8888888888888888,\"#fdca26\"],[1.0,\"#f0f921\"]]}],\"heatmap\":[{\"type\":\"heatmap\",\"colorbar\":{\"outlinewidth\":0,\"ticks\":\"\"},\"colorscale\":[[0.0,\"#0d0887\"],[0.1111111111111111,\"#46039f\"],[0.2222222222222222,\"#7201a8\"],[0.3333333333333333,\"#9c179e\"],[0.4444444444444444,\"#bd3786\"],[0.5555555555555556,\"#d8576b\"],[0.6666666666666666,\"#ed7953\"],[0.7777777777777778,\"#fb9f3a\"],[0.8888888888888888,\"#fdca26\"],[1.0,\"#f0f921\"]]}],\"heatmapgl\":[{\"type\":\"heatmapgl\",\"colorbar\":{\"outlinewidth\":0,\"ticks\":\"\"},\"colorscale\":[[0.0,\"#0d0887\"],[0.1111111111111111,\"#46039f\"],[0.2222222222222222,\"#7201a8\"],[0.3333333333333333,\"#9c179e\"],[0.4444444444444444,\"#bd3786\"],[0.5555555555555556,\"#d8576b\"],[0.6666666666666666,\"#ed7953\"],[0.7777777777777778,\"#fb9f3a\"],[0.8888888888888888,\"#fdca26\"],[1.0,\"#f0f921\"]]}],\"contourcarpet\":[{\"type\":\"contourcarpet\",\"colorbar\":{\"outlinewidth\":0,\"ticks\":\"\"}}],\"contour\":[{\"type\":\"contour\",\"colorbar\":{\"outlinewidth\":0,\"ticks\":\"\"},\"colorscale\":[[0.0,\"#0d0887\"],[0.1111111111111111,\"#46039f\"],[0.2222222222222222,\"#7201a8\"],[0.3333333333333333,\"#9c179e\"],[0.4444444444444444,\"#bd3786\"],[0.5555555555555556,\"#d8576b\"],[0.6666666666666666,\"#ed7953\"],[0.7777777777777778,\"#fb9f3a\"],[0.8888888888888888,\"#fdca26\"],[1.0,\"#f0f921\"]]}],\"surface\":[{\"type\":\"surface\",\"colorbar\":{\"outlinewidth\":0,\"ticks\":\"\"},\"colorscale\":[[0.0,\"#0d0887\"],[0.1111111111111111,\"#46039f\"],[0.2222222222222222,\"#7201a8\"],[0.3333333333333333,\"#9c179e\"],[0.4444444444444444,\"#bd3786\"],[0.5555555555555556,\"#d8576b\"],[0.6666666666666666,\"#ed7953\"],[0.7777777777777778,\"#fb9f3a\"],[0.8888888888888888,\"#fdca26\"],[1.0,\"#f0f921\"]]}],\"mesh3d\":[{\"type\":\"mesh3d\",\"colorbar\":{\"outlinewidth\":0,\"ticks\":\"\"}}],\"scatter\":[{\"fillpattern\":{\"fillmode\":\"overlay\",\"size\":10,\"solidity\":0.2},\"type\":\"scatter\"}],\"parcoords\":[{\"type\":\"parcoords\",\"line\":{\"colorbar\":{\"outlinewidth\":0,\"ticks\":\"\"}}}],\"scatterpolargl\":[{\"type\":\"scatterpolargl\",\"marker\":{\"colorbar\":{\"outlinewidth\":0,\"ticks\":\"\"}}}],\"bar\":[{\"error_x\":{\"color\":\"#2a3f5f\"},\"error_y\":{\"color\":\"#2a3f5f\"},\"marker\":{\"line\":{\"color\":\"#E5ECF6\",\"width\":0.5},\"pattern\":{\"fillmode\":\"overlay\",\"size\":10,\"solidity\":0.2}},\"type\":\"bar\"}],\"scattergeo\":[{\"type\":\"scattergeo\",\"marker\":{\"colorbar\":{\"outlinewidth\":0,\"ticks\":\"\"}}}],\"scatterpolar\":[{\"type\":\"scatterpolar\",\"marker\":{\"colorbar\":{\"outlinewidth\":0,\"ticks\":\"\"}}}],\"histogram\":[{\"marker\":{\"pattern\":{\"fillmode\":\"overlay\",\"size\":10,\"solidity\":0.2}},\"type\":\"histogram\"}],\"scattergl\":[{\"type\":\"scattergl\",\"marker\":{\"colorbar\":{\"outlinewidth\":0,\"ticks\":\"\"}}}],\"scatter3d\":[{\"type\":\"scatter3d\",\"line\":{\"colorbar\":{\"outlinewidth\":0,\"ticks\":\"\"}},\"marker\":{\"colorbar\":{\"outlinewidth\":0,\"ticks\":\"\"}}}],\"scattermapbox\":[{\"type\":\"scattermapbox\",\"marker\":{\"colorbar\":{\"outlinewidth\":0,\"ticks\":\"\"}}}],\"scatterternary\":[{\"type\":\"scatterternary\",\"marker\":{\"colorbar\":{\"outlinewidth\":0,\"ticks\":\"\"}}}],\"scattercarpet\":[{\"type\":\"scattercarpet\",\"marker\":{\"colorbar\":{\"outlinewidth\":0,\"ticks\":\"\"}}}],\"carpet\":[{\"aaxis\":{\"endlinecolor\":\"#2a3f5f\",\"gridcolor\":\"white\",\"linecolor\":\"white\",\"minorgridcolor\":\"white\",\"startlinecolor\":\"#2a3f5f\"},\"baxis\":{\"endlinecolor\":\"#2a3f5f\",\"gridcolor\":\"white\",\"linecolor\":\"white\",\"minorgridcolor\":\"white\",\"startlinecolor\":\"#2a3f5f\"},\"type\":\"carpet\"}],\"table\":[{\"cells\":{\"fill\":{\"color\":\"#EBF0F8\"},\"line\":{\"color\":\"white\"}},\"header\":{\"fill\":{\"color\":\"#C8D4E3\"},\"line\":{\"color\":\"white\"}},\"type\":\"table\"}],\"barpolar\":[{\"marker\":{\"line\":{\"color\":\"#E5ECF6\",\"width\":0.5},\"pattern\":{\"fillmode\":\"overlay\",\"size\":10,\"solidity\":0.2}},\"type\":\"barpolar\"}],\"pie\":[{\"automargin\":true,\"type\":\"pie\"}]},\"layout\":{\"autotypenumbers\":\"strict\",\"colorway\":[\"#636efa\",\"#EF553B\",\"#00cc96\",\"#ab63fa\",\"#FFA15A\",\"#19d3f3\",\"#FF6692\",\"#B6E880\",\"#FF97FF\",\"#FECB52\"],\"font\":{\"color\":\"#2a3f5f\"},\"hovermode\":\"closest\",\"hoverlabel\":{\"align\":\"left\"},\"paper_bgcolor\":\"white\",\"plot_bgcolor\":\"#E5ECF6\",\"polar\":{\"bgcolor\":\"#E5ECF6\",\"angularaxis\":{\"gridcolor\":\"white\",\"linecolor\":\"white\",\"ticks\":\"\"},\"radialaxis\":{\"gridcolor\":\"white\",\"linecolor\":\"white\",\"ticks\":\"\"}},\"ternary\":{\"bgcolor\":\"#E5ECF6\",\"aaxis\":{\"gridcolor\":\"white\",\"linecolor\":\"white\",\"ticks\":\"\"},\"baxis\":{\"gridcolor\":\"white\",\"linecolor\":\"white\",\"ticks\":\"\"},\"caxis\":{\"gridcolor\":\"white\",\"linecolor\":\"white\",\"ticks\":\"\"}},\"coloraxis\":{\"colorbar\":{\"outlinewidth\":0,\"ticks\":\"\"}},\"colorscale\":{\"sequential\":[[0.0,\"#0d0887\"],[0.1111111111111111,\"#46039f\"],[0.2222222222222222,\"#7201a8\"],[0.3333333333333333,\"#9c179e\"],[0.4444444444444444,\"#bd3786\"],[0.5555555555555556,\"#d8576b\"],[0.6666666666666666,\"#ed7953\"],[0.7777777777777778,\"#fb9f3a\"],[0.8888888888888888,\"#fdca26\"],[1.0,\"#f0f921\"]],\"sequentialminus\":[[0.0,\"#0d0887\"],[0.1111111111111111,\"#46039f\"],[0.2222222222222222,\"#7201a8\"],[0.3333333333333333,\"#9c179e\"],[0.4444444444444444,\"#bd3786\"],[0.5555555555555556,\"#d8576b\"],[0.6666666666666666,\"#ed7953\"],[0.7777777777777778,\"#fb9f3a\"],[0.8888888888888888,\"#fdca26\"],[1.0,\"#f0f921\"]],\"diverging\":[[0,\"#8e0152\"],[0.1,\"#c51b7d\"],[0.2,\"#de77ae\"],[0.3,\"#f1b6da\"],[0.4,\"#fde0ef\"],[0.5,\"#f7f7f7\"],[0.6,\"#e6f5d0\"],[0.7,\"#b8e186\"],[0.8,\"#7fbc41\"],[0.9,\"#4d9221\"],[1,\"#276419\"]]},\"xaxis\":{\"gridcolor\":\"white\",\"linecolor\":\"white\",\"ticks\":\"\",\"title\":{\"standoff\":15},\"zerolinecolor\":\"white\",\"automargin\":true,\"zerolinewidth\":2},\"yaxis\":{\"gridcolor\":\"white\",\"linecolor\":\"white\",\"ticks\":\"\",\"title\":{\"standoff\":15},\"zerolinecolor\":\"white\",\"automargin\":true,\"zerolinewidth\":2},\"scene\":{\"xaxis\":{\"backgroundcolor\":\"#E5ECF6\",\"gridcolor\":\"white\",\"linecolor\":\"white\",\"showbackground\":true,\"ticks\":\"\",\"zerolinecolor\":\"white\",\"gridwidth\":2},\"yaxis\":{\"backgroundcolor\":\"#E5ECF6\",\"gridcolor\":\"white\",\"linecolor\":\"white\",\"showbackground\":true,\"ticks\":\"\",\"zerolinecolor\":\"white\",\"gridwidth\":2},\"zaxis\":{\"backgroundcolor\":\"#E5ECF6\",\"gridcolor\":\"white\",\"linecolor\":\"white\",\"showbackground\":true,\"ticks\":\"\",\"zerolinecolor\":\"white\",\"gridwidth\":2}},\"shapedefaults\":{\"line\":{\"color\":\"#2a3f5f\"}},\"annotationdefaults\":{\"arrowcolor\":\"#2a3f5f\",\"arrowhead\":0,\"arrowwidth\":1},\"geo\":{\"bgcolor\":\"white\",\"landcolor\":\"#E5ECF6\",\"subunitcolor\":\"white\",\"showland\":true,\"showlakes\":true,\"lakecolor\":\"white\"},\"title\":{\"x\":0.05},\"mapbox\":{\"style\":\"light\"}}},\"xaxis\":{\"anchor\":\"y\",\"domain\":[0.0,1.0],\"title\":{\"text\":\"index\"}},\"yaxis\":{\"anchor\":\"x\",\"domain\":[0.0,1.0],\"title\":{\"text\":\"count\"}},\"legend\":{\"tracegroupgap\":0},\"margin\":{\"t\":60},\"barmode\":\"relative\"},                        {\"responsive\": true}                    ).then(function(){\n",
              "                            \n",
              "var gd = document.getElementById('e05fc866-6719-4183-abd4-dbd7330d2579');\n",
              "var x = new MutationObserver(function (mutations, observer) {{\n",
              "        var display = window.getComputedStyle(gd).display;\n",
              "        if (!display || display === 'none') {{\n",
              "            console.log([gd, 'removed!']);\n",
              "            Plotly.purge(gd);\n",
              "            observer.disconnect();\n",
              "        }}\n",
              "}});\n",
              "\n",
              "// Listen for the removal of the full notebook cells\n",
              "var notebookContainer = gd.closest('#notebook-container');\n",
              "if (notebookContainer) {{\n",
              "    x.observe(notebookContainer, {childList: true});\n",
              "}}\n",
              "\n",
              "// Listen for the clearing of the current output cell\n",
              "var outputEl = gd.closest('.output');\n",
              "if (outputEl) {{\n",
              "    x.observe(outputEl, {childList: true});\n",
              "}}\n",
              "\n",
              "                        })                };                            </script>        </div>\n",
              "</body>\n",
              "</html>"
            ]
          },
          "metadata": {}
        }
      ]
    },
    {
      "cell_type": "code",
      "metadata": {
        "id": "u9IyaU-Y88Ew",
        "colab": {
          "base_uri": "https://localhost:8080/"
        },
        "outputId": "6f70ce02-f706-47b5-94c2-f2b8d1f9572c"
      },
      "source": [
        "print(\"Vocabulario de \", len(cv.get_feature_names_out()))"
      ],
      "execution_count": null,
      "outputs": [
        {
          "output_type": "stream",
          "name": "stdout",
          "text": [
            "Vocabulario de  78175\n"
          ]
        }
      ]
    },
    {
      "cell_type": "code",
      "metadata": {
        "id": "iBv7KTdtLSGd",
        "colab": {
          "base_uri": "https://localhost:8080/"
        },
        "outputId": "ed99fcfe-5946-417d-837d-533252aeb5b4"
      },
      "source": [
        "X_train_transform.shape"
      ],
      "execution_count": null,
      "outputs": [
        {
          "output_type": "execute_result",
          "data": {
            "text/plain": [
              "(4434, 78175)"
            ]
          },
          "metadata": {},
          "execution_count": 21
        }
      ]
    },
    {
      "cell_type": "code",
      "source": [
        "X_train_transform"
      ],
      "metadata": {
        "id": "pv8pKBvk9VZz",
        "colab": {
          "base_uri": "https://localhost:8080/"
        },
        "outputId": "bd0d1a19-9cf3-41ee-aafb-c9edae13cf95"
      },
      "execution_count": null,
      "outputs": [
        {
          "output_type": "execute_result",
          "data": {
            "text/plain": [
              "<4434x78175 sparse matrix of type '<class 'numpy.int64'>'\n",
              "\twith 1266929 stored elements in Compressed Sparse Row format>"
            ]
          },
          "metadata": {},
          "execution_count": 22
        }
      ]
    },
    {
      "cell_type": "markdown",
      "metadata": {
        "id": "uEi0st59Efp9"
      },
      "source": [
        "## Modelo Regresion Logistica"
      ]
    },
    {
      "cell_type": "code",
      "metadata": {
        "id": "NeeQ3F8iJ8gA",
        "colab": {
          "base_uri": "https://localhost:8080/",
          "height": 75
        },
        "outputId": "a23ee833-4165-4229-e4bd-f244024be4ce"
      },
      "source": [
        "clf = LogisticRegression(max_iter=1000)\n",
        "clf.fit(X_train_transform, y_train)"
      ],
      "execution_count": null,
      "outputs": [
        {
          "output_type": "execute_result",
          "data": {
            "text/plain": [
              "LogisticRegression(max_iter=1000)"
            ],
            "text/html": [
              "<style>#sk-container-id-1 {color: black;background-color: white;}#sk-container-id-1 pre{padding: 0;}#sk-container-id-1 div.sk-toggleable {background-color: white;}#sk-container-id-1 label.sk-toggleable__label {cursor: pointer;display: block;width: 100%;margin-bottom: 0;padding: 0.3em;box-sizing: border-box;text-align: center;}#sk-container-id-1 label.sk-toggleable__label-arrow:before {content: \"▸\";float: left;margin-right: 0.25em;color: #696969;}#sk-container-id-1 label.sk-toggleable__label-arrow:hover:before {color: black;}#sk-container-id-1 div.sk-estimator:hover label.sk-toggleable__label-arrow:before {color: black;}#sk-container-id-1 div.sk-toggleable__content {max-height: 0;max-width: 0;overflow: hidden;text-align: left;background-color: #f0f8ff;}#sk-container-id-1 div.sk-toggleable__content pre {margin: 0.2em;color: black;border-radius: 0.25em;background-color: #f0f8ff;}#sk-container-id-1 input.sk-toggleable__control:checked~div.sk-toggleable__content {max-height: 200px;max-width: 100%;overflow: auto;}#sk-container-id-1 input.sk-toggleable__control:checked~label.sk-toggleable__label-arrow:before {content: \"▾\";}#sk-container-id-1 div.sk-estimator input.sk-toggleable__control:checked~label.sk-toggleable__label {background-color: #d4ebff;}#sk-container-id-1 div.sk-label input.sk-toggleable__control:checked~label.sk-toggleable__label {background-color: #d4ebff;}#sk-container-id-1 input.sk-hidden--visually {border: 0;clip: rect(1px 1px 1px 1px);clip: rect(1px, 1px, 1px, 1px);height: 1px;margin: -1px;overflow: hidden;padding: 0;position: absolute;width: 1px;}#sk-container-id-1 div.sk-estimator {font-family: monospace;background-color: #f0f8ff;border: 1px dotted black;border-radius: 0.25em;box-sizing: border-box;margin-bottom: 0.5em;}#sk-container-id-1 div.sk-estimator:hover {background-color: #d4ebff;}#sk-container-id-1 div.sk-parallel-item::after {content: \"\";width: 100%;border-bottom: 1px solid gray;flex-grow: 1;}#sk-container-id-1 div.sk-label:hover label.sk-toggleable__label {background-color: #d4ebff;}#sk-container-id-1 div.sk-serial::before {content: \"\";position: absolute;border-left: 1px solid gray;box-sizing: border-box;top: 0;bottom: 0;left: 50%;z-index: 0;}#sk-container-id-1 div.sk-serial {display: flex;flex-direction: column;align-items: center;background-color: white;padding-right: 0.2em;padding-left: 0.2em;position: relative;}#sk-container-id-1 div.sk-item {position: relative;z-index: 1;}#sk-container-id-1 div.sk-parallel {display: flex;align-items: stretch;justify-content: center;background-color: white;position: relative;}#sk-container-id-1 div.sk-item::before, #sk-container-id-1 div.sk-parallel-item::before {content: \"\";position: absolute;border-left: 1px solid gray;box-sizing: border-box;top: 0;bottom: 0;left: 50%;z-index: -1;}#sk-container-id-1 div.sk-parallel-item {display: flex;flex-direction: column;z-index: 1;position: relative;background-color: white;}#sk-container-id-1 div.sk-parallel-item:first-child::after {align-self: flex-end;width: 50%;}#sk-container-id-1 div.sk-parallel-item:last-child::after {align-self: flex-start;width: 50%;}#sk-container-id-1 div.sk-parallel-item:only-child::after {width: 0;}#sk-container-id-1 div.sk-dashed-wrapped {border: 1px dashed gray;margin: 0 0.4em 0.5em 0.4em;box-sizing: border-box;padding-bottom: 0.4em;background-color: white;}#sk-container-id-1 div.sk-label label {font-family: monospace;font-weight: bold;display: inline-block;line-height: 1.2em;}#sk-container-id-1 div.sk-label-container {text-align: center;}#sk-container-id-1 div.sk-container {/* jupyter's `normalize.less` sets `[hidden] { display: none; }` but bootstrap.min.css set `[hidden] { display: none !important; }` so we also need the `!important` here to be able to override the default hidden behavior on the sphinx rendered scikit-learn.org. See: https://github.com/scikit-learn/scikit-learn/issues/21755 */display: inline-block !important;position: relative;}#sk-container-id-1 div.sk-text-repr-fallback {display: none;}</style><div id=\"sk-container-id-1\" class=\"sk-top-container\"><div class=\"sk-text-repr-fallback\"><pre>LogisticRegression(max_iter=1000)</pre><b>In a Jupyter environment, please rerun this cell to show the HTML representation or trust the notebook. <br />On GitHub, the HTML representation is unable to render, please try loading this page with nbviewer.org.</b></div><div class=\"sk-container\" hidden><div class=\"sk-item\"><div class=\"sk-estimator sk-toggleable\"><input class=\"sk-toggleable__control sk-hidden--visually\" id=\"sk-estimator-id-1\" type=\"checkbox\" checked><label for=\"sk-estimator-id-1\" class=\"sk-toggleable__label sk-toggleable__label-arrow\">LogisticRegression</label><div class=\"sk-toggleable__content\"><pre>LogisticRegression(max_iter=1000)</pre></div></div></div></div></div>"
            ]
          },
          "metadata": {},
          "execution_count": 23
        }
      ]
    },
    {
      "cell_type": "markdown",
      "metadata": {
        "id": "PFH8353BEkm-"
      },
      "source": [
        "### Resultados obtenidos"
      ]
    },
    {
      "cell_type": "code",
      "metadata": {
        "id": "iwcvdgn1KDFT"
      },
      "source": [
        "X_test_tranform = cv.transform(X_test)\n",
        "y_pred = clf.predict(X_test_tranform.toarray())"
      ],
      "execution_count": null,
      "outputs": []
    },
    {
      "cell_type": "code",
      "source": [
        "clf.predict_proba(X_test_tranform.toarray())"
      ],
      "metadata": {
        "id": "LPLhyg2DSMg4",
        "colab": {
          "base_uri": "https://localhost:8080/"
        },
        "outputId": "ccef780e-6370-4df3-9903-c6711964d2ac"
      },
      "execution_count": null,
      "outputs": [
        {
          "output_type": "execute_result",
          "data": {
            "text/plain": [
              "array([[9.99451416e-01, 5.48584461e-04],\n",
              "       [1.93889349e-12, 1.00000000e+00],\n",
              "       [9.80639403e-01, 1.93605974e-02],\n",
              "       ...,\n",
              "       [1.74806303e-09, 9.99999998e-01],\n",
              "       [4.69105003e-02, 9.53089500e-01],\n",
              "       [1.33892897e-13, 1.00000000e+00]])"
            ]
          },
          "metadata": {},
          "execution_count": 25
        }
      ]
    },
    {
      "cell_type": "code",
      "metadata": {
        "id": "iZDEu3XsKQNB",
        "colab": {
          "base_uri": "https://localhost:8080/"
        },
        "outputId": "05c0976a-2352-4ef3-9772-4e3f2cef0bde"
      },
      "source": [
        "from sklearn.metrics import classification_report, confusion_matrix\n",
        "print(classification_report(y_test, y_pred))"
      ],
      "execution_count": null,
      "outputs": [
        {
          "output_type": "stream",
          "name": "stdout",
          "text": [
            "              precision    recall  f1-score   support\n",
            "\n",
            "        FAKE       0.90      0.95      0.92       938\n",
            "        REAL       0.95      0.90      0.92       963\n",
            "\n",
            "    accuracy                           0.92      1901\n",
            "   macro avg       0.92      0.92      0.92      1901\n",
            "weighted avg       0.92      0.92      0.92      1901\n",
            "\n"
          ]
        }
      ]
    },
    {
      "cell_type": "code",
      "metadata": {
        "id": "Youyd5YcKnJR",
        "colab": {
          "base_uri": "https://localhost:8080/"
        },
        "outputId": "3136b809-081f-4d6f-c07f-b65ad52567ee"
      },
      "source": [
        "print(confusion_matrix(y_test, y_pred))"
      ],
      "execution_count": null,
      "outputs": [
        {
          "output_type": "stream",
          "name": "stdout",
          "text": [
            "[[892  46]\n",
            " [100 863]]\n"
          ]
        }
      ]
    },
    {
      "cell_type": "code",
      "metadata": {
        "id": "cdpspo0OkNoT",
        "colab": {
          "base_uri": "https://localhost:8080/",
          "height": 466
        },
        "outputId": "fe30883f-ff86-481a-f8ab-ef0a62c439de"
      },
      "source": [
        "from sklearn.metrics import RocCurveDisplay\n",
        "RocCurveDisplay.from_estimator(clf,X_test_tranform,y_test)"
      ],
      "execution_count": null,
      "outputs": [
        {
          "output_type": "execute_result",
          "data": {
            "text/plain": [
              "<sklearn.metrics._plot.roc_curve.RocCurveDisplay at 0x798f97257220>"
            ]
          },
          "metadata": {},
          "execution_count": 28
        },
        {
          "output_type": "display_data",
          "data": {
            "text/plain": [
              "<Figure size 640x480 with 1 Axes>"
            ],
            "image/png": "[encoded data removed]"
          },
          "metadata": {}
        }
      ]
    },
    {
      "cell_type": "code",
      "metadata": {
        "id": "x_w415wJ24Nz",
        "colab": {
          "base_uri": "https://localhost:8080/",
          "height": 466
        },
        "outputId": "b523b92c-2e28-4ca8-dca3-a7afc8700e8b"
      },
      "source": [
        "from sklearn.metrics import ConfusionMatrixDisplay\n",
        "ConfusionMatrixDisplay.from_estimator(clf,X_test_tranform,y_test,normalize='true')"
      ],
      "execution_count": null,
      "outputs": [
        {
          "output_type": "execute_result",
          "data": {
            "text/plain": [
              "<sklearn.metrics._plot.confusion_matrix.ConfusionMatrixDisplay at 0x798f536d07c0>"
            ]
          },
          "metadata": {},
          "execution_count": 29
        },
        {
          "output_type": "display_data",
          "data": {
            "text/plain": [
              "<Figure size 640x480 with 2 Axes>"
            ],
            "image/png": "[encoded data removed]"
          },
          "metadata": {}
        }
      ]
    },
    {
      "cell_type": "code",
      "metadata": {
        "id": "rMVAGT-D5Pi5",
        "colab": {
          "base_uri": "https://localhost:8080/",
          "height": 542
        },
        "outputId": "ce7f004a-7980-4a54-9b43-d37091dd553b"
      },
      "source": [
        "features = pd.DataFrame()\n",
        "features['feature'] = cv.get_feature_names_out()\n",
        "features['importance'] = clf.coef_.flatten()\n",
        "\n",
        "features = features.sort_values(by='importance')\n",
        "\n",
        "features_top_positivas = features[:200]\n",
        "features_top_negativas = features[-200:]\n",
        "\n",
        "px.bar(pd.concat([features_top_negativas, features_top_positivas]).sort_values(by='importance'), x='feature', y='importance')"
      ],
      "execution_count": null,
      "outputs": [
        {
          "output_type": "display_data",
          "data": {
            "text/html": [
              "<html>\n",
              "<head><meta charset=\"utf-8\" /></head>\n",
              "<body>\n",
              "    <div>            <script src=\"https://cdnjs.cloudflare.com/ajax/libs/mathjax/2.7.5/MathJax.js?config=TeX-AMS-MML_SVG\"></script><script type=\"text/javascript\">if (window.MathJax && window.MathJax.Hub && window.MathJax.Hub.Config) {window.MathJax.Hub.Config({SVG: {font: \"STIX-Web\"}});}</script>                <script type=\"text/javascript\">window.PlotlyConfig = {MathJaxConfig: 'local'};</script>\n",
              "        <script charset=\"utf-8\" src=\"https://cdn.plot.ly/plotly-2.24.1.min.js\"></script>                <div id=\"b161f12c-ea55-4cb1-9e94-08fda3ad99de\" class=\"plotly-graph-div\" style=\"height:525px; width:100%;\"></div>            <script type=\"text/javascript\">                                    window.PLOTLYENV=window.PLOTLYENV || {};                                    if (document.getElementById(\"b161f12c-ea55-4cb1-9e94-08fda3ad99de\")) {                    Plotly.newPlot(                        \"b161f12c-ea55-4cb1-9e94-08fda3ad99de\",                        [{\"alignmentgroup\":\"True\",\"hovertemplate\":\"feature=%{x}\\u003cbr\\u003eimportance=%{y}\\u003cextra\\u003e\\u003c\\u002fextra\\u003e\",\"legendgroup\":\"\",\"marker\":{\"color\":\"#636efa\",\"pattern\":{\"shape\":\"\"}},\"name\":\"\",\"offsetgroup\":\"\",\"orientation\":\"v\",\"showlegend\":false,\"textposition\":\"auto\",\"x\":[\"2016\",\"0\",\"...\",\"october\",\"share\",\"source\",\"\\u2018\",\"via\",\"article\",\"email\",\"print\",\"november\",\"fbi\",\"hillary\",\"advertisement\",\"see\",\"comments\",\"1\",\"image\",\"results\",\"please\",\"voting\",\"ayotte\",\"podesta\",\"28\",\"however\",\"north\",\"oct\",\"add\",\"entire\",\"wikileaks\",\"watch\",\"left\\u002fright\",\"taking\",\"following\",\"26\",\"behind\",\"corporate\",\"baker\",\"years\",\"uk\",\"video\",\"according\",\"published\",\"swipe\",\"full\",\"position\",\"major\",\"5\",\"syria\",\"mosul\",\"posts\",\"plant\",\"corruption\",\"photo\",\"guest\",\"\\u00a9\",\"3\",\"sign\",\"biden\",\"20\",\"due\",\"ago\",\"investigation\",\"shot\",\"6\",\"sex\",\"donald\",\"power\",\"sources\",\"operation\",\"used\",\"arrivals\",\"joe\",\"progressive\",\"us\",\"daily\",\"jews\",\"anything\",\"weiner\",\"corrupt\",\"\\u203a\",\"posted\",\"tom\",\"financial\",\"service\",\"suppression\",\"hassan\",\"goldman\",\"dr.\",\"today\",\"predator\",\"8\",\"county\",\"pipeline\",\"effort\",\"florida\",\"stated\",\"added\",\"election\",\"series\",\"involved\",\"broke\",\"great\",\"loading\",\"wants\",\"peace\",\"establishment\",\"un\",\"change\",\"lie\",\"project\",\"demand\",\"dakota\",\"although\",\"incident\",\"pm\",\"youtube\",\"go\",\"wars\",\"doctors\",\"next\",\"sachs\",\"planet\",\"leaked\",\"food\",\"using\",\"september\",\"rigged\",\"laura\",\"billionaire\",\"war\",\"zero\",\"bundy\",\"probe\",\"adrian\",\"waiting\",\"google\",\"repeal\",\"intelligence\",\"building\",\"polling\",\"african-americans\",\"african-american\",\"russia\",\"bamforth\",\"showed\",\"coward\",\"single\",\"healthcare\",\"palestinians\",\"council\",\"steven\",\"send\",\"dog\",\"4\",\"mean\",\"step\",\"society\",\"never\",\"massive\",\"assange\",\"newspaper\",\"rig\",\"copyright\",\"31\",\"football\",\"ford\",\"mins\",\"cooperation\",\"pay\",\"survey\",\"post\",\"11\\u002f08\\u002f2016\",\"girl\",\"panic\",\"anthony\",\"elected\",\"hollywood\",\"investment\",\"end\",\"27\",\"sometimes\",\"related\",\"gold\",\"confirmed\",\"halloween\",\"tonight\",\"technology\",\"work\",\"went\",\"senator\",\"vote\",\"refused\",\"rock\",\"ten\",\"l\",\"research\",\"natural\",\"camp\",\"fear\",\"2013\",\"much\",\"disqualified\",\"carson\",\"victims\",\"secretary\",\"31.\",\"issues\",\"mccain\",\"sanders\",\"vision\",\"focused\",\"winton\",\"marco\",\"empire\",\"sunday\",\"interacted\",\"revelations\",\"graphic\",\"iranian\",\"defend\",\"abyss\",\"held\",\"donor\",\"buildings\",\"traffickers\",\"cancer\",\"hispanic\",\"governor\",\"indiana\",\"michigan\",\"clear\",\"saying\",\"kasich\",\"kamala\",\"trailing\",\"masto\",\"cortez\",\"plan\",\"'s\",\"call\",\"parents\",\"tammy\",\"places\",\"numbers\",\"trade\",\"rid\",\"names\",\"christie\",\"candidacy\",\"comment\",\"wrong\",\"certainly\",\"scott\",\"\\u002f\\u002ft.co\\u002fwni9lmsppr\",\"democrats\",\"struggled\",\"heavily\",\"parker\",\"fared\",\"questions\",\"migrants\",\"43\",\"13\",\"deal\",\"cruz\",\"iowa\",\"race\",\"emails\",\"announcement\",\"pick\",\"mogul\",\"feb.\",\"harris\",\"jeff\",\"paris\",\"toward\",\"congressional\",\"message\",\"son\",\"top\",\"notable\",\"vast\",\"avoid\",\"\\u2014\",\"rules\",\"run\",\"investor\",\"spoke\",\"says\",\"coverage\",\"york\",\"islamic\",\"president\",\"barack\",\"picks\",\"legislation\",\"battle\",\"fred\",\"marriage\",\"grow\",\"commerce\",\"nbc\",\"tapping\",\"dallas-based\",\"early\",\"lead\",\"meeting\",\"photos\",\"b\",\"center\",\"washburne\",\"duties\",\"conflicts\",\"fox\",\"''\",\"1973\",\"defending\",\"buzhardt\",\"recounts\",\"labor\",\"protective\",\"attacks\",\"platform\",\"baltimore\",\"candidate\",\"convention\",\"consideration\",\"ray\",\"watergate\",\"said\",\"pool\",\"thing\",\"richard\",\"dems\",\"friday\",\"speech\",\"executives\\u2014but\",\"nomination\",\"barron\",\"drug\",\"winning\",\"transition\",\"large\",\"walker\",\"immigration\",\"obviously\",\"voters\",\"announced\",\"continue\",\"far\",\"impose\",\"primary\",\"jobs\",\"--\",\"saturday\",\"wisconsin\",\"tape\",\"online\",\"positions\",\"campaign\",\"shortage\",\"list\",\"cabinet\",\"march\",\"tax\",\"killing\",\"quotes\",\"demolish\",\"tariff\",\"insist\",\"administration\",\"demo\",\"key\",\"threatened\",\"232\",\"131\",\"2017\",\"tuesday\",\"conservative\",\"fits\",\"nailing\",\"dismantling\",\"to-do\",\"gop\",\"ohio\",\"passion\",\"sweeping\",\"pushing\",\"sen.\",\"reform\",\"tech\",\"verdict\",\"rush\",\"exchanges\",\"startups\",\"easier\",\"consequences\",\"candidates\"],\"xaxis\":\"x\",\"y\":[-1.1973122076409675,-1.0111773408272853,-0.9928316000915806,-0.9271633279566248,-0.8669510999503286,-0.7388676249664291,-0.7381692154882814,-0.6977814265238358,-0.686137420154896,-0.6564507109661949,-0.6402813317764531,-0.6398776086582577,-0.6207493217762691,-0.5829548453231789,-0.5707171269210288,-0.5569991188849535,-0.5020780083916333,-0.4923611210088078,-0.47940445220541084,-0.47183430546159216,-0.4677386548380027,-0.4500436138936321,-0.44987541481005006,-0.42139630827111846,-0.419831190067178,-0.4181160600378208,-0.4165459704367905,-0.4144337825601748,-0.41265630118778235,-0.40623670341023216,-0.4011260787029455,-0.39980283790631355,-0.399641144622636,-0.3970640454851177,-0.39661534496658346,-0.3924313202443406,-0.38949339198271427,-0.38923852909087536,-0.38818620880186494,-0.3851590132408068,-0.38322936770476,-0.3830678960763727,-0.3825607322602762,-0.3816068366917618,-0.3815120095474919,-0.380647732645918,-0.3772292980611445,-0.37474915407796244,-0.3713976041790586,-0.37077482887873064,-0.3615762577247364,-0.3559406066674835,-0.35571114266978043,-0.35431982213838753,-0.35428668168794536,-0.3533704136966056,-0.35115876788799943,-0.35043838919272513,-0.3480851237046863,-0.347777705214773,-0.3474385046315815,-0.346390820267045,-0.34606873946288996,-0.34564342085172606,-0.34389211389959334,-0.3408467737376601,-0.3396755233635439,-0.3384292433334779,-0.33698770499944214,-0.336618684818588,-0.33648714989317574,-0.3347325542322666,-0.33419976735783946,-0.33071191962954394,-0.3298516024709875,-0.32733119990051424,-0.3225139505457244,-0.32183060351415227,-0.32171630771152543,-0.32158128256199203,-0.3208909448336688,-0.3207073247528946,-0.32066470821094184,-0.31853348608084253,-0.3156558527829522,-0.3114068409190191,-0.3107908694557695,-0.3104401664550042,-0.3096654699701273,-0.3062465217523743,-0.30570985386198474,-0.30451374899964284,-0.3019772368589749,-0.3010485589408992,-0.30057818192484037,-0.3003740183424543,-0.30028227171261934,-0.3000373952253106,-0.29627787420604396,-0.2951400825163884,-0.293204645690952,-0.29280207677443804,-0.29219776154324273,-0.2918740141372143,-0.29157012380297753,-0.2915686539331295,-0.29110260453334075,-0.29013231529176625,-0.2894619700869702,-0.2891643870988369,-0.2863881289397102,-0.2849793176399634,-0.28254938808998864,-0.2822555750393659,-0.2806988753172232,-0.2793746815570399,-0.2783825997595639,-0.2753155571672568,-0.27524247843096306,-0.2732763216781622,-0.2726363319731595,-0.2723734172782337,-0.26858348065739235,-0.26429390632415267,-0.26315476621170986,-0.26290508634419835,-0.2615309735590244,-0.25824235997690786,-0.2577810464970765,-0.25777280558231713,-0.25759293509661646,-0.2559363365954588,-0.2556731418948657,-0.25555720266608317,-0.2553037562782831,-0.2515265355745871,-0.2513035491450081,-0.2487288986157617,-0.24862300580844005,-0.2474283586473013,-0.24731916855798305,-0.2463181668853505,-0.24568239687144017,-0.2455001459042036,-0.24532755705045492,-0.2452437024184511,-0.24338088027392615,-0.24301436080444372,-0.2425401576657472,-0.24123924007778763,-0.24048186250843487,-0.23999531062410037,-0.23998544299756067,-0.23967613542549376,-0.23923356987574973,-0.23903910888317642,-0.23901077530728615,-0.23838435923589923,-0.23800409496216254,-0.2379264143406364,-0.2371041559489092,-0.23694124851834575,-0.23659128646435096,-0.2363694284514092,-0.23600569864927715,-0.23489042198997273,-0.23485839026914723,-0.2348359533442211,-0.23429295228241387,-0.23401165254860204,-0.23231799747614135,-0.23227233939291725,-0.23157900797785483,-0.23077506688946833,-0.23049218010666273,-0.2304094598625408,-0.22963516158094865,-0.2286157306007366,-0.22860320405292447,-0.2283200786403054,-0.22807075419238063,-0.2272365937465085,-0.22622835180045442,-0.2261625112944723,-0.22609470576963558,-0.2256874567115546,-0.22552947314384258,-0.22535012285862052,-0.2249429087265731,-0.22480616574109252,-0.2239071812592849,-0.2238332811408542,-0.22285149474147,-0.22199931631667805,-0.2210372747314505,-0.2200014332075234,-0.21918068139471522,-0.21851637070689064,-0.21843900206216957,-0.2168699858142426,0.2567923932758724,0.2581792483695689,0.25915358393084564,0.2605066605516577,0.26101288294596503,0.2620794442319573,0.2624626461093186,0.2632818329544662,0.2635109831731551,0.26355328770913794,0.26396267431190146,0.2641549045151578,0.26516623538137907,0.2656283878036884,0.2664951330734741,0.2681751079537467,0.269335607194475,0.27052674881468514,0.270677041226156,0.27088687063319383,0.27216234040271176,0.273135638376269,0.2733530564302712,0.2744871103389661,0.27548215245673685,0.2755333716580936,0.27695023057239154,0.27828585807705924,0.2783014766535832,0.2783233204655061,0.278369085156078,0.27869733637099003,0.2791950387816093,0.28024890394168667,0.2813885559191013,0.28380125477712276,0.284296418165309,0.28546739001170296,0.28546739001170296,0.28639538234812273,0.28639587685063256,0.2869983794141287,0.2870786582551554,0.28764850053047064,0.28766196264080407,0.28767546916967146,0.2878157196842275,0.28910018609442323,0.290494220331458,0.2907929495415226,0.29091633769155206,0.291714819259173,0.29315695455295077,0.29488598348784323,0.2955591082567523,0.29575828962555956,0.3010214467042939,0.3010676012749659,0.3036401990467772,0.30372377070977163,0.3038309066247083,0.30692026877939915,0.30832719841679357,0.3084762058124107,0.3111402738973063,0.3166332000766496,0.317155934860293,0.3185094118714742,0.3198503060011834,0.32016105587664445,0.320671547354239,0.3247817454519797,0.3270560790192587,0.32847587266244127,0.32924928275885484,0.3293704146498807,0.33115665072721745,0.3340477556710485,0.3355181364779062,0.3421890150840728,0.34233042010834397,0.34272385334576183,0.34386778270635593,0.34774023106504726,0.34866914953388145,0.3492551454699807,0.35005530528018247,0.35050461877983874,0.3507321481943905,0.35076423494764175,0.35112890834561666,0.35355820476153976,0.3547186586213032,0.3559362838682199,0.37067455742852484,0.3713689481844918,0.3744375519373072,0.3746591290400263,0.37577226704161776,0.3777070767549014,0.3786132886543201,0.38045118088469404,0.3813249355481563,0.3818487304728983,0.3837822558636999,0.3899479491885443,0.39091771717377405,0.39168657798812995,0.39445162570749703,0.39546300187770317,0.3955989378552943,0.39713897626876626,0.39863521942627966,0.3994328758124105,0.4003640873075594,0.4017094761056851,0.4019644026328445,0.4020546259867445,0.4026152188871094,0.40309694811064517,0.404135013796297,0.4053306045534482,0.40730745976371235,0.40749702589432657,0.4081745228381606,0.4089076566973972,0.4099627900175664,0.4130431916817205,0.4155352849195934,0.41584288340906445,0.4185409459957935,0.42016249862730576,0.42024058733677777,0.4218398387181511,0.4228873614787544,0.4248652282262374,0.4296045561012094,0.431169553374716,0.4386928325991674,0.44224455279994007,0.4432965599062278,0.44461600652965,0.4493167430883469,0.4497835748469655,0.45419315838115043,0.46045371456081985,0.4649861766592818,0.4724938418028768,0.47713089463745717,0.4786185345025315,0.479043883455461,0.48028240214486145,0.4814902380708777,0.4860375356624799,0.48906953829498323,0.48934704540953544,0.4912941144794235,0.49198800284286687,0.4992632968602498,0.505664728293871,0.5080928508607665,0.5087085345187731,0.5123112526538817,0.5143496734220139,0.517202822093838,0.5243623069996188,0.526610715389129,0.5304637447805961,0.5317947646696534,0.5403974859718049,0.5415635249897984,0.5468773192743666,0.5480233950989354,0.5553433750451697,0.5592780463604232,0.5634910987101549,0.5645530256080213,0.5692790278466683,0.5695314296074354,0.5697316867089598,0.5713995761325653,0.5760278067881257,0.5849080412040919,0.5925721387464262,0.5938868141948253,0.6062237327093798,0.6135400519325379,0.6167833202391418,0.6245251344492623,0.6379805070802762,0.6540571306058157,0.6541831333545131,0.679028096414586,0.6810342473287289,0.682252387624128,0.6845836103298525,0.7115148703895858,0.7191558602509791,0.8417560334765756,1.0530739917847063],\"yaxis\":\"y\",\"type\":\"bar\"}],                        {\"template\":{\"data\":{\"histogram2dcontour\":[{\"type\":\"histogram2dcontour\",\"colorbar\":{\"outlinewidth\":0,\"ticks\":\"\"},\"colorscale\":[[0.0,\"#0d0887\"],[0.1111111111111111,\"#46039f\"],[0.2222222222222222,\"#7201a8\"],[0.3333333333333333,\"#9c179e\"],[0.4444444444444444,\"#bd3786\"],[0.5555555555555556,\"#d8576b\"],[0.6666666666666666,\"#ed7953\"],[0.7777777777777778,\"#fb9f3a\"],[0.8888888888888888,\"#fdca26\"],[1.0,\"#f0f921\"]]}],\"choropleth\":[{\"type\":\"choropleth\",\"colorbar\":{\"outlinewidth\":0,\"ticks\":\"\"}}],\"histogram2d\":[{\"type\":\"histogram2d\",\"colorbar\":{\"outlinewidth\":0,\"ticks\":\"\"},\"colorscale\":[[0.0,\"#0d0887\"],[0.1111111111111111,\"#46039f\"],[0.2222222222222222,\"#7201a8\"],[0.3333333333333333,\"#9c179e\"],[0.4444444444444444,\"#bd3786\"],[0.5555555555555556,\"#d8576b\"],[0.6666666666666666,\"#ed7953\"],[0.7777777777777778,\"#fb9f3a\"],[0.8888888888888888,\"#fdca26\"],[1.0,\"#f0f921\"]]}],\"heatmap\":[{\"type\":\"heatmap\",\"colorbar\":{\"outlinewidth\":0,\"ticks\":\"\"},\"colorscale\":[[0.0,\"#0d0887\"],[0.1111111111111111,\"#46039f\"],[0.2222222222222222,\"#7201a8\"],[0.3333333333333333,\"#9c179e\"],[0.4444444444444444,\"#bd3786\"],[0.5555555555555556,\"#d8576b\"],[0.6666666666666666,\"#ed7953\"],[0.7777777777777778,\"#fb9f3a\"],[0.8888888888888888,\"#fdca26\"],[1.0,\"#f0f921\"]]}],\"heatmapgl\":[{\"type\":\"heatmapgl\",\"colorbar\":{\"outlinewidth\":0,\"ticks\":\"\"},\"colorscale\":[[0.0,\"#0d0887\"],[0.1111111111111111,\"#46039f\"],[0.2222222222222222,\"#7201a8\"],[0.3333333333333333,\"#9c179e\"],[0.4444444444444444,\"#bd3786\"],[0.5555555555555556,\"#d8576b\"],[0.6666666666666666,\"#ed7953\"],[0.7777777777777778,\"#fb9f3a\"],[0.8888888888888888,\"#fdca26\"],[1.0,\"#f0f921\"]]}],\"contourcarpet\":[{\"type\":\"contourcarpet\",\"colorbar\":{\"outlinewidth\":0,\"ticks\":\"\"}}],\"contour\":[{\"type\":\"contour\",\"colorbar\":{\"outlinewidth\":0,\"ticks\":\"\"},\"colorscale\":[[0.0,\"#0d0887\"],[0.1111111111111111,\"#46039f\"],[0.2222222222222222,\"#7201a8\"],[0.3333333333333333,\"#9c179e\"],[0.4444444444444444,\"#bd3786\"],[0.5555555555555556,\"#d8576b\"],[0.6666666666666666,\"#ed7953\"],[0.7777777777777778,\"#fb9f3a\"],[0.8888888888888888,\"#fdca26\"],[1.0,\"#f0f921\"]]}],\"surface\":[{\"type\":\"surface\",\"colorbar\":{\"outlinewidth\":0,\"ticks\":\"\"},\"colorscale\":[[0.0,\"#0d0887\"],[0.1111111111111111,\"#46039f\"],[0.2222222222222222,\"#7201a8\"],[0.3333333333333333,\"#9c179e\"],[0.4444444444444444,\"#bd3786\"],[0.5555555555555556,\"#d8576b\"],[0.6666666666666666,\"#ed7953\"],[0.7777777777777778,\"#fb9f3a\"],[0.8888888888888888,\"#fdca26\"],[1.0,\"#f0f921\"]]}],\"mesh3d\":[{\"type\":\"mesh3d\",\"colorbar\":{\"outlinewidth\":0,\"ticks\":\"\"}}],\"scatter\":[{\"fillpattern\":{\"fillmode\":\"overlay\",\"size\":10,\"solidity\":0.2},\"type\":\"scatter\"}],\"parcoords\":[{\"type\":\"parcoords\",\"line\":{\"colorbar\":{\"outlinewidth\":0,\"ticks\":\"\"}}}],\"scatterpolargl\":[{\"type\":\"scatterpolargl\",\"marker\":{\"colorbar\":{\"outlinewidth\":0,\"ticks\":\"\"}}}],\"bar\":[{\"error_x\":{\"color\":\"#2a3f5f\"},\"error_y\":{\"color\":\"#2a3f5f\"},\"marker\":{\"line\":{\"color\":\"#E5ECF6\",\"width\":0.5},\"pattern\":{\"fillmode\":\"overlay\",\"size\":10,\"solidity\":0.2}},\"type\":\"bar\"}],\"scattergeo\":[{\"type\":\"scattergeo\",\"marker\":{\"colorbar\":{\"outlinewidth\":0,\"ticks\":\"\"}}}],\"scatterpolar\":[{\"type\":\"scatterpolar\",\"marker\":{\"colorbar\":{\"outlinewidth\":0,\"ticks\":\"\"}}}],\"histogram\":[{\"marker\":{\"pattern\":{\"fillmode\":\"overlay\",\"size\":10,\"solidity\":0.2}},\"type\":\"histogram\"}],\"scattergl\":[{\"type\":\"scattergl\",\"marker\":{\"colorbar\":{\"outlinewidth\":0,\"ticks\":\"\"}}}],\"scatter3d\":[{\"type\":\"scatter3d\",\"line\":{\"colorbar\":{\"outlinewidth\":0,\"ticks\":\"\"}},\"marker\":{\"colorbar\":{\"outlinewidth\":0,\"ticks\":\"\"}}}],\"scattermapbox\":[{\"type\":\"scattermapbox\",\"marker\":{\"colorbar\":{\"outlinewidth\":0,\"ticks\":\"\"}}}],\"scatterternary\":[{\"type\":\"scatterternary\",\"marker\":{\"colorbar\":{\"outlinewidth\":0,\"ticks\":\"\"}}}],\"scattercarpet\":[{\"type\":\"scattercarpet\",\"marker\":{\"colorbar\":{\"outlinewidth\":0,\"ticks\":\"\"}}}],\"carpet\":[{\"aaxis\":{\"endlinecolor\":\"#2a3f5f\",\"gridcolor\":\"white\",\"linecolor\":\"white\",\"minorgridcolor\":\"white\",\"startlinecolor\":\"#2a3f5f\"},\"baxis\":{\"endlinecolor\":\"#2a3f5f\",\"gridcolor\":\"white\",\"linecolor\":\"white\",\"minorgridcolor\":\"white\",\"startlinecolor\":\"#2a3f5f\"},\"type\":\"carpet\"}],\"table\":[{\"cells\":{\"fill\":{\"color\":\"#EBF0F8\"},\"line\":{\"color\":\"white\"}},\"header\":{\"fill\":{\"color\":\"#C8D4E3\"},\"line\":{\"color\":\"white\"}},\"type\":\"table\"}],\"barpolar\":[{\"marker\":{\"line\":{\"color\":\"#E5ECF6\",\"width\":0.5},\"pattern\":{\"fillmode\":\"overlay\",\"size\":10,\"solidity\":0.2}},\"type\":\"barpolar\"}],\"pie\":[{\"automargin\":true,\"type\":\"pie\"}]},\"layout\":{\"autotypenumbers\":\"strict\",\"colorway\":[\"#636efa\",\"#EF553B\",\"#00cc96\",\"#ab63fa\",\"#FFA15A\",\"#19d3f3\",\"#FF6692\",\"#B6E880\",\"#FF97FF\",\"#FECB52\"],\"font\":{\"color\":\"#2a3f5f\"},\"hovermode\":\"closest\",\"hoverlabel\":{\"align\":\"left\"},\"paper_bgcolor\":\"white\",\"plot_bgcolor\":\"#E5ECF6\",\"polar\":{\"bgcolor\":\"#E5ECF6\",\"angularaxis\":{\"gridcolor\":\"white\",\"linecolor\":\"white\",\"ticks\":\"\"},\"radialaxis\":{\"gridcolor\":\"white\",\"linecolor\":\"white\",\"ticks\":\"\"}},\"ternary\":{\"bgcolor\":\"#E5ECF6\",\"aaxis\":{\"gridcolor\":\"white\",\"linecolor\":\"white\",\"ticks\":\"\"},\"baxis\":{\"gridcolor\":\"white\",\"linecolor\":\"white\",\"ticks\":\"\"},\"caxis\":{\"gridcolor\":\"white\",\"linecolor\":\"white\",\"ticks\":\"\"}},\"coloraxis\":{\"colorbar\":{\"outlinewidth\":0,\"ticks\":\"\"}},\"colorscale\":{\"sequential\":[[0.0,\"#0d0887\"],[0.1111111111111111,\"#46039f\"],[0.2222222222222222,\"#7201a8\"],[0.3333333333333333,\"#9c179e\"],[0.4444444444444444,\"#bd3786\"],[0.5555555555555556,\"#d8576b\"],[0.6666666666666666,\"#ed7953\"],[0.7777777777777778,\"#fb9f3a\"],[0.8888888888888888,\"#fdca26\"],[1.0,\"#f0f921\"]],\"sequentialminus\":[[0.0,\"#0d0887\"],[0.1111111111111111,\"#46039f\"],[0.2222222222222222,\"#7201a8\"],[0.3333333333333333,\"#9c179e\"],[0.4444444444444444,\"#bd3786\"],[0.5555555555555556,\"#d8576b\"],[0.6666666666666666,\"#ed7953\"],[0.7777777777777778,\"#fb9f3a\"],[0.8888888888888888,\"#fdca26\"],[1.0,\"#f0f921\"]],\"diverging\":[[0,\"#8e0152\"],[0.1,\"#c51b7d\"],[0.2,\"#de77ae\"],[0.3,\"#f1b6da\"],[0.4,\"#fde0ef\"],[0.5,\"#f7f7f7\"],[0.6,\"#e6f5d0\"],[0.7,\"#b8e186\"],[0.8,\"#7fbc41\"],[0.9,\"#4d9221\"],[1,\"#276419\"]]},\"xaxis\":{\"gridcolor\":\"white\",\"linecolor\":\"white\",\"ticks\":\"\",\"title\":{\"standoff\":15},\"zerolinecolor\":\"white\",\"automargin\":true,\"zerolinewidth\":2},\"yaxis\":{\"gridcolor\":\"white\",\"linecolor\":\"white\",\"ticks\":\"\",\"title\":{\"standoff\":15},\"zerolinecolor\":\"white\",\"automargin\":true,\"zerolinewidth\":2},\"scene\":{\"xaxis\":{\"backgroundcolor\":\"#E5ECF6\",\"gridcolor\":\"white\",\"linecolor\":\"white\",\"showbackground\":true,\"ticks\":\"\",\"zerolinecolor\":\"white\",\"gridwidth\":2},\"yaxis\":{\"backgroundcolor\":\"#E5ECF6\",\"gridcolor\":\"white\",\"linecolor\":\"white\",\"showbackground\":true,\"ticks\":\"\",\"zerolinecolor\":\"white\",\"gridwidth\":2},\"zaxis\":{\"backgroundcolor\":\"#E5ECF6\",\"gridcolor\":\"white\",\"linecolor\":\"white\",\"showbackground\":true,\"ticks\":\"\",\"zerolinecolor\":\"white\",\"gridwidth\":2}},\"shapedefaults\":{\"line\":{\"color\":\"#2a3f5f\"}},\"annotationdefaults\":{\"arrowcolor\":\"#2a3f5f\",\"arrowhead\":0,\"arrowwidth\":1},\"geo\":{\"bgcolor\":\"white\",\"landcolor\":\"#E5ECF6\",\"subunitcolor\":\"white\",\"showland\":true,\"showlakes\":true,\"lakecolor\":\"white\"},\"title\":{\"x\":0.05},\"mapbox\":{\"style\":\"light\"}}},\"xaxis\":{\"anchor\":\"y\",\"domain\":[0.0,1.0],\"title\":{\"text\":\"feature\"}},\"yaxis\":{\"anchor\":\"x\",\"domain\":[0.0,1.0],\"title\":{\"text\":\"importance\"}},\"legend\":{\"tracegroupgap\":0},\"margin\":{\"t\":60},\"barmode\":\"relative\"},                        {\"responsive\": true}                    ).then(function(){\n",
              "                            \n",
              "var gd = document.getElementById('b161f12c-ea55-4cb1-9e94-08fda3ad99de');\n",
              "var x = new MutationObserver(function (mutations, observer) {{\n",
              "        var display = window.getComputedStyle(gd).display;\n",
              "        if (!display || display === 'none') {{\n",
              "            console.log([gd, 'removed!']);\n",
              "            Plotly.purge(gd);\n",
              "            observer.disconnect();\n",
              "        }}\n",
              "}});\n",
              "\n",
              "// Listen for the removal of the full notebook cells\n",
              "var notebookContainer = gd.closest('#notebook-container');\n",
              "if (notebookContainer) {{\n",
              "    x.observe(notebookContainer, {childList: true});\n",
              "}}\n",
              "\n",
              "// Listen for the clearing of the current output cell\n",
              "var outputEl = gd.closest('.output');\n",
              "if (outputEl) {{\n",
              "    x.observe(outputEl, {childList: true});\n",
              "}}\n",
              "\n",
              "                        })                };                            </script>        </div>\n",
              "</body>\n",
              "</html>"
            ]
          },
          "metadata": {}
        }
      ]
    },
    {
      "cell_type": "markdown",
      "metadata": {
        "id": "26JMNBsWxrC2"
      },
      "source": [
        "## Modelo SVM"
      ]
    },
    {
      "cell_type": "markdown",
      "metadata": {
        "id": "nardWJlbyVky"
      },
      "source": [
        "**Support vector machines** (SVM) son un conjunto de métodos de aprendizaje supervisados classification, regression y outliers detection.\n",
        "\n",
        "Las ventajas de los SVM son:<br>\n",
        "  * Efectivo en espacios de altas dimensiones.\n",
        "  * Sigue siendo efectivo en casos donde el número de dimensiones es mayor que el número de muestras, pero dependera del nivel de regularizacion\n",
        "  * Utiliza un subconjunto de puntos de entrenamiento en la función de decisión (llamados vectores de soporte), por lo que también es eficiente en la memoria.\n",
        "  * Versátil: se pueden especificar diferentes funciones de Kernel para la función de decisión. Se proporcionan núcleos comunes, pero también es posible especificar núcleos personalizados.\n",
        "\n",
        "Las desventajas de los SVM son:<br>\n",
        "  * Si el número de características es mucho mayor que el número de muestras, se necesita evitar el ajuste excesivo al elegir las funciones de Kernel y el término de regularización es crucial.\n",
        "  * Los SVM no proporcionan directamente estimaciones de probabilidad, estas se calculan utilizando una costosa validación cruzada.    "
      ]
    },
    {
      "cell_type": "code",
      "metadata": {
        "id": "qp4V5dowyVBH",
        "colab": {
          "base_uri": "https://localhost:8080/",
          "height": 144
        },
        "outputId": "19d0729d-c427-4165-9879-a444af1920c7"
      },
      "source": [
        "from sklearn.svm import LinearSVC\n",
        "clf = LinearSVC()\n",
        "clf.fit(X_train_transform, y_train)"
      ],
      "execution_count": null,
      "outputs": [
        {
          "output_type": "stream",
          "name": "stderr",
          "text": [
            "/usr/local/lib/python3.10/dist-packages/sklearn/svm/_base.py:1244: ConvergenceWarning:\n",
            "\n",
            "Liblinear failed to converge, increase the number of iterations.\n",
            "\n"
          ]
        },
        {
          "output_type": "execute_result",
          "data": {
            "text/plain": [
              "LinearSVC()"
            ],
            "text/html": [
              "<style>#sk-container-id-2 {color: black;background-color: white;}#sk-container-id-2 pre{padding: 0;}#sk-container-id-2 div.sk-toggleable {background-color: white;}#sk-container-id-2 label.sk-toggleable__label {cursor: pointer;display: block;width: 100%;margin-bottom: 0;padding: 0.3em;box-sizing: border-box;text-align: center;}#sk-container-id-2 label.sk-toggleable__label-arrow:before {content: \"▸\";float: left;margin-right: 0.25em;color: #696969;}#sk-container-id-2 label.sk-toggleable__label-arrow:hover:before {color: black;}#sk-container-id-2 div.sk-estimator:hover label.sk-toggleable__label-arrow:before {color: black;}#sk-container-id-2 div.sk-toggleable__content {max-height: 0;max-width: 0;overflow: hidden;text-align: left;background-color: #f0f8ff;}#sk-container-id-2 div.sk-toggleable__content pre {margin: 0.2em;color: black;border-radius: 0.25em;background-color: #f0f8ff;}#sk-container-id-2 input.sk-toggleable__control:checked~div.sk-toggleable__content {max-height: 200px;max-width: 100%;overflow: auto;}#sk-container-id-2 input.sk-toggleable__control:checked~label.sk-toggleable__label-arrow:before {content: \"▾\";}#sk-container-id-2 div.sk-estimator input.sk-toggleable__control:checked~label.sk-toggleable__label {background-color: #d4ebff;}#sk-container-id-2 div.sk-label input.sk-toggleable__control:checked~label.sk-toggleable__label {background-color: #d4ebff;}#sk-container-id-2 input.sk-hidden--visually {border: 0;clip: rect(1px 1px 1px 1px);clip: rect(1px, 1px, 1px, 1px);height: 1px;margin: -1px;overflow: hidden;padding: 0;position: absolute;width: 1px;}#sk-container-id-2 div.sk-estimator {font-family: monospace;background-color: #f0f8ff;border: 1px dotted black;border-radius: 0.25em;box-sizing: border-box;margin-bottom: 0.5em;}#sk-container-id-2 div.sk-estimator:hover {background-color: #d4ebff;}#sk-container-id-2 div.sk-parallel-item::after {content: \"\";width: 100%;border-bottom: 1px solid gray;flex-grow: 1;}#sk-container-id-2 div.sk-label:hover label.sk-toggleable__label {background-color: #d4ebff;}#sk-container-id-2 div.sk-serial::before {content: \"\";position: absolute;border-left: 1px solid gray;box-sizing: border-box;top: 0;bottom: 0;left: 50%;z-index: 0;}#sk-container-id-2 div.sk-serial {display: flex;flex-direction: column;align-items: center;background-color: white;padding-right: 0.2em;padding-left: 0.2em;position: relative;}#sk-container-id-2 div.sk-item {position: relative;z-index: 1;}#sk-container-id-2 div.sk-parallel {display: flex;align-items: stretch;justify-content: center;background-color: white;position: relative;}#sk-container-id-2 div.sk-item::before, #sk-container-id-2 div.sk-parallel-item::before {content: \"\";position: absolute;border-left: 1px solid gray;box-sizing: border-box;top: 0;bottom: 0;left: 50%;z-index: -1;}#sk-container-id-2 div.sk-parallel-item {display: flex;flex-direction: column;z-index: 1;position: relative;background-color: white;}#sk-container-id-2 div.sk-parallel-item:first-child::after {align-self: flex-end;width: 50%;}#sk-container-id-2 div.sk-parallel-item:last-child::after {align-self: flex-start;width: 50%;}#sk-container-id-2 div.sk-parallel-item:only-child::after {width: 0;}#sk-container-id-2 div.sk-dashed-wrapped {border: 1px dashed gray;margin: 0 0.4em 0.5em 0.4em;box-sizing: border-box;padding-bottom: 0.4em;background-color: white;}#sk-container-id-2 div.sk-label label {font-family: monospace;font-weight: bold;display: inline-block;line-height: 1.2em;}#sk-container-id-2 div.sk-label-container {text-align: center;}#sk-container-id-2 div.sk-container {/* jupyter's `normalize.less` sets `[hidden] { display: none; }` but bootstrap.min.css set `[hidden] { display: none !important; }` so we also need the `!important` here to be able to override the default hidden behavior on the sphinx rendered scikit-learn.org. See: https://github.com/scikit-learn/scikit-learn/issues/21755 */display: inline-block !important;position: relative;}#sk-container-id-2 div.sk-text-repr-fallback {display: none;}</style><div id=\"sk-container-id-2\" class=\"sk-top-container\"><div class=\"sk-text-repr-fallback\"><pre>LinearSVC()</pre><b>In a Jupyter environment, please rerun this cell to show the HTML representation or trust the notebook. <br />On GitHub, the HTML representation is unable to render, please try loading this page with nbviewer.org.</b></div><div class=\"sk-container\" hidden><div class=\"sk-item\"><div class=\"sk-estimator sk-toggleable\"><input class=\"sk-toggleable__control sk-hidden--visually\" id=\"sk-estimator-id-2\" type=\"checkbox\" checked><label for=\"sk-estimator-id-2\" class=\"sk-toggleable__label sk-toggleable__label-arrow\">LinearSVC</label><div class=\"sk-toggleable__content\"><pre>LinearSVC()</pre></div></div></div></div></div>"
            ]
          },
          "metadata": {},
          "execution_count": 31
        }
      ]
    },
    {
      "cell_type": "markdown",
      "metadata": {
        "id": "wbbyfIDw0t3z"
      },
      "source": [
        "### Resultados obtenidos"
      ]
    },
    {
      "cell_type": "code",
      "metadata": {
        "id": "MCNCd9K00tMW"
      },
      "source": [
        "y_pred = clf.predict(X_test_tranform)"
      ],
      "execution_count": null,
      "outputs": []
    },
    {
      "cell_type": "code",
      "metadata": {
        "id": "N--O8JPa0mjX",
        "colab": {
          "base_uri": "https://localhost:8080/"
        },
        "outputId": "b4e998ff-e37e-4970-b1d6-30fd2bcb8680"
      },
      "source": [
        "print(classification_report(y_test, y_pred))"
      ],
      "execution_count": null,
      "outputs": [
        {
          "output_type": "stream",
          "name": "stdout",
          "text": [
            "              precision    recall  f1-score   support\n",
            "\n",
            "        FAKE       0.87      0.91      0.89       938\n",
            "        REAL       0.91      0.87      0.89       963\n",
            "\n",
            "    accuracy                           0.89      1901\n",
            "   macro avg       0.89      0.89      0.89      1901\n",
            "weighted avg       0.89      0.89      0.89      1901\n",
            "\n"
          ]
        }
      ]
    },
    {
      "cell_type": "code",
      "metadata": {
        "id": "x9IVDeVL03cm",
        "colab": {
          "base_uri": "https://localhost:8080/"
        },
        "outputId": "0eb9a12f-c31d-4df7-ff7a-f8d1f76258e6"
      },
      "source": [
        "print(confusion_matrix(y_test, y_pred))"
      ],
      "execution_count": null,
      "outputs": [
        {
          "output_type": "stream",
          "name": "stdout",
          "text": [
            "[[855  83]\n",
            " [125 838]]\n"
          ]
        }
      ]
    },
    {
      "cell_type": "code",
      "metadata": {
        "id": "e4TYXHHT1A9B",
        "colab": {
          "base_uri": "https://localhost:8080/",
          "height": 542
        },
        "outputId": "addd0985-ac92-42cb-d2b6-77bcdf2589b2"
      },
      "source": [
        "features = pd.DataFrame()\n",
        "features['feature'] = cv.get_feature_names_out()\n",
        "features['importance'] = clf.coef_.flatten()\n",
        "\n",
        "features = features.sort_values(by='importance')\n",
        "\n",
        "features_top_positivas = features[:200]\n",
        "features_top_negativas = features[-200:]\n",
        "\n",
        "px.bar(pd.concat([features_top_negativas, features_top_positivas]).sort_values(by='importance'), x='feature', y='importance')"
      ],
      "execution_count": null,
      "outputs": [
        {
          "output_type": "display_data",
          "data": {
            "text/html": [
              "<html>\n",
              "<head><meta charset=\"utf-8\" /></head>\n",
              "<body>\n",
              "    <div>            <script src=\"https://cdnjs.cloudflare.com/ajax/libs/mathjax/2.7.5/MathJax.js?config=TeX-AMS-MML_SVG\"></script><script type=\"text/javascript\">if (window.MathJax && window.MathJax.Hub && window.MathJax.Hub.Config) {window.MathJax.Hub.Config({SVG: {font: \"STIX-Web\"}});}</script>                <script type=\"text/javascript\">window.PlotlyConfig = {MathJaxConfig: 'local'};</script>\n",
              "        <script charset=\"utf-8\" src=\"https://cdn.plot.ly/plotly-2.24.1.min.js\"></script>                <div id=\"85d6fa75-f05c-4416-bdbf-f3e3e1ea3199\" class=\"plotly-graph-div\" style=\"height:525px; width:100%;\"></div>            <script type=\"text/javascript\">                                    window.PLOTLYENV=window.PLOTLYENV || {};                                    if (document.getElementById(\"85d6fa75-f05c-4416-bdbf-f3e3e1ea3199\")) {                    Plotly.newPlot(                        \"85d6fa75-f05c-4416-bdbf-f3e3e1ea3199\",                        [{\"alignmentgroup\":\"True\",\"hovertemplate\":\"feature=%{x}\\u003cbr\\u003eimportance=%{y}\\u003cextra\\u003e\\u003c\\u002fextra\\u003e\",\"legendgroup\":\"\",\"marker\":{\"color\":\"#636efa\",\"pattern\":{\"shape\":\"\"}},\"name\":\"\",\"offsetgroup\":\"\",\"orientation\":\"v\",\"showlegend\":false,\"textposition\":\"auto\",\"x\":[\"fbi\",\"october\",\"article\",\"0\",\"via\",\"wikileaks\",\"november\",\"share\",\"\\u2018\",\"ayotte\",\"email\",\"2016\",\"podesta\",\"print\",\"according\",\"voting\",\"results\",\"north\",\"source\",\"please\",\"behind\",\"peace\",\"image\",\"see\",\"intelligence\",\"anything\",\"work\",\"position\",\"years\",\"tpp\",\"taking\",\"progressive\",\"showed\",\"major\",\"go\",\"hillary\",\"syria\",\"however\",\"agreement\",\"palestinians\",\"photo\",\"11\\u002f08\\u002f2016\",\"advertisement\",\"financial\",\"full\",\"oct\",\"change\",\"committee\",\"power\",\"rigged\",\"final\",\"posts\",\"investigation\",\"corporate\",\"arrivals\",\"plant\",\"3\",\"effort\",\"senator\",\"officials\",\"5\",\"great\",\"elections\",\"involved\",\"shot\",\"service\",\"poll\",\"wars\",\"hope\",\"jews\",\"joe\",\"wants\",\"account\",\"project\",\"never\",\"biden\",\"26\",\"survey\",\"used\",\"thank\",\"start\",\"another\",\"resolution\",\"council\",\"posted\",\"mean\",\"28\",\"post\",\"building\",\"entire\",\"elected\",\"step\",\"asked\",\"corruption\",\"every\",\"polling\",\"suppression\",\"really\",\"african-americans\",\"1\",\"lie\",\"needs\",\"20\",\"evangelical\",\"open\",\"us\",\"without\",\"6\",\"dr.\",\"following\",\"sign\",\"watch\",\"outlet\",\"published\",\"tweeted\",\"african-american\",\"statement\",\"wins\",\"tom\",\"uk\",\"thanks\",\"although\",\"goldman\",\"lost\",\"july\",\"natural\",\"pay\",\"due\",\"deep\",\"\\u203a\",\"palestinian\",\"incident\",\"society\",\"fact\",\"documents\",\"ford\",\"money\",\"hassan\",\"border\",\"damage\",\"unesco\",\"sources\",\"hampshire\",\"baker\",\"obama\",\"community\",\"send\",\"operation\",\"lady\",\"groups\",\"million\",\"guest\",\"helping\",\"probe\",\"mosul\",\"invitation\",\"stated\",\"give\",\"demand\",\"russia\",\"mainstream\",\"corrupt\",\"planet\",\"8\",\"leaked\",\"rig\",\"billion\",\"today\",\"4\",\"wrote\",\"greatest\",\"un\",\"close\",\"show\",\"newspaper\",\"endorse\",\"free\",\"laura\",\"resources\",\"shall\",\"billionaire\",\"ceta\",\"massive\",\"foreign\",\"completely\",\"coward\",\"achieve\",\"course\",\"less\",\"healthcare\",\"voted\",\"even\",\"technology\",\"decades\",\"single\",\"murphy\",\"pipeline\",\"afp\",\"netanyahu\",\"earlier\",\"voters\",\"donor\",\"paris\",\"president\",\"1973\",\"lot\",\"buzhardt\",\"iranian\",\"know\",\"serious\",\"spring\",\"lead\",\"nbc\",\"macri\",\"rebutting\",\"argentine\",\"mauricio\",\"duckworth\",\"argentinian\",\"rapists\",\"funds\",\"43\",\"tradition\",\"veterans\",\"said\",\"bay\",\"marco\",\"toward\",\"photos\",\"potential\",\"jeff\",\"candidate\",\"finishes\",\"path\",\"guantanamo\",\"investor\",\"killing\",\"tape\",\"catherine\",\"refuses\",\"migrants\",\"\\u2192\",\"richard\",\"rid\",\"tax\",\"harris\",\"greater\",\"abyss\",\"conservative\",\"tammy\",\"notable\",\"masto\",\"cortez\",\"kamala\",\"announcement\",\"mrs.\",\"let\",\"times\",\"announced\",\"commerce\",\"races\",\"wacko\",\"legislation\",\"consideration\",\"--\",\"stuff\",\"spoke\",\"traffickers\",\"disqualified\",\"dallas-based\",\"closely\",\"dems\",\"scott\",\"regain\",\"revelations\",\"secretary\",\"successor\",\"baltimore\",\"top\",\"washburne\",\"saturday\",\"mogul\",\"ray\",\"shown\",\"set\",\"son\",\"michigan\",\"friday\",\"battle\",\"to-do\",\"barack\",\"buildings\",\"\\u002f\\u002ft.co\\u002fwni9lmsppr\",\"avoiding\",\"dismantling\",\"everything\",\"reform\",\"treasury\",\"u.s.\",\"key\",\"b\",\"picks\",\"winning\",\"wrong\",\"learned\",\"politico\",\"meeting\",\"tight\",\"list\",\"recounts\",\"232\",\"challenging\",\"131\",\"pat\",\"pushing\",\"jobs\",\"quotes\",\"2017\",\"plan\",\"drug\",\"struggled\",\"mccrory\",\"tim\",\"pool\",\"infrastructure\",\"grow\",\"trailing\",\"considering\",\"sweeping\",\"talked\",\"avoid\",\"primary\",\"immigration\",\"shortage\",\"sen.\",\"demo\",\"13\",\"scam\",\"obviously\",\"administration\",\"race\",\"protective\",\"large\",\"support\",\"attacks\",\"walker\",\"israel\",\"vast\",\"executives\\u2014but\",\"empire\",\"conflicts\",\"thing\",\"duties\",\"declares\",\"pick\",\"impose\",\"online\",\"platform\",\"campaign\",\"repair\",\"verdict\",\"labor\",\"tuesday\",\"far\",\"comment\",\"tech\",\"trade\",\"breakdown\",\"startups\",\"wisconsin\",\"threatened\",\"graphic\",\"interacted\",\"democrat\",\"tapping\",\"march\",\"emails\",\"tariff\",\"positions\",\"fared\",\"gop\",\"covered\",\"barron\",\"consequences\",\"cabinet\",\"insist\",\"passion\",\"fits\",\"nailing\",\"deal\",\"transition\",\"demolish\",\"parker\",\"exchanges\",\"candidates\",\"ohio\",\"easier\",\"held\",\"continue\",\"rush\"],\"xaxis\":\"x\",\"y\":[-0.2824944711468747,-0.273360969315561,-0.23130238274102935,-0.2308820147363623,-0.23087207426592646,-0.22863831909318902,-0.2275085342157491,-0.22133467231403703,-0.21872344909547425,-0.21540462369959437,-0.20760307185294438,-0.1961975809456102,-0.1879910545379943,-0.17996135265497534,-0.17580250879291975,-0.1734207642667738,-0.1718148420513872,-0.1709022379784545,-0.1706643821196198,-0.16699711314658536,-0.16566926335633028,-0.16468413536780258,-0.1635425935926235,-0.16021008443487428,-0.15795698576825273,-0.15746146117527338,-0.15691281359680934,-0.15689628836897968,-0.15354473129798699,-0.15147798255003506,-0.1507674640846406,-0.14811173633166885,-0.14774632050209657,-0.1465516551558312,-0.1461041489463877,-0.14502040596661703,-0.14475047997231635,-0.14401051555669644,-0.14282167602199977,-0.14259475448115017,-0.14236130603960215,-0.14217158561355608,-0.13996170727260965,-0.1398291878022281,-0.13942357997124935,-0.13934768464213912,-0.13747927027878531,-0.13711599044818576,-0.1370602667964947,-0.1361140949710865,-0.13557521164180864,-0.13553556395357466,-0.13441340472847757,-0.13428448913719943,-0.13333550661652968,-0.1314552498568121,-0.13125607386595883,-0.12951162810395458,-0.12917191993768867,-0.12865057006990513,-0.12854552551437629,-0.12807117412776708,-0.12748420761032164,-0.12717727760704706,-0.12691767877305063,-0.12664042069036396,-0.1257402164265031,-0.12544972891096628,-0.12540037085629746,-0.12489873191007002,-0.12472063590129581,-0.12463863836313227,-0.12459982123528988,-0.12412134606624833,-0.12386450848866865,-0.12361507740035609,-0.12338530158901546,-0.1231071903791801,-0.12300794136137286,-0.12284514812888785,-0.12166647798323516,-0.12071199390572833,-0.11957361691252702,-0.11905447380603479,-0.11867246241825348,-0.11847077502823719,-0.11840812445714477,-0.11818259494646112,-0.1176265573234196,-0.11758037716622527,-0.11715590313598491,-0.11695321273159902,-0.11688386784735695,-0.11617534858566199,-0.11614709353694215,-0.11588695503020016,-0.11493558784660574,-0.11422372867868252,-0.11368723099150044,-0.11317253021005183,-0.11212868333771361,-0.11206375029730317,-0.11085010957821544,-0.11052433740443796,-0.11048690117071566,-0.11046798709391921,-0.11023815353895088,-0.10954755571978163,-0.1094874142389556,-0.1094337353929938,-0.1092335750357497,-0.10823893356426299,-0.10760097497335923,-0.10731466991662587,-0.10640636489950837,-0.10626334604780918,-0.10500131530042299,-0.10443902022429741,-0.1035026649545912,-0.10328415683286193,-0.1031232368721661,-0.10305769436675893,-0.10280683886731044,-0.10239993683712562,-0.10217927290930491,-0.10202599822376181,-0.101498220247865,-0.100944937733327,-0.10062303009359246,-0.10042591748296409,-0.0995073822481535,-0.09941488216465867,-0.0992574744055519,-0.09915025372709839,-0.09902484614151906,-0.09874606051270969,-0.0987178385845833,-0.09836794896174085,-0.09833039015094129,-0.09772888340170999,-0.09763903476840614,-0.09709871053739745,-0.09658478850752525,-0.09630607488655454,-0.09619860203024573,-0.09613221505814593,-0.09582529113195548,-0.09576850083925702,-0.0956725222348092,-0.09562146854356356,-0.0955664077267759,-0.09553179322749943,-0.0954420487650534,-0.0953463412553581,-0.09523426470266452,-0.09498600630316485,-0.09487647209096811,-0.09487204591964661,-0.09408527145172806,-0.0934416093482168,-0.0933180970513012,-0.09263108532668067,-0.09255125032529503,-0.0924700412614669,-0.09178123265072705,-0.09145618588945365,-0.0912067895383648,-0.09119627338790197,-0.09118360316165042,-0.0901716483067614,-0.08999159641063213,-0.08945496954975833,-0.08936388795738169,-0.08916519213412855,-0.08882394469258016,-0.0887153646066601,-0.08853934093947292,-0.08830715206331685,-0.0882701812081422,-0.08776434400968348,-0.0876982906314202,-0.08765200054239997,-0.08751250182957988,-0.087389013343296,-0.08734907364914857,-0.08711938642854701,-0.0867500194557661,-0.08673190841972186,-0.08645118805803723,-0.08620536612457998,-0.08588534131967365,-0.08535059246478724,-0.08517905726113097,-0.08515375714144673,-0.08494752658658163,-0.08490293154456834,-0.0847078395256613,-0.08453303039459059,-0.08447175142817503,-0.0844145774022366,0.14489909587081756,0.1453345401711774,0.14682731966765172,0.14732139245430975,0.14883980378688216,0.14895285581798598,0.14902645272889561,0.15017766735291077,0.15103488657865272,0.15107739629344377,0.15142776671975644,0.1522159880943327,0.15262154078494716,0.15455335235550374,0.15455335235550374,0.15455335235550374,0.15455335235550374,0.15526235577542236,0.15625758723968144,0.15668092569699513,0.1571821555122062,0.15815718288605102,0.15926331024799378,0.15928046998727025,0.1593243766269771,0.15995206591379968,0.16054814988671698,0.16059208187481655,0.1605966178783435,0.16108425555652373,0.16343206357746007,0.16388433132763766,0.16456371851569412,0.1650772419673896,0.16580500048038474,0.16655237296897848,0.1665605748788116,0.16731988596893002,0.16981653149382817,0.17050385820679517,0.1709995331644168,0.17206433025940024,0.17291841829224125,0.17315866934452576,0.17319531933249652,0.17342784763925778,0.1738704357481267,0.17390749091552354,0.17396040339797822,0.17588852509293101,0.1769146099603743,0.17708571903166687,0.17708571903166687,0.17708571903166687,0.17738195593235534,0.17765912099287307,0.17784354787926507,0.17808195407087604,0.17985767280986584,0.17999199249130374,0.1806974431033095,0.18302895728713078,0.1833104912951108,0.18333305671995692,0.18396495431877993,0.1844555073517426,0.18493057155756776,0.1852227536530312,0.18546020753746428,0.18547953745737233,0.18550284231548098,0.18558464545524384,0.18717453068304007,0.18730761019612968,0.18940284146092848,0.1894828204298557,0.18954673660406424,0.18965457775927366,0.18985012303677767,0.1907993501301648,0.19439962509535125,0.19459690890235604,0.1962734088105113,0.19655665499226987,0.1966328187804696,0.19820494706446984,0.20015916210490398,0.20037924751245725,0.20103881547409966,0.20281942543319575,0.20344463565378224,0.20352861371238914,0.20459057763110408,0.20763896879132251,0.20840247644189921,0.20971651727487625,0.21027409885368237,0.21158861184255176,0.21411932103861078,0.21455213942886386,0.21466493008367282,0.21546204343450057,0.21670108331332505,0.2167371348898277,0.2169112984583027,0.21770997140651047,0.21838955014484776,0.22165592066246984,0.2244820713516585,0.22457062145237144,0.226025459274213,0.22628628208570908,0.22636316664783343,0.22717742532844273,0.2274847014312877,0.23047774384229244,0.2316255152457672,0.23473282121229616,0.23488266887621248,0.23610246527574175,0.23662905770008097,0.23669897828871606,0.23910215219260023,0.24369985690999021,0.24371506702154755,0.24419463108815953,0.24575929705002436,0.24591020269854477,0.2473223104406114,0.24771016576148264,0.24887978008610573,0.24928982214767245,0.25010370960168726,0.25029934942740534,0.25068819888677163,0.25105595768339256,0.2532913201055613,0.2535220053023934,0.25478351371106406,0.25866965851475676,0.26074672517615577,0.2670712626888987,0.26856140288772756,0.26946669851923444,0.2726465335481989,0.27400005126850213,0.27659606724977465,0.27690200048465885,0.27856121826002866,0.2785915290791889,0.280317784298371,0.2804458478306129,0.28153383083890593,0.2818058929287723,0.28232736900059835,0.28395458952966435,0.2840139357204014,0.29465225902587766,0.2952179484046547,0.29609622047235057,0.29749253287718497,0.29756139110727775,0.2978362735631282,0.2989025884791421,0.2997652604070073,0.3014649389203741,0.30352480038493435,0.30696765759752465,0.309786627873012,0.31125332466579864,0.311448339880495,0.3127690978302311,0.313192291585602,0.3144930810556713,0.3150558290341848,0.31558851676774363,0.31795324422998167,0.31862679184206755,0.32131830631003855,0.3221358538624595,0.3291262535625935,0.32990431649731666,0.33337877349829265,0.3421353062015285,0.35081981161401316,0.35355740726298096,0.3643517523148751,0.3659364819947037,0.37594887003057714,0.39329540069748076,0.3972530224496399,0.3981714499250642,0.40807838594339946,0.4206837458692526,0.4495067584671373,0.4521375399180226,0.45864525481289126,0.48208011232115827,0.5746133835406192,0.6023116606313892],\"yaxis\":\"y\",\"type\":\"bar\"}],                        {\"template\":{\"data\":{\"histogram2dcontour\":[{\"type\":\"histogram2dcontour\",\"colorbar\":{\"outlinewidth\":0,\"ticks\":\"\"},\"colorscale\":[[0.0,\"#0d0887\"],[0.1111111111111111,\"#46039f\"],[0.2222222222222222,\"#7201a8\"],[0.3333333333333333,\"#9c179e\"],[0.4444444444444444,\"#bd3786\"],[0.5555555555555556,\"#d8576b\"],[0.6666666666666666,\"#ed7953\"],[0.7777777777777778,\"#fb9f3a\"],[0.8888888888888888,\"#fdca26\"],[1.0,\"#f0f921\"]]}],\"choropleth\":[{\"type\":\"choropleth\",\"colorbar\":{\"outlinewidth\":0,\"ticks\":\"\"}}],\"histogram2d\":[{\"type\":\"histogram2d\",\"colorbar\":{\"outlinewidth\":0,\"ticks\":\"\"},\"colorscale\":[[0.0,\"#0d0887\"],[0.1111111111111111,\"#46039f\"],[0.2222222222222222,\"#7201a8\"],[0.3333333333333333,\"#9c179e\"],[0.4444444444444444,\"#bd3786\"],[0.5555555555555556,\"#d8576b\"],[0.6666666666666666,\"#ed7953\"],[0.7777777777777778,\"#fb9f3a\"],[0.8888888888888888,\"#fdca26\"],[1.0,\"#f0f921\"]]}],\"heatmap\":[{\"type\":\"heatmap\",\"colorbar\":{\"outlinewidth\":0,\"ticks\":\"\"},\"colorscale\":[[0.0,\"#0d0887\"],[0.1111111111111111,\"#46039f\"],[0.2222222222222222,\"#7201a8\"],[0.3333333333333333,\"#9c179e\"],[0.4444444444444444,\"#bd3786\"],[0.5555555555555556,\"#d8576b\"],[0.6666666666666666,\"#ed7953\"],[0.7777777777777778,\"#fb9f3a\"],[0.8888888888888888,\"#fdca26\"],[1.0,\"#f0f921\"]]}],\"heatmapgl\":[{\"type\":\"heatmapgl\",\"colorbar\":{\"outlinewidth\":0,\"ticks\":\"\"},\"colorscale\":[[0.0,\"#0d0887\"],[0.1111111111111111,\"#46039f\"],[0.2222222222222222,\"#7201a8\"],[0.3333333333333333,\"#9c179e\"],[0.4444444444444444,\"#bd3786\"],[0.5555555555555556,\"#d8576b\"],[0.6666666666666666,\"#ed7953\"],[0.7777777777777778,\"#fb9f3a\"],[0.8888888888888888,\"#fdca26\"],[1.0,\"#f0f921\"]]}],\"contourcarpet\":[{\"type\":\"contourcarpet\",\"colorbar\":{\"outlinewidth\":0,\"ticks\":\"\"}}],\"contour\":[{\"type\":\"contour\",\"colorbar\":{\"outlinewidth\":0,\"ticks\":\"\"},\"colorscale\":[[0.0,\"#0d0887\"],[0.1111111111111111,\"#46039f\"],[0.2222222222222222,\"#7201a8\"],[0.3333333333333333,\"#9c179e\"],[0.4444444444444444,\"#bd3786\"],[0.5555555555555556,\"#d8576b\"],[0.6666666666666666,\"#ed7953\"],[0.7777777777777778,\"#fb9f3a\"],[0.8888888888888888,\"#fdca26\"],[1.0,\"#f0f921\"]]}],\"surface\":[{\"type\":\"surface\",\"colorbar\":{\"outlinewidth\":0,\"ticks\":\"\"},\"colorscale\":[[0.0,\"#0d0887\"],[0.1111111111111111,\"#46039f\"],[0.2222222222222222,\"#7201a8\"],[0.3333333333333333,\"#9c179e\"],[0.4444444444444444,\"#bd3786\"],[0.5555555555555556,\"#d8576b\"],[0.6666666666666666,\"#ed7953\"],[0.7777777777777778,\"#fb9f3a\"],[0.8888888888888888,\"#fdca26\"],[1.0,\"#f0f921\"]]}],\"mesh3d\":[{\"type\":\"mesh3d\",\"colorbar\":{\"outlinewidth\":0,\"ticks\":\"\"}}],\"scatter\":[{\"fillpattern\":{\"fillmode\":\"overlay\",\"size\":10,\"solidity\":0.2},\"type\":\"scatter\"}],\"parcoords\":[{\"type\":\"parcoords\",\"line\":{\"colorbar\":{\"outlinewidth\":0,\"ticks\":\"\"}}}],\"scatterpolargl\":[{\"type\":\"scatterpolargl\",\"marker\":{\"colorbar\":{\"outlinewidth\":0,\"ticks\":\"\"}}}],\"bar\":[{\"error_x\":{\"color\":\"#2a3f5f\"},\"error_y\":{\"color\":\"#2a3f5f\"},\"marker\":{\"line\":{\"color\":\"#E5ECF6\",\"width\":0.5},\"pattern\":{\"fillmode\":\"overlay\",\"size\":10,\"solidity\":0.2}},\"type\":\"bar\"}],\"scattergeo\":[{\"type\":\"scattergeo\",\"marker\":{\"colorbar\":{\"outlinewidth\":0,\"ticks\":\"\"}}}],\"scatterpolar\":[{\"type\":\"scatterpolar\",\"marker\":{\"colorbar\":{\"outlinewidth\":0,\"ticks\":\"\"}}}],\"histogram\":[{\"marker\":{\"pattern\":{\"fillmode\":\"overlay\",\"size\":10,\"solidity\":0.2}},\"type\":\"histogram\"}],\"scattergl\":[{\"type\":\"scattergl\",\"marker\":{\"colorbar\":{\"outlinewidth\":0,\"ticks\":\"\"}}}],\"scatter3d\":[{\"type\":\"scatter3d\",\"line\":{\"colorbar\":{\"outlinewidth\":0,\"ticks\":\"\"}},\"marker\":{\"colorbar\":{\"outlinewidth\":0,\"ticks\":\"\"}}}],\"scattermapbox\":[{\"type\":\"scattermapbox\",\"marker\":{\"colorbar\":{\"outlinewidth\":0,\"ticks\":\"\"}}}],\"scatterternary\":[{\"type\":\"scatterternary\",\"marker\":{\"colorbar\":{\"outlinewidth\":0,\"ticks\":\"\"}}}],\"scattercarpet\":[{\"type\":\"scattercarpet\",\"marker\":{\"colorbar\":{\"outlinewidth\":0,\"ticks\":\"\"}}}],\"carpet\":[{\"aaxis\":{\"endlinecolor\":\"#2a3f5f\",\"gridcolor\":\"white\",\"linecolor\":\"white\",\"minorgridcolor\":\"white\",\"startlinecolor\":\"#2a3f5f\"},\"baxis\":{\"endlinecolor\":\"#2a3f5f\",\"gridcolor\":\"white\",\"linecolor\":\"white\",\"minorgridcolor\":\"white\",\"startlinecolor\":\"#2a3f5f\"},\"type\":\"carpet\"}],\"table\":[{\"cells\":{\"fill\":{\"color\":\"#EBF0F8\"},\"line\":{\"color\":\"white\"}},\"header\":{\"fill\":{\"color\":\"#C8D4E3\"},\"line\":{\"color\":\"white\"}},\"type\":\"table\"}],\"barpolar\":[{\"marker\":{\"line\":{\"color\":\"#E5ECF6\",\"width\":0.5},\"pattern\":{\"fillmode\":\"overlay\",\"size\":10,\"solidity\":0.2}},\"type\":\"barpolar\"}],\"pie\":[{\"automargin\":true,\"type\":\"pie\"}]},\"layout\":{\"autotypenumbers\":\"strict\",\"colorway\":[\"#636efa\",\"#EF553B\",\"#00cc96\",\"#ab63fa\",\"#FFA15A\",\"#19d3f3\",\"#FF6692\",\"#B6E880\",\"#FF97FF\",\"#FECB52\"],\"font\":{\"color\":\"#2a3f5f\"},\"hovermode\":\"closest\",\"hoverlabel\":{\"align\":\"left\"},\"paper_bgcolor\":\"white\",\"plot_bgcolor\":\"#E5ECF6\",\"polar\":{\"bgcolor\":\"#E5ECF6\",\"angularaxis\":{\"gridcolor\":\"white\",\"linecolor\":\"white\",\"ticks\":\"\"},\"radialaxis\":{\"gridcolor\":\"white\",\"linecolor\":\"white\",\"ticks\":\"\"}},\"ternary\":{\"bgcolor\":\"#E5ECF6\",\"aaxis\":{\"gridcolor\":\"white\",\"linecolor\":\"white\",\"ticks\":\"\"},\"baxis\":{\"gridcolor\":\"white\",\"linecolor\":\"white\",\"ticks\":\"\"},\"caxis\":{\"gridcolor\":\"white\",\"linecolor\":\"white\",\"ticks\":\"\"}},\"coloraxis\":{\"colorbar\":{\"outlinewidth\":0,\"ticks\":\"\"}},\"colorscale\":{\"sequential\":[[0.0,\"#0d0887\"],[0.1111111111111111,\"#46039f\"],[0.2222222222222222,\"#7201a8\"],[0.3333333333333333,\"#9c179e\"],[0.4444444444444444,\"#bd3786\"],[0.5555555555555556,\"#d8576b\"],[0.6666666666666666,\"#ed7953\"],[0.7777777777777778,\"#fb9f3a\"],[0.8888888888888888,\"#fdca26\"],[1.0,\"#f0f921\"]],\"sequentialminus\":[[0.0,\"#0d0887\"],[0.1111111111111111,\"#46039f\"],[0.2222222222222222,\"#7201a8\"],[0.3333333333333333,\"#9c179e\"],[0.4444444444444444,\"#bd3786\"],[0.5555555555555556,\"#d8576b\"],[0.6666666666666666,\"#ed7953\"],[0.7777777777777778,\"#fb9f3a\"],[0.8888888888888888,\"#fdca26\"],[1.0,\"#f0f921\"]],\"diverging\":[[0,\"#8e0152\"],[0.1,\"#c51b7d\"],[0.2,\"#de77ae\"],[0.3,\"#f1b6da\"],[0.4,\"#fde0ef\"],[0.5,\"#f7f7f7\"],[0.6,\"#e6f5d0\"],[0.7,\"#b8e186\"],[0.8,\"#7fbc41\"],[0.9,\"#4d9221\"],[1,\"#276419\"]]},\"xaxis\":{\"gridcolor\":\"white\",\"linecolor\":\"white\",\"ticks\":\"\",\"title\":{\"standoff\":15},\"zerolinecolor\":\"white\",\"automargin\":true,\"zerolinewidth\":2},\"yaxis\":{\"gridcolor\":\"white\",\"linecolor\":\"white\",\"ticks\":\"\",\"title\":{\"standoff\":15},\"zerolinecolor\":\"white\",\"automargin\":true,\"zerolinewidth\":2},\"scene\":{\"xaxis\":{\"backgroundcolor\":\"#E5ECF6\",\"gridcolor\":\"white\",\"linecolor\":\"white\",\"showbackground\":true,\"ticks\":\"\",\"zerolinecolor\":\"white\",\"gridwidth\":2},\"yaxis\":{\"backgroundcolor\":\"#E5ECF6\",\"gridcolor\":\"white\",\"linecolor\":\"white\",\"showbackground\":true,\"ticks\":\"\",\"zerolinecolor\":\"white\",\"gridwidth\":2},\"zaxis\":{\"backgroundcolor\":\"#E5ECF6\",\"gridcolor\":\"white\",\"linecolor\":\"white\",\"showbackground\":true,\"ticks\":\"\",\"zerolinecolor\":\"white\",\"gridwidth\":2}},\"shapedefaults\":{\"line\":{\"color\":\"#2a3f5f\"}},\"annotationdefaults\":{\"arrowcolor\":\"#2a3f5f\",\"arrowhead\":0,\"arrowwidth\":1},\"geo\":{\"bgcolor\":\"white\",\"landcolor\":\"#E5ECF6\",\"subunitcolor\":\"white\",\"showland\":true,\"showlakes\":true,\"lakecolor\":\"white\"},\"title\":{\"x\":0.05},\"mapbox\":{\"style\":\"light\"}}},\"xaxis\":{\"anchor\":\"y\",\"domain\":[0.0,1.0],\"title\":{\"text\":\"feature\"}},\"yaxis\":{\"anchor\":\"x\",\"domain\":[0.0,1.0],\"title\":{\"text\":\"importance\"}},\"legend\":{\"tracegroupgap\":0},\"margin\":{\"t\":60},\"barmode\":\"relative\"},                        {\"responsive\": true}                    ).then(function(){\n",
              "                            \n",
              "var gd = document.getElementById('85d6fa75-f05c-4416-bdbf-f3e3e1ea3199');\n",
              "var x = new MutationObserver(function (mutations, observer) {{\n",
              "        var display = window.getComputedStyle(gd).display;\n",
              "        if (!display || display === 'none') {{\n",
              "            console.log([gd, 'removed!']);\n",
              "            Plotly.purge(gd);\n",
              "            observer.disconnect();\n",
              "        }}\n",
              "}});\n",
              "\n",
              "// Listen for the removal of the full notebook cells\n",
              "var notebookContainer = gd.closest('#notebook-container');\n",
              "if (notebookContainer) {{\n",
              "    x.observe(notebookContainer, {childList: true});\n",
              "}}\n",
              "\n",
              "// Listen for the clearing of the current output cell\n",
              "var outputEl = gd.closest('.output');\n",
              "if (outputEl) {{\n",
              "    x.observe(outputEl, {childList: true});\n",
              "}}\n",
              "\n",
              "                        })                };                            </script>        </div>\n",
              "</body>\n",
              "</html>"
            ]
          },
          "metadata": {}
        }
      ]
    },
    {
      "cell_type": "markdown",
      "metadata": {
        "id": "VCJTK3my1RIh"
      },
      "source": [
        "## Modelo RandomForest\n"
      ]
    },
    {
      "cell_type": "code",
      "metadata": {
        "id": "e4bcQiRi1Xih",
        "colab": {
          "base_uri": "https://localhost:8080/",
          "height": 75
        },
        "outputId": "6be43f59-a6fc-4bd1-8b03-7868b7850399"
      },
      "source": [
        "from sklearn.ensemble import RandomForestClassifier\n",
        "clf = RandomForestClassifier()\n",
        "clf.fit(X_train_transform, y_train)"
      ],
      "execution_count": null,
      "outputs": [
        {
          "output_type": "execute_result",
          "data": {
            "text/plain": [
              "RandomForestClassifier()"
            ],
            "text/html": [
              "<style>#sk-container-id-3 {color: black;background-color: white;}#sk-container-id-3 pre{padding: 0;}#sk-container-id-3 div.sk-toggleable {background-color: white;}#sk-container-id-3 label.sk-toggleable__label {cursor: pointer;display: block;width: 100%;margin-bottom: 0;padding: 0.3em;box-sizing: border-box;text-align: center;}#sk-container-id-3 label.sk-toggleable__label-arrow:before {content: \"▸\";float: left;margin-right: 0.25em;color: #696969;}#sk-container-id-3 label.sk-toggleable__label-arrow:hover:before {color: black;}#sk-container-id-3 div.sk-estimator:hover label.sk-toggleable__label-arrow:before {color: black;}#sk-container-id-3 div.sk-toggleable__content {max-height: 0;max-width: 0;overflow: hidden;text-align: left;background-color: #f0f8ff;}#sk-container-id-3 div.sk-toggleable__content pre {margin: 0.2em;color: black;border-radius: 0.25em;background-color: #f0f8ff;}#sk-container-id-3 input.sk-toggleable__control:checked~div.sk-toggleable__content {max-height: 200px;max-width: 100%;overflow: auto;}#sk-container-id-3 input.sk-toggleable__control:checked~label.sk-toggleable__label-arrow:before {content: \"▾\";}#sk-container-id-3 div.sk-estimator input.sk-toggleable__control:checked~label.sk-toggleable__label {background-color: #d4ebff;}#sk-container-id-3 div.sk-label input.sk-toggleable__control:checked~label.sk-toggleable__label {background-color: #d4ebff;}#sk-container-id-3 input.sk-hidden--visually {border: 0;clip: rect(1px 1px 1px 1px);clip: rect(1px, 1px, 1px, 1px);height: 1px;margin: -1px;overflow: hidden;padding: 0;position: absolute;width: 1px;}#sk-container-id-3 div.sk-estimator {font-family: monospace;background-color: #f0f8ff;border: 1px dotted black;border-radius: 0.25em;box-sizing: border-box;margin-bottom: 0.5em;}#sk-container-id-3 div.sk-estimator:hover {background-color: #d4ebff;}#sk-container-id-3 div.sk-parallel-item::after {content: \"\";width: 100%;border-bottom: 1px solid gray;flex-grow: 1;}#sk-container-id-3 div.sk-label:hover label.sk-toggleable__label {background-color: #d4ebff;}#sk-container-id-3 div.sk-serial::before {content: \"\";position: absolute;border-left: 1px solid gray;box-sizing: border-box;top: 0;bottom: 0;left: 50%;z-index: 0;}#sk-container-id-3 div.sk-serial {display: flex;flex-direction: column;align-items: center;background-color: white;padding-right: 0.2em;padding-left: 0.2em;position: relative;}#sk-container-id-3 div.sk-item {position: relative;z-index: 1;}#sk-container-id-3 div.sk-parallel {display: flex;align-items: stretch;justify-content: center;background-color: white;position: relative;}#sk-container-id-3 div.sk-item::before, #sk-container-id-3 div.sk-parallel-item::before {content: \"\";position: absolute;border-left: 1px solid gray;box-sizing: border-box;top: 0;bottom: 0;left: 50%;z-index: -1;}#sk-container-id-3 div.sk-parallel-item {display: flex;flex-direction: column;z-index: 1;position: relative;background-color: white;}#sk-container-id-3 div.sk-parallel-item:first-child::after {align-self: flex-end;width: 50%;}#sk-container-id-3 div.sk-parallel-item:last-child::after {align-self: flex-start;width: 50%;}#sk-container-id-3 div.sk-parallel-item:only-child::after {width: 0;}#sk-container-id-3 div.sk-dashed-wrapped {border: 1px dashed gray;margin: 0 0.4em 0.5em 0.4em;box-sizing: border-box;padding-bottom: 0.4em;background-color: white;}#sk-container-id-3 div.sk-label label {font-family: monospace;font-weight: bold;display: inline-block;line-height: 1.2em;}#sk-container-id-3 div.sk-label-container {text-align: center;}#sk-container-id-3 div.sk-container {/* jupyter's `normalize.less` sets `[hidden] { display: none; }` but bootstrap.min.css set `[hidden] { display: none !important; }` so we also need the `!important` here to be able to override the default hidden behavior on the sphinx rendered scikit-learn.org. See: https://github.com/scikit-learn/scikit-learn/issues/21755 */display: inline-block !important;position: relative;}#sk-container-id-3 div.sk-text-repr-fallback {display: none;}</style><div id=\"sk-container-id-3\" class=\"sk-top-container\"><div class=\"sk-text-repr-fallback\"><pre>RandomForestClassifier()</pre><b>In a Jupyter environment, please rerun this cell to show the HTML representation or trust the notebook. <br />On GitHub, the HTML representation is unable to render, please try loading this page with nbviewer.org.</b></div><div class=\"sk-container\" hidden><div class=\"sk-item\"><div class=\"sk-estimator sk-toggleable\"><input class=\"sk-toggleable__control sk-hidden--visually\" id=\"sk-estimator-id-3\" type=\"checkbox\" checked><label for=\"sk-estimator-id-3\" class=\"sk-toggleable__label sk-toggleable__label-arrow\">RandomForestClassifier</label><div class=\"sk-toggleable__content\"><pre>RandomForestClassifier()</pre></div></div></div></div></div>"
            ]
          },
          "metadata": {},
          "execution_count": 36
        }
      ]
    },
    {
      "cell_type": "markdown",
      "metadata": {
        "id": "pgMvEbEk1psp"
      },
      "source": [
        "### Resultados obtenidos"
      ]
    },
    {
      "cell_type": "code",
      "metadata": {
        "id": "4KjhhqjS11LW"
      },
      "source": [
        "y_pred = clf.predict(X_test_tranform)"
      ],
      "execution_count": null,
      "outputs": []
    },
    {
      "cell_type": "code",
      "metadata": {
        "id": "_8hdSxvz14MU",
        "colab": {
          "base_uri": "https://localhost:8080/"
        },
        "outputId": "ac704b15-68ab-47c0-a5d7-df66441eee48"
      },
      "source": [
        "print(classification_report(y_test, y_pred))"
      ],
      "execution_count": null,
      "outputs": [
        {
          "output_type": "stream",
          "name": "stdout",
          "text": [
            "              precision    recall  f1-score   support\n",
            "\n",
            "        FAKE       0.90      0.92      0.91       938\n",
            "        REAL       0.92      0.90      0.91       963\n",
            "\n",
            "    accuracy                           0.91      1901\n",
            "   macro avg       0.91      0.91      0.91      1901\n",
            "weighted avg       0.91      0.91      0.91      1901\n",
            "\n"
          ]
        }
      ]
    },
    {
      "cell_type": "markdown",
      "metadata": {
        "id": "jvgwTt4GLHEq"
      },
      "source": [
        "## Posibles cambios\n",
        "* Entrenar con lematizador o Stemmer\n",
        "* Buscar los hiperónimo de cada palabra\n",
        "* Eliminar símbolos, numeros, tildes, ñ o caracteres inválidos\n",
        "* Entrenar diferentes tipos de modelos -> SVM, Naive Bayes, regresión logística\n",
        "* Cross validation\n",
        "* Incluir Bigramas y Trigramas\n",
        "* Explorar técnicas para reducción de dimensionalidad y seleccion de features\n",
        "* Regularizacion\n",
        "* Vectorizacion de tokens con TF-IDF\n"
      ]
    }
  ]
}