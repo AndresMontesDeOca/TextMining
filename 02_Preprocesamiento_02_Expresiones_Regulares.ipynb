{
  "cells": [
    {
      "cell_type": "markdown",
      "metadata": {
        "id": "view-in-github",
        "colab_type": "text"
      },
      "source": [
        "<a href=\"https://colab.research.google.com/github/AndresMontesDeOca/TextMining/blob/main/02_Preprocesamiento_02_Expresiones_Regulares.ipynb\" target=\"_parent\"><img src=\"https://colab.research.google.com/assets/colab-badge.svg\" alt=\"Open In Colab\"/></a>"
      ]
    },
    {
      "cell_type": "markdown",
      "metadata": {
        "id": "ZM_uPOl_M6GJ"
      },
      "source": [
        "# Expresiones Regulares"
      ]
    },
    {
      "cell_type": "markdown",
      "metadata": {
        "id": "TXwVpjrFM6GL"
      },
      "source": [
        "#### Ejemplos extraidos de la la página oficial de python y w3school"
      ]
    },
    {
      "cell_type": "code",
      "execution_count": 1,
      "metadata": {
        "id": "yCSC38aFM6GM"
      },
      "outputs": [],
      "source": [
        "import re"
      ]
    },
    {
      "cell_type": "code",
      "execution_count": 2,
      "metadata": {
        "id": "9vdFOQtIM6GM"
      },
      "outputs": [],
      "source": [
        "p = re.compile('[a-z]+')"
      ]
    },
    {
      "cell_type": "code",
      "execution_count": 3,
      "metadata": {
        "id": "9uULYubGM6GN",
        "outputId": "3e211efc-1e5e-4db8-cb1b-9512b9e18b10",
        "colab": {
          "base_uri": "https://localhost:8080/"
        }
      },
      "outputs": [
        {
          "output_type": "stream",
          "name": "stdout",
          "text": [
            "None\n"
          ]
        }
      ],
      "source": [
        "print(p.match(\"\"))"
      ]
    },
    {
      "cell_type": "code",
      "execution_count": 4,
      "metadata": {
        "id": "lFZdcwYjM6GO"
      },
      "outputs": [],
      "source": [
        "m = p.match('tempo')"
      ]
    },
    {
      "cell_type": "code",
      "execution_count": 5,
      "metadata": {
        "id": "dR88Y9FYM6GP",
        "outputId": "2d43b5ec-f197-4e14-c3ad-3f3a8f49dffd",
        "colab": {
          "base_uri": "https://localhost:8080/"
        }
      },
      "outputs": [
        {
          "output_type": "execute_result",
          "data": {
            "text/plain": [
              "<re.Match object; span=(0, 5), match='tempo'>"
            ]
          },
          "metadata": {},
          "execution_count": 5
        }
      ],
      "source": [
        "m"
      ]
    },
    {
      "cell_type": "code",
      "execution_count": 6,
      "metadata": {
        "id": "n01S7AiCM6GQ",
        "outputId": "d80d3724-21b9-47c1-ed1f-9b2f6f7cfb65",
        "colab": {
          "base_uri": "https://localhost:8080/",
          "height": 36
        }
      },
      "outputs": [
        {
          "output_type": "execute_result",
          "data": {
            "text/plain": [
              "'tempo'"
            ],
            "application/vnd.google.colaboratory.intrinsic+json": {
              "type": "string"
            }
          },
          "metadata": {},
          "execution_count": 6
        }
      ],
      "source": [
        "m.group()"
      ]
    },
    {
      "cell_type": "code",
      "execution_count": 9,
      "metadata": {
        "id": "WqUNrpwQM6GQ"
      },
      "outputs": [],
      "source": [
        "txt = \"The rain in Spain\"\n",
        "x = re.search(\"^The.*Spain$\", txt)"
      ]
    },
    {
      "cell_type": "code",
      "execution_count": 10,
      "metadata": {
        "id": "VFmb1mzZM6GQ",
        "outputId": "6134b3ad-2855-45bc-bb47-bef50dcf2d0c",
        "colab": {
          "base_uri": "https://localhost:8080/"
        }
      },
      "outputs": [
        {
          "output_type": "execute_result",
          "data": {
            "text/plain": [
              "<re.Match object; span=(0, 17), match='The rain in Spain'>"
            ]
          },
          "metadata": {},
          "execution_count": 10
        }
      ],
      "source": [
        "x"
      ]
    },
    {
      "cell_type": "code",
      "execution_count": 11,
      "metadata": {
        "id": "qXhmfOYzM6GR",
        "outputId": "01e101fc-a194-49e0-da33-59822dc75c85",
        "colab": {
          "base_uri": "https://localhost:8080/",
          "height": 36
        }
      },
      "outputs": [
        {
          "output_type": "execute_result",
          "data": {
            "text/plain": [
              "'The rain in Spain'"
            ],
            "application/vnd.google.colaboratory.intrinsic+json": {
              "type": "string"
            }
          },
          "metadata": {},
          "execution_count": 11
        }
      ],
      "source": [
        "x.group()"
      ]
    },
    {
      "cell_type": "code",
      "execution_count": 12,
      "metadata": {
        "id": "xAJ419jHM6GR"
      },
      "outputs": [],
      "source": [
        "p = re.compile(r'\\d+')"
      ]
    },
    {
      "cell_type": "code",
      "execution_count": 13,
      "metadata": {
        "id": "A2bAIUK0M6GR",
        "outputId": "7a79de62-4a45-4f69-dbf7-123e6f4bf1f6",
        "colab": {
          "base_uri": "https://localhost:8080/"
        }
      },
      "outputs": [
        {
          "output_type": "execute_result",
          "data": {
            "text/plain": [
              "['12', '11', '10']"
            ]
          },
          "metadata": {},
          "execution_count": 13
        }
      ],
      "source": [
        "p.findall('12 drummers drumming, 11 pipers piping, 10 lords a-leaping')"
      ]
    },
    {
      "cell_type": "code",
      "execution_count": 23,
      "metadata": {
        "id": "crxsxnd2M6GR"
      },
      "outputs": [],
      "source": [
        "iterator = p.finditer('12 drummers drumming, 11 ... 10 ...')"
      ]
    },
    {
      "cell_type": "code",
      "execution_count": 24,
      "metadata": {
        "id": "dg7kUExiM6GR",
        "outputId": "a570d78c-3e99-462c-8753-7aba593ea98c",
        "colab": {
          "base_uri": "https://localhost:8080/"
        }
      },
      "outputs": [
        {
          "output_type": "stream",
          "name": "stdout",
          "text": [
            "<re.Match object; span=(0, 2), match='12'>\n",
            "<re.Match object; span=(22, 24), match='11'>\n",
            "<re.Match object; span=(29, 31), match='10'>\n"
          ]
        }
      ],
      "source": [
        "for match in iterator:\n",
        "    # print(match.span())\n",
        "    print(match)"
      ]
    },
    {
      "cell_type": "markdown",
      "metadata": {
        "id": "9YAQpIKKM6GR"
      },
      "source": [
        "#### Caracteres de macheo"
      ]
    },
    {
      "cell_type": "markdown",
      "metadata": {
        "id": "d6Vo6oulM6GS"
      },
      "source": [
        ". ^ $ * + ? { } [ ] \\ | ( )"
      ]
    },
    {
      "cell_type": "markdown",
      "metadata": {
        "id": "Cl2D9RoYM6GS"
      },
      "source": [
        "\\d: Matches any decimal digit; this is equivalent to the class [0-9].\n",
        "\n",
        "\\D: Matches any non-digit character; this is equivalent to the class [^0-9].\n",
        "\n",
        "\\s: Matches any whitespace character; this is equivalent to the class [ \\t\\n\\r\\f\\v].\n",
        "\n",
        "\\S: Matches any non-whitespace character; this is equivalent to the class [^ \\t\\n\\r\\f\\v].\n",
        "\n",
        "\\w: Matches any alphanumeric character; this is equivalent to the class [a-zA-Z0-9_].\n",
        "\n",
        "\\W: Matches any non-alphanumeric character; this is equivalent to the class [^a-zA-Z0-9_]."
      ]
    },
    {
      "cell_type": "markdown",
      "metadata": {
        "id": "SAV7NhHOM6GS"
      },
      "source": [
        "![resumen](https://github.com/AndresMontesDeOca/TextMining/blob/main/img/re.png?raw=1)"
      ]
    },
    {
      "cell_type": "code",
      "execution_count": 15,
      "metadata": {
        "id": "czFSg_ZtM6GS"
      },
      "outputs": [],
      "source": []
    }
  ],
  "metadata": {
    "kernelspec": {
      "display_name": "MlLab",
      "language": "python",
      "name": "mllab"
    },
    "language_info": {
      "codemirror_mode": {
        "name": "ipython",
        "version": 3
      },
      "file_extension": ".py",
      "mimetype": "text/x-python",
      "name": "python",
      "nbconvert_exporter": "python",
      "pygments_lexer": "ipython3",
      "version": "3.9.12"
    },
    "colab": {
      "provenance": [],
      "include_colab_link": true
    }
  },
  "nbformat": 4,
  "nbformat_minor": 0
}