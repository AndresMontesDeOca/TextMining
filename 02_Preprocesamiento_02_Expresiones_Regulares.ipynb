{
  "cells": [
    {
      "cell_type": "markdown",
      "metadata": {
        "id": "view-in-github",
        "colab_type": "text"
      },
      "source": [
        "<a href=\"https://colab.research.google.com/github/AndresMontesDeOca/TextMining/blob/main/02_Preprocesamiento_02_Expresiones_Regulares.ipynb\" target=\"_parent\"><img src=\"https://colab.research.google.com/assets/colab-badge.svg\" alt=\"Open In Colab\"/></a>"
      ]
    },
    {
      "cell_type": "markdown",
      "metadata": {
        "id": "ZM_uPOl_M6GJ"
      },
      "source": [
        "# Expresiones Regulares"
      ]
    },
    {
      "cell_type": "markdown",
      "metadata": {
        "id": "TXwVpjrFM6GL"
      },
      "source": [
        "#### Ejemplos extraidos de la la página oficial de python y w3school"
      ]
    },
    {
      "cell_type": "code",
      "execution_count": null,
      "metadata": {
        "id": "yCSC38aFM6GM"
      },
      "outputs": [],
      "source": [
        "import re"
      ]
    },
    {
      "cell_type": "code",
      "execution_count": null,
      "metadata": {
        "id": "9vdFOQtIM6GM"
      },
      "outputs": [],
      "source": [
        "p = re.compile('[a-z]+')"
      ]
    },
    {
      "cell_type": "code",
      "execution_count": null,
      "metadata": {
        "id": "9uULYubGM6GN",
        "outputId": "dd9ef359-6283-4a11-ecee-646597784e53"
      },
      "outputs": [
        {
          "name": "stdout",
          "output_type": "stream",
          "text": [
            "None\n"
          ]
        }
      ],
      "source": [
        "print(p.match(\"\"))"
      ]
    },
    {
      "cell_type": "code",
      "execution_count": null,
      "metadata": {
        "id": "lFZdcwYjM6GO"
      },
      "outputs": [],
      "source": [
        "m = p.match('tempo')"
      ]
    },
    {
      "cell_type": "code",
      "execution_count": null,
      "metadata": {
        "id": "dR88Y9FYM6GP",
        "outputId": "59169372-7fc7-4d79-a6c3-a9346b76a988"
      },
      "outputs": [
        {
          "data": {
            "text/plain": [
              "<re.Match object; span=(0, 5), match='tempo'>"
            ]
          },
          "execution_count": 5,
          "metadata": {},
          "output_type": "execute_result"
        }
      ],
      "source": [
        "m"
      ]
    },
    {
      "cell_type": "code",
      "execution_count": null,
      "metadata": {
        "id": "n01S7AiCM6GQ",
        "outputId": "808cb508-b460-48f4-c040-62ed62bf5335"
      },
      "outputs": [
        {
          "data": {
            "text/plain": [
              "'tempo'"
            ]
          },
          "execution_count": 6,
          "metadata": {},
          "output_type": "execute_result"
        }
      ],
      "source": [
        "m.group()"
      ]
    },
    {
      "cell_type": "code",
      "execution_count": null,
      "metadata": {
        "id": "WqUNrpwQM6GQ"
      },
      "outputs": [],
      "source": [
        "txt = \"The rain in Spain\"\n",
        "x = re.search(\"^The.*Spain$\", txt)"
      ]
    },
    {
      "cell_type": "code",
      "execution_count": null,
      "metadata": {
        "id": "VFmb1mzZM6GQ",
        "outputId": "d182d162-d55b-4547-96b1-a95b6bd0947c"
      },
      "outputs": [
        {
          "data": {
            "text/plain": [
              "<re.Match object; span=(0, 17), match='The rain in Spain'>"
            ]
          },
          "execution_count": 8,
          "metadata": {},
          "output_type": "execute_result"
        }
      ],
      "source": [
        "x"
      ]
    },
    {
      "cell_type": "code",
      "execution_count": null,
      "metadata": {
        "id": "qXhmfOYzM6GR",
        "outputId": "27dbf66f-3fd1-4934-9430-086c1e0e6b12"
      },
      "outputs": [
        {
          "data": {
            "text/plain": [
              "'The rain in Spain'"
            ]
          },
          "execution_count": 9,
          "metadata": {},
          "output_type": "execute_result"
        }
      ],
      "source": [
        "x.group()"
      ]
    },
    {
      "cell_type": "code",
      "execution_count": null,
      "metadata": {
        "id": "xAJ419jHM6GR"
      },
      "outputs": [],
      "source": [
        "p = re.compile(r'\\d+')"
      ]
    },
    {
      "cell_type": "code",
      "execution_count": null,
      "metadata": {
        "id": "A2bAIUK0M6GR",
        "outputId": "638eda6d-e4f1-4292-cc21-fe565732717e"
      },
      "outputs": [
        {
          "data": {
            "text/plain": [
              "['12', '11', '10']"
            ]
          },
          "execution_count": 11,
          "metadata": {},
          "output_type": "execute_result"
        }
      ],
      "source": [
        "p.findall('12 drummers drumming, 11 pipers piping, 10 lords a-leaping')"
      ]
    },
    {
      "cell_type": "code",
      "execution_count": null,
      "metadata": {
        "id": "crxsxnd2M6GR"
      },
      "outputs": [],
      "source": [
        "iterator = p.finditer('12 drummers drumming, 11 ... 10 ...')"
      ]
    },
    {
      "cell_type": "code",
      "execution_count": null,
      "metadata": {
        "id": "dg7kUExiM6GR",
        "outputId": "674c76b6-024b-4bb5-92ef-7e207af13ee4"
      },
      "outputs": [
        {
          "name": "stdout",
          "output_type": "stream",
          "text": [
            "(0, 2)\n",
            "(22, 24)\n",
            "(29, 31)\n"
          ]
        }
      ],
      "source": [
        "for match in iterator:\n",
        "    print(match.span())"
      ]
    },
    {
      "cell_type": "markdown",
      "metadata": {
        "id": "9YAQpIKKM6GR"
      },
      "source": [
        "#### Caracteres de macheo"
      ]
    },
    {
      "cell_type": "markdown",
      "metadata": {
        "id": "d6Vo6oulM6GS"
      },
      "source": [
        ". ^ $ * + ? { } [ ] \\ | ( )"
      ]
    },
    {
      "cell_type": "markdown",
      "metadata": {
        "id": "Cl2D9RoYM6GS"
      },
      "source": [
        "\\d: Matches any decimal digit; this is equivalent to the class [0-9].\n",
        "\n",
        "\\D: Matches any non-digit character; this is equivalent to the class [^0-9].\n",
        "\n",
        "\\s: Matches any whitespace character; this is equivalent to the class [ \\t\\n\\r\\f\\v].\n",
        "\n",
        "\\S: Matches any non-whitespace character; this is equivalent to the class [^ \\t\\n\\r\\f\\v].\n",
        "\n",
        "\\w: Matches any alphanumeric character; this is equivalent to the class [a-zA-Z0-9_].\n",
        "\n",
        "\\W: Matches any non-alphanumeric character; this is equivalent to the class [^a-zA-Z0-9_]."
      ]
    },
    {
      "cell_type": "markdown",
      "metadata": {
        "id": "SAV7NhHOM6GS"
      },
      "source": [
        "![resumen](./img/re.png)"
      ]
    },
    {
      "cell_type": "code",
      "execution_count": null,
      "metadata": {
        "id": "czFSg_ZtM6GS"
      },
      "outputs": [],
      "source": []
    }
  ],
  "metadata": {
    "kernelspec": {
      "display_name": "MlLab",
      "language": "python",
      "name": "mllab"
    },
    "language_info": {
      "codemirror_mode": {
        "name": "ipython",
        "version": 3
      },
      "file_extension": ".py",
      "mimetype": "text/x-python",
      "name": "python",
      "nbconvert_exporter": "python",
      "pygments_lexer": "ipython3",
      "version": "3.9.12"
    },
    "colab": {
      "provenance": [],
      "include_colab_link": true
    }
  },
  "nbformat": 4,
  "nbformat_minor": 0
}