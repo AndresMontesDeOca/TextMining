{
  "cells": [
    {
      "cell_type": "markdown",
      "metadata": {
        "id": "view-in-github",
        "colab_type": "text"
      },
      "source": [
        "<a href=\"https://colab.research.google.com/github/AndresMontesDeOca/TextMining/blob/main/02_Procesamiento_01_Principales_etapas_de_NLP.ipynb\" target=\"_parent\"><img src=\"https://colab.research.google.com/assets/colab-badge.svg\" alt=\"Open In Colab\"/></a>"
      ]
    },
    {
      "cell_type": "markdown",
      "metadata": {
        "id": "263lXcdXvy-7"
      },
      "source": [
        "# Etapas/Actividades comunes en NLP"
      ]
    },
    {
      "cell_type": "markdown",
      "metadata": {
        "id": "Tz1tK8jYvy-8"
      },
      "source": [
        "___________________________________________"
      ]
    },
    {
      "cell_type": "code",
      "execution_count": null,
      "metadata": {
        "id": "7p15PgPQvy-8",
        "outputId": "a6287116-29a5-4802-c96d-abf939cfe065"
      },
      "outputs": [
        {
          "name": "stdout",
          "output_type": "stream",
          "text": [
            "Libreria: 'nltk' esta instalada y se cargo correctamente\n"
          ]
        }
      ],
      "source": [
        "try:\n",
        "    import nltk\n",
        "    print(\"Libreria: 'nltk' esta instalada y se cargo correctamente\")\n",
        "except ModuleNotFoundError:\n",
        "    print(\"Libreria: 'nltk' no esta instalada, se debe instalar\")\n",
        "    !pip install nltk\n",
        "    import nltk"
      ]
    },
    {
      "cell_type": "code",
      "execution_count": null,
      "metadata": {
        "id": "dViJKwsxvy-9",
        "outputId": "1cff0f49-e2b2-42c6-b5e4-9cbe5a7cbeef"
      },
      "outputs": [
        {
          "name": "stdout",
          "output_type": "stream",
          "text": [
            "Libreria: 'spacy' esta instalada y se cargo correctamente\n"
          ]
        }
      ],
      "source": [
        "try:\n",
        "    import spacy\n",
        "    print(\"Libreria: 'spacy' esta instalada y se cargo correctamente\")\n",
        "except ModuleNotFoundError:\n",
        "    print(\"Libreria: 'spacy' no esta instalada, se debe instalar\")\n",
        "    !pip install spacy\n",
        "    import spacy"
      ]
    },
    {
      "cell_type": "markdown",
      "metadata": {
        "id": "Npdxf4y3vy-9"
      },
      "source": [
        "### Tokens"
      ]
    },
    {
      "cell_type": "code",
      "execution_count": null,
      "metadata": {
        "id": "ZqChdPVZvy--"
      },
      "outputs": [],
      "source": [
        "oracion = \"\"\"Hello World. Have a nice day.\"\"\""
      ]
    },
    {
      "cell_type": "code",
      "execution_count": null,
      "metadata": {
        "id": "DzUZnXzFvy--"
      },
      "outputs": [],
      "source": [
        "sentencias = nltk.sent_tokenize(oracion)"
      ]
    },
    {
      "cell_type": "code",
      "execution_count": null,
      "metadata": {
        "id": "HfLrFa5fvy--",
        "outputId": "5c297de8-5f0e-467f-872e-2932e50c7fa0"
      },
      "outputs": [
        {
          "name": "stdout",
          "output_type": "stream",
          "text": [
            "Hello World.\n",
            "Have a nice day.\n"
          ]
        }
      ],
      "source": [
        "for sen in sentencias:\n",
        "    print(sen)"
      ]
    },
    {
      "cell_type": "code",
      "execution_count": null,
      "metadata": {
        "id": "pXDltBjNvy--"
      },
      "outputs": [],
      "source": [
        "token_espanol = nltk.data.load('tokenizers/punkt/spanish.pickle')"
      ]
    },
    {
      "cell_type": "code",
      "execution_count": null,
      "metadata": {
        "id": "APr_KV6Nvy-_"
      },
      "outputs": [],
      "source": [
        "oracion = \"\"\"Hola mundo. Que tengas un dia hermoso.\"\"\""
      ]
    },
    {
      "cell_type": "code",
      "execution_count": null,
      "metadata": {
        "id": "SK_bN2tgvy-_"
      },
      "outputs": [],
      "source": [
        "sentencias = token_espanol.tokenize(oracion)"
      ]
    },
    {
      "cell_type": "code",
      "execution_count": null,
      "metadata": {
        "id": "hPDqYm8avy-_",
        "outputId": "8445bfd2-34ab-4a5a-de07-5afa0ca9a882"
      },
      "outputs": [
        {
          "name": "stdout",
          "output_type": "stream",
          "text": [
            "Hola mundo.\n",
            "Que tengas un dia hermoso.\n"
          ]
        }
      ],
      "source": [
        "for sen in sentencias:\n",
        "    print(sen)"
      ]
    },
    {
      "cell_type": "markdown",
      "metadata": {
        "id": "OUtzL2Irvy-_"
      },
      "source": [
        "______________________________"
      ]
    },
    {
      "cell_type": "code",
      "execution_count": null,
      "metadata": {
        "id": "2q0Ts43Yvy-_"
      },
      "outputs": [],
      "source": [
        "tokens_palabras = nltk.word_tokenize(oracion)"
      ]
    },
    {
      "cell_type": "code",
      "execution_count": null,
      "metadata": {
        "id": "xMmiKhd3vy-_",
        "outputId": "c1a4fbda-747f-4579-d53d-1dab647ae21b"
      },
      "outputs": [
        {
          "name": "stdout",
          "output_type": "stream",
          "text": [
            "Hola\n",
            "mundo\n",
            ".\n",
            "Que\n",
            "tengas\n",
            "un\n",
            "dia\n",
            "hermoso\n",
            ".\n"
          ]
        }
      ],
      "source": [
        "for palabra in tokens_palabras:\n",
        "    print(palabra)"
      ]
    },
    {
      "cell_type": "code",
      "execution_count": null,
      "metadata": {
        "id": "lloPWW76vy-_"
      },
      "outputs": [],
      "source": [
        "tokens_regexp = nltk.tokenize.regexp_tokenize(oracion, \"[\\w']+\")"
      ]
    },
    {
      "cell_type": "code",
      "execution_count": null,
      "metadata": {
        "id": "JmocMpAovy_A",
        "outputId": "cc3e3333-e10a-4b9c-8777-b4d691910261"
      },
      "outputs": [
        {
          "name": "stdout",
          "output_type": "stream",
          "text": [
            "Hola\n",
            "mundo\n",
            "Que\n",
            "tengas\n",
            "un\n",
            "dia\n",
            "hermoso\n"
          ]
        }
      ],
      "source": [
        "for palabra in tokens_regexp:\n",
        "    print(palabra)"
      ]
    },
    {
      "cell_type": "markdown",
      "metadata": {
        "id": "bkfYMXmMvy_A"
      },
      "source": [
        "_________________________"
      ]
    },
    {
      "cell_type": "markdown",
      "metadata": {
        "id": "SDw5dvG1vy_A"
      },
      "source": [
        "#### Stop Words"
      ]
    },
    {
      "cell_type": "code",
      "execution_count": null,
      "metadata": {
        "id": "Foc06BUavy_A"
      },
      "outputs": [],
      "source": [
        "sw_espanol = set( nltk.corpus.stopwords.words('spanish'))"
      ]
    },
    {
      "cell_type": "code",
      "execution_count": null,
      "metadata": {
        "id": "RKiOrQasvy_A",
        "outputId": "dc30b942-4b44-4394-c322-c59e38a3cb3d"
      },
      "outputs": [
        {
          "data": {
            "text/plain": [
              "{'!',\n",
              " '\"',\n",
              " \"'\",\n",
              " '(',\n",
              " ')',\n",
              " ',',\n",
              " '.',\n",
              " ':',\n",
              " ';',\n",
              " '?',\n",
              " '[',\n",
              " ']',\n",
              " 'a',\n",
              " 'al',\n",
              " 'algo',\n",
              " 'algunas',\n",
              " 'algunos',\n",
              " 'ante',\n",
              " 'antes',\n",
              " 'como',\n",
              " 'con',\n",
              " 'contra',\n",
              " 'cual',\n",
              " 'cuando',\n",
              " 'de',\n",
              " 'del',\n",
              " 'desde',\n",
              " 'donde',\n",
              " 'durante',\n",
              " 'e',\n",
              " 'el',\n",
              " 'ella',\n",
              " 'ellas',\n",
              " 'ellos',\n",
              " 'en',\n",
              " 'entre',\n",
              " 'era',\n",
              " 'erais',\n",
              " 'eran',\n",
              " 'eras',\n",
              " 'eres',\n",
              " 'es',\n",
              " 'esa',\n",
              " 'esas',\n",
              " 'ese',\n",
              " 'eso',\n",
              " 'esos',\n",
              " 'esta',\n",
              " 'estaba',\n",
              " 'estabais',\n",
              " 'estaban',\n",
              " 'estabas',\n",
              " 'estad',\n",
              " 'estada',\n",
              " 'estadas',\n",
              " 'estado',\n",
              " 'estados',\n",
              " 'estamos',\n",
              " 'estando',\n",
              " 'estar',\n",
              " 'estaremos',\n",
              " 'estará',\n",
              " 'estarán',\n",
              " 'estarás',\n",
              " 'estaré',\n",
              " 'estaréis',\n",
              " 'estaría',\n",
              " 'estaríais',\n",
              " 'estaríamos',\n",
              " 'estarían',\n",
              " 'estarías',\n",
              " 'estas',\n",
              " 'este',\n",
              " 'estemos',\n",
              " 'esto',\n",
              " 'estos',\n",
              " 'estoy',\n",
              " 'estuve',\n",
              " 'estuviera',\n",
              " 'estuvierais',\n",
              " 'estuvieran',\n",
              " 'estuvieras',\n",
              " 'estuvieron',\n",
              " 'estuviese',\n",
              " 'estuvieseis',\n",
              " 'estuviesen',\n",
              " 'estuvieses',\n",
              " 'estuvimos',\n",
              " 'estuviste',\n",
              " 'estuvisteis',\n",
              " 'estuviéramos',\n",
              " 'estuviésemos',\n",
              " 'estuvo',\n",
              " 'está',\n",
              " 'estábamos',\n",
              " 'estáis',\n",
              " 'están',\n",
              " 'estás',\n",
              " 'esté',\n",
              " 'estéis',\n",
              " 'estén',\n",
              " 'estés',\n",
              " 'fue',\n",
              " 'fuera',\n",
              " 'fuerais',\n",
              " 'fueran',\n",
              " 'fueras',\n",
              " 'fueron',\n",
              " 'fuese',\n",
              " 'fueseis',\n",
              " 'fuesen',\n",
              " 'fueses',\n",
              " 'fui',\n",
              " 'fuimos',\n",
              " 'fuiste',\n",
              " 'fuisteis',\n",
              " 'fuéramos',\n",
              " 'fuésemos',\n",
              " 'ha',\n",
              " 'habida',\n",
              " 'habidas',\n",
              " 'habido',\n",
              " 'habidos',\n",
              " 'habiendo',\n",
              " 'habremos',\n",
              " 'habrá',\n",
              " 'habrán',\n",
              " 'habrás',\n",
              " 'habré',\n",
              " 'habréis',\n",
              " 'habría',\n",
              " 'habríais',\n",
              " 'habríamos',\n",
              " 'habrían',\n",
              " 'habrías',\n",
              " 'habéis',\n",
              " 'había',\n",
              " 'habíais',\n",
              " 'habíamos',\n",
              " 'habían',\n",
              " 'habías',\n",
              " 'han',\n",
              " 'has',\n",
              " 'hasta',\n",
              " 'hay',\n",
              " 'haya',\n",
              " 'hayamos',\n",
              " 'hayan',\n",
              " 'hayas',\n",
              " 'hayáis',\n",
              " 'he',\n",
              " 'hemos',\n",
              " 'hube',\n",
              " 'hubiera',\n",
              " 'hubierais',\n",
              " 'hubieran',\n",
              " 'hubieras',\n",
              " 'hubieron',\n",
              " 'hubiese',\n",
              " 'hubieseis',\n",
              " 'hubiesen',\n",
              " 'hubieses',\n",
              " 'hubimos',\n",
              " 'hubiste',\n",
              " 'hubisteis',\n",
              " 'hubiéramos',\n",
              " 'hubiésemos',\n",
              " 'hubo',\n",
              " 'la',\n",
              " 'las',\n",
              " 'le',\n",
              " 'les',\n",
              " 'lo',\n",
              " 'los',\n",
              " 'me',\n",
              " 'mi',\n",
              " 'mis',\n",
              " 'mucho',\n",
              " 'muchos',\n",
              " 'muy',\n",
              " 'más',\n",
              " 'mí',\n",
              " 'mía',\n",
              " 'mías',\n",
              " 'mío',\n",
              " 'míos',\n",
              " 'nada',\n",
              " 'ni',\n",
              " 'no',\n",
              " 'nos',\n",
              " 'nosotras',\n",
              " 'nosotros',\n",
              " 'nuestra',\n",
              " 'nuestras',\n",
              " 'nuestro',\n",
              " 'nuestros',\n",
              " 'o',\n",
              " 'os',\n",
              " 'otra',\n",
              " 'otras',\n",
              " 'otro',\n",
              " 'otros',\n",
              " 'para',\n",
              " 'pero',\n",
              " 'poco',\n",
              " 'por',\n",
              " 'porque',\n",
              " 'que',\n",
              " 'quien',\n",
              " 'quienes',\n",
              " 'qué',\n",
              " 'se',\n",
              " 'sea',\n",
              " 'seamos',\n",
              " 'sean',\n",
              " 'seas',\n",
              " 'sentid',\n",
              " 'sentida',\n",
              " 'sentidas',\n",
              " 'sentido',\n",
              " 'sentidos',\n",
              " 'seremos',\n",
              " 'será',\n",
              " 'serán',\n",
              " 'serás',\n",
              " 'seré',\n",
              " 'seréis',\n",
              " 'sería',\n",
              " 'seríais',\n",
              " 'seríamos',\n",
              " 'serían',\n",
              " 'serías',\n",
              " 'seáis',\n",
              " 'siente',\n",
              " 'sin',\n",
              " 'sintiendo',\n",
              " 'sobre',\n",
              " 'sois',\n",
              " 'somos',\n",
              " 'son',\n",
              " 'soy',\n",
              " 'su',\n",
              " 'sus',\n",
              " 'suya',\n",
              " 'suyas',\n",
              " 'suyo',\n",
              " 'suyos',\n",
              " 'sí',\n",
              " 'también',\n",
              " 'tanto',\n",
              " 'te',\n",
              " 'tendremos',\n",
              " 'tendrá',\n",
              " 'tendrán',\n",
              " 'tendrás',\n",
              " 'tendré',\n",
              " 'tendréis',\n",
              " 'tendría',\n",
              " 'tendríais',\n",
              " 'tendríamos',\n",
              " 'tendrían',\n",
              " 'tendrías',\n",
              " 'tened',\n",
              " 'tenemos',\n",
              " 'tenga',\n",
              " 'tengamos',\n",
              " 'tengan',\n",
              " 'tengas',\n",
              " 'tengo',\n",
              " 'tengáis',\n",
              " 'tenida',\n",
              " 'tenidas',\n",
              " 'tenido',\n",
              " 'tenidos',\n",
              " 'teniendo',\n",
              " 'tenéis',\n",
              " 'tenía',\n",
              " 'teníais',\n",
              " 'teníamos',\n",
              " 'tenían',\n",
              " 'tenías',\n",
              " 'ti',\n",
              " 'tiene',\n",
              " 'tienen',\n",
              " 'tienes',\n",
              " 'todo',\n",
              " 'todos',\n",
              " 'tu',\n",
              " 'tus',\n",
              " 'tuve',\n",
              " 'tuviera',\n",
              " 'tuvierais',\n",
              " 'tuvieran',\n",
              " 'tuvieras',\n",
              " 'tuvieron',\n",
              " 'tuviese',\n",
              " 'tuvieseis',\n",
              " 'tuviesen',\n",
              " 'tuvieses',\n",
              " 'tuvimos',\n",
              " 'tuviste',\n",
              " 'tuvisteis',\n",
              " 'tuviéramos',\n",
              " 'tuviésemos',\n",
              " 'tuvo',\n",
              " 'tuya',\n",
              " 'tuyas',\n",
              " 'tuyo',\n",
              " 'tuyos',\n",
              " 'tú',\n",
              " 'un',\n",
              " 'una',\n",
              " 'uno',\n",
              " 'unos',\n",
              " 'vosotras',\n",
              " 'vosotros',\n",
              " 'vuestra',\n",
              " 'vuestras',\n",
              " 'vuestro',\n",
              " 'vuestros',\n",
              " 'y',\n",
              " 'ya',\n",
              " 'yo',\n",
              " '{',\n",
              " '}',\n",
              " 'él',\n",
              " 'éramos'}"
            ]
          },
          "execution_count": 55,
          "metadata": {},
          "output_type": "execute_result"
        }
      ],
      "source": [
        "sw_espanol"
      ]
    },
    {
      "cell_type": "code",
      "execution_count": null,
      "metadata": {
        "id": "UytIfAbAvy_A"
      },
      "outputs": [],
      "source": [
        "sw_espanol.update(['.', ',', '\"', \"'\", '?', '!', ':', ';', '(', ')', '[', ']', '{', '}'])"
      ]
    },
    {
      "cell_type": "code",
      "execution_count": null,
      "metadata": {
        "id": "mnZW_SUivy_A"
      },
      "outputs": [],
      "source": [
        "tokens_palabras = nltk.word_tokenize(oracion)"
      ]
    },
    {
      "cell_type": "code",
      "execution_count": null,
      "metadata": {
        "id": "awpftqoivy_A",
        "outputId": "c0aabe62-a99e-4400-d482-66be195d2166"
      },
      "outputs": [
        {
          "name": "stdout",
          "output_type": "stream",
          "text": [
            "No es SW = Hola\n",
            "No es SW = mundo\n",
            "No es SW = dia\n",
            "No es SW = hermoso\n"
          ]
        }
      ],
      "source": [
        "for palabra in tokens_palabras:\n",
        "    if palabra.lower() not in sw_espanol:\n",
        "        print(\"No es SW = \" + palabra)"
      ]
    },
    {
      "cell_type": "code",
      "execution_count": null,
      "metadata": {
        "id": "Tyuv3US_vy_A"
      },
      "outputs": [],
      "source": [
        "oracion = \"\"\"La coleccion es buena pero me gustaria que se venda por Internet.\"\"\""
      ]
    },
    {
      "cell_type": "code",
      "execution_count": null,
      "metadata": {
        "id": "s0kwbgLqvy_A"
      },
      "outputs": [],
      "source": [
        "tokens_palabras = nltk.word_tokenize(oracion)"
      ]
    },
    {
      "cell_type": "code",
      "execution_count": null,
      "metadata": {
        "id": "2eQXD6Frvy_A",
        "outputId": "2b186f4f-40f1-4ef2-8622-3a9c85e75b73"
      },
      "outputs": [
        {
          "name": "stdout",
          "output_type": "stream",
          "text": [
            "No es SW = coleccion\n",
            "No es SW = buena\n",
            "No es SW = gustaria\n",
            "No es SW = venda\n",
            "No es SW = Internet\n"
          ]
        }
      ],
      "source": [
        "for palabra in tokens_palabras:\n",
        "    if palabra.lower() not in sw_espanol:\n",
        "        print(\"No es SW = \" + palabra)"
      ]
    },
    {
      "cell_type": "markdown",
      "metadata": {
        "id": "0n-DYGYfvy_A"
      },
      "source": [
        "_____________________________"
      ]
    },
    {
      "cell_type": "markdown",
      "metadata": {
        "id": "XTZcV__Wvy_B"
      },
      "source": [
        "***Stemming:*** es transformar palabras a sus raíces, estas son la parte invariable de palabras."
      ]
    },
    {
      "cell_type": "code",
      "execution_count": null,
      "metadata": {
        "id": "HWL_98z0vy_B"
      },
      "outputs": [],
      "source": [
        "from nltk import SnowballStemmer"
      ]
    },
    {
      "cell_type": "code",
      "execution_count": null,
      "metadata": {
        "id": "2hxw9hvBvy_B"
      },
      "outputs": [],
      "source": [
        "stemmer_espanol=SnowballStemmer(\"spanish\")"
      ]
    },
    {
      "cell_type": "code",
      "execution_count": null,
      "metadata": {
        "id": "GQjNA_nxvy_B"
      },
      "outputs": [],
      "source": [
        "tokens_palabras = nltk.word_tokenize(oracion)"
      ]
    },
    {
      "cell_type": "code",
      "execution_count": null,
      "metadata": {
        "id": "CIkj34TIvy_B",
        "outputId": "75bb70d6-6a20-4705-9a97-f522e5e42d59"
      },
      "outputs": [
        {
          "name": "stdout",
          "output_type": "stream",
          "text": [
            "la\n",
            "coleccion\n",
            "es\n",
            "buen\n",
            "per\n",
            "me\n",
            "gustari\n",
            "que\n",
            "se\n",
            "vend\n",
            "por\n",
            "internet\n",
            ".\n"
          ]
        }
      ],
      "source": [
        "for palabra in tokens_palabras:\n",
        "    print(stemmer_espanol.stem(palabra))"
      ]
    },
    {
      "cell_type": "markdown",
      "metadata": {
        "id": "RvOs-eihvy_B"
      },
      "source": [
        "__________________"
      ]
    },
    {
      "cell_type": "markdown",
      "metadata": {
        "id": "KucbgBD3vy_B"
      },
      "source": [
        "***Lematización:*** remplaza una palabra derivada por su version canónica"
      ]
    },
    {
      "cell_type": "code",
      "execution_count": null,
      "metadata": {
        "id": "v0NB1w2pvy_B"
      },
      "outputs": [],
      "source": [
        "#Atencion: la instalacion por defecto de spacy no isntala la libreria en español, debe ser ejecutada manualmente.\n",
        "nlp = spacy.load(\"es_core_news_sm\")"
      ]
    },
    {
      "cell_type": "code",
      "execution_count": null,
      "metadata": {
        "id": "MTfTc5YWvy_B"
      },
      "outputs": [],
      "source": [
        "lema = nlp(oracion)"
      ]
    },
    {
      "cell_type": "code",
      "execution_count": null,
      "metadata": {
        "id": "zpDdYvNZvy_B",
        "outputId": "bf4848b6-777a-4e6c-ef28-bbf8f97a0835"
      },
      "outputs": [
        {
          "name": "stdout",
          "output_type": "stream",
          "text": [
            "la\n",
            "coleccion\n",
            "ser\n",
            "bueno\n",
            "pero\n",
            "me\n",
            "gustaria\n",
            "que\n",
            "se\n",
            "vender\n",
            "por\n",
            "internet\n",
            ".\n"
          ]
        }
      ],
      "source": [
        "for palabra in lema:\n",
        "    print(palabra.lemma_.lower())\n"
      ]
    },
    {
      "cell_type": "markdown",
      "metadata": {
        "id": "LUp4N-Govy_B"
      },
      "source": [
        "________________________"
      ]
    }
  ],
  "metadata": {
    "kernelspec": {
      "display_name": "MlLab",
      "language": "python",
      "name": "mllab"
    },
    "language_info": {
      "codemirror_mode": {
        "name": "ipython",
        "version": 3
      },
      "file_extension": ".py",
      "mimetype": "text/x-python",
      "name": "python",
      "nbconvert_exporter": "python",
      "pygments_lexer": "ipython3",
      "version": "3.9.12"
    },
    "colab": {
      "provenance": [],
      "include_colab_link": true
    }
  },
  "nbformat": 4,
  "nbformat_minor": 0
}